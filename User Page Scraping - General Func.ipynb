{
 "cells": [
  {
   "cell_type": "code",
   "execution_count": 2,
   "metadata": {
    "collapsed": true
   },
   "outputs": [],
   "source": [
    "%matplotlib inline\n",
    "import collections \n",
    "import numpy as np\n",
    "import scipy as sp\n",
    "import pandas as pd\n",
    "import time\n",
    "pd.set_option('display.width', 500)\n",
    "pd.set_option('display.max_columns', 100)\n",
    "pd.set_option('display.notebook_repr_html', True)\n",
    "import re\n",
    "#import regex\n",
    "#import locale\n",
    "#import usaddress\n",
    "#import geograpy\n",
    "#import nltk\n",
    "from pyquery import PyQuery as pq\n",
    "from bs4 import BeautifulSoup\n",
    "import requests"
   ]
  },
  {
   "cell_type": "code",
   "execution_count": 29,
   "metadata": {
    "collapsed": false
   },
   "outputs": [],
   "source": [
    "# global data storage\n",
    "climbsjson = collections.defaultdict(dict) # double nested dict\n",
    "usersjson = collections.defaultdict(dict) # double nested dict\n",
    "ucjson = collections.defaultdict(dict) #double nested dict"
   ]
  },
  {
   "cell_type": "code",
   "execution_count": 35,
   "metadata": {
    "collapsed": true
   },
   "outputs": [],
   "source": [
    "# sub-functions and initializations for user/climb_scrape_func-s\n",
    "\n",
    "def parse_climb_link(href_link):\n",
    "    return href_link.split('/')[-1], href_link.split('/')[-2]\n",
    "\n",
    "def parse_user_link(href_link):\n",
    "    return href_link.split('/')[-1], href_link.split('/')[-3]\n",
    "\n",
    "aid_re = r'(A[0-5])|(C[0-5])[-,+]?'\n",
    "boulder_re = r'V\\d\\d?[-,+]?'\n",
    "ice_re = r'WI[1-6][+,-]?'\n",
    "mixed_re = r'M\\d\\d?[+,-]?'\n",
    "rock_re = r'5.\\d\\d?(([a-d]/[a-d])|([a-d]))?[+,-]?'\n",
    "\n",
    "diff_regexes = {\"aid_grade\": aid_re, \"boulder_grade\": boulder_re, \n",
    "               \"ice_grade\": ice_re, \"mixed_grade\": mixed_re, \n",
    "               \"rock_grade\": rock_re}\n",
    "\n",
    "user_type_regexes = {\"Trad\": rock_re, \"Sport\": rock_re, \n",
    "                     \"Boulders\": boulder_re, \"Aid\": aid_re, \n",
    "                     \"Ice\": ice_re, \"Mixed\": mixed_re}\n",
    "\n",
    "typesdict = {\"trad\": 0, \"alpine\": 0, \"ice\": 0, \"sport\": 0,\n",
    "        \"boulder\": 0, \"aid\": 0, \"mixed\": 0, \"TR,\": 0}\n",
    "\n"
   ]
  },
  {
   "cell_type": "code",
   "execution_count": 36,
   "metadata": {
    "collapsed": false
   },
   "outputs": [],
   "source": [
    "def user_scrape_func(userlink):\n",
    "    \n",
    "    # initialize local user dict to be appended to usersjson at end\n",
    "    userdict = {\"user_id\": 0, \"user_name\": \"undef\", \"location_place\": \"undef\", \n",
    "                \"location_state\": \"undef\", \"age\": 0, \"gender\": \"undef\", \n",
    "                \"member_date\": 0}\n",
    "    \n",
    "    # 1. get user_name and id-s\n",
    "    user_id, user_name = parse_user_link(userlink)\n",
    "    userdict[\"user_id\"], userdict[\"user_name\"] = user_id, user_name\n",
    "    \n",
    "    # get page and convert to pyquery obj\n",
    "    user_req=requests.get(userlink)\n",
    "    user_=pq(user_req.text)\n",
    "    \n",
    "    # extract personal data tag\n",
    "    user_main = user_('div.personalData')\n",
    "    user_pers = user_main(\"div:contains('Personal:')\")('em')\n",
    "    \n",
    "    # 2. if exists, get place of residence\n",
    "    if re.search('Lives in', user_pers.text()) != None:\n",
    "        userdict[\"location_place\"] = user_pers.text().split(',')[0].replace('Lives in ',\"\")\n",
    "        \n",
    "        # check for state separated by comma (will need to clean this)\n",
    "        maybe_state = user_pers.text().split(',')[1]\n",
    "        if (re.search(r'(years old)|(male)|(female)', maybe_state) == None):\n",
    "            userdict[\"location_state\"] = maybe_state\n",
    "    \n",
    "    # 3. get age\n",
    "    temp_age = re.search(r'(\\d\\d?) years old', user_pers.text())\n",
    "    if temp_age:\n",
    "        userdict[\"age\"] = int(temp_age.group(1))\n",
    "    \n",
    "    # 4. get gender\n",
    "    temp_gender = re.search(r'(male)|(female)', user_pers.text(), re.I)\n",
    "    if temp_gender:\n",
    "        userdict[\"gender\"] = temp_gender.group()\n",
    "    \n",
    "    # 5. get liked types and difficulties\n",
    "    user_diffs = user_main('table')\n",
    "\n",
    "    for key, value in user_type_regexes.items():\n",
    "        if key != \"Boulders\":\n",
    "            tdwithkey = user_diffs.find(\"tr\").children(\"td:contains('{}')\".format(key))\n",
    "            if tdwithkey:\n",
    "                userdict[\"climbs_\" + str.lower(key)] = 1\n",
    "                leadhtml = tdwithkey.next().html()\n",
    "                followhtml = tdwithkey.next().next().html()  \n",
    "                templeaddiff = re.search(\"{}\".format(value), leadhtml, re.I)\n",
    "                tempfollowdiff = re.search(\"{}\".format(value), followhtml, re.I)\n",
    "                if templeaddiff:\n",
    "                    userdict[\"lead_diff_\" + str.lower(key)] = templeaddiff.group() \n",
    "                else:\n",
    "                    userdict[\"lead_diff_\" + str.lower(key)] = '0'\n",
    "                if tempfollowdiff:\n",
    "                    userdict[\"follow_diff_\" + str.lower(key)] = tempfollowdiff.group()\n",
    "                else:\n",
    "                    userdict[\"follow_diff_\" + str.lower(key)] = '0'\n",
    "            else:\n",
    "                userdict[\"climbs_\" + str.lower(key)] = 0\n",
    "\n",
    "        elif key == \"Boulders\":\n",
    "            boulderhtml = user_diffs.find(\"tr\").children(\"td:contains('{}')\".format(key))\n",
    "            if boulderhtml:\n",
    "                userdict[\"climbs_boulder\"] = 1\n",
    "                boulderdiff = boulderhtml.next().html()\n",
    "                tempboulderdiff = re.search(\"{}\".format(value), boulderdiff)\n",
    "                if tempboulderdiff:\n",
    "                    userdict[\"boulder_diff\"] = tempboulderdiff.group()\n",
    "            else:\n",
    "                userdict[\"climbs_boulder\"] = 0\n",
    "            \n",
    "    \n",
    "    # 6. get date \n",
    "    user_left_box = user_(\"td[width='190']\")('b')\n",
    "    if user_left_box:\n",
    "        userdict[\"member_date\"] = time.strptime(user_left_box.eq(0).text(), \n",
    "                                                \"%b %d, %Y\")\n",
    "    \n",
    "    \n",
    "    # \n",
    "    \n",
    "    \n",
    "    \n",
    "    return userdict\n",
    "\n",
    "    "
   ]
  },
  {
   "cell_type": "code",
   "execution_count": 37,
   "metadata": {
    "collapsed": false
   },
   "outputs": [
    {
     "data": {
      "text/plain": [
       "{'age': 22,\n",
       " 'climbs_aid': 0,\n",
       " 'climbs_boulder': 0,\n",
       " 'climbs_ice': 1,\n",
       " 'climbs_mixed': 1,\n",
       " 'climbs_sport': 1,\n",
       " 'climbs_trad': 1,\n",
       " 'follow_diff_ice': 'WI5',\n",
       " 'follow_diff_mixed': 'M5',\n",
       " 'follow_diff_sport': u'5.10a',\n",
       " 'follow_diff_trad': u'5.9',\n",
       " 'gender': 'Male',\n",
       " 'lead_diff_ice': u'WI3',\n",
       " 'lead_diff_mixed': u'M1',\n",
       " 'lead_diff_sport': u'5.9',\n",
       " 'lead_diff_trad': u'5.6',\n",
       " 'location_place': 'Cambridge',\n",
       " 'location_state': ' MA',\n",
       " 'member_date': time.struct_time(tm_year=2014, tm_mon=5, tm_mday=13, tm_hour=0, tm_min=0, tm_sec=0, tm_wday=1, tm_yday=133, tm_isdst=-1),\n",
       " 'user_id': '108972429',\n",
       " 'user_name': 'rajko-radovanovic'}"
      ]
     },
     "execution_count": 37,
     "metadata": {},
     "output_type": "execute_result"
    }
   ],
   "source": [
    "userlink = \"http://mountainproject.com/u/rajko-radovanovic//108972429\"\n",
    "user_scrape_func(userlink)"
   ]
  },
  {
   "cell_type": "code",
   "execution_count": null,
   "metadata": {
    "collapsed": true
   },
   "outputs": [],
   "source": []
  }
 ],
 "metadata": {
  "kernelspec": {
   "display_name": "Python 2",
   "language": "python",
   "name": "python2"
  },
  "language_info": {
   "codemirror_mode": {
    "name": "ipython",
    "version": 2
   },
   "file_extension": ".py",
   "mimetype": "text/x-python",
   "name": "python",
   "nbconvert_exporter": "python",
   "pygments_lexer": "ipython2",
   "version": "2.7.10"
  }
 },
 "nbformat": 4,
 "nbformat_minor": 0
}
