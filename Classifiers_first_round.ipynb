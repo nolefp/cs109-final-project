{
 "cells": [
  {
   "cell_type": "code",
   "execution_count": 2,
   "metadata": {
    "collapsed": true
   },
   "outputs": [],
   "source": [
    "%matplotlib inline\n",
    "import numpy as np\n",
    "import scipy as sp\n",
    "import matplotlib as mpl\n",
    "import matplotlib.cm as cm\n",
    "import matplotlib.pyplot as plt\n",
    "import pandas as pd\n",
    "pd.set_option('display.width', 500)\n",
    "pd.set_option('display.max_columns', 100)\n",
    "pd.set_option('display.notebook_repr_html', True)\n",
    "import seaborn as sns\n",
    "sns.set_style(\"whitegrid\")\n",
    "sns.set_context(\"poster\")"
   ]
  },
  {
   "cell_type": "code",
   "execution_count": 4,
   "metadata": {
    "collapsed": false,
    "scrolled": false
   },
   "outputs": [
    {
     "ename": "IOError",
     "evalue": "File finalproject-sorted_climbuserdf.csv does not exist",
     "output_type": "error",
     "traceback": [
      "\u001b[0;31m---------------------------------------------------------------------------\u001b[0m",
      "\u001b[0;31mIOError\u001b[0m                                   Traceback (most recent call last)",
      "\u001b[0;32m<ipython-input-4-8a2cdc1343ef>\u001b[0m in \u001b[0;36m<module>\u001b[0;34m()\u001b[0m\n\u001b[0;32m----> 1\u001b[0;31m \u001b[0mclimbuserdf\u001b[0m\u001b[0;34m=\u001b[0m\u001b[0mpd\u001b[0m\u001b[0;34m.\u001b[0m\u001b[0mread_csv\u001b[0m\u001b[0;34m(\u001b[0m\u001b[0;34m\"finalproject-sorted_climbuserdf.csv\"\u001b[0m\u001b[0;34m)\u001b[0m\u001b[0;34m\u001b[0m\u001b[0m\n\u001b[0m\u001b[1;32m      2\u001b[0m \u001b[0mclimbuserdf\u001b[0m\u001b[0;34m.\u001b[0m\u001b[0mhead\u001b[0m\u001b[0;34m(\u001b[0m\u001b[0;34m)\u001b[0m\u001b[0;34m\u001b[0m\u001b[0m\n",
      "\u001b[0;32m//anaconda/lib/python2.7/site-packages/pandas/io/parsers.pyc\u001b[0m in \u001b[0;36mparser_f\u001b[0;34m(filepath_or_buffer, sep, dialect, compression, doublequote, escapechar, quotechar, quoting, skipinitialspace, lineterminator, header, index_col, names, prefix, skiprows, skipfooter, skip_footer, na_values, na_fvalues, true_values, false_values, delimiter, converters, dtype, usecols, engine, delim_whitespace, as_recarray, na_filter, compact_ints, use_unsigned, low_memory, buffer_lines, warn_bad_lines, error_bad_lines, keep_default_na, thousands, comment, decimal, parse_dates, keep_date_col, dayfirst, date_parser, memory_map, float_precision, nrows, iterator, chunksize, verbose, encoding, squeeze, mangle_dupe_cols, tupleize_cols, infer_datetime_format, skip_blank_lines)\u001b[0m\n\u001b[1;32m    472\u001b[0m                     skip_blank_lines=skip_blank_lines)\n\u001b[1;32m    473\u001b[0m \u001b[0;34m\u001b[0m\u001b[0m\n\u001b[0;32m--> 474\u001b[0;31m         \u001b[0;32mreturn\u001b[0m \u001b[0m_read\u001b[0m\u001b[0;34m(\u001b[0m\u001b[0mfilepath_or_buffer\u001b[0m\u001b[0;34m,\u001b[0m \u001b[0mkwds\u001b[0m\u001b[0;34m)\u001b[0m\u001b[0;34m\u001b[0m\u001b[0m\n\u001b[0m\u001b[1;32m    475\u001b[0m \u001b[0;34m\u001b[0m\u001b[0m\n\u001b[1;32m    476\u001b[0m     \u001b[0mparser_f\u001b[0m\u001b[0;34m.\u001b[0m\u001b[0m__name__\u001b[0m \u001b[0;34m=\u001b[0m \u001b[0mname\u001b[0m\u001b[0;34m\u001b[0m\u001b[0m\n",
      "\u001b[0;32m//anaconda/lib/python2.7/site-packages/pandas/io/parsers.pyc\u001b[0m in \u001b[0;36m_read\u001b[0;34m(filepath_or_buffer, kwds)\u001b[0m\n\u001b[1;32m    248\u001b[0m \u001b[0;34m\u001b[0m\u001b[0m\n\u001b[1;32m    249\u001b[0m     \u001b[0;31m# Create the parser.\u001b[0m\u001b[0;34m\u001b[0m\u001b[0;34m\u001b[0m\u001b[0m\n\u001b[0;32m--> 250\u001b[0;31m     \u001b[0mparser\u001b[0m \u001b[0;34m=\u001b[0m \u001b[0mTextFileReader\u001b[0m\u001b[0;34m(\u001b[0m\u001b[0mfilepath_or_buffer\u001b[0m\u001b[0;34m,\u001b[0m \u001b[0;34m**\u001b[0m\u001b[0mkwds\u001b[0m\u001b[0;34m)\u001b[0m\u001b[0;34m\u001b[0m\u001b[0m\n\u001b[0m\u001b[1;32m    251\u001b[0m \u001b[0;34m\u001b[0m\u001b[0m\n\u001b[1;32m    252\u001b[0m     \u001b[0;32mif\u001b[0m \u001b[0;34m(\u001b[0m\u001b[0mnrows\u001b[0m \u001b[0;32mis\u001b[0m \u001b[0;32mnot\u001b[0m \u001b[0mNone\u001b[0m\u001b[0;34m)\u001b[0m \u001b[0;32mand\u001b[0m \u001b[0;34m(\u001b[0m\u001b[0mchunksize\u001b[0m \u001b[0;32mis\u001b[0m \u001b[0;32mnot\u001b[0m \u001b[0mNone\u001b[0m\u001b[0;34m)\u001b[0m\u001b[0;34m:\u001b[0m\u001b[0;34m\u001b[0m\u001b[0m\n",
      "\u001b[0;32m//anaconda/lib/python2.7/site-packages/pandas/io/parsers.pyc\u001b[0m in \u001b[0;36m__init__\u001b[0;34m(self, f, engine, **kwds)\u001b[0m\n\u001b[1;32m    564\u001b[0m             \u001b[0mself\u001b[0m\u001b[0;34m.\u001b[0m\u001b[0moptions\u001b[0m\u001b[0;34m[\u001b[0m\u001b[0;34m'has_index_names'\u001b[0m\u001b[0;34m]\u001b[0m \u001b[0;34m=\u001b[0m \u001b[0mkwds\u001b[0m\u001b[0;34m[\u001b[0m\u001b[0;34m'has_index_names'\u001b[0m\u001b[0;34m]\u001b[0m\u001b[0;34m\u001b[0m\u001b[0m\n\u001b[1;32m    565\u001b[0m \u001b[0;34m\u001b[0m\u001b[0m\n\u001b[0;32m--> 566\u001b[0;31m         \u001b[0mself\u001b[0m\u001b[0;34m.\u001b[0m\u001b[0m_make_engine\u001b[0m\u001b[0;34m(\u001b[0m\u001b[0mself\u001b[0m\u001b[0;34m.\u001b[0m\u001b[0mengine\u001b[0m\u001b[0;34m)\u001b[0m\u001b[0;34m\u001b[0m\u001b[0m\n\u001b[0m\u001b[1;32m    567\u001b[0m \u001b[0;34m\u001b[0m\u001b[0m\n\u001b[1;32m    568\u001b[0m     \u001b[0;32mdef\u001b[0m \u001b[0m_get_options_with_defaults\u001b[0m\u001b[0;34m(\u001b[0m\u001b[0mself\u001b[0m\u001b[0;34m,\u001b[0m \u001b[0mengine\u001b[0m\u001b[0;34m)\u001b[0m\u001b[0;34m:\u001b[0m\u001b[0;34m\u001b[0m\u001b[0m\n",
      "\u001b[0;32m//anaconda/lib/python2.7/site-packages/pandas/io/parsers.pyc\u001b[0m in \u001b[0;36m_make_engine\u001b[0;34m(self, engine)\u001b[0m\n\u001b[1;32m    703\u001b[0m     \u001b[0;32mdef\u001b[0m \u001b[0m_make_engine\u001b[0m\u001b[0;34m(\u001b[0m\u001b[0mself\u001b[0m\u001b[0;34m,\u001b[0m \u001b[0mengine\u001b[0m\u001b[0;34m=\u001b[0m\u001b[0;34m'c'\u001b[0m\u001b[0;34m)\u001b[0m\u001b[0;34m:\u001b[0m\u001b[0;34m\u001b[0m\u001b[0m\n\u001b[1;32m    704\u001b[0m         \u001b[0;32mif\u001b[0m \u001b[0mengine\u001b[0m \u001b[0;34m==\u001b[0m \u001b[0;34m'c'\u001b[0m\u001b[0;34m:\u001b[0m\u001b[0;34m\u001b[0m\u001b[0m\n\u001b[0;32m--> 705\u001b[0;31m             \u001b[0mself\u001b[0m\u001b[0;34m.\u001b[0m\u001b[0m_engine\u001b[0m \u001b[0;34m=\u001b[0m \u001b[0mCParserWrapper\u001b[0m\u001b[0;34m(\u001b[0m\u001b[0mself\u001b[0m\u001b[0;34m.\u001b[0m\u001b[0mf\u001b[0m\u001b[0;34m,\u001b[0m \u001b[0;34m**\u001b[0m\u001b[0mself\u001b[0m\u001b[0;34m.\u001b[0m\u001b[0moptions\u001b[0m\u001b[0;34m)\u001b[0m\u001b[0;34m\u001b[0m\u001b[0m\n\u001b[0m\u001b[1;32m    706\u001b[0m         \u001b[0;32melse\u001b[0m\u001b[0;34m:\u001b[0m\u001b[0;34m\u001b[0m\u001b[0m\n\u001b[1;32m    707\u001b[0m             \u001b[0;32mif\u001b[0m \u001b[0mengine\u001b[0m \u001b[0;34m==\u001b[0m \u001b[0;34m'python'\u001b[0m\u001b[0;34m:\u001b[0m\u001b[0;34m\u001b[0m\u001b[0m\n",
      "\u001b[0;32m//anaconda/lib/python2.7/site-packages/pandas/io/parsers.pyc\u001b[0m in \u001b[0;36m__init__\u001b[0;34m(self, src, **kwds)\u001b[0m\n\u001b[1;32m   1070\u001b[0m         \u001b[0mkwds\u001b[0m\u001b[0;34m[\u001b[0m\u001b[0;34m'allow_leading_cols'\u001b[0m\u001b[0;34m]\u001b[0m \u001b[0;34m=\u001b[0m \u001b[0mself\u001b[0m\u001b[0;34m.\u001b[0m\u001b[0mindex_col\u001b[0m \u001b[0;32mis\u001b[0m \u001b[0;32mnot\u001b[0m \u001b[0mFalse\u001b[0m\u001b[0;34m\u001b[0m\u001b[0m\n\u001b[1;32m   1071\u001b[0m \u001b[0;34m\u001b[0m\u001b[0m\n\u001b[0;32m-> 1072\u001b[0;31m         \u001b[0mself\u001b[0m\u001b[0;34m.\u001b[0m\u001b[0m_reader\u001b[0m \u001b[0;34m=\u001b[0m \u001b[0m_parser\u001b[0m\u001b[0;34m.\u001b[0m\u001b[0mTextReader\u001b[0m\u001b[0;34m(\u001b[0m\u001b[0msrc\u001b[0m\u001b[0;34m,\u001b[0m \u001b[0;34m**\u001b[0m\u001b[0mkwds\u001b[0m\u001b[0;34m)\u001b[0m\u001b[0;34m\u001b[0m\u001b[0m\n\u001b[0m\u001b[1;32m   1073\u001b[0m \u001b[0;34m\u001b[0m\u001b[0m\n\u001b[1;32m   1074\u001b[0m         \u001b[0;31m# XXX\u001b[0m\u001b[0;34m\u001b[0m\u001b[0;34m\u001b[0m\u001b[0m\n",
      "\u001b[0;32mpandas/parser.pyx\u001b[0m in \u001b[0;36mpandas.parser.TextReader.__cinit__ (pandas/parser.c:3173)\u001b[0;34m()\u001b[0m\n",
      "\u001b[0;32mpandas/parser.pyx\u001b[0m in \u001b[0;36mpandas.parser.TextReader._setup_parser_source (pandas/parser.c:5912)\u001b[0;34m()\u001b[0m\n",
      "\u001b[0;31mIOError\u001b[0m: File finalproject-sorted_climbuserdf.csv does not exist"
     ]
    }
   ],
   "source": [
    "climbuserdf=pd.read_csv(\"../fin_proj_dfs/finalproject-sorted_climbuserdf.csv\")\n",
    "climbuserdf.head()"
   ]
  },
  {
   "cell_type": "code",
   "execution_count": null,
   "metadata": {
    "collapsed": false
   },
   "outputs": [],
   "source": [
    "userdf=pd.read_csv(\"../fin_proj_dfs/finalproject-users.csv\")\n",
    "#userdf.head()"
   ]
  },
  {
   "cell_type": "code",
   "execution_count": null,
   "metadata": {
    "collapsed": true
   },
   "outputs": [],
   "source": [
    "# create function to figure out common support\n",
    "\n",
    "def compute_supports(df):\n",
    "    users=df.user_id.unique()\n",
    "    climbs = df.groupby('climb_id').user_id.unique()\n",
    "    bdict={}\n",
    "    for e,v in zip(climbs.index.values, rests.values):\n",
    "        bdict[e] = np.array([item in v for item in users])\n",
    "    climb_list=bdict.keys()\n",
    "    supports=[]\n",
    "    for i,climb1 in enumerate(climb_list):\n",
    "        for j,climb2 in enumerate(climb_list):\n",
    "            if  i < j:\n",
    "                supmask = (bdict[climb1] & bdict[climb2])\n",
    "                common_reviewers = np.sum(supmask)\n",
    "                supports.append(common_reviewers)\n",
    "    print \"mean support\",np.mean(supports), \"median support\", np.median(supports)\n",
    "    return supports, bdict"
   ]
  },
  {
   "cell_type": "markdown",
   "metadata": {},
   "source": [
    "# Visualizing Data Sparsity\n"
   ]
  },
  {
   "cell_type": "markdown",
   "metadata": {},
   "source": [
    "## User Info"
   ]
  },
  {
   "cell_type": "code",
   "execution_count": null,
   "metadata": {
    "collapsed": false
   },
   "outputs": [],
   "source": [
    "reviews_user = climbuserdf.groupby('user_id').climb_id.count()\n",
    "#pd.hist(reviews_user, bins=np.arange(1,100,2), alpha=0.5, label=\"Reviews per user\");\n",
    "#print sorted(list(reviews_user))\n",
    "reviews_user.hist(bins=1000, label=\"# of users with corresponding total\", alpha=.5, color='green',log=True)\n",
    "#plt.ylim([0,10000])\n",
    "plt.xlim([0,1500])\n",
    "plt.xlabel('Total # of Climbs Stared, Ticked or Suggested Rating')\n",
    "plt.ylabel('Number of Users')\n",
    "plt.legend();"
   ]
  },
  {
   "cell_type": "markdown",
   "metadata": {},
   "source": [
    "Since there are only 4 users with climb interactions greater than 1500, so we set the xlim on the above chart to 1500"
   ]
  },
  {
   "cell_type": "code",
   "execution_count": null,
   "metadata": {
    "collapsed": false,
    "scrolled": true
   },
   "outputs": [],
   "source": [
    "reviews_user.sort_values(ascending=False)[:5]"
   ]
  },
  {
   "cell_type": "markdown",
   "metadata": {
    "collapsed": true
   },
   "source": [
    "Further, we plot the cumulative distribution of ratings per user:"
   ]
  },
  {
   "cell_type": "code",
   "execution_count": null,
   "metadata": {
    "collapsed": false
   },
   "outputs": [],
   "source": [
    "reviews_user = climbuserdf.groupby('user_id').climb_id.count()\n",
    "#pd.hist(reviews_user, bins=np.arange(1,100,2), alpha=0.5, label=\"Reviews per user\");\n",
    "#print sorted(list(reviews_user))\n",
    "reviews_user.hist(bins=1000, label=\"Cumulative # of users with more or equal to corresponding total\", alpha=.5, color='green',log=True, cumulative=-1)\n",
    "#plt.ylim([0,10000])\n",
    "plt.xlim([0,1500])\n",
    "plt.xlabel('Total # of Climbs Stared, Ticked or Suggested Rating')\n",
    "plt.ylabel('Cumulative Number of Users')\n",
    "plt.legend();"
   ]
  },
  {
   "cell_type": "markdown",
   "metadata": {},
   "source": [
    "Notes:\n",
    "- there are about 3,000 users with 100 climbs or more\n",
    "- there are about 1000 users with 200 climbs or more\n",
    "- there are about 100 users with 600 climbs or more"
   ]
  },
  {
   "cell_type": "markdown",
   "metadata": {},
   "source": [
    "## Climb Info"
   ]
  },
  {
   "cell_type": "code",
   "execution_count": null,
   "metadata": {
    "collapsed": false
   },
   "outputs": [],
   "source": [
    "reviews_climb = climbuserdf.groupby('climb_id').user_id.count()\n",
    "reviews_climb.hist(bins=1000, label=\"# of climbs with corresponding total\", alpha=.6, color='green',log=True)\n",
    "plt.ylim([-1,1500])\n",
    "plt.xlim([0,1000])\n",
    "plt.xlabel('Total # of Users who Stared, Ticked or Suggested Ratings')\n",
    "plt.ylabel('Number of Climbs')\n",
    "plt.legend();"
   ]
  },
  {
   "cell_type": "markdown",
   "metadata": {},
   "source": [
    "As you can see below, there are only 3 climbs with out 1000 ratings, and so we choose to exclude them for better clarity in our plot above."
   ]
  },
  {
   "cell_type": "code",
   "execution_count": null,
   "metadata": {
    "collapsed": false
   },
   "outputs": [],
   "source": [
    "reviews_climb.sort_values(ascending=False)[:5]"
   ]
  },
  {
   "cell_type": "code",
   "execution_count": null,
   "metadata": {
    "collapsed": false
   },
   "outputs": [],
   "source": [
    "reviews_climb = climbuserdf.groupby('climb_id').user_id.count()\n",
    "reviews_climb.hist(bins=1000, label=\"Cumulative # of climbs with more or equal to corresponding total\", alpha=.6, color='green',log=True, cumulative=-1)\n",
    "plt.ylim([-1,15000])\n",
    "plt.xlim([0,1000])\n",
    "plt.xlabel('Total # of Users who Stared, Ticked or Suggested Rating')\n",
    "plt.ylabel('Cumulative Number of Climbs')\n",
    "plt.legend();"
   ]
  },
  {
   "cell_type": "code",
   "execution_count": null,
   "metadata": {
    "collapsed": false
   },
   "outputs": [],
   "source": [
    "climbuserdf.shape"
   ]
  },
  {
   "cell_type": "code",
   "execution_count": null,
   "metadata": {
    "collapsed": false
   },
   "outputs": [],
   "source": [
    "#in case there are duplicates, drop them\n",
    "climbuserdf=climbuserdf.drop_duplicates(['user_id','climb_id'])\n",
    "climbuserdf.shape"
   ]
  },
  {
   "cell_type": "markdown",
   "metadata": {},
   "source": [
    "We can see above there are no duplicates in the dataframe. The next step is to make the train, validate, and test sets for our classifiers."
   ]
  },
  {
   "cell_type": "markdown",
   "metadata": {},
   "source": [
    " # Split Data"
   ]
  },
  {
   "cell_type": "code",
   "execution_count": null,
   "metadata": {
    "collapsed": false
   },
   "outputs": [],
   "source": [
    "#make train, validate, and test sets\n",
    "\n",
    "trainlist=[]\n",
    "testlist=[]\n",
    "validatelist=[]\n",
    "take=5\n",
    "\n",
    "for user, user_reviews in climbuserdf.groupby('user_id'):\n",
    "    #we only want reviewers who have done a lot of reviews\n",
    "    if len(user_reviews) > 12:\n",
    "        takenos=np.random.choice(range(take), size=take/2, replace=False)\n",
    "        takelist=np.array([e in takenos for e in range(take)])\n",
    "        validatelist.append(user_reviews[-take:][~takelist])#use those \n",
    "        testlist.append(user_reviews[-take:][takelist])#use the others \n",
    "        trainlist.append(user_reviews[:-take])\n",
    "    else:\n",
    "        trainlist.append(user_reviews)\n",
    "traindf=pd.concat(trainlist)\n",
    "validatedf=pd.concat(validatelist)\n",
    "testdf=pd.concat(testlist)\n",
    "print traindf.shape, validatedf.shape, testdf.shape"
   ]
  },
  {
   "cell_type": "code",
   "execution_count": null,
   "metadata": {
    "collapsed": false
   },
   "outputs": [],
   "source": [
    "#decided not to do this part because it was taking forever\n",
    "\n",
    "# make sure there is no accidental overlap\n",
    "\n",
    "# testclimbs =testdf.climbid.values \n",
    "# trainclimbs = traindf.climbid.values\n",
    "# np arrays -> python set\n",
    "#set(testclimbs)\n",
    "# set difference -> these will be the climbs that aren't present\n",
    "\n",
    "validates = set(validatedf.climb_id.values)\n",
    "tests = set(testdf.climb_id.values)\n",
    "trains = set(traindf.climb_id.values)"
   ]
  },
  {
   "cell_type": "code",
   "execution_count": null,
   "metadata": {
    "collapsed": false
   },
   "outputs": [],
   "source": [
    "train_test_difs = tests.difference(trains)\n",
    "train_val_difs = validates.difference(trains)\n",
    "print len(train_test_difs)\n",
    "print len(train_val_difs)"
   ]
  },
  {
   "cell_type": "code",
   "execution_count": null,
   "metadata": {
    "collapsed": false
   },
   "outputs": [],
   "source": [
    "#drop the rows that don't appear in the training set using ids from difference sets\n",
    "for row in validatedf:\n",
    "    for climbid in train_val_difs:\n",
    "        validatedf = validatedf[validatedf.climb_id != climbid]\n",
    "\n",
    "print validatedf.shape\n",
    "\n",
    "for row in testdf:\n",
    "    for climbid in train_test_difs:\n",
    "        testdf = testdf[testdf.climb_id != climbid]\n",
    "        \n",
    "print testdf.shape\n"
   ]
  },
  {
   "cell_type": "code",
   "execution_count": null,
   "metadata": {
    "collapsed": false
   },
   "outputs": [],
   "source": [
    "\n",
    "\"\"\"\n",
    "maskval=[e in set(validatedf.climb_id).difference(set(traindf.climb_id)) for e in validatedf.climb_id] \n",
    "masktest=[e in set(testdf.climb_id).difference(set(traindf.climb_id)) for e in testdf.climb_id] \n",
    "print np.sum(maskval), np.sum(masktest)\"\"\""
   ]
  },
  {
   "cell_type": "code",
   "execution_count": null,
   "metadata": {
    "collapsed": false
   },
   "outputs": [],
   "source": [
    "\"\"\"#drop the rows that don't appear in the training set using ids from difference sets\n",
    "for index, row in enumerate(validatedf):\n",
    "    if maskval[index]:\n",
    "        validatedf = validatedf.drop([row])\n",
    "\n",
    "for index, row in enumerate(testdf):\n",
    "    if masktest[index]:\n",
    "        testdf = testdf.drop([row])\"\"\""
   ]
  },
  {
   "cell_type": "code",
   "execution_count": null,
   "metadata": {
    "collapsed": false
   },
   "outputs": [],
   "source": [
    "#clean up the validate and test frames\n",
    "\n",
    "validatedf=validatedf[['user_id', 'climb_id','star_rating', 'Unnamed: 0']]\n",
    "testdf=testdf[['user_id', 'climb_id', 'star_rating', 'Unnamed: 0']]"
   ]
  },
  {
   "cell_type": "code",
   "execution_count": null,
   "metadata": {
    "collapsed": true
   },
   "outputs": [],
   "source": [
    "#save the frames\n",
    "\n",
    "traindf.to_csv(\"../train.csv\", index=False, header=True, encoding=\"utf-8\")\n",
    "validatedf.to_csv(\"validate.csv\", index=False, header=True, encoding=\"utf-8\")\n",
    "testdf.to_csv(\"test.csv\", index=False, header=True, encoding=\"utf-8\")"
   ]
  },
  {
   "cell_type": "markdown",
   "metadata": {},
   "source": [
    "#Make Smaller Dataframes"
   ]
  },
  {
   "cell_type": "code",
   "execution_count": 1,
   "metadata": {
    "collapsed": false
   },
   "outputs": [
    {
     "ename": "NameError",
     "evalue": "name 'climbuserdf' is not defined",
     "output_type": "error",
     "traceback": [
      "\u001b[0;31m---------------------------------------------------------------------------\u001b[0m",
      "\u001b[0;31mNameError\u001b[0m                                 Traceback (most recent call last)",
      "\u001b[0;32m<ipython-input-1-e0ccc72b6851>\u001b[0m in \u001b[0;36m<module>\u001b[0;34m()\u001b[0m\n\u001b[0;32m----> 1\u001b[0;31m \u001b[0mclimbuserdf\u001b[0m\u001b[0;34m\u001b[0m\u001b[0m\n\u001b[0m",
      "\u001b[0;31mNameError\u001b[0m: name 'climbuserdf' is not defined"
     ]
    }
   ],
   "source": [
    "climbuserdf"
   ]
  },
  {
   "cell_type": "code",
   "execution_count": null,
   "metadata": {
    "collapsed": true
   },
   "outputs": [],
   "source": [
    "#make train, validate, and test sets\n",
    "\n",
    "trainlist=[]\n",
    "testlist=[]\n",
    "validatelist=[]\n",
    "take=5\n",
    "\n",
    "for user, user_reviews in climbuserdf.groupby('user_id'):\n",
    "    #we only want reviewers who have done a lot of reviews\n",
    "    if len(user_reviews) > 12:\n",
    "        takenos=np.random.choice(range(take), size=take/2, replace=False)\n",
    "        takelist=np.array([e in takenos for e in range(take)])\n",
    "        validatelist.append(user_reviews[-take:][~takelist])#use those \n",
    "        testlist.append(user_reviews[-take:][takelist])#use the others \n",
    "        trainlist.append(user_reviews[:-take])\n",
    "    else:\n",
    "        trainlist.append(user_reviews)\n",
    "traindf=pd.concat(trainlist)\n",
    "validatedf=pd.concat(validatelist)\n",
    "testdf=pd.concat(testlist)\n",
    "print traindf.shape, validatedf.shape, testdf.shape"
   ]
  },
  {
   "cell_type": "markdown",
   "metadata": {},
   "source": [
    "# Baseline Model"
   ]
  },
  {
   "cell_type": "markdown",
   "metadata": {},
   "source": [
    "## Get Biases"
   ]
  },
  {
   "cell_type": "code",
   "execution_count": 373,
   "metadata": {
    "collapsed": false
   },
   "outputs": [
    {
     "data": {
      "text/plain": [
       "2.7885822617870097"
      ]
     },
     "execution_count": 373,
     "metadata": {},
     "output_type": "execute_result"
    }
   ],
   "source": [
    "#get the overall average\n",
    "\n",
    "ybar = traindf.star_rating.mean()\n",
    "ybar"
   ]
  },
  {
   "cell_type": "code",
   "execution_count": 246,
   "metadata": {
    "collapsed": true
   },
   "outputs": [],
   "source": [
    "userids=traindf.user_id.unique()#unique-user-ids\n",
    "climbids=traindf.climb_id.unique()#unique-item-ids"
   ]
  },
  {
   "cell_type": "code",
   "execution_count": 247,
   "metadata": {
    "collapsed": false
   },
   "outputs": [],
   "source": [
    "useridmap={v:k for k,v in enumerate(userids)}#of length U\n",
    "climbidmap={v:k for k,v in enumerate(climbids)}#of length M"
   ]
  },
  {
   "cell_type": "code",
   "execution_count": 248,
   "metadata": {
    "collapsed": false
   },
   "outputs": [],
   "source": [
    "#calculate the user and climb biases\n",
    "\n",
    "user_biases = {user_id : (traindf[traindf.user_id == user_id].star_rating.mean() - ybar) for user_id in userids}\n",
    "climb_biases = {climb_id : (traindf[traindf.climb_id == climb_id].star_rating.mean() - ybar) for climb_id in climbids}"
   ]
  },
  {
   "cell_type": "code",
   "execution_count": 337,
   "metadata": {
    "collapsed": false
   },
   "outputs": [
    {
     "data": {
      "text/plain": [
       "<matplotlib.lines.Line2D at 0x1647e2a10>"
      ]
     },
     "execution_count": 337,
     "metadata": {},
     "output_type": "execute_result"
    },
    {
     "data": {
      "image/png": "[encoded data removed]",
      "text/plain": [
       "<matplotlib.figure.Figure at 0x19cba3850>"
      ]
     },
     "metadata": {},
     "output_type": "display_data"
    }
   ],
   "source": [
    "#let's make histograms of the user biases cuz why not\n",
    "\n",
    "user_bias = user_biases.values()\n",
    "total_user_bias = 0\n",
    "for bias in user_bias:\n",
    "    total_user_bias += bias\n",
    "mean_user_bias = np.mean(user_bias)\n",
    "median_user_bias = np.median(user_bias)\n",
    "plt.hist(user_bias, range=(0,3), label=\"User bias\");\n",
    "plt.legend()\n",
    "plt.axvline(mean_user_bias, color='b', linestyle='dashed', linewidth=2, label = \"mean\")\n",
    "plt.axvline(median_user_bias, color='r', linestyle='solid', linewidth=2, label = \"median\")"
   ]
  },
  {
   "cell_type": "code",
   "execution_count": 343,
   "metadata": {
    "collapsed": false
   },
   "outputs": [
    {
     "data": {
      "text/plain": [
       "<matplotlib.lines.Line2D at 0x171035c50>"
      ]
     },
     "execution_count": 343,
     "metadata": {},
     "output_type": "execute_result"
    },
    {
     "data": {
      "image/png": "[encoded data removed]",
      "text/plain": [
       "<matplotlib.figure.Figure at 0x138ac65d0>"
      ]
     },
     "metadata": {},
     "output_type": "display_data"
    }
   ],
   "source": [
    "#same with climb biases\n",
    "\n",
    "climb_bias = climb_biases.values()\n",
    "total_climb_bias = 0\n",
    "for bias in climb_bias:\n",
    "    total_climb_bias += bias\n",
    "mean_climb_bias = np.mean(climb_bias)\n",
    "median_climb_bias = np.median(climb_bias)\n",
    "plt.hist(climb_bias, range=(0,3), label=\"Climb bias\");\n",
    "plt.legend()\n",
    "plt.axvline(mean_climb_bias, color='b', linestyle='dashed', linewidth=2, label = \"mean\")\n",
    "plt.axvline(median_climb_bias, color='r', linestyle='solid', linewidth=2, label = \"median\")"
   ]
  },
  {
   "cell_type": "code",
   "execution_count": 251,
   "metadata": {
    "collapsed": true
   },
   "outputs": [],
   "source": [
    "#save the averages for use in the equation\n",
    "\n",
    "train_avgs={'mean':ybar, 'users':user_biases, 'climbs':climb_biases}"
   ]
  },
  {
   "cell_type": "code",
   "execution_count": 374,
   "metadata": {
    "collapsed": true
   },
   "outputs": [],
   "source": [
    "#instantiate the prediction sets\n",
    "\n",
    "predictions={}\n",
    "predictions_valid={}"
   ]
  },
  {
   "cell_type": "code",
   "execution_count": 234,
   "metadata": {
    "collapsed": false
   },
   "outputs": [
    {
     "data": {
      "text/plain": [
       "'print traindf[traindf.climb_id == 105717673]\\n#traindf.head()'"
      ]
     },
     "execution_count": 234,
     "metadata": {},
     "output_type": "execute_result"
    }
   ],
   "source": [
    "\"\"\"print traindf[traindf.climb_id == 105717673]\n",
    "#traindf.head()\"\"\""
   ]
  },
  {
   "cell_type": "markdown",
   "metadata": {},
   "source": [
    "## Make Predictions"
   ]
  },
  {
   "cell_type": "code",
   "execution_count": 377,
   "metadata": {
    "collapsed": false
   },
   "outputs": [],
   "source": [
    "#make predictions!\n",
    "\n",
    "predictions[\"baseline\"] = []\n",
    "for index, row in testdf.iterrows():\n",
    "    user = row[\"user_id\"]\n",
    "    climb = row[\"climb_id\"]\n",
    "    prediction = ybar + (user_biases[user]) + (climb_biases[climb])\n",
    "    predictions[\"baseline\"].append(prediction)\n",
    "    \n",
    "predictions_valid[\"baseline\"] = []\n",
    "for index, row in validatedf.iterrows():\n",
    "    user = row[\"user_id\"]\n",
    "    climb = row[\"climb_id\"]\n",
    "    prediction = ybar + (user_biases[user]) + (climb_biases[climb])\n",
    "    predictions_valid[\"baseline\"].append(prediction)"
   ]
  },
  {
   "cell_type": "code",
   "execution_count": 376,
   "metadata": {
    "collapsed": false
   },
   "outputs": [
    {
     "data": {
      "text/plain": [
       "[2.379180896107727,\n",
       " 3.180406287831311,\n",
       " 2.0572510715463235,\n",
       " 2.843621128043499,\n",
       " 2.8890756734980445,\n",
       " 3.173032892749381,\n",
       " 3.485659811807066,\n",
       " 2.873083746898344,\n",
       " 4.220142570427756,\n",
       " 2.3661796429748954,\n",
       " 2.8549920354017453,\n",
       " 3.2525823968475285,\n",
       " 3.265963192758445,\n",
       " 2.353084404879657,\n",
       " 2.728084404879657,\n",
       " 4.209178096555656,\n",
       " 3.5267827636798836,\n",
       " 3.0570791891375992,\n",
       " 1.4257034524987044,\n",
       " 2.0244258682942915,\n",
       " 0.4738290857307208,\n",
       " 4.038690465485717,\n",
       " 3.6053571321523843,\n",
       " 3.1386904654857175,\n",
       " 2.578939105734358,\n",
       " 2.866201978363084,\n",
       " 3.7207015578416374,\n",
       " 2.846338373133625,\n",
       " 3.346338373133625,\n",
       " 4.179671706466959,\n",
       " 1.9537254305206826,\n",
       " 1.51141773821299,\n",
       " 2.1874177382129902,\n",
       " 5.152594208801226,\n",
       " 4.142452220971611,\n",
       " 4.925703452498705,\n",
       " 2.7306303068293065,\n",
       " 1.7792414179404177,\n",
       " 2.2417414179404176,\n",
       " 1.7030936538622687,\n",
       " 2.840348555823053,\n",
       " 0.9736818891563865,\n",
       " 3.2156912424864945,\n",
       " 2.3268023535976057,\n",
       " 2.4268023535976058,\n",
       " 2.006773326021408,\n",
       " 1.865263892059144,\n",
       " 2.0319305587258105,\n",
       " 2.5830393598346117,\n",
       " 2.6280844048796568,\n",
       " 3.3947510715463234,\n",
       " 2.538110965304624,\n",
       " 3.3458032729969314,\n",
       " 1.8714442986379574,\n",
       " 3.86501250945482,\n",
       " 3.600306627101879,\n",
       " 2.700306627101879,\n",
       " 2.8603750371206367,\n",
       " 2.884400194353341,\n",
       " 2.196066861020008,\n",
       " 3.2780844048796567,\n",
       " 3.48641773821299,\n",
       " 4.419110045905297,\n",
       " 0.3590367858320378,\n",
       " 1.2372366206792715,\n",
       " 0.6658778321097039,\n",
       " 1.5971704263850335,\n",
       " 2.1015692533645054,\n",
       " 1.5941696761974866,\n",
       " 3.048093199954415,\n",
       " 2.398093199954415,\n",
       " 3.7195217713829867,\n",
       " 4.177967033987638,\n",
       " 3.5864177382129903,\n",
       " 3.505336657131909,\n",
       " 4.019525846321098,\n",
       " 4.519525846321098,\n",
       " 2.8673519332776203,\n",
       " 1.7584579481381275,\n",
       " 2.692981757661937,\n",
       " 1.9013150909952703,\n",
       " 3.856254883050135,\n",
       " 4.3857420625373145,\n",
       " 3.8084693352645873,\n",
       " 2.8780844048796568,\n",
       " 2.8780844048796568,\n",
       " 2.7530844048796568,\n",
       " 2.4838815063289323,\n",
       " 2.780465357260609,\n",
       " 3.2447510715463235,\n",
       " 3.6449897350308103,\n",
       " 2.9783230683641437,\n",
       " 2.7783230683641436,\n",
       " 2.7593336626875185,\n",
       " 1.2355241388779945,\n",
       " 2.0688574722113278,\n",
       " 0.5785154393624155,\n",
       " 2.8237077470547227,\n",
       " 0.9326821060290822,\n",
       " 2.7702412676247548,\n",
       " 2.917300091154167,\n",
       " 2.5447510715463237,\n",
       " nan,\n",
       " nan,\n",
       " nan,\n",
       " 2.7352272620225144,\n",
       " 3.715922242717495,\n",
       " 2.6709415477368,\n",
       " 1.9027690895643414,\n",
       " 2.998226248851288,\n",
       " 2.6120237988190507,\n",
       " nan,\n",
       " 3.2935930684583155,\n",
       " 2.960259735124982,\n",
       " 1.432694333957671,\n",
       " 2.0993610006243375,\n",
       " 2.5160276672910045,\n",
       " 1.9521438629170154,\n",
       " 2.7735724343455868,\n",
       " 0.24579465656780908,\n",
       " 1.8935882808486495,\n",
       " 1.7947510715463237,\n",
       " 2.206820037063565,\n",
       " 3.354274881070133,\n",
       " 3.442186968982221,\n",
       " 4.044751071546324,\n",
       " 3.4197510715463237,\n",
       " 3.475306627101879,\n",
       " 3.958212610007862,\n",
       " 4.094751071546323,\n",
       " 4.344751071546323,\n",
       " 3.162932889728142,\n",
       " 2.1420299831109495,\n",
       " 2.6702412676247547,\n",
       " 2.0399891667844186,\n",
       " 3.1225288493241012,\n",
       " 2.2738109006061524,\n",
       " 2.9547127573700784,\n",
       " 1.9191100459052977,\n",
       " 2.6598048349871837,\n",
       " 2.92641773821299,\n",
       " 3.0685605953558475,\n",
       " 3.2070887338839857,\n",
       " 3.4495129763082284,\n",
       " 1.4004933684650913,\n",
       " 1.907378050048568,\n",
       " 1.9216573896291123,\n",
       " 3.394026433865164,\n",
       " 2.2796371999107126,\n",
       " 2.2965839786221975,\n",
       " 1.5890595624621562,\n",
       " 2.033504006906601,\n",
       " 2.589059562462156,\n",
       " 2.613424822038256,\n",
       " 2.6412278125317354,\n",
       " 2.482846309641562,\n",
       " 2.6692046234588918,\n",
       " 2.2942046234588918,\n",
       " 2.0442046234588918,\n",
       " 1.6878967118409305,\n",
       " 1.2724377746428628,\n",
       " 2.209635842275713,\n",
       " 2.246674148469401,\n",
       " 1.8094675756994476,\n",
       " 2.621674148469401,\n",
       " 0.6374381463762555,\n",
       " 2.1039015610104017,\n",
       " 1.0177572953124256,\n",
       " 1.6083408151360672,\n",
       " 1.6114177382129902,\n",
       " 1.923574600958088,\n",
       " 0.8233742599521205,\n",
       " 2.1632391248169855,\n",
       " 1.960443225469362,\n",
       " 3.1373792766745288,\n",
       " 1.9498792766745288,\n",
       " 1.476830486384359,\n",
       " 1.5544062439601167,\n",
       " 2.8396694018548536,\n",
       " 4.073322500117753,\n",
       " 3.7489177382129903,\n",
       " 4.261417738212991,\n",
       " nan,\n",
       " nan,\n",
       " nan,\n",
       " 1.7038989412205092,\n",
       " 2.2435814809030488,\n",
       " 2.5703082076297754,\n",
       " 3.734869895811489,\n",
       " 3.747556096499,\n",
       " 2.2603687871640394,\n",
       " 3.3225288493241014,\n",
       " 3.7669732937685456,\n",
       " 3.2114177382129903,\n",
       " 1.2141763589026455,\n",
       " 2.4488090425608164,\n",
       " 1.274274881070133,\n",
       " 1.9317362710315233,\n",
       " 2.6125836099670976,\n",
       " 1.6545352743537824,\n",
       " 2.614402812839856,\n",
       " 3.864402812839856,\n",
       " 3.6699583683954113,\n",
       " 2.9114177382129904,\n",
       " 2.7114177382129903,\n",
       " 3.0447510715463237,\n",
       " 2.107062021334587,\n",
       " 1.6596936002819556,\n",
       " 1.8025507431390984,\n",
       " 2.3268023535976057,\n",
       " 3.34155472451436,\n",
       " 2.6614177382129904,\n",
       " 2.029950556745809,\n",
       " 1.479274881070133,\n",
       " 1.8325357506353503,\n",
       " 1.7341450109402632,\n",
       " 1.4947510715463235,\n",
       " 1.7892865906720066,\n",
       " 2.433639960435212,\n",
       " 3.231025581350245,\n",
       " 3.056655833451085,\n",
       " 3.55946527641333,\n",
       " 2.0083816850820604,\n",
       " 3.3270091360624527,\n",
       " 1.6070221338173858,\n",
       " 1.8927364195316714,\n",
       " 1.4070221338173858,\n",
       " 0.008826454349621482,\n",
       " 3.2114177382129903,\n",
       " 3.453841980637233,\n",
       " 3.655862182657435,\n",
       " 3.00485139074377,\n",
       " 4.102890606430044,\n",
       " 4.483842987382426,\n",
       " 3.5366833816604517,\n",
       " 3.186034031011101,\n",
       " 3.3581119530890233,\n",
       " 1.6168103588373992,\n",
       " 1.8787151207421613,\n",
       " 1.7507389302659706,\n",
       " 2.9605086473038993,\n",
       " 4.093841980637233,\n",
       " 2.360508647303899,\n",
       " 2.3406064507350357,\n",
       " 1.9120350221636073,\n",
       " 3.689812799941385,\n",
       " 1.2836399604352127,\n",
       " 2.5614177382129903,\n",
       " 1.228084404879657,\n",
       " 5.012343664138916,\n",
       " 4.08641773821299,\n",
       " 4.574789831236246,\n",
       " 3.6637986905939424,\n",
       " 2.219354246149498,\n",
       " 1.9971320239272758,\n",
       " 2.6823854801484743,\n",
       " 3.5823854801484742,\n",
       " 3.264203661966656,\n",
       " 4.05141773821299,\n",
       " 4.006973293768546,\n",
       " 4.047571584366837,\n",
       " 1.802326829122081,\n",
       " 0.8364177382129903,\n",
       " 2.3314177382129904,\n",
       " 2.9433017961840044,\n",
       " 3.7780844048796567,\n",
       " 3.8780844048796568,\n",
       " 2.11141773821299,\n",
       " 2.922860524282642,\n",
       " 2.9455949534028636,\n",
       " 2.3062895330847852,\n",
       " 2.9253371521324043,\n",
       " 1.9729561997514518,\n",
       " 1.71141773821299,\n",
       " 0.9344946612899132,\n",
       " 2.1812290589677072,\n",
       " 3.023106049901302,\n",
       " 4.228463192758445,\n",
       " 2.523106049901302,\n",
       " 2.2544390846826126,\n",
       " 2.73608212357756,\n",
       " 1.9449152751588032,\n",
       " 2.942411890259774,\n",
       " 3.4979674458153296,\n",
       " 3.5017988634398503,\n",
       " 2.373322500117752,\n",
       " 2.5447510715463237,\n",
       " 2.497132023927276,\n",
       " nan,\n",
       " nan,\n",
       " nan,\n",
       " 1.8750541018493536,\n",
       " 1.3662564478904093,\n",
       " 2.1477813745766263,\n",
       " 3.4700634455890484,\n",
       " 1.820063445589048,\n",
       " 2.34149201701762,\n",
       " 2.7389912676247548,\n",
       " 3.64986470790996,\n",
       " 4.108739166784419,\n",
       " 3.244751071546324,\n",
       " 3.0447510715463237,\n",
       " 2.2114177382129903,\n",
       " 4.402228549023802,\n",
       " 3.655933867245248,\n",
       " 3.2914177382129903,\n",
       " 3.033039359834612,\n",
       " 2.4945778213730736,\n",
       " 3.8330393598346117,\n",
       " 1.8927364195316714,\n",
       " 2.9498792766745288,\n",
       " 3.4998792766745286,\n",
       " 2.284169060964313,\n",
       " 2.3452289687984145,\n",
       " 2.8310634709022016,\n",
       " 2.4261070037497134,\n",
       " 2.8182638664948114,\n",
       " 2.7258011933521598,\n",
       " 2.428450705245957,\n",
       " 2.6399891667844186,\n",
       " 2.7899891667844186,\n",
       " 1.7505481729955992,\n",
       " 2.450548172995599,\n",
       " 2.728325950773377,\n",
       " 2.5741907676526865,\n",
       " 1.9846445114397637,\n",
       " 2.964218335673782,\n",
       " 0.9313393260591065,\n",
       " 2.10747568969547,\n",
       " 1.4854518801716607,\n",
       " 1.6664519513117193,\n",
       " 2.5528155876753558,\n",
       " 2.8653155876753558,\n",
       " 2.1070699121260335,\n",
       " 3.2192718756603953,\n",
       " 1.4307414097105746,\n",
       " 2.540963192758445,\n",
       " 2.4817526664426555,\n",
       " 2.365963192758445,\n",
       " 3.052107393385404,\n",
       " 3.61562826452878,\n",
       " 3.026655833451086,\n",
       " 3.067293569698578,\n",
       " 1.4311147079099598,\n",
       " 1.4727813745766265,\n",
       " nan,\n",
       " nan,\n",
       " nan,\n",
       " 3.7008076586373932,\n",
       " 2.8674743253040598,\n",
       " 2.2008076586373932,\n",
       " 2.2998531123626504,\n",
       " 2.6331864456959835,\n",
       " 3.686519779029317,\n",
       " 1.8794849651037464,\n",
       " 1.5937706793894608,\n",
       " 1.9271040127227943,\n",
       " 3.6197510715463235,\n",
       " 3.9364177382129903,\n",
       " 4.003084404879656,\n",
       " 3.322528849324101,\n",
       " 4.403336930132182,\n",
       " 3.433639960435212,\n",
       " 1.3693124750550956,\n",
       " 2.2784033841460047,\n",
       " 1.914767020509641,\n",
       " nan,\n",
       " nan,\n",
       " nan,\n",
       " 0.9928490728358144,\n",
       " 0.7201218001085417,\n",
       " 0.5123295923163338,\n",
       " 3.98641773821299,\n",
       " 4.169751071546324,\n",
       " 4.21141773821299,\n",
       " 1.369626693436871,\n",
       " 2.2316956589541124,\n",
       " 2.0487933601035375,\n",
       " 1.4540735371601798,\n",
       " 2.487040570127213,\n",
       " 2.2685531751692296,\n",
       " 3.404400194353341,\n",
       " 4.857676241614351,\n",
       " 1.100306627101879,\n",
       " 3.51141773821299,\n",
       " 2.984145010940263,\n",
       " 3.055620636763715,\n",
       " 2.2304653572606092,\n",
       " 3.630465357260609,\n",
       " 2.442586569381821,\n",
       " 2.381630504170437,\n",
       " 1.957180450077397,\n",
       " 2.2114177382129903,\n",
       " 3.8575715843668363,\n",
       " 2.0575715843668365,\n",
       " nan,\n",
       " 2.4509559777512298,\n",
       " 3.2287337555290074,\n",
       " 1.7842893110845632,\n",
       " 3.037300091154167,\n",
       " 2.667300091154167,\n",
       " 3.917300091154167,\n",
       " 0.2730013159256002,\n",
       " 2.0433362441552654,\n",
       " 1.0608801038043882,\n",
       " -0.49446461472818615,\n",
       " 0.7893191690555976,\n",
       " 0.6191717489081776,\n",
       " 1.4935170821680044,\n",
       " 1.601261189912112,\n",
       " 1.5324781211290435,\n",
       " 1.5947510715463236,\n",
       " 2.5947510715463236,\n",
       " 1.5947510715463236,\n",
       " 3.0364177382129904,\n",
       " 2.0697510715463237,\n",
       " 2.598322500117752,\n",
       " 1.2009699770189601,\n",
       " 2.164606340655324,\n",
       " 2.55096997701896,\n",
       " 1.3840367858320377,\n",
       " 1.7590367858320377,\n",
       " 1.1340367858320377,\n",
       " 3.202645808388429,\n",
       " 3.1935605953558475,\n",
       " 2.8780844048796568,\n",
       " 0.8687048955001475,\n",
       " 1.654419181214433,\n",
       " 1.6187048955001475,\n",
       " 1.9260413498954256,\n",
       " 1.7991182729723487,\n",
       " 1.5991182729723485,\n",
       " 3.2953201772373806,\n",
       " 2.3094822543420226,\n",
       " 2.17641773821299,\n",
       " 2.2718042116429418,\n",
       " 2.1940264338651643,\n",
       " 2.244026433865164,\n",
       " nan,\n",
       " nan,\n",
       " nan,\n",
       " 1.8061889800430557,\n",
       " 2.417300091154167,\n",
       " 1.900906648531216,\n",
       " 0.9693964616172455,\n",
       " 1.7193964616172455,\n",
       " 1.4515393187601027,\n",
       " 1.9808956498595767,\n",
       " 2.58111470790996,\n",
       " 1.8447510715463236,\n",
       " 3.119920111972162,\n",
       " 2.4627772548293048,\n",
       " 2.2627772548293046,\n",
       " 3.084145010940263,\n",
       " 2.973322500117752,\n",
       " 3.01141773821299,\n",
       " 3.0907673317089253,\n",
       " 2.534403695345289,\n",
       " 2.4207673317089253,\n",
       " 2.119110045905298,\n",
       " 1.705034759489586,\n",
       " 3.175054101849354,\n",
       " 1.89141773821299,\n",
       " 3.49141773821299,\n",
       " 3.05391773821299,\n",
       " 1.879838790844569,\n",
       " 2.329838790844569,\n",
       " 1.7465054575112358,\n",
       " 3.869751071546324,\n",
       " 3.7262325530278053,\n",
       " 0.6336399604352128,\n",
       " 4.218825145620398,\n",
       " 4.122528849324102,\n",
       " 4.283212610007862,\n",
       " 1.2947510715463235,\n",
       " 3.4965054575112355,\n",
       " 3.356345274444874,\n",
       " 2.806655833451085,\n",
       " 2.0399891667844186,\n",
       " 2.0774891667844186,\n",
       " 2.910512760837425,\n",
       " 2.39090491770017,\n",
       " 1.8353493621446142,\n",
       " 1.535555669247473,\n",
       " 1.3654717922670443,\n",
       " 1.4780844048796569,\n",
       " 3.9177430394178097,\n",
       " 3.0427430394178097,\n",
       " 1.7220560360853305,\n",
       " 1.405862182657435,\n",
       " 1.2633657901610422,\n",
       " 0.9206375963690185,\n",
       " 1.2123042630356853,\n",
       " 1.414890469932237,\n",
       " 2.309078697942916,\n",
       " 3.3545332433974613,\n",
       " 3.3363514252156428,\n",
       " 5.176934979592301,\n",
       " 5.000891422423516,\n",
       " 3.4177669445621968,\n",
       " 2.5060365722937075,\n",
       " 2.1685365722937076,\n",
       " 2.8560365722937076,\n",
       " 2.8912206938780147,\n",
       " 2.3912206938780147,\n",
       " 3.5162206938780147,\n",
       " 0.8148660140750592,\n",
       " 1.4482598434761482,\n",
       " 0.31141773821299035,\n",
       " 2.823763417225336,\n",
       " 3.314672508134427,\n",
       " 3.0419452354071543,\n",
       " 3.233495660290912,\n",
       " 4.133495660290912,\n",
       " 4.290819349260171,\n",
       " 1.104274881070133,\n",
       " 2.992119492598955,\n",
       " 3.492119492598955,\n",
       " 2.492119492598955,\n",
       " 2.561041798363366,\n",
       " 1.0945346213298734,\n",
       " 0.3622113890066412,\n",
       " 3.913798690593943,\n",
       " 3.003084404879657,\n",
       " 2.1300451891933827,\n",
       " 2.5994774397055274,\n",
       " 2.1994774397055274,\n",
       " 2.170906011134099,\n",
       " 2.031930558725811,\n",
       " 3.1385972253924774,\n",
       " 2.0735972253924775,\n",
       " 1.8988051256003775,\n",
       " 1.6654717922670441,\n",
       " 1.8904717922670442,\n",
       " 1.7739177382129903,\n",
       " 2.052326829122081,\n",
       " 2.825054101849354,\n",
       " 3.1911412405171378,\n",
       " 2.9339983833742806,\n",
       " 2.4756820024772543,\n",
       " 2.2035222022275667,\n",
       " 2.1524496792449312,\n",
       " 1.648987414913102,\n",
       " 2.5211485870742742,\n",
       " 1.8449581108837978,\n",
       " 2.004458031253283,\n",
       " 3.01141773821299,\n",
       " 1.8806485074437593,\n",
       " 4.034850081447313,\n",
       " 2.3681834147806473,\n",
       " 3.034850081447314,\n",
       " 2.73702160294729,\n",
       " 3.7669361328618196,\n",
       " 2.2925771585028456,\n",
       " 3.1122484754923256,\n",
       " 3.7011373643812147,\n",
       " 3.278915142158992,\n",
       " 3.18111470790996,\n",
       " 3.5144480412432935,\n",
       " 3.5144480412432935,\n",
       " 2.1579060325273716,\n",
       " 1.1579060325273716,\n",
       " 3.1579060325273716,\n",
       " 1.0790300313571983,\n",
       " 1.1836399604352126,\n",
       " 1.7836399604352122,\n",
       " 2.401782928578181,\n",
       " 2.528767055562308,\n",
       " 2.401782928578181,\n",
       " 3.4955086473038994,\n",
       " 3.0864177382129903,\n",
       " 3.4614177382129903,\n",
       " 1.8517254305206827,\n",
       " 2.445132023927276,\n",
       " 1.0879891667844188,\n",
       " 1.9547394571444654,\n",
       " 1.9071204095254175,\n",
       " 2.621406123811132,\n",
       " 3.0467688278013676,\n",
       " 3.4237529547854946,\n",
       " 3.5348640658966057,\n",
       " 2.147925674720927,\n",
       " 1.7828463096415617,\n",
       " 2.440554937647219,\n",
       " 1.2426677382129903,\n",
       " 1.0426677382129903,\n",
       " 1.4926677382129903,\n",
       " 2.179006329397087,\n",
       " 2.5581272085179663,\n",
       " 2.4412440916348492,\n",
       " 3.3469679707055926,\n",
       " 3.6144451743530093,\n",
       " 3.400159460067295,\n",
       " 2.9083874351826875,\n",
       " 1.655862182657435,\n",
       " 2.4678279946232466,\n",
       " 3.7225288493241013,\n",
       " 4.148615805845841,\n",
       " 3.6796717064669586,\n",
       " 4.304274881070134,\n",
       " 4.304274881070134,\n",
       " 3.5209415477367996,\n",
       " 2.056526433865164,\n",
       " 2.556526433865164,\n",
       " 1.8122082520469822,\n",
       " 3.6740264338651643,\n",
       " 4.120834944503462,\n",
       " 3.978374259952121,\n",
       " 2.7399891667844187,\n",
       " 3.7337391667844186,\n",
       " 3.002584586631747,\n",
       " 3.184145010940263,\n",
       " 3.3072510715463235,\n",
       " 2.91141773821299,\n",
       " 1.303035671936187,\n",
       " 1.5077140345092865,\n",
       " 1.2438251456203977,\n",
       " 4.5927127022417675,\n",
       " 4.079342266514876,\n",
       " 3.1697510715463233,\n",
       " 1.6189807634230742,\n",
       " 1.504274881070133,\n",
       " 1.8376082144034664,\n",
       " 4.405589023748481,\n",
       " 4.454958771647641,\n",
       " 4.282339724028593,\n",
       " 2.6660274167718034,\n",
       " 2.9592604994785705,\n",
       " 2.994974785192856,\n",
       " nan,\n",
       " nan,\n",
       " nan,\n",
       " 3.1063329924502785,\n",
       " 2.8138567626032343,\n",
       " 2.369751071546324,\n",
       " 0.10503475948958596,\n",
       " 0.3131126534672277,\n",
       " 0.9891955159907679,\n",
       " 3.589054869014678,\n",
       " 4.255721535681344,\n",
       " 4.755721535681344,\n",
       " 1.476768615405973,\n",
       " 2.165101948739306,\n",
       " 2.1434352820726397,\n",
       " 3.413952410618538,\n",
       " 1.2310255813502453,\n",
       " 1.1893589146835786,\n",
       " 2.7150942088012258,\n",
       " 3.087553558394722,\n",
       " 2.8282698844769016,\n",
       " 3.802326829122081,\n",
       " 3.100306627101879,\n",
       " 3.3989177382129903,\n",
       " 3.44114746794272,\n",
       " 1.94114746794272,\n",
       " 2.596033122828375,\n",
       " 3.0295995563948086,\n",
       " 2.182005973507108,\n",
       " 1.8891955159907678,\n",
       " 2.953523001370885,\n",
       " 3.0525942088012257,\n",
       " 4.332107393385404,\n",
       " 4.401893928689181,\n",
       " 4.442186968982221,\n",
       " 0.01825878449065632,\n",
       " 1.5559555533390406,\n",
       " 0.8721320239272761,\n",
       " 2.194947149977696,\n",
       " 2.6235185785491244,\n",
       " 2.6235185785491244,\n",
       " 0.16082250011775212,\n",
       " 1.0774891667844189,\n",
       " 2.0186656373726546,\n",
       " 3.7384018651971176,\n",
       " 3.278084404879657,\n",
       " 3.166973293768546,\n",
       " 3.0364177382129904,\n",
       " 3.1047104211398193,\n",
       " 3.2445810035191127,\n",
       " 3.2514177382129903,\n",
       " 2.0847510715463233,\n",
       " 3.7296786077782076,\n",
       " 1.9461847633025964,\n",
       " 2.4558621826574347,\n",
       " 2.055862182657435,\n",
       " 2.5191100459052977,\n",
       " 3.296033122828375,\n",
       " 4.3607390051813155,\n",
       " 3.826171836573646,\n",
       " 3.6595051699069794,\n",
       " 3.326171836573646,\n",
       " 3.8295995563948084,\n",
       " 2.437774327360277,\n",
       " 3.2197510715463236,\n",
       " 3.175161726374293,\n",
       " 2.8026127067664497,\n",
       " 3.969279373433116,\n",
       " 2.61828048331103,\n",
       " 2.7178279946232466,\n",
       " 3.2065157774286766,\n",
       " 4.3607390051813155,\n",
       " 0.8103188371140893,\n",
       " 2.53720959341661,\n",
       " nan,\n",
       " nan,\n",
       " nan,\n",
       " 3.102326829122081,\n",
       " 3.219904823083839,\n",
       " 3.3063817669899684,\n",
       " 2.3834079102031622,\n",
       " 1.9689934957887476,\n",
       " 1.0356601624554145,\n",
       " 2.786811094856347,\n",
       " 3.1065226333178853,\n",
       " 2.79386754646925,\n",
       " 2.448393347969088,\n",
       " 2.6467894832347882,\n",
       " 1.7050856556613956,\n",
       " 3.2114177382129903,\n",
       " 3.2114177382129903,\n",
       " 2.4614177382129903,\n",
       " 2.8069732937685457,\n",
       " 2.3384018651971172,\n",
       " 3.433639960435212,\n",
       " 2.0353146534804636,\n",
       " 2.88146849963431,\n",
       " 2.6814684996343097,\n",
       " 3.498084404879657,\n",
       " 3.6935605953558475,\n",
       " 2.8326298594251114,\n",
       " nan,\n",
       " nan,\n",
       " nan,\n",
       " 1.6368835767223069,\n",
       " 1.4194922723744807,\n",
       " 1.8291912690299994,\n",
       " 1.9257034524987047,\n",
       " 2.0166125434077955,\n",
       " 2.125703452498705,\n",
       " 3.2530844048796568,\n",
       " 1.7990146374377964,\n",
       " 2.578084404879657,\n",
       " 2.4336399604352126,\n",
       " 2.6649061103060134,\n",
       " 1.8114177382129903,\n",
       " 1.325187009876999,\n",
       " 1.4827627674527566,\n",
       " 2.11609610078609,\n",
       " 2.9441763589026455,\n",
       " 3.0691763589026455,\n",
       " 2.860843025569312,\n",
       " 3.096033122828375,\n",
       " 2.471033122828375,\n",
       " 3.5505785773738294,\n",
       " 3.233156868647773,\n",
       " 3.751174886665791,\n",
       " 3.807986800620562,\n",
       " 3.432261410669566,\n",
       " 2.9806485074437594,\n",
       " 1.9806485074437594,\n",
       " 0.07854259502856875,\n",
       " 0.5229870394730132,\n",
       " 1.205526722012696,\n",
       " 3.6842859552672538,\n",
       " 2.9992965260917783,\n",
       " 3.8595658863611386,\n",
       " 4.335862182657435,\n",
       " 3.9983279360820925,\n",
       " 3.6082431350383875,\n",
       " 3.870570743677471,\n",
       " 3.870570743677471,\n",
       " 4.495570743677471,\n",
       " 1.7121508760429025,\n",
       " 2.461109932253867,\n",
       " 1.8338086300535976,\n",
       " 2.290365106634043,\n",
       " 0.2408295029188725,\n",
       " 2.0772713967495755,\n",
       " nan,\n",
       " nan,\n",
       " nan,\n",
       " 2.5016476232704616,\n",
       " 2.7099809566037947,\n",
       " 2.918314289937128,\n",
       " 1.4478709401834338,\n",
       " 1.3115073038197973,\n",
       " 2.4002518925643863,\n",
       " 1.4198576359112,\n",
       " 0.36300144862023,\n",
       " 0.39377067938946086,\n",
       " 2.988294005961469,\n",
       " 2.1418990216354503,\n",
       " 2.8055353852718135,\n",
       " 1.6280844048796568,\n",
       " 3.076360266948622,\n",
       " 3.0655844048796568,\n",
       " 1.4984990779259086,\n",
       " 2.076569253364505,\n",
       " 1.3218073486026005,\n",
       " 3.7694822543420226,\n",
       " 2.854274881070133,\n",
       " 2.9197510715463237,\n",
       " 3.178084404879657,\n",
       " 3.7489177382129903,\n",
       " 3.2399891667844187,\n",
       " 3.5848008942923237,\n",
       " 3.183619369050648,\n",
       " 2.1888825269453847,\n",
       " 1.1034812302764823,\n",
       " 1.1438852706805227,\n",
       " 1.2257034524987045,\n",
       " 3.2336811890478696,\n",
       " 1.6377215930882736,\n",
       " 3.9154993708660513,\n",
       " 2.4983029841146296,\n",
       " 2.7483029841146296,\n",
       " 2.4649696507812964,\n",
       " 2.344486258570488,\n",
       " 2.4482598434761482,\n",
       " 2.392704287920593,\n",
       " 2.6367141809007375,\n",
       " 2.558467427653984,\n",
       " 0.477118221304778,\n",
       " 2.735227262022514,\n",
       " 2.530099056894309,\n",
       " 2.9311560152031757,\n",
       " 3.1920940667154056,\n",
       " 4.410042784664124,\n",
       " 2.900427400048739,\n",
       " 2.8282759757608833,\n",
       " 2.718362182657435,\n",
       " 3.3225288493241014,\n",
       " 2.2565790285355707,\n",
       " 2.61141773821299,\n",
       " 1.6114177382129902,\n",
       " 3.9220166349821,\n",
       " 4.235491812287064,\n",
       " 3.789877777199345,\n",
       " 3.8007034524987047,\n",
       " 2.129274881070133,\n",
       " 3.029274881070133,\n",
       " 4.35102812782338,\n",
       " 4.307571584366837,\n",
       " 3.3780844048796568,\n",
       " 3.8780844048796568,\n",
       " 3.065584404879657,\n",
       " 3.53141773821299,\n",
       " 2.742186968982221,\n",
       " 2.9508116776069295,\n",
       " 2.9244612164738597,\n",
       " 2.251916180580592,\n",
       " 3.1408050694694802,\n",
       " 3.107976786641198,\n",
       " 2.6441100459052977,\n",
       " 4.3265174533127055,\n",
       " 0.7413322681275201,\n",
       " 2.542939477343425,\n",
       " 2.0568283662323137,\n",
       " 2.491468889108131,\n",
       " 4.466093997205796,\n",
       " 4.28016773821299,\n",
       " 4.296266223061475,\n",
       " 2.3235972253924775,\n",
       " 2.4557042488038485,\n",
       " 1.9774433792386312,\n",
       " 3.3961399604352125,\n",
       " 3.36141773821299,\n",
       " 2.1907828175780697,\n",
       " 3.9529586023462544,\n",
       " 3.4050141641251273,\n",
       " 3.8668425748142976,\n",
       " 2.244183963795851,\n",
       " 3.9108506304625177,\n",
       " 3.9108506304625177,\n",
       " 1.359632023927276,\n",
       " 0.6516774784727304,\n",
       " 1.3526875794828312,\n",
       " 2.2114177382129903,\n",
       " 3.0917207685160206,\n",
       " 2.7541006650422584,\n",
       " 3.890198022256432,\n",
       " 2.4219440540024637,\n",
       " 1.6124202444786542,\n",
       " 1.578084404879657,\n",
       " 2.5541143674264735,\n",
       " 3.226269223361505,\n",
       " 3.566973293768546,\n",
       " 1.813005039800292,\n",
       " 3.289195515990768,\n",
       " 1.492548372284801,\n",
       " 0.6483925281289566,\n",
       " 1.032321099557528,\n",
       " 3.4416502963525253,\n",
       " 1.9416502963525253,\n",
       " 2.6916502963525253,\n",
       " 2.9659222427174945,\n",
       " 2.537175313970566,\n",
       " 3.543178744502298,\n",
       " 1.9403554671507193,\n",
       " 3.1278554671507193,\n",
       " 3.766259635446192,\n",
       " 2.7094414536280103,\n",
       " 2.891259635446192,\n",
       " 1.5082927382129903,\n",
       " 3.3138482937685456,\n",
       " 2.7238099795923008,\n",
       " nan,\n",
       " nan,\n",
       " nan,\n",
       " 1.8998484369529676,\n",
       " 2.217308754413285,\n",
       " 2.5387373258418564,\n",
       " 2.195544722339974,\n",
       " 2.100306627101879,\n",
       " 2.403336930132182,\n",
       " 2.839989166784419,\n",
       " 3.466973293768546,\n",
       " 4.09891773821299,\n",
       " 2.500018026813279,\n",
       " 2.2987193255145777,\n",
       " 2.7689574207526726,\n",
       " 3.766766767539715,\n",
       " 4.155655656428603,\n",
       " 4.32232232309527,\n",
       " 3.3317184900926895,\n",
       " 4.057908966283166,\n",
       " 4.333730562527297,\n",
       " 2.663798690593943,\n",
       " 2.7983742599521206,\n",
       " 2.7590367858320377,\n",
       " 1.8057573608545,\n",
       " 1.8057573608545,\n",
       " 1.8057573608545,\n",
       " 2.2265692533645054,\n",
       " 3.13133115812641,\n",
       " 2.481471214148819,\n",
       " 4.290172316967569,\n",
       " 4.298830325625578,\n",
       " 3.813981840777093,\n",
       " 3.3614177382129906,\n",
       " 2.9937306633830585,\n",
       " 3.6937576940628802,\n",
       " 3.0562600229529733,\n",
       " 1.8388687186051471,\n",
       " 2.5055353852718136,\n",
       " 4.150393704775164,\n",
       " 3.4538419806372325,\n",
       " 4.067478344273596,\n",
       " 3.7501274156323454,\n",
       " 3.285813873478691,\n",
       " 3.0207927382129904,\n",
       " 4.791127883140526,\n",
       " 3.5191100459052977,\n",
       " 2.2947510715463233,\n",
       " 1.7976246347647145,\n",
       " 1.1344946612899134,\n",
       " 0.7114177382129903,\n",
       " 1.6815032082984605,\n",
       " 3.1334551602504126,\n",
       " 2.5960331228283753,\n",
       " 1.1185605953558475,\n",
       " 1.2614177382129903,\n",
       " 1.0114177382129903,\n",
       " 2.843639069943438,\n",
       " 2.7885927978987377,\n",
       " 2.817617989574532,\n",
       " 1.4235389503342022,\n",
       " 2.5693722836675357,\n",
       " 1.1414876682829203,\n",
       " 3.6176677382129903,\n",
       " 2.9386904654857173,\n",
       " 3.86141773821299,\n",
       " 2.5389438706171714,\n",
       " 2.439096309641562,\n",
       " 3.0514177382129906,\n",
       " 1.513005039800292,\n",
       " 3.030862182657435,\n",
       " 3.2272907540860065,\n",
       " nan,\n",
       " nan,\n",
       " nan,\n",
       " 2.545425153110193,\n",
       " 1.7521519783768047,\n",
       " 2.17016635393835,\n",
       " 2.32513011279493,\n",
       " 2.821924984589802,\n",
       " 2.8635916512564683,\n",
       " 3.9114177382129904,\n",
       " 3.954274881070133,\n",
       " 3.1864177382129903,\n",
       " 2.325054101849354,\n",
       " 1.8844946612899134,\n",
       " 1.6489177382129903,\n",
       " 1.662806627101879,\n",
       " 3.423040545230534,\n",
       " 1.6000046947347293,\n",
       " 3.2315727769726803,\n",
       " 2.736334681734585,\n",
       " 4.039906110306013,\n",
       " 3.784230976983676,\n",
       " ...]"
      ]
     },
     "execution_count": 376,
     "metadata": {},
     "output_type": "execute_result"
    }
   ],
   "source": [
    "predictions_valid[\"baseline\"]"
   ]
  },
  {
   "cell_type": "markdown",
   "metadata": {},
   "source": [
    "## Analyze Results"
   ]
  },
  {
   "cell_type": "code",
   "execution_count": 378,
   "metadata": {
    "collapsed": true
   },
   "outputs": [],
   "source": [
    "#make a swaggadocious get_rmse function\n",
    "def get_rmse(s, s_predict):\n",
    "    diff = s - s_predict\n",
    "    return np.sqrt(np.dot(diff,diff)/diff.shape[0])"
   ]
  },
  {
   "cell_type": "code",
   "execution_count": null,
   "metadata": {
    "collapsed": true
   },
   "outputs": [],
   "source": []
  },
  {
   "cell_type": "code",
   "execution_count": 386,
   "metadata": {
    "collapsed": true
   },
   "outputs": [],
   "source": [
    "def compare_results(stars_actual, stars_predicted, ylow=1, yhigh=6, model=\"\", predicteds=False, onsame=False, axis=False):\n",
    "    \"\"\"\n",
    "    plot predicted results against actual results. Takes 2 arguments: a\n",
    "    numpy array of actual ratings and a numpy array of predicted ratings\n",
    "    scatterplots the predictions, a unit slope line, line segments joining the mean,\n",
    "    and a filled in area of the standard deviations.\"\n",
    "    \"\"\"\n",
    "    if onsame:\n",
    "        ax=onsame\n",
    "    elif axis:\n",
    "        ax=axis\n",
    "    else:\n",
    "        fig=plt.figure()\n",
    "        ax=plt.gca()\n",
    "    df=pd.DataFrame(dict(actual=stars_actual, predicted=stars_predicted))\n",
    "    xp=[]\n",
    "    yp=[]\n",
    "    for k,v in df.groupby('actual'):\n",
    "        xp.append(k)\n",
    "        yp.append(v.predicted.mean())        \n",
    "    \n",
    "    cl, = ax.plot(xp,yp, 's-', label=\"means for %s\" % model)\n",
    "    c=cl.get_color()\n",
    "\n",
    "    sig=df.groupby('actual').predicted.std().values\n",
    "    ax.fill_between(xp, yp - sig, yp + sig, \n",
    "                 color=c, alpha=0.2)\n",
    "    if predicteds:\n",
    "        ax.plot(df.actual, df.predicted, '.', color=c, alpha=0.1, label=\"predicted for %s\" % model)\n",
    "\n",
    "    if not onsame:\n",
    "        ax.plot([1,5],[1,5], 'k', label=\"slope 1\")\n",
    "        ax.set_xlabel(\"actual\")\n",
    "        ax.set_ylabel(\"predicted\")\n",
    "        ax.set_ylim([ylow,yhigh])\n",
    "        ax.set_xlim([0.9, 4.1])\n",
    "    ax.legend(frameon=False, loc=\"upper left\")\n",
    "    rmse=get_rmse(stars_actual, stars_predicted)\n",
    "    print \"RMSE for %s\" % model, rmse\n",
    "    return ax,rmse"
   ]
  },
  {
   "cell_type": "code",
   "execution_count": 387,
   "metadata": {
    "collapsed": false
   },
   "outputs": [
    {
     "name": "stdout",
     "output_type": "stream",
     "text": [
      "RMSE for baseline nan\n"
     ]
    },
    {
     "data": {
      "image/png": "[encoded data removed]",
      "text/plain": [
       "<matplotlib.figure.Figure at 0x17256d550>"
      ]
     },
     "metadata": {},
     "output_type": "display_data"
    }
   ],
   "source": [
    "compare_results(testdf.star_rating, predictions['baseline'], model=\"baseline\", predicteds=True);"
   ]
  },
  {
   "cell_type": "markdown",
   "metadata": {},
   "source": [
    "# Knn Model"
   ]
  },
  {
   "cell_type": "markdown",
   "metadata": {},
   "source": [
    "Yay! That's the baseline prediction. Done with that, time to move on to K-nearest neighbors."
   ]
  },
  {
   "cell_type": "code",
   "execution_count": 381,
   "metadata": {
    "collapsed": false
   },
   "outputs": [
    {
     "ename": "TypeError",
     "evalue": "only length-1 arrays can be converted to Python scalars",
     "output_type": "error",
     "traceback": [
      "\u001b[0;31m---------------------------------------------------------------------------\u001b[0m",
      "\u001b[0;31mTypeError\u001b[0m                                 Traceback (most recent call last)",
      "\u001b[0;32m<ipython-input-381-fe859c4788e5>\u001b[0m in \u001b[0;36m<module>\u001b[0;34m()\u001b[0m\n\u001b[1;32m      3\u001b[0m \u001b[0mclimbs\u001b[0m\u001b[0;34m=\u001b[0m\u001b[0mclimbids\u001b[0m\u001b[0;34m\u001b[0m\u001b[0m\n\u001b[1;32m      4\u001b[0m \u001b[0mlclimbs\u001b[0m\u001b[0;34m=\u001b[0m\u001b[0mlen\u001b[0m\u001b[0;34m(\u001b[0m\u001b[0mclimbs\u001b[0m\u001b[0;34m)\u001b[0m\u001b[0;34m\u001b[0m\u001b[0m\n\u001b[0;32m----> 5\u001b[0;31m \u001b[0msupports\u001b[0m\u001b[0;34m=\u001b[0m\u001b[0;34m[\u001b[0m\u001b[0;34m[\u001b[0m\u001b[0;34m[\u001b[0m\u001b[0;34m]\u001b[0m \u001b[0;32mfor\u001b[0m \u001b[0mi\u001b[0m \u001b[0;32min\u001b[0m \u001b[0mrange\u001b[0m\u001b[0;34m(\u001b[0m\u001b[0mclimbs\u001b[0m\u001b[0;34m)\u001b[0m\u001b[0;34m]\u001b[0m \u001b[0;32mfor\u001b[0m \u001b[0mi\u001b[0m \u001b[0;32min\u001b[0m \u001b[0mrange\u001b[0m\u001b[0;34m(\u001b[0m\u001b[0mlclimbs\u001b[0m\u001b[0;34m)\u001b[0m\u001b[0;34m]\u001b[0m\u001b[0;34m\u001b[0m\u001b[0m\n\u001b[0m\u001b[1;32m      6\u001b[0m \u001b[0msupporthistlist\u001b[0m\u001b[0;34m=\u001b[0m\u001b[0;34m[\u001b[0m\u001b[0;34m]\u001b[0m\u001b[0;34m\u001b[0m\u001b[0m\n\u001b[1;32m      7\u001b[0m \u001b[0;32mfor\u001b[0m \u001b[0mi\u001b[0m\u001b[0;34m,\u001b[0m\u001b[0mclimb1\u001b[0m \u001b[0;32min\u001b[0m \u001b[0menumerate\u001b[0m\u001b[0;34m(\u001b[0m\u001b[0mclimbs\u001b[0m\u001b[0;34m)\u001b[0m\u001b[0;34m:\u001b[0m\u001b[0;34m\u001b[0m\u001b[0m\n",
      "\u001b[0;31mTypeError\u001b[0m: only length-1 arrays can be converted to Python scalars"
     ]
    }
   ],
   "source": [
    "#for each climb get the unique userids who rated it\n",
    "users_for_climbs = traindf.groupby('climb_id').user_id.unique()\n",
    "climbs=climbids\n",
    "lclimbs=len(climbs)\n",
    "supports=[[[] for i in range(climbs)] for i in range(lclimbs)]\n",
    "supporthistlist=[]\n",
    "for i,climb1 in enumerate(climbs):\n",
    "    for j,climb2 in enumerate(climbs):\n",
    "        if  i <= j:#its symmetric\n",
    "            if climb1==climb2:\n",
    "                common_reviewers=users_for_climbs[climbs]\n",
    "            else:\n",
    "                common_reviewers = set(users_for_climbs[climb1]).intersection(set(users_for_climbs[climb2]))\n",
    "                supporthistlist.append(len(common_reviewers))\n",
    "            supports[i][j]=common_reviewers\n",
    "            supports[j][i]=common_reviewers\n",
    "print \"Mean and Median support is:\",np.mean(supporthistlist), np.median(supporthistlist)"
   ]
  },
  {
   "cell_type": "code",
   "execution_count": null,
   "metadata": {
    "collapsed": true
   },
   "outputs": [],
   "source": [
    "def pearson_sim(climb1_reviews, cilmb2_reviews, n_common):\n",
    "    if n_common == 0:\n",
    "        return 0\n",
    "    else:\n",
    "        ratings1 = []\n",
    "        ratings2 = []\n",
    "        if isinstance(climb1_reviews, pd.DataFrame):\n",
    "            for user in climb1_reviews[\"user_id\"]:\n",
    "                stars1 = climb1_reviews[climb1_reviews.user_id == user].star_rating\n",
    "                stars1 = stars1[stars1.index[0]]\n",
    "                stars2 = rest2_reviews[climb2_reviews.user_id == user].star_rating\n",
    "                stars2 = stars2[stars2.index[0]]\n",
    "                ratings1.append(stars1 - user_biases[user])\n",
    "                ratings2.append(stars2 - user_biases[user])\n",
    "\n",
    "        if isinstance(climb1_reviews, dict):\n",
    "            for user in climb1_reviews.iterkeys():\n",
    "                ratings1.append(climb1_reviews[user] - user_biases[user])\n",
    "                ratings2.append(climb2_reviews[user] - user_biases[user])\n",
    "            \n",
    "        pearson = pearsonr(ratings1, ratings2)\n",
    "        pearson = pearson[0]\n",
    "        if math.isnan(pearson):\n",
    "            return 0\n",
    "        else:\n",
    "            return pearson"
   ]
  },
  {
   "cell_type": "code",
   "execution_count": null,
   "metadata": {
    "collapsed": true
   },
   "outputs": [],
   "source": [
    "def get_climb_reviews(climb_id, df, set_of_users):\n",
    "    \"\"\"\n",
    "    given a resturant id and a set of reviewers, return the sub-dataframe of their\n",
    "    reviews.\n",
    "    \"\"\"\n",
    "    mask = (df.user_id.isin(set_of_users)) & (df.climb_id==climb_id)\n",
    "    reviews = df[mask]\n",
    "    reviews = reviews[reviews.user_id.duplicated()==False]\n",
    "    return reviews"
   ]
  },
  {
   "cell_type": "code",
   "execution_count": null,
   "metadata": {
    "collapsed": true
   },
   "outputs": [],
   "source": [
    "class Database:\n",
    "    \"A class representing a database of similarities and common supports\"\n",
    "    \n",
    "    def __init__(self, rindexmap, supports):\n",
    "        \"the constructor, takes a map of restaurant id's to integers\"\n",
    "        database={}\n",
    "        self.rindexmap=rindexmap\n",
    "        self.supports=supports\n",
    "        l_keys=len(self.rindexmap.keys())\n",
    "        self.database_sim=np.zeros([l_keys,l_keys])\n",
    "        self.database_sup=np.zeros([l_keys, l_keys], dtype=np.int)\n",
    "\n",
    "    def set_supports(self, supports):\n",
    "        self.supports=supports\n",
    "        \n",
    "    def get(self, climb1, climb2):\n",
    "        \"returns a tuple of similarity,common_support given two business ids\"\n",
    "        sim=self.database_sim[self.rindexmap[b1]][self.rindexmap[b2]]\n",
    "        nsup=self.database_sup[self.rindexmap[b1]][self.rindexmap[b2]]\n",
    "        return (sim, nsup)"
   ]
  },
  {
   "cell_type": "code",
   "execution_count": null,
   "metadata": {
    "collapsed": true
   },
   "outputs": [],
   "source": [
    "db=Database(climbidmap, supports)"
   ]
  },
  {
   "cell_type": "code",
   "execution_count": null,
   "metadata": {
    "collapsed": true
   },
   "outputs": [],
   "source": [
    "#put user average ratings in climbuserdf so that the next function makes sense\n",
    "#climbuserdf[\"user_avg\"] = np.mean((climbuserdf[] for user in climbuserdf.user_id)"
   ]
  },
  {
   "cell_type": "code",
   "execution_count": null,
   "metadata": {
    "collapsed": true
   },
   "outputs": [],
   "source": [
    "# each row looks like: user_id, (climb_id, star_rating, user_avg). The row indices need to\n",
    "# be altered to reflect the way our data looks.\n",
    "def mapper1(row):\n",
    "    return row[2], (row[1], row[3], row[14])"
   ]
  }
 ],
 "metadata": {
  "kernelspec": {
   "display_name": "Python 2",
   "language": "python",
   "name": "python2"
  },
  "language_info": {
   "codemirror_mode": {
    "name": "ipython",
    "version": 2
   },
   "file_extension": ".py",
   "mimetype": "text/x-python",
   "name": "python",
   "nbconvert_exporter": "python",
   "pygments_lexer": "ipython2",
   "version": "2.7.10"
  }
 },
 "nbformat": 4,
 "nbformat_minor": 0
}
