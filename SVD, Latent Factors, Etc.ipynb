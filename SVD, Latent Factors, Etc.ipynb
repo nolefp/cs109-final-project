{
 "cells": [
  {
   "cell_type": "code",
   "execution_count": 1,
   "metadata": {
    "collapsed": true
   },
   "outputs": [],
   "source": [
    "%matplotlib inline\n",
    "import numpy as np\n",
    "import scipy as sp\n",
    "import matplotlib as mpl\n",
    "import matplotlib.cm as cm\n",
    "import matplotlib.pyplot as plt\n",
    "import pandas as pd\n",
    "pd.set_option('display.width', 500)\n",
    "pd.set_option('display.max_columns', 100)\n",
    "pd.set_option('display.notebook_repr_html', True)\n",
    "import seaborn as sns\n",
    "sns.set_style(\"whitegrid\")\n",
    "sns.set_context(\"poster\")"
   ]
  },
  {
   "cell_type": "code",
   "execution_count": 57,
   "metadata": {
    "collapsed": false
   },
   "outputs": [],
   "source": [
    "traindf = pd.read_csv(\"classifier_dfs/train.csv\")\n",
    "validatedf = pd.read_csv(\"classifier_dfs/validate.csv\")\n",
    "testdf = pd.read_csv(\"classifier_dfs/test.csv\")"
   ]
  },
  {
   "cell_type": "code",
   "execution_count": 3,
   "metadata": {
    "collapsed": false
   },
   "outputs": [
    {
     "data": {
      "text/html": [
       "<div>\n",
       "<table border=\"1\" class=\"dataframe\">\n",
       "  <thead>\n",
       "    <tr style=\"text-align: right;\">\n",
       "      <th></th>\n",
       "      <th>Unnamed: 0</th>\n",
       "      <th>climb_id</th>\n",
       "      <th>user_id</th>\n",
       "      <th>star_rating</th>\n",
       "      <th>tick_date</th>\n",
       "      <th>ticked</th>\n",
       "      <th>sugg_aid_grade</th>\n",
       "      <th>sugg_boulder_grade</th>\n",
       "      <th>sugg_ice_grade</th>\n",
       "      <th>sugg_mixed_grade</th>\n",
       "      <th>sugg_rock_grade</th>\n",
       "      <th>sugg_ice_grade_number</th>\n",
       "      <th>sugg_boulder_grade_number</th>\n",
       "      <th>sugg_aid_grade_number</th>\n",
       "      <th>sugg_mixed_grade_number</th>\n",
       "      <th>sugg_rock_grade_number</th>\n",
       "      <th>Unnamed: 16</th>\n",
       "      <th>Unnamed: 17</th>\n",
       "      <th>Unnamed: 18</th>\n",
       "      <th>Unnamed: 19</th>\n",
       "      <th>Unnamed: 20</th>\n",
       "      <th>Unnamed: 21</th>\n",
       "      <th>Unnamed: 22</th>\n",
       "      <th>Unnamed: 23</th>\n",
       "      <th>Unnamed: 24</th>\n",
       "      <th>Unnamed: 25</th>\n",
       "    </tr>\n",
       "  </thead>\n",
       "  <tbody>\n",
       "    <tr>\n",
       "      <th>0</th>\n",
       "      <td>105714776_10004</td>\n",
       "      <td>105714776</td>\n",
       "      <td>10004</td>\n",
       "      <td>2</td>\n",
       "      <td>NaN</td>\n",
       "      <td>NaN</td>\n",
       "      <td>NaN</td>\n",
       "      <td>NaN</td>\n",
       "      <td>NaN</td>\n",
       "      <td>NaN</td>\n",
       "      <td>NaN</td>\n",
       "      <td>NaN</td>\n",
       "      <td>NaN</td>\n",
       "      <td>NaN</td>\n",
       "      <td>NaN</td>\n",
       "      <td>NaN</td>\n",
       "      <td>NaN</td>\n",
       "      <td>NaN</td>\n",
       "      <td>NaN</td>\n",
       "      <td>NaN</td>\n",
       "      <td>NaN</td>\n",
       "      <td>NaN</td>\n",
       "      <td>NaN</td>\n",
       "      <td>NaN</td>\n",
       "      <td>NaN</td>\n",
       "      <td>NaN</td>\n",
       "    </tr>\n",
       "  </tbody>\n",
       "</table>\n",
       "</div>"
      ],
      "text/plain": [
       "        Unnamed: 0   climb_id  user_id  star_rating tick_date  ticked sugg_aid_grade sugg_boulder_grade sugg_ice_grade sugg_mixed_grade sugg_rock_grade sugg_ice_grade_number sugg_boulder_grade_number sugg_aid_grade_number sugg_mixed_grade_number  sugg_rock_grade_number  Unnamed: 16  Unnamed: 17  Unnamed: 18  Unnamed: 19 Unnamed: 20  Unnamed: 21  Unnamed: 22  Unnamed: 23  Unnamed: 24  Unnamed: 25\n",
       "0  105714776_10004  105714776    10004            2       NaN     NaN            NaN                NaN            NaN              NaN             NaN                   NaN                       NaN                   NaN                     NaN                     NaN          NaN          NaN          NaN          NaN         NaN          NaN          NaN          NaN          NaN          NaN"
      ]
     },
     "execution_count": 3,
     "metadata": {},
     "output_type": "execute_result"
    }
   ],
   "source": [
    "traindf.head(1)"
   ]
  },
  {
   "cell_type": "code",
   "execution_count": 4,
   "metadata": {
    "collapsed": false
   },
   "outputs": [
    {
     "data": {
      "text/html": [
       "<div>\n",
       "<table border=\"1\" class=\"dataframe\">\n",
       "  <thead>\n",
       "    <tr style=\"text-align: right;\">\n",
       "      <th></th>\n",
       "      <th>user_id</th>\n",
       "      <th>climb_id</th>\n",
       "      <th>star_rating</th>\n",
       "      <th>Unnamed: 0</th>\n",
       "    </tr>\n",
       "  </thead>\n",
       "  <tbody>\n",
       "    <tr>\n",
       "      <th>0</th>\n",
       "      <td>10101</td>\n",
       "      <td>105752563</td>\n",
       "      <td>2</td>\n",
       "      <td>105752563_10101</td>\n",
       "    </tr>\n",
       "  </tbody>\n",
       "</table>\n",
       "</div>"
      ],
      "text/plain": [
       "   user_id   climb_id  star_rating       Unnamed: 0\n",
       "0    10101  105752563            2  105752563_10101"
      ]
     },
     "execution_count": 4,
     "metadata": {},
     "output_type": "execute_result"
    }
   ],
   "source": [
    "validatedf.head(1)"
   ]
  },
  {
   "cell_type": "code",
   "execution_count": 5,
   "metadata": {
    "collapsed": false
   },
   "outputs": [
    {
     "data": {
      "text/html": [
       "<div>\n",
       "<table border=\"1\" class=\"dataframe\">\n",
       "  <thead>\n",
       "    <tr style=\"text-align: right;\">\n",
       "      <th></th>\n",
       "      <th>user_id</th>\n",
       "      <th>climb_id</th>\n",
       "      <th>star_rating</th>\n",
       "      <th>Unnamed: 0</th>\n",
       "    </tr>\n",
       "  </thead>\n",
       "  <tbody>\n",
       "    <tr>\n",
       "      <th>0</th>\n",
       "      <td>10101</td>\n",
       "      <td>105754933</td>\n",
       "      <td>4</td>\n",
       "      <td>105754933_10101</td>\n",
       "    </tr>\n",
       "  </tbody>\n",
       "</table>\n",
       "</div>"
      ],
      "text/plain": [
       "   user_id   climb_id  star_rating       Unnamed: 0\n",
       "0    10101  105754933            4  105754933_10101"
      ]
     },
     "execution_count": 5,
     "metadata": {},
     "output_type": "execute_result"
    }
   ],
   "source": [
    "testdf.head(1)"
   ]
  },
  {
   "cell_type": "code",
   "execution_count": 58,
   "metadata": {
    "collapsed": true
   },
   "outputs": [],
   "source": [
    "traindf = traindf[[\"user_id\",\"climb_id\",\"star_rating\",\"Unnamed: 0\"]]"
   ]
  },
  {
   "cell_type": "code",
   "execution_count": 7,
   "metadata": {
    "collapsed": false
   },
   "outputs": [
    {
     "data": {
      "text/html": [
       "<div>\n",
       "<table border=\"1\" class=\"dataframe\">\n",
       "  <thead>\n",
       "    <tr style=\"text-align: right;\">\n",
       "      <th></th>\n",
       "      <th>user_id</th>\n",
       "      <th>climb_id</th>\n",
       "      <th>star_rating</th>\n",
       "      <th>Unnamed: 0</th>\n",
       "    </tr>\n",
       "  </thead>\n",
       "  <tbody>\n",
       "    <tr>\n",
       "      <th>0</th>\n",
       "      <td>10004</td>\n",
       "      <td>105714776</td>\n",
       "      <td>2</td>\n",
       "      <td>105714776_10004</td>\n",
       "    </tr>\n",
       "  </tbody>\n",
       "</table>\n",
       "</div>"
      ],
      "text/plain": [
       "   user_id   climb_id  star_rating       Unnamed: 0\n",
       "0    10004  105714776            2  105714776_10004"
      ]
     },
     "execution_count": 7,
     "metadata": {},
     "output_type": "execute_result"
    }
   ],
   "source": [
    "traindf.head(1)"
   ]
  },
  {
   "cell_type": "code",
   "execution_count": 59,
   "metadata": {
    "collapsed": false
   },
   "outputs": [
    {
     "data": {
      "text/plain": [
       "557046"
      ]
     },
     "execution_count": 59,
     "metadata": {},
     "output_type": "execute_result"
    }
   ],
   "source": [
    "len(traindf)"
   ]
  },
  {
   "cell_type": "markdown",
   "metadata": {},
   "source": [
    "###REMOVE THE NEXT THREE CELLS IF ALREADY USING SMALLER DATAFRAMES"
   ]
  },
  {
   "cell_type": "code",
   "execution_count": 64,
   "metadata": {
    "collapsed": false
   },
   "outputs": [
    {
     "name": "stdout",
     "output_type": "stream",
     "text": [
      "CPU times: user 1.55 s, sys: 35.7 ms, total: 1.59 s\n",
      "Wall time: 1.61 s\n"
     ]
    }
   ],
   "source": [
    "%%time\n",
    "\n",
    "climbRatingCutOff = 75\n",
    "userRatingCutOff = 75\n",
    "\n",
    "climbsToKeep = [climb for climb, rating in traindf.groupby('climb_id').count().reset_index()[['climb_id','star_rating']].values if rating > climbRatingCutOff]\n",
    "mask = [True if climb in climbsToKeep else False for climb in list(traindf.climb_id)]\n",
    "traindf = traindf[mask]\n",
    "usersToKeep = [user for user, rating in traindf.groupby('user_id').count().reset_index()[['user_id','star_rating']].values if rating > climbRatingCutOff]\n",
    "mask = [True if user in usersToKeep else False for user in list(traindf.user_id)]\n",
    "traindf = traindf[mask]\n"
   ]
  },
  {
   "cell_type": "code",
   "execution_count": 65,
   "metadata": {
    "collapsed": false,
    "scrolled": true
   },
   "outputs": [
    {
     "data": {
      "text/plain": [
       "25942"
      ]
     },
     "execution_count": 65,
     "metadata": {},
     "output_type": "execute_result"
    }
   ],
   "source": [
    "len(traindf)"
   ]
  },
  {
   "cell_type": "code",
   "execution_count": 66,
   "metadata": {
    "collapsed": true
   },
   "outputs": [],
   "source": [
    "mask = [True if climb in climbsToKeep else False for climb in list(validatedf.climb_id)]\n",
    "validatedf = validatedf[mask]\n",
    "mask = [True if user in usersToKeep else False for user in list(validatedf.user_id)]\n",
    "validatedf = validatedf[mask]\n",
    "mask = [True if climb in climbsToKeep else False for climb in list(testdf.climb_id)]\n",
    "testdf = testdf[mask]\n",
    "mask = [True if user in usersToKeep else False for user in list(testdf.user_id)]\n",
    "testdf = testdf[mask]"
   ]
  },
  {
   "cell_type": "code",
   "execution_count": 69,
   "metadata": {
    "collapsed": false
   },
   "outputs": [
    {
     "name": "stderr",
     "output_type": "stream",
     "text": [
      "//anaconda/lib/python2.7/site-packages/pandas/io/parsers.py:1170: DtypeWarning: Columns (22) have mixed types. Specify dtype option on import or set low_memory=False.\n",
      "  data = self._reader.read(nrows)\n"
     ]
    }
   ],
   "source": [
    "climbsdf = pd.read_csv(\"finalproject-sorted_climbs.csv\")"
   ]
  },
  {
   "cell_type": "code",
   "execution_count": 70,
   "metadata": {
    "collapsed": false
   },
   "outputs": [
    {
     "data": {
      "text/html": [
       "<div>\n",
       "<table border=\"1\" class=\"dataframe\">\n",
       "  <thead>\n",
       "    <tr style=\"text-align: right;\">\n",
       "      <th></th>\n",
       "      <th>Unnamed: 0</th>\n",
       "      <th>climb_id</th>\n",
       "      <th>climb_name</th>\n",
       "      <th>climb_link</th>\n",
       "      <th>fa_year</th>\n",
       "      <th>feet</th>\n",
       "      <th>page_views</th>\n",
       "      <th>pitches</th>\n",
       "      <th>avg_stars</th>\n",
       "      <th>grade</th>\n",
       "      <th>state</th>\n",
       "      <th>latitude</th>\n",
       "      <th>longitude</th>\n",
       "      <th>area_0</th>\n",
       "      <th>area_1</th>\n",
       "      <th>area_2</th>\n",
       "      <th>area_3</th>\n",
       "      <th>area_4</th>\n",
       "      <th>area_5</th>\n",
       "      <th>area_6</th>\n",
       "      <th>area_7</th>\n",
       "      <th>area_8</th>\n",
       "      <th>area_9</th>\n",
       "      <th>type_TR,</th>\n",
       "      <th>type_aid</th>\n",
       "      <th>type_alpine</th>\n",
       "      <th>type_boulder</th>\n",
       "      <th>type_ice</th>\n",
       "      <th>type_mixed</th>\n",
       "      <th>type_sport</th>\n",
       "      <th>type_trad</th>\n",
       "      <th>guide_aid_grade</th>\n",
       "      <th>guide_boulder_grade</th>\n",
       "      <th>guide_ice_grade</th>\n",
       "      <th>guide_mixed_grade</th>\n",
       "      <th>guide_rock_grade</th>\n",
       "      <th>concensus_aid_grade</th>\n",
       "      <th>concensus_boulder_grade</th>\n",
       "      <th>concensus_ice_grade</th>\n",
       "      <th>concensus_mixed_grade</th>\n",
       "      <th>concensus_rock_grade</th>\n",
       "    </tr>\n",
       "  </thead>\n",
       "  <tbody>\n",
       "    <tr>\n",
       "      <th>0</th>\n",
       "      <td>105714713</td>\n",
       "      <td>105714713</td>\n",
       "      <td>garden-party</td>\n",
       "      <td>http://www.mountainproject.com/v/garden-party/...</td>\n",
       "      <td>NaN</td>\n",
       "      <td>60</td>\n",
       "      <td>1157</td>\n",
       "      <td>1</td>\n",
       "      <td>2.0769</td>\n",
       "      <td>NaN</td>\n",
       "      <td>44.0597</td>\n",
       "      <td>-103.4232</td>\n",
       "      <td>0</td>\n",
       "      <td>/destinations/</td>\n",
       "      <td>/v/south-dakota/105708963</td>\n",
       "      <td>/v/falling-rock/105714240</td>\n",
       "      <td>/v/north-canyon-wall/105714312</td>\n",
       "      <td>NaN</td>\n",
       "      <td>NaN</td>\n",
       "      <td>NaN</td>\n",
       "      <td>NaN</td>\n",
       "      <td>NaN</td>\n",
       "      <td>NaN</td>\n",
       "      <td>1</td>\n",
       "      <td>0</td>\n",
       "      <td>0</td>\n",
       "      <td>0</td>\n",
       "      <td>0</td>\n",
       "      <td>0</td>\n",
       "      <td>0</td>\n",
       "      <td>1</td>\n",
       "      <td>0</td>\n",
       "      <td>0</td>\n",
       "      <td>0</td>\n",
       "      <td>0</td>\n",
       "      <td>5.8</td>\n",
       "      <td>0</td>\n",
       "      <td>0</td>\n",
       "      <td>0</td>\n",
       "      <td>0</td>\n",
       "      <td>5.8-</td>\n",
       "    </tr>\n",
       "  </tbody>\n",
       "</table>\n",
       "</div>"
      ],
      "text/plain": [
       "   Unnamed: 0   climb_id    climb_name                                         climb_link  fa_year  feet  page_views  pitches  avg_stars grade    state  latitude  longitude          area_0                     area_1                     area_2                          area_3 area_4 area_5 area_6 area_7 area_8 area_9  type_TR,  type_aid  type_alpine  type_boulder  type_ice  type_mixed  type_sport  type_trad guide_aid_grade guide_boulder_grade guide_ice_grade guide_mixed_grade guide_rock_grade  \\\n",
       "0   105714713  105714713  garden-party  http://www.mountainproject.com/v/garden-party/...      NaN    60        1157        1     2.0769   NaN  44.0597 -103.4232          0  /destinations/  /v/south-dakota/105708963  /v/falling-rock/105714240  /v/north-canyon-wall/105714312    NaN    NaN    NaN    NaN    NaN    NaN         1         0            0             0         0           0           0          1               0                   0               0                 0              5.8   \n",
       "\n",
       "  concensus_aid_grade concensus_boulder_grade concensus_ice_grade concensus_mixed_grade concensus_rock_grade  \n",
       "0                   0                       0                   0                     0                 5.8-  "
      ]
     },
     "execution_count": 70,
     "metadata": {},
     "output_type": "execute_result"
    }
   ],
   "source": [
    "climbsdf.head(1)"
   ]
  },
  {
   "cell_type": "code",
   "execution_count": 71,
   "metadata": {
    "collapsed": false
   },
   "outputs": [],
   "source": [
    "climbsdf = climbsdf[[\"climb_id\", \"pitches\", \"type_TR,\", \"type_aid\", \"type_alpine\", \"type_boulder\", \"type_ice\", \"type_mixed\", \"type_sport\", \"type_trad\", \"concensus_aid_grade\", \"concensus_boulder_grade\", \"concensus_ice_grade\", \"concensus_mixed_grade\", \"concensus_rock_grade\"]]"
   ]
  },
  {
   "cell_type": "code",
   "execution_count": 72,
   "metadata": {
    "collapsed": false
   },
   "outputs": [
    {
     "data": {
      "text/html": [
       "<div>\n",
       "<table border=\"1\" class=\"dataframe\">\n",
       "  <thead>\n",
       "    <tr style=\"text-align: right;\">\n",
       "      <th></th>\n",
       "      <th>climb_id</th>\n",
       "      <th>pitches</th>\n",
       "      <th>type_TR,</th>\n",
       "      <th>type_aid</th>\n",
       "      <th>type_alpine</th>\n",
       "      <th>type_boulder</th>\n",
       "      <th>type_ice</th>\n",
       "      <th>type_mixed</th>\n",
       "      <th>type_sport</th>\n",
       "      <th>type_trad</th>\n",
       "      <th>concensus_aid_grade</th>\n",
       "      <th>concensus_boulder_grade</th>\n",
       "      <th>concensus_ice_grade</th>\n",
       "      <th>concensus_mixed_grade</th>\n",
       "      <th>concensus_rock_grade</th>\n",
       "    </tr>\n",
       "  </thead>\n",
       "  <tbody>\n",
       "    <tr>\n",
       "      <th>0</th>\n",
       "      <td>105714713</td>\n",
       "      <td>1</td>\n",
       "      <td>1</td>\n",
       "      <td>0</td>\n",
       "      <td>0</td>\n",
       "      <td>0</td>\n",
       "      <td>0</td>\n",
       "      <td>0</td>\n",
       "      <td>0</td>\n",
       "      <td>1</td>\n",
       "      <td>0</td>\n",
       "      <td>0</td>\n",
       "      <td>0</td>\n",
       "      <td>0</td>\n",
       "      <td>5.8-</td>\n",
       "    </tr>\n",
       "  </tbody>\n",
       "</table>\n",
       "</div>"
      ],
      "text/plain": [
       "    climb_id  pitches  type_TR,  type_aid  type_alpine  type_boulder  type_ice  type_mixed  type_sport  type_trad concensus_aid_grade concensus_boulder_grade concensus_ice_grade concensus_mixed_grade concensus_rock_grade\n",
       "0  105714713        1         1         0            0             0         0           0           0          1                   0                       0                   0                     0                 5.8-"
      ]
     },
     "execution_count": 72,
     "metadata": {},
     "output_type": "execute_result"
    }
   ],
   "source": [
    "climbsdf.head(1)"
   ]
  },
  {
   "cell_type": "code",
   "execution_count": 73,
   "metadata": {
    "collapsed": false
   },
   "outputs": [],
   "source": [
    "climbsdf.columns = [\"climb_id\", \"pitches\", \"tr\", \"aid\", \"alpine\", \"boulder\", \"ice\", \"mixed\", \"sport\", \"trad\", \"aid_grade\", \"boulder_grade\", \"ice_grade\", \"mixed_grade\", \"rock_grade\"]"
   ]
  },
  {
   "cell_type": "code",
   "execution_count": 74,
   "metadata": {
    "collapsed": false
   },
   "outputs": [],
   "source": [
    "climbsdf[\"aid_grade_num\"] = [int(x[1]) + (0.3 if len(x) > 2 and x[2] == \"+\" else 0) - (0.3 if len(x) > 2 and x[2] == \"-\" else 0) if x != \"0\" else float('nan') for x in climbsdf.aid_grade ]"
   ]
  },
  {
   "cell_type": "code",
   "execution_count": 75,
   "metadata": {
    "collapsed": false
   },
   "outputs": [
    {
     "data": {
      "text/plain": [
       "array([<type 'numpy.float64'>], dtype=object)"
      ]
     },
     "execution_count": 75,
     "metadata": {},
     "output_type": "execute_result"
    }
   ],
   "source": [
    "np.unique([type(x) for x in climbsdf.aid_grade_num])"
   ]
  },
  {
   "cell_type": "code",
   "execution_count": 76,
   "metadata": {
    "collapsed": false
   },
   "outputs": [],
   "source": [
    "climbsdf[\"boulder_grade_num\"] = [int(x[1]) + (0.3 if len(x) > 2 and x[2] == \"+\" else 0) - (0.3 if len(x) > 2 and x[2] == \"-\" else 0) if x != \"0\" else float('nan') for x in climbsdf.boulder_grade ]"
   ]
  },
  {
   "cell_type": "code",
   "execution_count": 77,
   "metadata": {
    "collapsed": true
   },
   "outputs": [],
   "source": [
    "climbsdf[\"ice_grade_num\"] = [int(x[2]) + (0.3 if len(x) > 3 and x[3] == \"+\" else 0) - (0.3 if len(x) > 3 and x[3] == \"-\" else 0) if x != \"0\" else float('nan') for x in climbsdf.ice_grade]"
   ]
  },
  {
   "cell_type": "code",
   "execution_count": 78,
   "metadata": {
    "collapsed": false
   },
   "outputs": [
    {
     "data": {
      "text/plain": [
       "array(['0', 'M1', 'M1-', 'M11', 'M2', 'M2-', 'M3', 'M4', 'M4+', 'M4-',\n",
       "       'M5', 'M5+', 'M6', 'M6+', 'M6-', 'M7', 'M7+', 'M8', 'M8+'], \n",
       "      dtype='|S3')"
      ]
     },
     "execution_count": 78,
     "metadata": {},
     "output_type": "execute_result"
    }
   ],
   "source": [
    "np.unique(list(climbsdf.mixed_grade))"
   ]
  },
  {
   "cell_type": "code",
   "execution_count": 79,
   "metadata": {
    "collapsed": true
   },
   "outputs": [],
   "source": [
    "climbsdf[\"mixed_grade_num\"] = [(int(x[1:]) if len(x) > 2 and x[2] != \"+\" and x[2] != \"-\" else int(x[1]))+ (0.3 if len(x) > 2 and x[2] == \"+\" else 0) - (0.3 if len(x) > 2 and x[2] == \"-\" else 0) if x != \"0\" else float('nan') for x in climbsdf.mixed_grade]"
   ]
  },
  {
   "cell_type": "code",
   "execution_count": 80,
   "metadata": {
    "collapsed": false
   },
   "outputs": [
    {
     "data": {
      "text/plain": [
       "array(['0', '5-6', '5.0', '5.1', '5.10', '5.10+', '5.10-', '5.10a',\n",
       "       '5.10a/b', '5.10b', '5.10b/c', '5.10c', '5.10c/d', '5.10d', '5.11',\n",
       "       '5.11+', '5.11-', '5.11a', '5.11a/b', '5.11b', '5.11b/c', '5.11c',\n",
       "       '5.11c/d', '5.11d', '5.12', '5.12-', '5.12a', '5.12a/b', '5.13-',\n",
       "       '5.13b', '5.3', '5.4', '5.5', '5.6', '5.7', '5.7+', '5.8', '5.8+',\n",
       "       '5.8-', '5.9', '5.9+', '5.9-'], dtype=object)"
      ]
     },
     "execution_count": 80,
     "metadata": {},
     "output_type": "execute_result"
    }
   ],
   "source": [
    "np.unique(climbsdf.rock_grade)"
   ]
  },
  {
   "cell_type": "code",
   "execution_count": 81,
   "metadata": {
    "collapsed": false
   },
   "outputs": [
    {
     "data": {
      "text/plain": [
       "[1, 1, 1, 1, 1, 1, 1, 1, 1, 1, 1, 1, 1, 1, 1, 1, 1, 1, 1, 1, 1, 1, 1]"
      ]
     },
     "execution_count": 81,
     "metadata": {},
     "output_type": "execute_result"
    }
   ],
   "source": [
    "[1 for x in climbsdf.rock_grade if x == '5-6']"
   ]
  },
  {
   "cell_type": "code",
   "execution_count": 82,
   "metadata": {
    "collapsed": false
   },
   "outputs": [],
   "source": [
    "climbsdf[\"rock_grade_num\"] = [(float(x[2:x.find(\"+\")]) + 0.3 if x.find(\"+\") != -1 else\n",
    "                               float(x[2:x.find(\"-\")]) -0.3 if x.find(\"-\") != -1 else\n",
    "                               float(x[2:x.find(\"a/b\")]) - 0.25 if x.find(\"a/b\") != -1 else\n",
    "                               float(x[2:x.find(\"b/c\")]) if x.find(\"b/c\") != -1 else\n",
    "                               float(x[2:x.find(\"c/d\")]) + 0.25 if x.find(\"c/d\") != -1 else\n",
    "                               float(x[2:x.find(\"a\")]) - 0.375 if x.find(\"a\") != -1 else\n",
    "                               float(x[2:x.find(\"b\")]) - 0.125 if x.find(\"b\") != -1 else\n",
    "                               float(x[2:x.find(\"c\")]) + 0.125 if x.find(\"c\") != -1 else\n",
    "                               float(x[2:x.find(\"d\")]) + 0.375 if x.find(\"d\") != -1 else\n",
    "                               float(x[2:]))\n",
    "                              if x != '0' and x != '5-6' else float('nan') for x in climbsdf.rock_grade \n",
    "                             ]"
   ]
  },
  {
   "cell_type": "code",
   "execution_count": 83,
   "metadata": {
    "collapsed": false
   },
   "outputs": [
    {
     "data": {
      "text/html": [
       "<div>\n",
       "<table border=\"1\" class=\"dataframe\">\n",
       "  <thead>\n",
       "    <tr style=\"text-align: right;\">\n",
       "      <th></th>\n",
       "      <th>climb_id</th>\n",
       "      <th>pitches</th>\n",
       "      <th>tr</th>\n",
       "      <th>aid</th>\n",
       "      <th>alpine</th>\n",
       "      <th>boulder</th>\n",
       "      <th>ice</th>\n",
       "      <th>mixed</th>\n",
       "      <th>sport</th>\n",
       "      <th>trad</th>\n",
       "      <th>aid_grade</th>\n",
       "      <th>boulder_grade</th>\n",
       "      <th>ice_grade</th>\n",
       "      <th>mixed_grade</th>\n",
       "      <th>rock_grade</th>\n",
       "      <th>aid_grade_num</th>\n",
       "      <th>boulder_grade_num</th>\n",
       "      <th>ice_grade_num</th>\n",
       "      <th>mixed_grade_num</th>\n",
       "      <th>rock_grade_num</th>\n",
       "    </tr>\n",
       "  </thead>\n",
       "  <tbody>\n",
       "    <tr>\n",
       "      <th>0</th>\n",
       "      <td>105714713</td>\n",
       "      <td>1</td>\n",
       "      <td>1</td>\n",
       "      <td>0</td>\n",
       "      <td>0</td>\n",
       "      <td>0</td>\n",
       "      <td>0</td>\n",
       "      <td>0</td>\n",
       "      <td>0</td>\n",
       "      <td>1</td>\n",
       "      <td>0</td>\n",
       "      <td>0</td>\n",
       "      <td>0</td>\n",
       "      <td>0</td>\n",
       "      <td>5.8-</td>\n",
       "      <td>NaN</td>\n",
       "      <td>NaN</td>\n",
       "      <td>NaN</td>\n",
       "      <td>NaN</td>\n",
       "      <td>7.7</td>\n",
       "    </tr>\n",
       "  </tbody>\n",
       "</table>\n",
       "</div>"
      ],
      "text/plain": [
       "    climb_id  pitches  tr  aid  alpine  boulder  ice  mixed  sport  trad aid_grade boulder_grade ice_grade mixed_grade rock_grade  aid_grade_num  boulder_grade_num  ice_grade_num  mixed_grade_num  rock_grade_num\n",
       "0  105714713        1   1    0       0        0    0      0      0     1         0             0         0           0       5.8-            NaN                NaN            NaN              NaN             7.7"
      ]
     },
     "execution_count": 83,
     "metadata": {},
     "output_type": "execute_result"
    }
   ],
   "source": [
    "climbsdf.head(1)"
   ]
  },
  {
   "cell_type": "code",
   "execution_count": 84,
   "metadata": {
    "collapsed": false
   },
   "outputs": [],
   "source": [
    "aid_mean = np.mean(climbsdf.aid_grade_num)\n",
    "aid_std = np.std(climbsdf.aid_grade_num)\n",
    "boulder_mean = np.mean(climbsdf.boulder_grade_num)\n",
    "boulder_std = np.std(climbsdf.boulder_grade_num)\n",
    "ice_mean = np.mean(climbsdf.ice_grade_num)\n",
    "ice_std = np.std(climbsdf.ice_grade_num)\n",
    "mixed_mean = np.mean(climbsdf.mixed_grade_num)\n",
    "mixed_std = np.std(climbsdf.mixed_grade_num)\n",
    "rock_mean = np.mean(climbsdf.rock_grade_num)\n",
    "rock_std = np.std(climbsdf.rock_grade_num)"
   ]
  },
  {
   "cell_type": "code",
   "execution_count": 85,
   "metadata": {
    "collapsed": false
   },
   "outputs": [],
   "source": [
    "climbsdf[\"aid_grade_norm\"] = (climbsdf.aid_grade_num - aid_mean)/aid_std\n",
    "climbsdf[\"boulder_grade_norm\"] = (climbsdf.boulder_grade_num - boulder_mean)/boulder_std\n",
    "climbsdf[\"ice_grade_norm\"] = (climbsdf.ice_grade_num - ice_mean)/ice_std\n",
    "climbsdf[\"mixed_grade_norm\"] = (climbsdf.mixed_grade_num - mixed_mean)/mixed_std\n",
    "climbsdf[\"rock_grade_norm\"] = (climbsdf.rock_grade_num - rock_mean)/rock_std"
   ]
  },
  {
   "cell_type": "code",
   "execution_count": 86,
   "metadata": {
    "collapsed": false
   },
   "outputs": [
    {
     "name": "stderr",
     "output_type": "stream",
     "text": [
      "//anaconda/lib/python2.7/site-packages/numpy/lib/nanfunctions.py:675: RuntimeWarning: Mean of empty slice\n",
      "  warnings.warn(\"Mean of empty slice\", RuntimeWarning)\n"
     ]
    }
   ],
   "source": [
    "climbsdf[\"norm_grade\"] = climbsdf[[\"aid_grade_norm\", \"boulder_grade_norm\", \"ice_grade_norm\", \"mixed_grade_norm\", \"rock_grade_norm\"]].apply(np.nanmean, axis=1)"
   ]
  },
  {
   "cell_type": "code",
   "execution_count": 87,
   "metadata": {
    "collapsed": false
   },
   "outputs": [],
   "source": [
    "climbsdf[\"norm_grade\"] = [0 if np.isnan(x) else x for x in climbsdf.norm_grade ]"
   ]
  },
  {
   "cell_type": "code",
   "execution_count": 88,
   "metadata": {
    "collapsed": false
   },
   "outputs": [
    {
     "data": {
      "text/html": [
       "<div>\n",
       "<table border=\"1\" class=\"dataframe\">\n",
       "  <thead>\n",
       "    <tr style=\"text-align: right;\">\n",
       "      <th></th>\n",
       "      <th>climb_id</th>\n",
       "      <th>pitches</th>\n",
       "      <th>tr</th>\n",
       "      <th>aid</th>\n",
       "      <th>alpine</th>\n",
       "      <th>boulder</th>\n",
       "      <th>ice</th>\n",
       "      <th>mixed</th>\n",
       "      <th>sport</th>\n",
       "      <th>trad</th>\n",
       "      <th>aid_grade</th>\n",
       "      <th>boulder_grade</th>\n",
       "      <th>ice_grade</th>\n",
       "      <th>mixed_grade</th>\n",
       "      <th>rock_grade</th>\n",
       "      <th>aid_grade_num</th>\n",
       "      <th>boulder_grade_num</th>\n",
       "      <th>ice_grade_num</th>\n",
       "      <th>mixed_grade_num</th>\n",
       "      <th>rock_grade_num</th>\n",
       "      <th>aid_grade_norm</th>\n",
       "      <th>boulder_grade_norm</th>\n",
       "      <th>ice_grade_norm</th>\n",
       "      <th>mixed_grade_norm</th>\n",
       "      <th>rock_grade_norm</th>\n",
       "      <th>norm_grade</th>\n",
       "    </tr>\n",
       "  </thead>\n",
       "  <tbody>\n",
       "    <tr>\n",
       "      <th>0</th>\n",
       "      <td>105714713</td>\n",
       "      <td>1</td>\n",
       "      <td>1</td>\n",
       "      <td>0</td>\n",
       "      <td>0</td>\n",
       "      <td>0</td>\n",
       "      <td>0</td>\n",
       "      <td>0</td>\n",
       "      <td>0</td>\n",
       "      <td>1</td>\n",
       "      <td>0</td>\n",
       "      <td>0</td>\n",
       "      <td>0</td>\n",
       "      <td>0</td>\n",
       "      <td>5.8-</td>\n",
       "      <td>NaN</td>\n",
       "      <td>NaN</td>\n",
       "      <td>NaN</td>\n",
       "      <td>NaN</td>\n",
       "      <td>7.7</td>\n",
       "      <td>NaN</td>\n",
       "      <td>NaN</td>\n",
       "      <td>NaN</td>\n",
       "      <td>NaN</td>\n",
       "      <td>-1.319268</td>\n",
       "      <td>-1.319268</td>\n",
       "    </tr>\n",
       "  </tbody>\n",
       "</table>\n",
       "</div>"
      ],
      "text/plain": [
       "    climb_id  pitches  tr  aid  alpine  boulder  ice  mixed  sport  trad aid_grade boulder_grade ice_grade mixed_grade rock_grade  aid_grade_num  boulder_grade_num  ice_grade_num  mixed_grade_num  rock_grade_num  aid_grade_norm  boulder_grade_norm  ice_grade_norm  mixed_grade_norm  rock_grade_norm  norm_grade\n",
       "0  105714713        1   1    0       0        0    0      0      0     1         0             0         0           0       5.8-            NaN                NaN            NaN              NaN             7.7             NaN                 NaN             NaN               NaN        -1.319268   -1.319268"
      ]
     },
     "execution_count": 88,
     "metadata": {},
     "output_type": "execute_result"
    }
   ],
   "source": [
    "climbsdf.head(1)"
   ]
  },
  {
   "cell_type": "code",
   "execution_count": 89,
   "metadata": {
    "collapsed": true
   },
   "outputs": [],
   "source": [
    "climbsdf = climbsdf[[\"climb_id\", \"pitches\", \"tr\", \"aid\", \"alpine\", \"boulder\", \"ice\", \"mixed\", \"sport\", \"trad\", \"norm_grade\"]]"
   ]
  },
  {
   "cell_type": "code",
   "execution_count": 90,
   "metadata": {
    "collapsed": false
   },
   "outputs": [
    {
     "data": {
      "text/html": [
       "<div>\n",
       "<table border=\"1\" class=\"dataframe\">\n",
       "  <thead>\n",
       "    <tr style=\"text-align: right;\">\n",
       "      <th></th>\n",
       "      <th>climb_id</th>\n",
       "      <th>pitches</th>\n",
       "      <th>tr</th>\n",
       "      <th>aid</th>\n",
       "      <th>alpine</th>\n",
       "      <th>boulder</th>\n",
       "      <th>ice</th>\n",
       "      <th>mixed</th>\n",
       "      <th>sport</th>\n",
       "      <th>trad</th>\n",
       "      <th>norm_grade</th>\n",
       "    </tr>\n",
       "  </thead>\n",
       "  <tbody>\n",
       "    <tr>\n",
       "      <th>0</th>\n",
       "      <td>105714713</td>\n",
       "      <td>1</td>\n",
       "      <td>1</td>\n",
       "      <td>0</td>\n",
       "      <td>0</td>\n",
       "      <td>0</td>\n",
       "      <td>0</td>\n",
       "      <td>0</td>\n",
       "      <td>0</td>\n",
       "      <td>1</td>\n",
       "      <td>-1.319268</td>\n",
       "    </tr>\n",
       "  </tbody>\n",
       "</table>\n",
       "</div>"
      ],
      "text/plain": [
       "    climb_id  pitches  tr  aid  alpine  boulder  ice  mixed  sport  trad  norm_grade\n",
       "0  105714713        1   1    0       0        0    0      0      0     1   -1.319268"
      ]
     },
     "execution_count": 90,
     "metadata": {},
     "output_type": "execute_result"
    }
   ],
   "source": [
    "climbsdf.head(1)"
   ]
  },
  {
   "cell_type": "code",
   "execution_count": 91,
   "metadata": {
    "collapsed": false
   },
   "outputs": [],
   "source": [
    "pitches_mean = np.mean(climbsdf.pitches)\n",
    "pitches_std = np.std(climbsdf.pitches)\n",
    "climbsdf[\"pitches_norm\"] = (climbsdf.pitches - pitches_mean)/pitches_std"
   ]
  },
  {
   "cell_type": "code",
   "execution_count": 92,
   "metadata": {
    "collapsed": true
   },
   "outputs": [],
   "source": [
    "climbsdf[\"pitches_norm\"] = [0 if np.isnan(x) else x for x in climbsdf.pitches_norm]"
   ]
  },
  {
   "cell_type": "code",
   "execution_count": 93,
   "metadata": {
    "collapsed": false
   },
   "outputs": [
    {
     "data": {
      "text/html": [
       "<div>\n",
       "<table border=\"1\" class=\"dataframe\">\n",
       "  <thead>\n",
       "    <tr style=\"text-align: right;\">\n",
       "      <th></th>\n",
       "      <th>climb_id</th>\n",
       "      <th>pitches</th>\n",
       "      <th>tr</th>\n",
       "      <th>aid</th>\n",
       "      <th>alpine</th>\n",
       "      <th>boulder</th>\n",
       "      <th>ice</th>\n",
       "      <th>mixed</th>\n",
       "      <th>sport</th>\n",
       "      <th>trad</th>\n",
       "      <th>norm_grade</th>\n",
       "      <th>pitches_norm</th>\n",
       "    </tr>\n",
       "  </thead>\n",
       "  <tbody>\n",
       "    <tr>\n",
       "      <th>0</th>\n",
       "      <td>105714713</td>\n",
       "      <td>1</td>\n",
       "      <td>1</td>\n",
       "      <td>0</td>\n",
       "      <td>0</td>\n",
       "      <td>0</td>\n",
       "      <td>0</td>\n",
       "      <td>0</td>\n",
       "      <td>0</td>\n",
       "      <td>1</td>\n",
       "      <td>-1.319268</td>\n",
       "      <td>-0.307332</td>\n",
       "    </tr>\n",
       "  </tbody>\n",
       "</table>\n",
       "</div>"
      ],
      "text/plain": [
       "    climb_id  pitches  tr  aid  alpine  boulder  ice  mixed  sport  trad  norm_grade  pitches_norm\n",
       "0  105714713        1   1    0       0        0    0      0      0     1   -1.319268     -0.307332"
      ]
     },
     "execution_count": 93,
     "metadata": {},
     "output_type": "execute_result"
    }
   ],
   "source": [
    "climbsdf.head(1)"
   ]
  },
  {
   "cell_type": "code",
   "execution_count": 94,
   "metadata": {
    "collapsed": false
   },
   "outputs": [],
   "source": [
    "climbsdf = climbsdf[[x for x in list(climbsdf.columns) if x != \"pitches\"]]"
   ]
  },
  {
   "cell_type": "code",
   "execution_count": 95,
   "metadata": {
    "collapsed": false
   },
   "outputs": [],
   "source": [
    "climbsdict = {int(x[0]) : {'tr': x[1], 'aid': x[2], 'alpine': x[3], 'boulder': x[4], 'ice': x[5], 'mixed': x[6], \n",
    "                           'sport': x[7], 'trad': x[8], 'grade': x[9], 'pitches': x[10]} for x in climbsdf.values}"
   ]
  },
  {
   "cell_type": "code",
   "execution_count": 96,
   "metadata": {
    "collapsed": false
   },
   "outputs": [],
   "source": [
    "userlist = np.unique(list(traindf.user_id) + list(validatedf.user_id) + list(testdf.user_id))\n",
    "userdict = dict(zip(userlist,range(len(userlist))))"
   ]
  },
  {
   "cell_type": "code",
   "execution_count": 97,
   "metadata": {
    "collapsed": true
   },
   "outputs": [],
   "source": [
    "climbslist = np.unique(list(traindf.climb_id) + list(validatedf.climb_id) + list(testdf.climb_id))"
   ]
  },
  {
   "cell_type": "code",
   "execution_count": 98,
   "metadata": {
    "collapsed": false
   },
   "outputs": [
    {
     "data": {
      "text/plain": [
       "[]"
      ]
     },
     "execution_count": 98,
     "metadata": {},
     "output_type": "execute_result"
    }
   ],
   "source": [
    "[x for x in climbslist if x not in climbsdict.keys()]"
   ]
  },
  {
   "cell_type": "code",
   "execution_count": 99,
   "metadata": {
    "collapsed": true
   },
   "outputs": [],
   "source": [
    "climbsdict2 = dict(zip(climbslist,range(len(climbslist))))"
   ]
  },
  {
   "cell_type": "code",
   "execution_count": 100,
   "metadata": {
    "collapsed": true
   },
   "outputs": [],
   "source": [
    "def make_feature_matrix(indf):\n",
    "    num_features = len(climbsdict.values()[0])\n",
    "    featurematrix = np.zeros(shape=(len(indf), len(userdict) + len(climbsdict2) + len(climbsdict2) * num_features))\n",
    "    inarray = indf[[\"user_id\", \"climb_id\", \"star_rating\"]].values\n",
    "    for i in range(len(inarray)):\n",
    "        featurematrix[i, userdict[inarray[i,0]]] = 1\n",
    "        featurematrix[i, len(userdict) + climbsdict2[inarray[i,1]]] = 1\n",
    "        for i in range(num_features):\n",
    "            featurematrix[i, (len(userdict) + len(climbsdict2) + climbsdict2[inarray[i,1]] * num_features) + i] = climbsdict[inarray[i,1]].values()[i]\n",
    "    return (featurematrix, indf.star_rating.values)"
   ]
  },
  {
   "cell_type": "markdown",
   "metadata": {},
   "source": [
    "###UNCOMMENT THE LAST TWO LINES ONCE USING BETTER DONE DATAFRAMES"
   ]
  },
  {
   "cell_type": "code",
   "execution_count": 102,
   "metadata": {
    "collapsed": false,
    "scrolled": true
   },
   "outputs": [
    {
     "name": "stdout",
     "output_type": "stream",
     "text": [
      "CPU times: user 365 ms, sys: 86.9 ms, total: 452 ms\n",
      "Wall time: 454 ms\n"
     ]
    }
   ],
   "source": [
    "%%time\n",
    "\n",
    "train_fm, train_stars = make_feature_matrix(traindf)\n",
    "#validate_fm, validate_stars = make_feature_matrix(validatedf)\n",
    "#test_fm, test_stars = make_feature_matrix(testdf)"
   ]
  },
  {
   "cell_type": "code",
   "execution_count": null,
   "metadata": {
    "collapsed": false
   },
   "outputs": [],
   "source": [
    "print \"Matrix Shapes:\"\n",
    "print \n",
    "print \"train_fm\", train_fm.shape\n",
    "print \"train_stars\", train_stars.shape\n",
    "print \"validate_fm\", validate_fm.shape\n",
    "print \"validate_stars\", validate_stars.shape\n",
    "print \"test_fm\", test_fm.shape\n",
    "print \"test_stars\", test_stars.shape"
   ]
  },
  {
   "cell_type": "code",
   "execution_count": 103,
   "metadata": {
    "collapsed": true
   },
   "outputs": [],
   "source": [
    "from sklearn.linear_model import Ridge"
   ]
  },
  {
   "cell_type": "code",
   "execution_count": 104,
   "metadata": {
    "collapsed": false
   },
   "outputs": [
    {
     "name": "stdout",
     "output_type": "stream",
     "text": [
      "CPU times: user 1min 12s, sys: 1.5 s, total: 1min 14s\n",
      "Wall time: 23.1 s\n"
     ]
    }
   ],
   "source": [
    "%%time\n",
    "\n",
    "vdict={}\n",
    "rdict={}\n",
    "for alpha in [0.1]: #[0.01, 0.1, 1, 10, 100, 1000]:\n",
    "    regression = Ridge(alpha=alpha).fit(train_fm, train_stars)\n",
    "    rdict[alpha] = regression\n",
    "    predictions_actual_zip = zip(list(regression.predict(validate_fm)),list(validate_stars))\n",
    "    se_sum = 0\n",
    "    for (a,b) in predictions_actual_zip:\n",
    "        se_sum = se_sum + (a - b)**2\n",
    "    vdict[alpha] = np.sqrt(se_sum / len(predictions_actual_zip))"
   ]
  },
  {
   "cell_type": "code",
   "execution_count": null,
   "metadata": {
    "collapsed": true
   },
   "outputs": [],
   "source": []
  }
 ],
 "metadata": {
  "kernelspec": {
   "display_name": "Python 2",
   "language": "python",
   "name": "python2"
  },
  "language_info": {
   "codemirror_mode": {
    "name": "ipython",
    "version": 2
   },
   "file_extension": ".py",
   "mimetype": "text/x-python",
   "name": "python",
   "nbconvert_exporter": "python",
   "pygments_lexer": "ipython2",
   "version": "2.7.10"
  }
 },
 "nbformat": 4,
 "nbformat_minor": 0
}
