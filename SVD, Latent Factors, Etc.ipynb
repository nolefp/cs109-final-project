{
 "cells": [
  {
   "cell_type": "code",
   "execution_count": 1,
   "metadata": {
    "collapsed": true
   },
   "outputs": [],
   "source": [
    "%matplotlib inline\n",
    "import numpy as np\n",
    "import scipy as sp\n",
    "import matplotlib as mpl\n",
    "import matplotlib.cm as cm\n",
    "import matplotlib.pyplot as plt\n",
    "import pandas as pd\n",
    "pd.set_option('display.width', 500)\n",
    "pd.set_option('display.max_columns', 100)\n",
    "pd.set_option('display.notebook_repr_html', True)\n",
    "import seaborn as sns\n",
    "sns.set_style(\"whitegrid\")\n",
    "sns.set_context(\"poster\")"
   ]
  },
  {
   "cell_type": "code",
   "execution_count": 82,
   "metadata": {
    "collapsed": false
   },
   "outputs": [],
   "source": [
    "traindf = pd.read_csv(\"classifier_dfs/train.csv\")\n",
    "validatedf = pd.read_csv(\"classifier_dfs/validate.csv\")\n",
    "testdf = pd.read_csv(\"classifier_dfs/test.csv\")"
   ]
  },
  {
   "cell_type": "code",
   "execution_count": 3,
   "metadata": {
    "collapsed": false
   },
   "outputs": [
    {
     "data": {
      "text/html": [
       "<div>\n",
       "<table border=\"1\" class=\"dataframe\">\n",
       "  <thead>\n",
       "    <tr style=\"text-align: right;\">\n",
       "      <th></th>\n",
       "      <th>Unnamed: 0</th>\n",
       "      <th>climb_id</th>\n",
       "      <th>user_id</th>\n",
       "      <th>star_rating</th>\n",
       "      <th>tick_date</th>\n",
       "      <th>ticked</th>\n",
       "      <th>sugg_aid_grade</th>\n",
       "      <th>sugg_boulder_grade</th>\n",
       "      <th>sugg_ice_grade</th>\n",
       "      <th>sugg_mixed_grade</th>\n",
       "      <th>sugg_rock_grade</th>\n",
       "      <th>sugg_ice_grade_number</th>\n",
       "      <th>sugg_boulder_grade_number</th>\n",
       "      <th>sugg_aid_grade_number</th>\n",
       "      <th>sugg_mixed_grade_number</th>\n",
       "      <th>sugg_rock_grade_number</th>\n",
       "      <th>Unnamed: 16</th>\n",
       "      <th>Unnamed: 17</th>\n",
       "      <th>Unnamed: 18</th>\n",
       "      <th>Unnamed: 19</th>\n",
       "      <th>Unnamed: 20</th>\n",
       "      <th>Unnamed: 21</th>\n",
       "      <th>Unnamed: 22</th>\n",
       "      <th>Unnamed: 23</th>\n",
       "      <th>Unnamed: 24</th>\n",
       "      <th>Unnamed: 25</th>\n",
       "    </tr>\n",
       "  </thead>\n",
       "  <tbody>\n",
       "    <tr>\n",
       "      <th>0</th>\n",
       "      <td>105714776_10004</td>\n",
       "      <td>105714776</td>\n",
       "      <td>10004</td>\n",
       "      <td>2</td>\n",
       "      <td>NaN</td>\n",
       "      <td>NaN</td>\n",
       "      <td>NaN</td>\n",
       "      <td>NaN</td>\n",
       "      <td>NaN</td>\n",
       "      <td>NaN</td>\n",
       "      <td>NaN</td>\n",
       "      <td>NaN</td>\n",
       "      <td>NaN</td>\n",
       "      <td>NaN</td>\n",
       "      <td>NaN</td>\n",
       "      <td>NaN</td>\n",
       "      <td>NaN</td>\n",
       "      <td>NaN</td>\n",
       "      <td>NaN</td>\n",
       "      <td>NaN</td>\n",
       "      <td>NaN</td>\n",
       "      <td>NaN</td>\n",
       "      <td>NaN</td>\n",
       "      <td>NaN</td>\n",
       "      <td>NaN</td>\n",
       "      <td>NaN</td>\n",
       "    </tr>\n",
       "  </tbody>\n",
       "</table>\n",
       "</div>"
      ],
      "text/plain": [
       "        Unnamed: 0   climb_id  user_id  star_rating tick_date  ticked sugg_aid_grade sugg_boulder_grade sugg_ice_grade sugg_mixed_grade sugg_rock_grade sugg_ice_grade_number sugg_boulder_grade_number sugg_aid_grade_number sugg_mixed_grade_number  sugg_rock_grade_number  Unnamed: 16  Unnamed: 17  Unnamed: 18  Unnamed: 19 Unnamed: 20  Unnamed: 21  Unnamed: 22  Unnamed: 23  Unnamed: 24  Unnamed: 25\n",
       "0  105714776_10004  105714776    10004            2       NaN     NaN            NaN                NaN            NaN              NaN             NaN                   NaN                       NaN                   NaN                     NaN                     NaN          NaN          NaN          NaN          NaN         NaN          NaN          NaN          NaN          NaN          NaN"
      ]
     },
     "execution_count": 3,
     "metadata": {},
     "output_type": "execute_result"
    }
   ],
   "source": [
    "traindf.head(1)"
   ]
  },
  {
   "cell_type": "code",
   "execution_count": 4,
   "metadata": {
    "collapsed": false
   },
   "outputs": [
    {
     "data": {
      "text/html": [
       "<div>\n",
       "<table border=\"1\" class=\"dataframe\">\n",
       "  <thead>\n",
       "    <tr style=\"text-align: right;\">\n",
       "      <th></th>\n",
       "      <th>user_id</th>\n",
       "      <th>climb_id</th>\n",
       "      <th>star_rating</th>\n",
       "      <th>Unnamed: 0</th>\n",
       "    </tr>\n",
       "  </thead>\n",
       "  <tbody>\n",
       "    <tr>\n",
       "      <th>0</th>\n",
       "      <td>10101</td>\n",
       "      <td>105752563</td>\n",
       "      <td>2</td>\n",
       "      <td>105752563_10101</td>\n",
       "    </tr>\n",
       "  </tbody>\n",
       "</table>\n",
       "</div>"
      ],
      "text/plain": [
       "   user_id   climb_id  star_rating       Unnamed: 0\n",
       "0    10101  105752563            2  105752563_10101"
      ]
     },
     "execution_count": 4,
     "metadata": {},
     "output_type": "execute_result"
    }
   ],
   "source": [
    "validatedf.head(1)"
   ]
  },
  {
   "cell_type": "code",
   "execution_count": 5,
   "metadata": {
    "collapsed": false
   },
   "outputs": [
    {
     "data": {
      "text/html": [
       "<div>\n",
       "<table border=\"1\" class=\"dataframe\">\n",
       "  <thead>\n",
       "    <tr style=\"text-align: right;\">\n",
       "      <th></th>\n",
       "      <th>user_id</th>\n",
       "      <th>climb_id</th>\n",
       "      <th>star_rating</th>\n",
       "      <th>Unnamed: 0</th>\n",
       "    </tr>\n",
       "  </thead>\n",
       "  <tbody>\n",
       "    <tr>\n",
       "      <th>0</th>\n",
       "      <td>10101</td>\n",
       "      <td>105754933</td>\n",
       "      <td>4</td>\n",
       "      <td>105754933_10101</td>\n",
       "    </tr>\n",
       "  </tbody>\n",
       "</table>\n",
       "</div>"
      ],
      "text/plain": [
       "   user_id   climb_id  star_rating       Unnamed: 0\n",
       "0    10101  105754933            4  105754933_10101"
      ]
     },
     "execution_count": 5,
     "metadata": {},
     "output_type": "execute_result"
    }
   ],
   "source": [
    "testdf.head(1)"
   ]
  },
  {
   "cell_type": "code",
   "execution_count": 83,
   "metadata": {
    "collapsed": true
   },
   "outputs": [],
   "source": [
    "traindf = traindf[[\"user_id\",\"climb_id\",\"star_rating\",\"Unnamed: 0\"]]"
   ]
  },
  {
   "cell_type": "code",
   "execution_count": 7,
   "metadata": {
    "collapsed": false
   },
   "outputs": [
    {
     "data": {
      "text/html": [
       "<div>\n",
       "<table border=\"1\" class=\"dataframe\">\n",
       "  <thead>\n",
       "    <tr style=\"text-align: right;\">\n",
       "      <th></th>\n",
       "      <th>user_id</th>\n",
       "      <th>climb_id</th>\n",
       "      <th>star_rating</th>\n",
       "      <th>Unnamed: 0</th>\n",
       "    </tr>\n",
       "  </thead>\n",
       "  <tbody>\n",
       "    <tr>\n",
       "      <th>0</th>\n",
       "      <td>10004</td>\n",
       "      <td>105714776</td>\n",
       "      <td>2</td>\n",
       "      <td>105714776_10004</td>\n",
       "    </tr>\n",
       "  </tbody>\n",
       "</table>\n",
       "</div>"
      ],
      "text/plain": [
       "   user_id   climb_id  star_rating       Unnamed: 0\n",
       "0    10004  105714776            2  105714776_10004"
      ]
     },
     "execution_count": 7,
     "metadata": {},
     "output_type": "execute_result"
    }
   ],
   "source": [
    "traindf.head(1)"
   ]
  },
  {
   "cell_type": "code",
   "execution_count": 75,
   "metadata": {
    "collapsed": true
   },
   "outputs": [],
   "source": [
    "fulldf = pd.concat([traindf, validatedf, testdf])"
   ]
  },
  {
   "cell_type": "code",
   "execution_count": 90,
   "metadata": {
    "collapsed": false
   },
   "outputs": [
    {
     "name": "stdout",
     "output_type": "stream",
     "text": [
      "595222\n",
      "297624\n",
      "181888\n",
      "131742\n",
      "114084\n",
      "99661\n",
      "91913\n",
      "85470\n",
      "81707\n",
      "78288\n",
      "75763\n",
      "73438\n",
      "71933\n",
      "70374\n",
      "69409\n",
      "68433\n",
      "67987\n",
      "67407\n",
      "66872\n",
      "CPU times: user 12.8 s, sys: 135 ms, total: 13 s\n",
      "Wall time: 13.1 s\n"
     ]
    }
   ],
   "source": [
    "%%time\n",
    "\n",
    "climbRatingCutOff = 45\n",
    "userRatingCutOff = 45\n",
    "\n",
    "cut_climbs = True\n",
    "cut_users = True\n",
    "\n",
    "print(len(fulldf))\n",
    "\n",
    "while cut_climbs or cut_users:\n",
    "    climbsToKeep = np.unique([climb for climb, ratings in fulldf.groupby('climb_id').count().reset_index()[['climb_id','star_rating']].values if ratings > climbRatingCutOff])\n",
    "    mask = [True if climb in climbsToKeep else False for climb in list(fulldf.climb_id)]\n",
    "    fulldf = fulldf[mask]\n",
    "    if np.sum([0 if x else 1 for x in mask]) < 0.01 * len(mask):\n",
    "        cut_climbs = False\n",
    "    print(len(fulldf))\n",
    "    usersToKeep = np.unique([user for user, ratings in fulldf.groupby('user_id').count().reset_index()[['user_id','star_rating']].values if ratings > climbRatingCutOff])\n",
    "    mask = [True if user in usersToKeep else False for user in list(fulldf.user_id)]\n",
    "    fulldf = fulldf[mask]\n",
    "    if np.sum([0 if x else 1 for x in mask]) < 0.01 * len(mask):\n",
    "        cut_users = False\n",
    "    print(len(fulldf))"
   ]
  },
  {
   "cell_type": "code",
   "execution_count": 91,
   "metadata": {
    "collapsed": false
   },
   "outputs": [
    {
     "name": "stdout",
     "output_type": "stream",
     "text": [
      "136\n",
      "160\n"
     ]
    }
   ],
   "source": [
    "print len(np.unique(fulldf.groupby('climb_id').count().star_rating))\n",
    "print len(np.unique(fulldf.groupby('user_id').count().star_rating))"
   ]
  },
  {
   "cell_type": "code",
   "execution_count": 10,
   "metadata": {
    "collapsed": true
   },
   "outputs": [],
   "source": [
    "#fulldf = pd.read_csv(\"classifier_dfs/finalproject-joined-cleaned-small-df.csv\")"
   ]
  },
  {
   "cell_type": "code",
   "execution_count": 11,
   "metadata": {
    "collapsed": false,
    "scrolled": true
   },
   "outputs": [
    {
     "data": {
      "text/plain": [
       "27543"
      ]
     },
     "execution_count": 11,
     "metadata": {},
     "output_type": "execute_result"
    }
   ],
   "source": [
    "len(fulldf)"
   ]
  },
  {
   "cell_type": "code",
   "execution_count": 92,
   "metadata": {
    "collapsed": false
   },
   "outputs": [],
   "source": [
    "rand_split = [1 if x < .7 else 2 if x < .85 else 3 for x in list(np.random.random(len(fulldf)))]\n",
    "train_split = [True if x == 1 else False for x in rand_split]\n",
    "validate_split = [True if x == 2 else False for x in rand_split]\n",
    "test_split = [True if x == 3 else False for x in rand_split]"
   ]
  },
  {
   "cell_type": "code",
   "execution_count": 93,
   "metadata": {
    "collapsed": false
   },
   "outputs": [],
   "source": [
    "traindf = fulldf[train_split]\n",
    "validatedf = fulldf[validate_split]\n",
    "testdf = fulldf[test_split]"
   ]
  },
  {
   "cell_type": "code",
   "execution_count": 94,
   "metadata": {
    "collapsed": false
   },
   "outputs": [
    {
     "data": {
      "text/plain": [
       "(46727, 10161, 9984)"
      ]
     },
     "execution_count": 94,
     "metadata": {},
     "output_type": "execute_result"
    }
   ],
   "source": [
    "len(traindf), len(validatedf), len(testdf)"
   ]
  },
  {
   "cell_type": "code",
   "execution_count": 95,
   "metadata": {
    "collapsed": true
   },
   "outputs": [],
   "source": [
    "trainUsers = np.unique(traindf.user_id)\n",
    "trainClimbs = np.unique(traindf.climb_id)\n",
    "validateUsers = np.unique(validatedf.user_id)\n",
    "validateClimbs = np.unique(validatedf.climb_id)\n",
    "testUsers = np.unique(testdf.user_id)\n",
    "testClimbs = np.unique(testdf.climb_id)"
   ]
  },
  {
   "cell_type": "code",
   "execution_count": 96,
   "metadata": {
    "collapsed": false,
    "scrolled": true
   },
   "outputs": [
    {
     "name": "stdout",
     "output_type": "stream",
     "text": [
      "[]\n",
      "[]\n",
      "[]\n",
      "[]\n"
     ]
    }
   ],
   "source": [
    "print [user for user in validateUsers if user not in trainUsers]\n",
    "print [climb for climb in validateClimbs if climb not in trainClimbs]\n",
    "print [user for user in testUsers if user not in trainUsers]\n",
    "print [climb for climb in testClimbs if climb not in trainClimbs]"
   ]
  },
  {
   "cell_type": "code",
   "execution_count": 97,
   "metadata": {
    "collapsed": false
   },
   "outputs": [
    {
     "name": "stdout",
     "output_type": "stream",
     "text": [
      "[25, 25, 25, 25, 26, 28, 28, 28, 29, 29]\n",
      "[24, 25, 26, 27, 27, 27, 28, 28, 28, 28]\n"
     ]
    }
   ],
   "source": [
    "print sorted(traindf.groupby('user_id').count().star_rating)[:10]\n",
    "print sorted(traindf.groupby('climb_id').count().star_rating)[:10]"
   ]
  },
  {
   "cell_type": "code",
   "execution_count": 98,
   "metadata": {
    "collapsed": false
   },
   "outputs": [],
   "source": [
    "traindf = traindf[['climb_id', 'user_id', 'star_rating']]\n",
    "validatedf = validatedf[['climb_id', 'user_id', 'star_rating']]\n",
    "testdf = testdf[['climb_id', 'user_id', 'star_rating']]"
   ]
  },
  {
   "cell_type": "code",
   "execution_count": 99,
   "metadata": {
    "collapsed": true
   },
   "outputs": [],
   "source": [
    "traindf.to_csv(\"classifier_dfs/small-train.csv\", index=False, header=True, encoding=\"utf-8\")\n",
    "validatedf.to_csv(\"classifier_dfs/small-validate.csv\", index=False, header=True, encoding=\"utf-8\")\n",
    "testdf.to_csv(\"classifier_dfs/small-test.csv\", index=False, header=True, encoding=\"utf-8\")"
   ]
  },
  {
   "cell_type": "code",
   "execution_count": 100,
   "metadata": {
    "collapsed": false
   },
   "outputs": [],
   "source": [
    "climbsdf = pd.read_csv(\"finalproject-sorted_climbs.csv\")"
   ]
  },
  {
   "cell_type": "code",
   "execution_count": 101,
   "metadata": {
    "collapsed": false,
    "scrolled": true
   },
   "outputs": [
    {
     "data": {
      "text/html": [
       "<div>\n",
       "<table border=\"1\" class=\"dataframe\">\n",
       "  <thead>\n",
       "    <tr style=\"text-align: right;\">\n",
       "      <th></th>\n",
       "      <th>Unnamed: 0</th>\n",
       "      <th>climb_id</th>\n",
       "      <th>climb_name</th>\n",
       "      <th>climb_link</th>\n",
       "      <th>fa_year</th>\n",
       "      <th>feet</th>\n",
       "      <th>page_views</th>\n",
       "      <th>pitches</th>\n",
       "      <th>avg_stars</th>\n",
       "      <th>grade</th>\n",
       "      <th>state</th>\n",
       "      <th>latitude</th>\n",
       "      <th>longitude</th>\n",
       "      <th>area_0</th>\n",
       "      <th>area_1</th>\n",
       "      <th>area_2</th>\n",
       "      <th>area_3</th>\n",
       "      <th>area_4</th>\n",
       "      <th>area_5</th>\n",
       "      <th>area_6</th>\n",
       "      <th>area_7</th>\n",
       "      <th>area_8</th>\n",
       "      <th>area_9</th>\n",
       "      <th>type_TR,</th>\n",
       "      <th>type_aid</th>\n",
       "      <th>type_alpine</th>\n",
       "      <th>type_boulder</th>\n",
       "      <th>type_ice</th>\n",
       "      <th>type_mixed</th>\n",
       "      <th>type_sport</th>\n",
       "      <th>type_trad</th>\n",
       "      <th>guide_aid_grade</th>\n",
       "      <th>guide_boulder_grade</th>\n",
       "      <th>guide_ice_grade</th>\n",
       "      <th>guide_mixed_grade</th>\n",
       "      <th>guide_rock_grade</th>\n",
       "      <th>concensus_aid_grade</th>\n",
       "      <th>concensus_boulder_grade</th>\n",
       "      <th>concensus_ice_grade</th>\n",
       "      <th>concensus_mixed_grade</th>\n",
       "      <th>concensus_rock_grade</th>\n",
       "    </tr>\n",
       "  </thead>\n",
       "  <tbody>\n",
       "    <tr>\n",
       "      <th>0</th>\n",
       "      <td>105714713</td>\n",
       "      <td>105714713</td>\n",
       "      <td>garden-party</td>\n",
       "      <td>http://www.mountainproject.com/v/garden-party/...</td>\n",
       "      <td>NaN</td>\n",
       "      <td>60</td>\n",
       "      <td>1157</td>\n",
       "      <td>1</td>\n",
       "      <td>2.0769</td>\n",
       "      <td>NaN</td>\n",
       "      <td>44.0597</td>\n",
       "      <td>-103.4232</td>\n",
       "      <td>0</td>\n",
       "      <td>/destinations/</td>\n",
       "      <td>/v/south-dakota/105708963</td>\n",
       "      <td>/v/falling-rock/105714240</td>\n",
       "      <td>/v/north-canyon-wall/105714312</td>\n",
       "      <td>NaN</td>\n",
       "      <td>NaN</td>\n",
       "      <td>NaN</td>\n",
       "      <td>NaN</td>\n",
       "      <td>NaN</td>\n",
       "      <td>NaN</td>\n",
       "      <td>1</td>\n",
       "      <td>0</td>\n",
       "      <td>0</td>\n",
       "      <td>0</td>\n",
       "      <td>0</td>\n",
       "      <td>0</td>\n",
       "      <td>0</td>\n",
       "      <td>1</td>\n",
       "      <td>0</td>\n",
       "      <td>0</td>\n",
       "      <td>0</td>\n",
       "      <td>0</td>\n",
       "      <td>5.8</td>\n",
       "      <td>0</td>\n",
       "      <td>0</td>\n",
       "      <td>0</td>\n",
       "      <td>0</td>\n",
       "      <td>5.8-</td>\n",
       "    </tr>\n",
       "  </tbody>\n",
       "</table>\n",
       "</div>"
      ],
      "text/plain": [
       "   Unnamed: 0   climb_id    climb_name                                         climb_link  fa_year  feet  page_views  pitches  avg_stars grade    state  latitude  longitude          area_0                     area_1                     area_2                          area_3 area_4 area_5 area_6 area_7 area_8 area_9  type_TR,  type_aid  type_alpine  type_boulder  type_ice  type_mixed  type_sport  type_trad guide_aid_grade guide_boulder_grade guide_ice_grade guide_mixed_grade guide_rock_grade  \\\n",
       "0   105714713  105714713  garden-party  http://www.mountainproject.com/v/garden-party/...      NaN    60        1157        1     2.0769   NaN  44.0597 -103.4232          0  /destinations/  /v/south-dakota/105708963  /v/falling-rock/105714240  /v/north-canyon-wall/105714312    NaN    NaN    NaN    NaN    NaN    NaN         1         0            0             0         0           0           0          1               0                   0               0                 0              5.8   \n",
       "\n",
       "  concensus_aid_grade concensus_boulder_grade concensus_ice_grade concensus_mixed_grade concensus_rock_grade  \n",
       "0                   0                       0                   0                     0                 5.8-  "
      ]
     },
     "execution_count": 101,
     "metadata": {},
     "output_type": "execute_result"
    }
   ],
   "source": [
    "climbsdf.head(1)"
   ]
  },
  {
   "cell_type": "code",
   "execution_count": 102,
   "metadata": {
    "collapsed": true
   },
   "outputs": [],
   "source": [
    "mask = [True if x in trainClimbs else False for x in climbsdf.climb_id]"
   ]
  },
  {
   "cell_type": "code",
   "execution_count": 103,
   "metadata": {
    "collapsed": true
   },
   "outputs": [],
   "source": [
    "climbsdf = climbsdf[mask]"
   ]
  },
  {
   "cell_type": "code",
   "execution_count": 104,
   "metadata": {
    "collapsed": false
   },
   "outputs": [],
   "source": [
    "climbsdf = climbsdf[[\"climb_id\", \"pitches\", \"type_TR,\", \"type_aid\", \"type_alpine\", \"type_boulder\", \"type_ice\", \"type_mixed\", \"type_sport\", \"type_trad\", \"concensus_aid_grade\", \"concensus_boulder_grade\", \"concensus_ice_grade\", \"concensus_mixed_grade\", \"concensus_rock_grade\"]]"
   ]
  },
  {
   "cell_type": "code",
   "execution_count": 105,
   "metadata": {
    "collapsed": false
   },
   "outputs": [
    {
     "data": {
      "text/html": [
       "<div>\n",
       "<table border=\"1\" class=\"dataframe\">\n",
       "  <thead>\n",
       "    <tr style=\"text-align: right;\">\n",
       "      <th></th>\n",
       "      <th>climb_id</th>\n",
       "      <th>pitches</th>\n",
       "      <th>type_TR,</th>\n",
       "      <th>type_aid</th>\n",
       "      <th>type_alpine</th>\n",
       "      <th>type_boulder</th>\n",
       "      <th>type_ice</th>\n",
       "      <th>type_mixed</th>\n",
       "      <th>type_sport</th>\n",
       "      <th>type_trad</th>\n",
       "      <th>concensus_aid_grade</th>\n",
       "      <th>concensus_boulder_grade</th>\n",
       "      <th>concensus_ice_grade</th>\n",
       "      <th>concensus_mixed_grade</th>\n",
       "      <th>concensus_rock_grade</th>\n",
       "    </tr>\n",
       "  </thead>\n",
       "  <tbody>\n",
       "    <tr>\n",
       "      <th>22</th>\n",
       "      <td>105714812</td>\n",
       "      <td>6</td>\n",
       "      <td>0</td>\n",
       "      <td>0</td>\n",
       "      <td>0</td>\n",
       "      <td>0</td>\n",
       "      <td>0</td>\n",
       "      <td>0</td>\n",
       "      <td>0</td>\n",
       "      <td>1</td>\n",
       "      <td>0</td>\n",
       "      <td>0</td>\n",
       "      <td>0</td>\n",
       "      <td>0</td>\n",
       "      <td>5.7</td>\n",
       "    </tr>\n",
       "  </tbody>\n",
       "</table>\n",
       "</div>"
      ],
      "text/plain": [
       "     climb_id  pitches  type_TR,  type_aid  type_alpine  type_boulder  type_ice  type_mixed  type_sport  type_trad concensus_aid_grade concensus_boulder_grade concensus_ice_grade concensus_mixed_grade concensus_rock_grade\n",
       "22  105714812        6         0         0            0             0         0           0           0          1                   0                       0                   0                     0                  5.7"
      ]
     },
     "execution_count": 105,
     "metadata": {},
     "output_type": "execute_result"
    }
   ],
   "source": [
    "climbsdf.head(1)"
   ]
  },
  {
   "cell_type": "code",
   "execution_count": 106,
   "metadata": {
    "collapsed": false
   },
   "outputs": [],
   "source": [
    "climbsdf.columns = [\"climb_id\", \"pitches\", \"tr\", \"aid\", \"alpine\", \"boulder\", \"ice\", \"mixed\", \"sport\", \"trad\", \"aid_grade\", \"boulder_grade\", \"ice_grade\", \"mixed_grade\", \"rock_grade\"]"
   ]
  },
  {
   "cell_type": "code",
   "execution_count": 107,
   "metadata": {
    "collapsed": false
   },
   "outputs": [],
   "source": [
    "climbsdf[\"aid_grade_num\"] = [int(x[1]) + (0.3 if len(x) > 2 and x[2] == \"+\" else 0) - (0.3 if len(x) > 2 and x[2] == \"-\" else 0) if x != \"0\" else float('nan') for x in climbsdf.aid_grade ]"
   ]
  },
  {
   "cell_type": "code",
   "execution_count": 108,
   "metadata": {
    "collapsed": false
   },
   "outputs": [
    {
     "data": {
      "text/plain": [
       "array([<type 'numpy.float64'>], dtype=object)"
      ]
     },
     "execution_count": 108,
     "metadata": {},
     "output_type": "execute_result"
    }
   ],
   "source": [
    "np.unique([type(x) for x in climbsdf.aid_grade_num])"
   ]
  },
  {
   "cell_type": "code",
   "execution_count": 109,
   "metadata": {
    "collapsed": false
   },
   "outputs": [],
   "source": [
    "climbsdf[\"boulder_grade_num\"] = [int(x[1]) + (0.3 if len(x) > 2 and x[2] == \"+\" else 0) - (0.3 if len(x) > 2 and x[2] == \"-\" else 0) if x != \"0\" else float('nan') for x in climbsdf.boulder_grade ]"
   ]
  },
  {
   "cell_type": "code",
   "execution_count": 110,
   "metadata": {
    "collapsed": true
   },
   "outputs": [],
   "source": [
    "climbsdf[\"ice_grade_num\"] = [int(x[2]) + (0.3 if len(x) > 3 and x[3] == \"+\" else 0) - (0.3 if len(x) > 3 and x[3] == \"-\" else 0) if x != \"0\" else float('nan') for x in climbsdf.ice_grade]"
   ]
  },
  {
   "cell_type": "code",
   "execution_count": 111,
   "metadata": {
    "collapsed": false
   },
   "outputs": [
    {
     "data": {
      "text/plain": [
       "array(['0'], \n",
       "      dtype='|S1')"
      ]
     },
     "execution_count": 111,
     "metadata": {},
     "output_type": "execute_result"
    }
   ],
   "source": [
    "np.unique(list(climbsdf.mixed_grade))"
   ]
  },
  {
   "cell_type": "code",
   "execution_count": 112,
   "metadata": {
    "collapsed": true
   },
   "outputs": [],
   "source": [
    "climbsdf[\"mixed_grade_num\"] = [(int(x[1:]) if len(x) > 2 and x[2] != \"+\" and x[2] != \"-\" else int(x[1]))+ (0.3 if len(x) > 2 and x[2] == \"+\" else 0) - (0.3 if len(x) > 2 and x[2] == \"-\" else 0) if x != \"0\" else float('nan') for x in climbsdf.mixed_grade]"
   ]
  },
  {
   "cell_type": "code",
   "execution_count": 113,
   "metadata": {
    "collapsed": false
   },
   "outputs": [
    {
     "data": {
      "text/plain": [
       "array(['0', '5.10', '5.10+', '5.10-', '5.10a', '5.10a/b', '5.10b',\n",
       "       '5.10b/c', '5.10c', '5.10c/d', '5.10d', '5.11', '5.11+', '5.11-',\n",
       "       '5.11a', '5.11a/b', '5.11b', '5.11b/c', '5.11c', '5.11d', '5.6',\n",
       "       '5.7', '5.7+', '5.8', '5.8+', '5.8-', '5.9', '5.9+', '5.9-'], dtype=object)"
      ]
     },
     "execution_count": 113,
     "metadata": {},
     "output_type": "execute_result"
    }
   ],
   "source": [
    "np.unique(climbsdf.rock_grade)"
   ]
  },
  {
   "cell_type": "code",
   "execution_count": 114,
   "metadata": {
    "collapsed": false
   },
   "outputs": [
    {
     "data": {
      "text/plain": [
       "[]"
      ]
     },
     "execution_count": 114,
     "metadata": {},
     "output_type": "execute_result"
    }
   ],
   "source": [
    "[1 for x in climbsdf.rock_grade if x == '5-6']"
   ]
  },
  {
   "cell_type": "code",
   "execution_count": 115,
   "metadata": {
    "collapsed": false
   },
   "outputs": [],
   "source": [
    "climbsdf[\"rock_grade_num\"] = [(float(x[2:x.find(\"+\")]) + 0.3 if x.find(\"+\") != -1 else\n",
    "                               float(x[2:x.find(\"-\")]) -0.3 if x.find(\"-\") != -1 else\n",
    "                               float(x[2:x.find(\"a/b\")]) - 0.25 if x.find(\"a/b\") != -1 else\n",
    "                               float(x[2:x.find(\"b/c\")]) if x.find(\"b/c\") != -1 else\n",
    "                               float(x[2:x.find(\"c/d\")]) + 0.25 if x.find(\"c/d\") != -1 else\n",
    "                               float(x[2:x.find(\"a\")]) - 0.375 if x.find(\"a\") != -1 else\n",
    "                               float(x[2:x.find(\"b\")]) - 0.125 if x.find(\"b\") != -1 else\n",
    "                               float(x[2:x.find(\"c\")]) + 0.125 if x.find(\"c\") != -1 else\n",
    "                               float(x[2:x.find(\"d\")]) + 0.375 if x.find(\"d\") != -1 else\n",
    "                               float(x[2:]))\n",
    "                              if x != '0' and x != '5-6' else float('nan') for x in climbsdf.rock_grade \n",
    "                             ]"
   ]
  },
  {
   "cell_type": "code",
   "execution_count": 116,
   "metadata": {
    "collapsed": false
   },
   "outputs": [
    {
     "data": {
      "text/html": [
       "<div>\n",
       "<table border=\"1\" class=\"dataframe\">\n",
       "  <thead>\n",
       "    <tr style=\"text-align: right;\">\n",
       "      <th></th>\n",
       "      <th>climb_id</th>\n",
       "      <th>pitches</th>\n",
       "      <th>tr</th>\n",
       "      <th>aid</th>\n",
       "      <th>alpine</th>\n",
       "      <th>boulder</th>\n",
       "      <th>ice</th>\n",
       "      <th>mixed</th>\n",
       "      <th>sport</th>\n",
       "      <th>trad</th>\n",
       "      <th>aid_grade</th>\n",
       "      <th>boulder_grade</th>\n",
       "      <th>ice_grade</th>\n",
       "      <th>mixed_grade</th>\n",
       "      <th>rock_grade</th>\n",
       "      <th>aid_grade_num</th>\n",
       "      <th>boulder_grade_num</th>\n",
       "      <th>ice_grade_num</th>\n",
       "      <th>mixed_grade_num</th>\n",
       "      <th>rock_grade_num</th>\n",
       "    </tr>\n",
       "  </thead>\n",
       "  <tbody>\n",
       "    <tr>\n",
       "      <th>22</th>\n",
       "      <td>105714812</td>\n",
       "      <td>6</td>\n",
       "      <td>0</td>\n",
       "      <td>0</td>\n",
       "      <td>0</td>\n",
       "      <td>0</td>\n",
       "      <td>0</td>\n",
       "      <td>0</td>\n",
       "      <td>0</td>\n",
       "      <td>1</td>\n",
       "      <td>0</td>\n",
       "      <td>0</td>\n",
       "      <td>0</td>\n",
       "      <td>0</td>\n",
       "      <td>5.7</td>\n",
       "      <td>NaN</td>\n",
       "      <td>NaN</td>\n",
       "      <td>NaN</td>\n",
       "      <td>NaN</td>\n",
       "      <td>7</td>\n",
       "    </tr>\n",
       "  </tbody>\n",
       "</table>\n",
       "</div>"
      ],
      "text/plain": [
       "     climb_id  pitches  tr  aid  alpine  boulder  ice  mixed  sport  trad aid_grade boulder_grade ice_grade mixed_grade rock_grade  aid_grade_num  boulder_grade_num  ice_grade_num  mixed_grade_num  rock_grade_num\n",
       "22  105714812        6   0    0       0        0    0      0      0     1         0             0         0           0        5.7            NaN                NaN            NaN              NaN               7"
      ]
     },
     "execution_count": 116,
     "metadata": {},
     "output_type": "execute_result"
    }
   ],
   "source": [
    "climbsdf.head(1)"
   ]
  },
  {
   "cell_type": "code",
   "execution_count": 117,
   "metadata": {
    "collapsed": false
   },
   "outputs": [],
   "source": [
    "aid_mean = np.mean(climbsdf.aid_grade_num)\n",
    "aid_std = np.std(climbsdf.aid_grade_num)\n",
    "boulder_mean = np.mean(climbsdf.boulder_grade_num)\n",
    "boulder_std = np.std(climbsdf.boulder_grade_num)\n",
    "ice_mean = np.mean(climbsdf.ice_grade_num)\n",
    "ice_std = np.std(climbsdf.ice_grade_num)\n",
    "mixed_mean = np.mean(climbsdf.mixed_grade_num)\n",
    "mixed_std = np.std(climbsdf.mixed_grade_num)\n",
    "rock_mean = np.mean(climbsdf.rock_grade_num)\n",
    "rock_std = np.std(climbsdf.rock_grade_num)"
   ]
  },
  {
   "cell_type": "code",
   "execution_count": 118,
   "metadata": {
    "collapsed": false
   },
   "outputs": [],
   "source": [
    "climbsdf[\"aid_grade_norm\"] = (climbsdf.aid_grade_num - aid_mean)/aid_std\n",
    "climbsdf[\"boulder_grade_norm\"] = (climbsdf.boulder_grade_num - boulder_mean)/boulder_std\n",
    "climbsdf[\"ice_grade_norm\"] = (climbsdf.ice_grade_num - ice_mean)/ice_std\n",
    "climbsdf[\"mixed_grade_norm\"] = (climbsdf.mixed_grade_num - mixed_mean)/mixed_std\n",
    "climbsdf[\"rock_grade_norm\"] = (climbsdf.rock_grade_num - rock_mean)/rock_std"
   ]
  },
  {
   "cell_type": "code",
   "execution_count": 119,
   "metadata": {
    "collapsed": false
   },
   "outputs": [
    {
     "name": "stderr",
     "output_type": "stream",
     "text": [
      "//anaconda/lib/python2.7/site-packages/numpy/lib/nanfunctions.py:675: RuntimeWarning: Mean of empty slice\n",
      "  warnings.warn(\"Mean of empty slice\", RuntimeWarning)\n"
     ]
    }
   ],
   "source": [
    "climbsdf[\"norm_grade\"] = climbsdf[[\"aid_grade_norm\", \"boulder_grade_norm\", \"ice_grade_norm\", \"mixed_grade_norm\", \"rock_grade_norm\"]].apply(np.nanmean, axis=1)"
   ]
  },
  {
   "cell_type": "code",
   "execution_count": 120,
   "metadata": {
    "collapsed": false
   },
   "outputs": [],
   "source": [
    "climbsdf[\"norm_grade\"] = [0 if np.isnan(x) else x for x in climbsdf.norm_grade ]"
   ]
  },
  {
   "cell_type": "code",
   "execution_count": 121,
   "metadata": {
    "collapsed": false
   },
   "outputs": [
    {
     "data": {
      "text/html": [
       "<div>\n",
       "<table border=\"1\" class=\"dataframe\">\n",
       "  <thead>\n",
       "    <tr style=\"text-align: right;\">\n",
       "      <th></th>\n",
       "      <th>climb_id</th>\n",
       "      <th>pitches</th>\n",
       "      <th>tr</th>\n",
       "      <th>aid</th>\n",
       "      <th>alpine</th>\n",
       "      <th>boulder</th>\n",
       "      <th>ice</th>\n",
       "      <th>mixed</th>\n",
       "      <th>sport</th>\n",
       "      <th>trad</th>\n",
       "      <th>aid_grade</th>\n",
       "      <th>boulder_grade</th>\n",
       "      <th>ice_grade</th>\n",
       "      <th>mixed_grade</th>\n",
       "      <th>rock_grade</th>\n",
       "      <th>aid_grade_num</th>\n",
       "      <th>boulder_grade_num</th>\n",
       "      <th>ice_grade_num</th>\n",
       "      <th>mixed_grade_num</th>\n",
       "      <th>rock_grade_num</th>\n",
       "      <th>aid_grade_norm</th>\n",
       "      <th>boulder_grade_norm</th>\n",
       "      <th>ice_grade_norm</th>\n",
       "      <th>mixed_grade_norm</th>\n",
       "      <th>rock_grade_norm</th>\n",
       "      <th>norm_grade</th>\n",
       "    </tr>\n",
       "  </thead>\n",
       "  <tbody>\n",
       "    <tr>\n",
       "      <th>22</th>\n",
       "      <td>105714812</td>\n",
       "      <td>6</td>\n",
       "      <td>0</td>\n",
       "      <td>0</td>\n",
       "      <td>0</td>\n",
       "      <td>0</td>\n",
       "      <td>0</td>\n",
       "      <td>0</td>\n",
       "      <td>0</td>\n",
       "      <td>1</td>\n",
       "      <td>0</td>\n",
       "      <td>0</td>\n",
       "      <td>0</td>\n",
       "      <td>0</td>\n",
       "      <td>5.7</td>\n",
       "      <td>NaN</td>\n",
       "      <td>NaN</td>\n",
       "      <td>NaN</td>\n",
       "      <td>NaN</td>\n",
       "      <td>7</td>\n",
       "      <td>NaN</td>\n",
       "      <td>NaN</td>\n",
       "      <td>NaN</td>\n",
       "      <td>NaN</td>\n",
       "      <td>-1.977536</td>\n",
       "      <td>-1.977536</td>\n",
       "    </tr>\n",
       "  </tbody>\n",
       "</table>\n",
       "</div>"
      ],
      "text/plain": [
       "     climb_id  pitches  tr  aid  alpine  boulder  ice  mixed  sport  trad aid_grade boulder_grade ice_grade mixed_grade rock_grade  aid_grade_num  boulder_grade_num  ice_grade_num  mixed_grade_num  rock_grade_num  aid_grade_norm  boulder_grade_norm  ice_grade_norm  mixed_grade_norm  rock_grade_norm  norm_grade\n",
       "22  105714812        6   0    0       0        0    0      0      0     1         0             0         0           0        5.7            NaN                NaN            NaN              NaN               7             NaN                 NaN             NaN               NaN        -1.977536   -1.977536"
      ]
     },
     "execution_count": 121,
     "metadata": {},
     "output_type": "execute_result"
    }
   ],
   "source": [
    "climbsdf.head(1)"
   ]
  },
  {
   "cell_type": "code",
   "execution_count": 122,
   "metadata": {
    "collapsed": true
   },
   "outputs": [],
   "source": [
    "climbsdf = climbsdf[[\"climb_id\", \"pitches\", \"tr\", \"aid\", \"alpine\", \"boulder\", \"ice\", \"mixed\", \"sport\", \"trad\", \"norm_grade\"]]"
   ]
  },
  {
   "cell_type": "code",
   "execution_count": 123,
   "metadata": {
    "collapsed": false
   },
   "outputs": [
    {
     "data": {
      "text/html": [
       "<div>\n",
       "<table border=\"1\" class=\"dataframe\">\n",
       "  <thead>\n",
       "    <tr style=\"text-align: right;\">\n",
       "      <th></th>\n",
       "      <th>climb_id</th>\n",
       "      <th>pitches</th>\n",
       "      <th>tr</th>\n",
       "      <th>aid</th>\n",
       "      <th>alpine</th>\n",
       "      <th>boulder</th>\n",
       "      <th>ice</th>\n",
       "      <th>mixed</th>\n",
       "      <th>sport</th>\n",
       "      <th>trad</th>\n",
       "      <th>norm_grade</th>\n",
       "    </tr>\n",
       "  </thead>\n",
       "  <tbody>\n",
       "    <tr>\n",
       "      <th>22</th>\n",
       "      <td>105714812</td>\n",
       "      <td>6</td>\n",
       "      <td>0</td>\n",
       "      <td>0</td>\n",
       "      <td>0</td>\n",
       "      <td>0</td>\n",
       "      <td>0</td>\n",
       "      <td>0</td>\n",
       "      <td>0</td>\n",
       "      <td>1</td>\n",
       "      <td>-1.977536</td>\n",
       "    </tr>\n",
       "  </tbody>\n",
       "</table>\n",
       "</div>"
      ],
      "text/plain": [
       "     climb_id  pitches  tr  aid  alpine  boulder  ice  mixed  sport  trad  norm_grade\n",
       "22  105714812        6   0    0       0        0    0      0      0     1   -1.977536"
      ]
     },
     "execution_count": 123,
     "metadata": {},
     "output_type": "execute_result"
    }
   ],
   "source": [
    "climbsdf.head(1)"
   ]
  },
  {
   "cell_type": "code",
   "execution_count": 124,
   "metadata": {
    "collapsed": false
   },
   "outputs": [],
   "source": [
    "pitches_mean = np.mean(climbsdf.pitches)\n",
    "pitches_std = np.std(climbsdf.pitches)\n",
    "climbsdf[\"pitches_norm\"] = (climbsdf.pitches - pitches_mean)/pitches_std"
   ]
  },
  {
   "cell_type": "code",
   "execution_count": 125,
   "metadata": {
    "collapsed": true
   },
   "outputs": [],
   "source": [
    "climbsdf[\"pitches_norm\"] = [0 if np.isnan(x) else x for x in climbsdf.pitches_norm]"
   ]
  },
  {
   "cell_type": "code",
   "execution_count": 126,
   "metadata": {
    "collapsed": true
   },
   "outputs": [],
   "source": [
    "climbsdf = climbsdf[[\"climb_id\", \"tr\", \"aid\", \"alpine\", \"boulder\", \"ice\", \"mixed\", \"sport\", \"trad\", \"norm_grade\", \"pitches_norm\"]]"
   ]
  },
  {
   "cell_type": "code",
   "execution_count": 127,
   "metadata": {
    "collapsed": false
   },
   "outputs": [
    {
     "data": {
      "text/html": [
       "<div>\n",
       "<table border=\"1\" class=\"dataframe\">\n",
       "  <thead>\n",
       "    <tr style=\"text-align: right;\">\n",
       "      <th></th>\n",
       "      <th>climb_id</th>\n",
       "      <th>tr</th>\n",
       "      <th>aid</th>\n",
       "      <th>alpine</th>\n",
       "      <th>boulder</th>\n",
       "      <th>ice</th>\n",
       "      <th>mixed</th>\n",
       "      <th>sport</th>\n",
       "      <th>trad</th>\n",
       "      <th>norm_grade</th>\n",
       "      <th>pitches_norm</th>\n",
       "    </tr>\n",
       "  </thead>\n",
       "  <tbody>\n",
       "    <tr>\n",
       "      <th>22</th>\n",
       "      <td>105714812</td>\n",
       "      <td>0</td>\n",
       "      <td>0</td>\n",
       "      <td>0</td>\n",
       "      <td>0</td>\n",
       "      <td>0</td>\n",
       "      <td>0</td>\n",
       "      <td>0</td>\n",
       "      <td>1</td>\n",
       "      <td>-1.977536</td>\n",
       "      <td>1.681181</td>\n",
       "    </tr>\n",
       "  </tbody>\n",
       "</table>\n",
       "</div>"
      ],
      "text/plain": [
       "     climb_id  tr  aid  alpine  boulder  ice  mixed  sport  trad  norm_grade  pitches_norm\n",
       "22  105714812   0    0       0        0    0      0      0     1   -1.977536      1.681181"
      ]
     },
     "execution_count": 127,
     "metadata": {},
     "output_type": "execute_result"
    }
   ],
   "source": [
    "climbsdf.head(1)"
   ]
  },
  {
   "cell_type": "code",
   "execution_count": 128,
   "metadata": {
    "collapsed": false
   },
   "outputs": [],
   "source": [
    "climbsdf = climbsdf[[x for x in list(climbsdf.columns) if x != \"pitches\"]]"
   ]
  },
  {
   "cell_type": "code",
   "execution_count": 129,
   "metadata": {
    "collapsed": false
   },
   "outputs": [],
   "source": [
    "climbsdict = {int(x[0]) : {'tr': x[1], 'aid': x[2], 'alpine': x[3], 'boulder': x[4], 'ice': x[5], 'mixed': x[6], \n",
    "                           'sport': x[7], 'trad': x[8], 'grade': x[9], 'pitches': x[10]} for x in climbsdf.values}"
   ]
  },
  {
   "cell_type": "code",
   "execution_count": 130,
   "metadata": {
    "collapsed": false
   },
   "outputs": [],
   "source": [
    "userlist = np.unique(list(traindf.user_id) + list(validatedf.user_id) + list(testdf.user_id))\n",
    "userdict = dict(zip(userlist,range(len(userlist))))"
   ]
  },
  {
   "cell_type": "code",
   "execution_count": 131,
   "metadata": {
    "collapsed": true
   },
   "outputs": [],
   "source": [
    "climbslist = np.unique(list(traindf.climb_id) + list(validatedf.climb_id) + list(testdf.climb_id))"
   ]
  },
  {
   "cell_type": "code",
   "execution_count": 132,
   "metadata": {
    "collapsed": false
   },
   "outputs": [
    {
     "data": {
      "text/plain": [
       "[]"
      ]
     },
     "execution_count": 132,
     "metadata": {},
     "output_type": "execute_result"
    }
   ],
   "source": [
    "[x for x in climbslist if x not in climbsdict.keys()]"
   ]
  },
  {
   "cell_type": "code",
   "execution_count": 133,
   "metadata": {
    "collapsed": true
   },
   "outputs": [],
   "source": [
    "climbsdict2 = dict(zip(climbslist,range(len(climbslist))))"
   ]
  },
  {
   "cell_type": "code",
   "execution_count": 134,
   "metadata": {
    "collapsed": true
   },
   "outputs": [],
   "source": [
    "def make_feature_matrix(indf):\n",
    "    num_features = len(climbsdict.values()[0])\n",
    "    featurematrix = np.zeros(shape=(len(indf), len(userdict) + len(climbsdict2) + len(climbsdict2) * num_features))\n",
    "    inarray = indf[[\"user_id\", \"climb_id\", \"star_rating\"]].values\n",
    "    for i in range(len(inarray)):\n",
    "        featurematrix[i, userdict[inarray[i,0]]] = 1\n",
    "        featurematrix[i, len(userdict) + climbsdict2[inarray[i,1]]] = 1\n",
    "        for i in range(num_features):\n",
    "            featurematrix[i, (len(userdict) + len(climbsdict2) + climbsdict2[inarray[i,1]] * num_features) + i] = climbsdict[inarray[i,1]].values()[i]\n",
    "    return (featurematrix, indf.star_rating.values)"
   ]
  },
  {
   "cell_type": "code",
   "execution_count": 135,
   "metadata": {
    "collapsed": false,
    "scrolled": true
   },
   "outputs": [
    {
     "name": "stdout",
     "output_type": "stream",
     "text": [
      "CPU times: user 2.32 s, sys: 362 ms, total: 2.68 s\n",
      "Wall time: 2.79 s\n"
     ]
    }
   ],
   "source": [
    "%%time\n",
    "\n",
    "train_fm, train_stars = make_feature_matrix(traindf)\n",
    "validate_fm, validate_stars = make_feature_matrix(validatedf)\n",
    "test_fm, test_stars = make_feature_matrix(testdf)"
   ]
  },
  {
   "cell_type": "code",
   "execution_count": 136,
   "metadata": {
    "collapsed": false
   },
   "outputs": [
    {
     "name": "stdout",
     "output_type": "stream",
     "text": [
      "Matrix Shapes:\n",
      "\n",
      "train_fm (46727, 9901)\n",
      "train_stars (46727,)\n",
      "validate_fm (10161, 9901)\n",
      "validate_stars (10161,)\n",
      "test_fm (9984, 9901)\n",
      "test_stars (9984,)\n"
     ]
    }
   ],
   "source": [
    "print \"Matrix Shapes:\"\n",
    "print \n",
    "print \"train_fm\", train_fm.shape\n",
    "print \"train_stars\", train_stars.shape\n",
    "print \"validate_fm\", validate_fm.shape\n",
    "print \"validate_stars\", validate_stars.shape\n",
    "print \"test_fm\", test_fm.shape\n",
    "print \"test_stars\", test_stars.shape"
   ]
  },
  {
   "cell_type": "code",
   "execution_count": 137,
   "metadata": {
    "collapsed": true
   },
   "outputs": [],
   "source": [
    "from sklearn.linear_model import Ridge"
   ]
  },
  {
   "cell_type": "code",
   "execution_count": 138,
   "metadata": {
    "collapsed": false
   },
   "outputs": [
    {
     "name": "stdout",
     "output_type": "stream",
     "text": [
      "CPU times: user 29min 50s, sys: 27.3 s, total: 30min 17s\n",
      "Wall time: 9min 18s\n"
     ]
    }
   ],
   "source": [
    "%%time\n",
    "\n",
    "vdict={}\n",
    "rdict={}\n",
    "for alpha in [0.01, 0.1, 1, 10, 100, 1000]:\n",
    "    regression = Ridge(alpha=alpha).fit(train_fm, train_stars)\n",
    "    rdict[alpha] = regression\n",
    "    predictions_actual_zip = zip(list(regression.predict(validate_fm)),list(validate_stars))\n",
    "    se_sum = 0\n",
    "    for (a,b) in predictions_actual_zip:\n",
    "        se_sum = se_sum + (a - b)**2\n",
    "    vdict[alpha] = np.sqrt(se_sum / len(predictions_actual_zip))"
   ]
  },
  {
   "cell_type": "code",
   "execution_count": 140,
   "metadata": {
    "collapsed": false
   },
   "outputs": [
    {
     "name": "stdout",
     "output_type": "stream",
     "text": [
      "1\n"
     ]
    }
   ],
   "source": [
    "minerroralpha=min(vdict, key=vdict.get)\n",
    "print minerroralpha\n",
    "regr=rdict[minerroralpha] "
   ]
  },
  {
   "cell_type": "code",
   "execution_count": 143,
   "metadata": {
    "collapsed": false
   },
   "outputs": [],
   "source": [
    "feature_matrix_predictions = list(regr.predict(test_fm))"
   ]
  },
  {
   "cell_type": "code",
   "execution_count": 145,
   "metadata": {
    "collapsed": true
   },
   "outputs": [],
   "source": [
    "def get_rmse(s, s_predict):\n",
    "    diff = s - s_predict\n",
    "    return np.sqrt(np.dot(diff,diff)/diff.shape[0])\n",
    "\n",
    "def compare_results(stars_actual, stars_predicted, ylow=1, yhigh=6, model=\"\", predicteds=False, onsame=False, axis=False):\n",
    "    \"\"\"\n",
    "    plot predicted results against actual results. Takes 2 arguments: a\n",
    "    numpy array of actual ratings and a numpy array of predicted ratings\n",
    "    scatterplots the predictions, a unit slope line, line segments joining the mean,\n",
    "    and a filled in area of the standard deviations.\"\n",
    "    \"\"\"\n",
    "    if onsame:\n",
    "        ax=onsame\n",
    "    elif axis:\n",
    "        ax=axis\n",
    "    else:\n",
    "        fig=plt.figure()\n",
    "        ax=plt.gca()\n",
    "    df=pd.DataFrame(dict(actual=stars_actual, predicted=stars_predicted))\n",
    "    xp=[]\n",
    "    yp=[]\n",
    "    for k,v in df.groupby('actual'):\n",
    "        xp.append(k)\n",
    "        yp.append(v.predicted.mean())        \n",
    "    \n",
    "    cl, = ax.plot(xp,yp, 's-', label=\"means for %s\" % model)\n",
    "    c=cl.get_color()\n",
    "\n",
    "    sig=df.groupby('actual').predicted.std().values\n",
    "    ax.fill_between(xp, yp - sig, yp + sig, \n",
    "                 color=c, alpha=0.2)\n",
    "    if predicteds:\n",
    "        ax.plot(df.actual, df.predicted, '.', color=c, alpha=0.1, label=\"predicted for %s\" % model)\n",
    "\n",
    "    if not onsame:\n",
    "        ax.plot([1,5],[1,5], 'k', label=\"slope 1\")\n",
    "        ax.set_xlabel(\"actual\")\n",
    "        ax.set_ylabel(\"predicted\")\n",
    "        ax.set_ylim([ylow,yhigh])\n",
    "        ax.set_xlim([0.9, 4.1])\n",
    "    ax.legend(frameon=False, loc=\"upper left\")\n",
    "    rmse=get_rmse(stars_actual, stars_predicted)\n",
    "    print \"RMSE for %s\" % model, rmse\n",
    "    return ax,rmse"
   ]
  },
  {
   "cell_type": "code",
   "execution_count": 147,
   "metadata": {
    "collapsed": false
   },
   "outputs": [
    {
     "name": "stdout",
     "output_type": "stream",
     "text": [
      "RMSE for Ridge Regression 0.56204531331\n"
     ]
    },
    {
     "data": {
      "text/plain": [
       "(<matplotlib.axes._subplots.AxesSubplot at 0x11b95ec90>, 0.56204531330964036)"
      ]
     },
     "execution_count": 147,
     "metadata": {},
     "output_type": "execute_result"
    },
    {
     "data": {
      "image/png": "[encoded data removed]",
      "text/plain": [
       "<matplotlib.figure.Figure at 0x11b93fb90>"
      ]
     },
     "metadata": {},
     "output_type": "display_data"
    }
   ],
   "source": [
    "compare_results(test_stars, feature_matrix_predictions, model=\"Ridge Regression\", yhigh=5, predicteds=True)"
   ]
  },
  {
   "cell_type": "code",
   "execution_count": null,
   "metadata": {
    "collapsed": true
   },
   "outputs": [],
   "source": []
  }
 ],
 "metadata": {
  "kernelspec": {
   "display_name": "Python 2",
   "language": "python",
   "name": "python2"
  },
  "language_info": {
   "codemirror_mode": {
    "name": "ipython",
    "version": 2
   },
   "file_extension": ".py",
   "mimetype": "text/x-python",
   "name": "python",
   "nbconvert_exporter": "python",
   "pygments_lexer": "ipython2",
   "version": "2.7.10"
  }
 },
 "nbformat": 4,
 "nbformat_minor": 0
}
