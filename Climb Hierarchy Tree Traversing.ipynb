{
 "cells": [
  {
   "cell_type": "markdown",
   "metadata": {},
   "source": [
    "#Traversing Mountain Project"
   ]
  },
  {
   "cell_type": "code",
   "execution_count": null,
   "metadata": {
    "collapsed": true
   },
   "outputs": [],
   "source": [
    "def is_climb(page):\n",
    "    # If you a span with class=\"rateYDS\" inside an h3 header, then the page is a climb\n",
    "    # Alternative, on a climb page you will be able to find the words \"You & This Route\" inside a div with ...\n",
    "    # id=\"youContainer\" whereas on an area page you will instead be able ot find the words \"You & This Area\"\n",
    "    return bool"
   ]
  },
  {
   "cell_type": "code",
   "execution_count": null,
   "metadata": {
    "collapsed": true
   },
   "outputs": [],
   "source": [
    "def get_all_links_down_hierarchy(page):\n",
    "    # The links are found inside of div with id=\"viewerLeftNavColContent\"\n",
    "    # The first div inside this div should have id=\"mpbox########\" where #### will be different for every page\n",
    "    # Every link in id=\"mpbox########\" should be a link going further down the hierarchy with the exception:\n",
    "        # The link associated with <img src=\"/img/up.gif\" .../> should be excluded\n",
    "        # Any links to mountainproject.com/scripts/... should be excluded\n",
    "    return list_of_links"
   ]
  },
  {
   "cell_type": "code",
   "execution_count": null,
   "metadata": {
    "collapsed": true
   },
   "outputs": [],
   "source": [
    "def scrape(url):\n",
    "    # Beautiful soup (or whatever) code here to get page from url\n",
    "    # Ideally, we will do things such that we pass this data on and don't request the link again to ...\n",
    "    # exact other information from the page\n",
    "    return page"
   ]
  },
  {
   "cell_type": "code",
   "execution_count": null,
   "metadata": {
    "collapsed": true
   },
   "outputs": [],
   "source": [
    "def get_number_of_ratings(page):\n",
    "    # Each review on a climb page is in its own table of class=\"comvis\"\n",
    "    # Inside each table are 2 <td> cells; everything we need is in the first; probably best to code this in ...\n",
    "    # because the second is user input and could have weird stuff that throws us off.\n",
    "    # We can get the link to the user by looking for href=\"/u/...\".\n",
    "    # We can get where the user rated the route by see if the <img> with ... \n",
    "    # src=\"http://www.mountainproject.com/img/stars/star_b.gif\" is present in the table.\n",
    "    return number_of_ratings"
   ]
  },
  {
   "cell_type": "code",
   "execution_count": null,
   "metadata": {
    "collapsed": true
   },
   "outputs": [],
   "source": [
    "def extract_climb_info(page):\n",
    "    # Will be copied and adapted from \"Climb Page Scraping.ipynb\"\n",
    "    return climb_info"
   ]
  },
  {
   "cell_type": "code",
   "execution_count": null,
   "metadata": {
    "collapsed": true
   },
   "outputs": [],
   "source": [
    "def extract_links_to_user_pages(page):\n",
    "    # The links from get_number_of_ratings above.  *We only want the links to users who actually rated the\n",
    "    # route and didn't just submit a comment with no rating.\n",
    "    return list_of_links"
   ]
  },
  {
   "cell_type": "code",
   "execution_count": null,
   "metadata": {
    "collapsed": true
   },
   "outputs": [],
   "source": [
    "def extract_user_info(url):\n",
    "    # Will be copied and adapted from \"User Page Scraping.ipynb\"\n",
    "    return user_info"
   ]
  },
  {
   "cell_type": "code",
   "execution_count": null,
   "metadata": {
    "collapsed": true
   },
   "outputs": [],
   "source": [
    "# Let's do the traversing recursively\n",
    "\n",
    "def traverse(url, min_climb_ratings, climbs_info, user_links):\n",
    "    page = scrape(url)\n",
    "    \n",
    "    if !is_climb(page):\n",
    "        links = get_all_links_down_hierarchy(page)\n",
    "        for link in links:\n",
    "            traverse(link, min_climb_ratings)\n",
    "    else:\n",
    "        num_ratings = get_number_of_ratings(page)\n",
    "        if num_ratings >= min_climb_ratings\n",
    "            climbs_info.append(extract_climb_info(page)) # or .update() if we want climbs_info to be a dict\n",
    "            user_links.extend([(link, 1) for link in extract_links_to_user_pages(page)])\n",
    "\n",
    "min_climb_ratings = 10\n",
    "min_user_ratings = 10\n",
    "            \n",
    "climbs_info = [] # or {} if we want climbs_info to be a dict\n",
    "user_links = []\n",
    "top_page = scrape(\"http://www.mountainproject.com/destinations/\")\n",
    "state_links = get_all_links_to_state_pages(top_page)\n",
    "for link in state_links:\n",
    "    traverse(link, min_climb_ratings)\n",
    "    \n",
    "user_links_reduced = map_reduce(user_links) # user_links is now a list of tuples (link_to_user, num_ratings)\n",
    "\n",
    "user_links_filtered = [user[0] for user in user_links_filtered if user[1] >= min_user_ratings]\n",
    "\n",
    "users_info = [] # or {} if we want users_info to be a dict\n",
    "for link in user_links_filtered:\n",
    "    users_info.append(extract_user_info(link))"
   ]
  },
  {
   "cell_type": "code",
   "execution_count": 1,
   "metadata": {
    "collapsed": true
   },
   "outputs": [],
   "source": [
    "# The %... is an iPython thing, and is not part of the Python language.\n",
    "# In this case we're just telling the plotting library to draw things on\n",
    "# the notebook, instead of on a separate window.\n",
    "%matplotlib inline\n",
    "# See all the \"as ...\" contructs? They're just aliasing the package names.\n",
    "# That way we can call methods like plt.plot() instead of matplotlib.pyplot.plot().\n",
    "import numpy as np\n",
    "import scipy as sp\n",
    "import matplotlib as mpl\n",
    "import matplotlib.cm as cm\n",
    "import matplotlib.pyplot as plt\n",
    "import pandas as pd\n",
    "import time\n",
    "pd.set_option('display.width', 500)\n",
    "pd.set_option('display.max_columns', 100)\n",
    "pd.set_option('display.notebook_repr_html', True)\n",
    "import seaborn as sns\n",
    "sns.set_style(\"whitegrid\")\n",
    "sns.set_context(\"poster\")"
   ]
  },
  {
   "cell_type": "code",
   "execution_count": 2,
   "metadata": {
    "collapsed": true
   },
   "outputs": [],
   "source": [
    "from bs4 import BeautifulSoup\n",
    "# The \"requests\" library makes working with HTTP requests easier\n",
    "# than the built-in urllib libraries.\n",
    "import requests"
   ]
  },
  {
   "cell_type": "markdown",
   "metadata": {},
   "source": [
    "The query tool from mountain project allows us to traverse the climbs along three dimensions: location (state), type of climb, and page. The url of each query takes the form:\n",
    "\n",
    "\"http://www.mountainproject.com ... &selectedIds=%[state id]&type=[type string] ... &page=[page #]\"\n",
    "\n",
    "Each page contains a table where each row is a different climb, and contains the link to each climb.\n",
    "\n",
    "First, we need to design a state dictionary which maps each state to its state_id, which will allow us to traverse by state."
   ]
  },
  {
   "cell_type": "code",
   "execution_count": 3,
   "metadata": {
    "collapsed": false
   },
   "outputs": [],
   "source": [
    "#It is fairly easy to get the state id's from the destinations page.\n",
    "states_req = requests.get(\"http://www.mountainproject.com/destinations/\")\n",
    "states_soup = BeautifulSoup(states_req.text, \"html.parser\")\n",
    "\n",
    "#State information is countained in the table with the following attributes/\n",
    "states_table = states_soup.find(\"table\", attrs = {\"align\":\"center\",\"cellspacing\":\"5\", \"cellpadding\":\"0\"})\n",
    "states_entries = states_table.find_all(\"span\", attrs = {\"class\":\"destArea\"})[:-2]\n",
    "\n",
    "#The state id is at the end of the url associated with the state. states_dict is a dictionary where the keys are the\n",
    "#name of the state and the values are the id values.\n",
    "states_dict = {entry.get_text():entry.find(\"a\").get(\"href\").split('/')[-1] for entry in states_entries}"
   ]
  },
  {
   "cell_type": "markdown",
   "metadata": {},
   "source": [
    "Each page from the query is highly standardized, so a single function can be written to get the url's for each route present on a single page."
   ]
  },
  {
   "cell_type": "code",
   "execution_count": 4,
   "metadata": {
    "collapsed": false
   },
   "outputs": [],
   "source": [
    "def get_route_url_loc(page_soup, state):\n",
    "    #The second table with the following attributes is the table containing the url's of interest.\n",
    "    table = page_soup.find_all(\"table\", attrs = {\"class\" : \"objectList\"})[1]\n",
    "    rows = table.find_all(\"tr\")\n",
    "    \n",
    "    #Ignore the first row as it is just the column titles.\n",
    "    all_urls = [r.find_all(\"a\") for r in rows[1:]]\n",
    "    \n",
    "    #The first link present will always be the link for the route. The last link will be the most specific location\n",
    "    #associated with that route.\n",
    "    route_urls = ['http://www.mountainproject.com' + u[0].get(\"href\") for u in all_urls]\n",
    "    loc_urls = ['http://www.mountainproject.com' + u[-1].get(\"href\") for u in all_urls]\n",
    "    \n",
    "    state_list = [state] * len(route_urls)\n",
    "    #route_ids = [url.split('/')[-1] for url in route_urls]\n",
    "    \n",
    "    return route_urls, loc_urls, state_list"
   ]
  },
  {
   "cell_type": "code",
   "execution_count": 43,
   "metadata": {
    "collapsed": false
   },
   "outputs": [],
   "source": [
    "import math\n",
    "\n",
    "#The routes can be queried along 5 different types.\n",
    "types = ['mixed','rock','boulder','ice','aid']\n",
    "\n",
    "url_start = \"http://www.mountainproject.com/scripts/Search.php?searchType=routeFinder&minVotes=10&selectedIds=%27\"\n",
    "url_end = \"&diffMinrock=1800&diffMinboulder=20000&diffMinaid=70000&diffMinice=30000&diffMinmixed=50000&diffMaxrock=5500&diffMaxboulder=21400&diffMaxaid=75260&diffMaxice=38500&diffMaxmixed=60000&is_trad_climb=1&is_sport_climb=1&is_top_rope=1&stars=0&pitches=0&sort1=area&sort2=quality_stars+desc&page=1\" \n",
    "\n",
    "route_urls = []\n",
    "location_urls = []\n",
    "large_states = {}\n",
    "state_list = []\n",
    "\n",
    "expected_length = 0\n",
    "\n",
    "for state_name, state_id in states_dict.iteritems():\n",
    "    for t in types:\n",
    "        #Str conctenation is prefered to string interpolation because the strings are long, causing the interpolation to take long.\n",
    "        \n",
    "        url = url_start + state_id + \"&type=\" + t + url_end\n",
    "        request = requests.get(url)\n",
    "        soup = BeautifulSoup(request.text, \"html.parser\")\n",
    "\n",
    "        #The query displays 50 routes/page, so the total number of routes can be used to determine how many pages must be scraped.\n",
    "        #There is an edge case where the limit on number of routes is 1000, which still needs to be dealt with.\n",
    "        num_routes_str = soup.find(\"div\", attrs ={\"id\": \"navBox\"}).get_text().split(' ')[-2]\n",
    "        \n",
    "        if num_routes_str == \"1,000\":\n",
    "            large_states[state_name] = (state_id, t)\n",
    "        else:\n",
    "            num_routes = int(num_routes_str)\n",
    "            expected_length += num_routes\n",
    "            \n",
    "            #print \"Number of routes is: \" + str(num_routes)\n",
    "            \n",
    "            if num_routes > 0:\n",
    "                num_pages = int(math.ceil(float(num_routes)/50.0))\n",
    "                \n",
    "                #print \"num of pages is: \" + str(num_pages)\n",
    "                a,b,c = get_route_url_loc(soup, state_name)\n",
    "                \n",
    "                #print \"length of route urls page 1 is: \" + str(len(a))\n",
    "                \n",
    "                route_urls.extend(a)\n",
    "                location_urls.extend(b)\n",
    "                state_list.extend(c)\n",
    "                \n",
    "                time.sleep(1)\n",
    "\n",
    "                #If there are more than one pages, then we need to iterate over subsequent pages.\n",
    "                if num_pages > 1:\n",
    "                    for i in range(2,num_pages + 1):\n",
    "                        iter_url = url[:-1] + str(i) #Replace the page number at the end of the url with the next one.\n",
    "\n",
    "                        iter_request = requests.get(iter_url)\n",
    "                        iter_soup = BeautifulSoup(iter_request.text, \"html.parser\")\n",
    "\n",
    "                        a,b,c = get_route_url_loc(iter_soup, state_name)\n",
    "                        \n",
    "                        #print \"length of route urls page\"+ str(i) + \" is: \" + str(len(a))\n",
    "                        \n",
    "                        route_urls.extend(a)\n",
    "                        location_urls.extend(b)\n",
    "                        state_list.extend(c)\n",
    "\n",
    "                        time.sleep(1)"
   ]
  },
  {
   "cell_type": "code",
   "execution_count": 46,
   "metadata": {
    "collapsed": false
   },
   "outputs": [
    {
     "data": {
      "text/plain": [
       "9595"
      ]
     },
     "execution_count": 46,
     "metadata": {},
     "output_type": "execute_result"
    }
   ],
   "source": [
    "len(route_urls)"
   ]
  },
  {
   "cell_type": "code",
   "execution_count": 44,
   "metadata": {
    "collapsed": false
   },
   "outputs": [
    {
     "data": {
      "text/plain": [
       "9595"
      ]
     },
     "execution_count": 44,
     "metadata": {},
     "output_type": "execute_result"
    }
   ],
   "source": [
    "len(state_list)"
   ]
  },
  {
   "cell_type": "code",
   "execution_count": 45,
   "metadata": {
    "collapsed": false
   },
   "outputs": [
    {
     "data": {
      "text/plain": [
       "9595"
      ]
     },
     "execution_count": 45,
     "metadata": {},
     "output_type": "execute_result"
    }
   ],
   "source": [
    "expected_length"
   ]
  },
  {
   "cell_type": "code",
   "execution_count": 47,
   "metadata": {
    "collapsed": false
   },
   "outputs": [
    {
     "name": "stdout",
     "output_type": "stream",
     "text": [
      "{u'California': (u'105708959', 'rock'), u'Arizona': (u'105708962', 'rock'), u'Utah': (u'105708957', 'rock'), u'Colorado': (u'105708956', 'rock')}\n"
     ]
    }
   ],
   "source": [
    "print large_states"
   ]
  },
  {
   "cell_type": "code",
   "execution_count": 48,
   "metadata": {
    "collapsed": true
   },
   "outputs": [],
   "source": [
    "def area_url_state(state):\n",
    "    state_url = \"http://mountainproject.com/v/\" + state.lower() +'/' + large_states[state][0]\n",
    "    state_req = requests.get(state_url)\n",
    "    state_soup = BeautifulSoup(state_req.text,\"html.parser\")\n",
    "    area_table = state_soup.find(\"div\", attrs ={\"class\": \"roundedTop\"})\n",
    "\n",
    "    list_of_areas = area_table.find_all(\"a\")[1:-2]\n",
    "    area_url = [x.get(\"href\") for x in list_of_areas]\n",
    "    area_id = [x.split('/')[-1] for x in area_url]\n",
    "    \n",
    "    return area_url, area_id"
   ]
  },
  {
   "cell_type": "code",
   "execution_count": 51,
   "metadata": {
    "collapsed": false
   },
   "outputs": [],
   "source": [
    "url_start = \"http://www.mountainproject.com/scripts/Search.php?searchType=routeFinder&minVotes=10&selectedIds=%27\"\n",
    "url_end = \"&type=rock&diffMinrock=1800&diffMinboulder=20000&diffMinaid=70000&diffMinice=30000&diffMinmixed=50000&diffMaxrock=5500&diffMaxboulder=21400&diffMaxaid=75260&diffMaxice=38500&diffMaxmixed=60000&is_trad_climb=1&is_sport_climb=1&is_top_rope=1&stars=0&pitches=0&sort1=area&sort2=quality_stars+desc&page=1\" \n",
    "\n",
    "area_route_urls = []\n",
    "area_location_urls = []\n",
    "large_areas = {}\n",
    "area_state_list = []\n",
    "\n",
    "expected_length_area = 0\n",
    "\n",
    "for state in large_states:\n",
    "    \n",
    "    area_url_list, area_id_list = area_url_state(state)\n",
    "    \n",
    "    #state_area_url_dict[state] = a\n",
    "    #state_area_id_dict[state] = b\n",
    "    \n",
    "    for area_id in area_id_list:\n",
    "        area_query_url = url_start + area_id + url_end\n",
    "        area_req = requests.get(area_query_url)\n",
    "        area_soup = BeautifulSoup(area_req.text, \"html.parser\")\n",
    "        \n",
    "        #The query displays 50 routes/page, so the total number of routes can be used to determine how many pages must be scraped.\n",
    "        #There is an edge case where the limit on number of routes is 1000, which still needs to be dealt with.\n",
    "        num_routes_str = area_soup.find(\"div\", attrs ={\"id\": \"navBox\"}).get_text().split(' ')[-2]\n",
    "        \n",
    "        if num_routes_str == \"1,000\":\n",
    "            large_areas[area_id] = state\n",
    "        else:\n",
    "            num_routes = int(num_routes_str)\n",
    "            expected_length_area += num_routes\n",
    "            \n",
    "            if num_routes > 0:\n",
    "                num_pages = int(math.ceil(float(num_routes)/50.0))\n",
    "\n",
    "                a,b,c = get_route_url_loc(area_soup, state)\n",
    "                area_route_urls.extend(a)\n",
    "                area_location_urls.extend(b)\n",
    "                area_state_list.extend(c)\n",
    "                \n",
    "                time.sleep(1)\n",
    "\n",
    "                #If there are more than one pages, then we need to iterate over subsequent pages.\n",
    "                if num_pages > 1:\n",
    "                    for i in range(2,num_pages + 1):\n",
    "                        iter_url = area_query_url[:-1] + str(i) #Replace the page number at the end of the url with the next one.\n",
    "\n",
    "                        iter_request = requests.get(iter_url)\n",
    "                        iter_soup = BeautifulSoup(iter_request.text, \"html.parser\")\n",
    "\n",
    "                        a,b,c = get_route_url_loc(iter_soup, state_name)\n",
    "                        area_route_urls.extend(a)\n",
    "                        area_location_urls.extend(b)\n",
    "                        area_state_list.extend(c)\n",
    "\n",
    "                        time.sleep(1)"
   ]
  },
  {
   "cell_type": "code",
   "execution_count": 52,
   "metadata": {
    "collapsed": false
   },
   "outputs": [
    {
     "data": {
      "text/plain": [
       "8300"
      ]
     },
     "execution_count": 52,
     "metadata": {},
     "output_type": "execute_result"
    }
   ],
   "source": [
    "len(area_route_urls)"
   ]
  },
  {
   "cell_type": "code",
   "execution_count": 53,
   "metadata": {
    "collapsed": false
   },
   "outputs": [
    {
     "data": {
      "text/plain": [
       "8300"
      ]
     },
     "execution_count": 53,
     "metadata": {},
     "output_type": "execute_result"
    }
   ],
   "source": [
    "expected_length_area"
   ]
  },
  {
   "cell_type": "code",
   "execution_count": 54,
   "metadata": {
    "collapsed": false
   },
   "outputs": [
    {
     "data": {
      "text/plain": [
       "{u'105739213': u'Utah'}"
      ]
     },
     "execution_count": 54,
     "metadata": {},
     "output_type": "execute_result"
    }
   ],
   "source": [
    "large_areas"
   ]
  },
  {
   "cell_type": "code",
   "execution_count": 55,
   "metadata": {
    "collapsed": false
   },
   "outputs": [],
   "source": [
    "sub_state = large_areas.values()[0]\n",
    "sub_area_url = \"http://www.mountainproject.com/v/wasatch-range/105739213\"\n",
    "\n",
    "sub_area_req = requests.get(sub_area_url)\n",
    "sub_area_soup = BeautifulSoup(sub_area_req.text,\"html.parser\")\n",
    "sub_area_table = sub_area_soup.find(\"div\", attrs ={\"class\": \"roundedTop\"})\n",
    "list_of_sub_areas = sub_area_table.find_all(\"a\")[1:-2]\n",
    "    \n",
    "sub_area_url = [x.get(\"href\") for x in list_of_sub_areas]\n",
    "sub_area_id = [x.split('/')[-1] for x in sub_area_url]\n",
    "\n",
    "\n",
    "url_start = \"http://www.mountainproject.com/scripts/Search.php?searchType=routeFinder&minVotes=10&selectedIds=%27\"\n",
    "url_end = \"&type=rock&diffMinrock=1800&diffMinboulder=20000&diffMinaid=70000&diffMinice=30000&diffMinmixed=50000&diffMaxrock=5500&diffMaxboulder=21400&diffMaxaid=75260&diffMaxice=38500&diffMaxmixed=60000&is_trad_climb=1&is_sport_climb=1&is_top_rope=1&stars=0&pitches=0&sort1=area&sort2=quality_stars+desc&page=1\" \n",
    "\n",
    "sub_area_route_urls = []\n",
    "sub_area_location_urls = []\n",
    "large_sub_areas = {}\n",
    "sub_area_state_list = []\n",
    "\n",
    "expected_length_sub_area = 0\n",
    "\n",
    "for area_id in sub_area_id:\n",
    "    area_query_url = url_start + area_id + url_end\n",
    "\n",
    "    area_req = requests.get(area_query_url)\n",
    "    area_soup = BeautifulSoup(area_req.text, \"html.parser\")\n",
    "\n",
    "    #The query displays 50 routes/page, so the total number of routes can be used to determine how many pages must be scraped.\n",
    "    #There is an edge case where the limit on number of routes is 1000, which still needs to be dealt with.\n",
    "    num_routes_str = area_soup.find(\"div\", attrs ={\"id\": \"navBox\"}).get_text().split(' ')[-2]\n",
    "    \n",
    "    if num_routes_str == \"1,000\":\n",
    "        large_sub_areas[area_id] = state\n",
    "    else:\n",
    "        num_routes = int(num_routes_str)\n",
    "        expected_length_sub_area += num_routes\n",
    "        \n",
    "        if num_routes > 0:\n",
    "            num_pages = int(math.ceil(float(num_routes)/50.0))\n",
    "\n",
    "            a,b,c = get_route_url_loc(area_soup, sub_state)\n",
    "            sub_area_route_urls.extend(a)\n",
    "            sub_area_location_urls.extend(b)\n",
    "            sub_area_state_list.extend(c)\n",
    "\n",
    "            time.sleep(1)\n",
    "\n",
    "            #If there are more than one pages, then we need to iterate over subsequent pages.\n",
    "            if num_pages > 1:\n",
    "                for i in range(2,num_pages + 1):\n",
    "                    iter_url = area_query_url[:-1] + str(i) #Replace the page number at the end of the url with the next one.\n",
    "\n",
    "                    iter_request = requests.get(iter_url)\n",
    "                    iter_soup = BeautifulSoup(iter_request.text, \"html.parser\")\n",
    "\n",
    "                    a,b,c = get_route_url_loc(iter_soup, state_name)\n",
    "                    sub_area_route_urls.extend(a)\n",
    "                    sub_area_location_urls.extend(b)\n",
    "                    sub_area_state_list.extend(c)\n",
    "\n",
    "                    time.sleep(1)"
   ]
  },
  {
   "cell_type": "code",
   "execution_count": 59,
   "metadata": {
    "collapsed": false
   },
   "outputs": [
    {
     "data": {
      "text/plain": [
       "10601"
      ]
     },
     "execution_count": 59,
     "metadata": {},
     "output_type": "execute_result"
    }
   ],
   "source": [
    "len(sub_area_route_urls)"
   ]
  },
  {
   "cell_type": "code",
   "execution_count": 58,
   "metadata": {
    "collapsed": false
   },
   "outputs": [
    {
     "data": {
      "text/plain": [
       "1006"
      ]
     },
     "execution_count": 58,
     "metadata": {},
     "output_type": "execute_result"
    }
   ],
   "source": [
    "expected_length_sub_area"
   ]
  },
  {
   "cell_type": "code",
   "execution_count": 62,
   "metadata": {
    "collapsed": false
   },
   "outputs": [
    {
     "name": "stdout",
     "output_type": "stream",
     "text": [
      "18901\n",
      "18901\n",
      "18901\n"
     ]
    }
   ],
   "source": [
    "all_route_urls = route_urls + area_route_urls + sub_area_route_urls\n",
    "all_location_urls = location_urls + area_location_urls + sub_area_location_urls\n",
    "all_states = state_list + area_state_list + sub_area_state_list\n",
    "\n",
    "print len(all_route_urls)\n",
    "print len(all_location_urls)\n",
    "print len(all_states)\n",
    "\n",
    "#routes_dict = {'route_url': route_urls, 'location_url': location_urls, 'state':state_list}\n",
    "#df_routes = pd.DataFrame(routes_dict)\n",
    "#df_routes.head()"
   ]
  },
  {
   "cell_type": "code",
   "execution_count": 67,
   "metadata": {
    "collapsed": false
   },
   "outputs": [
    {
     "data": {
      "text/html": [
       "<div>\n",
       "<table border=\"1\" class=\"dataframe\">\n",
       "  <thead>\n",
       "    <tr style=\"text-align: right;\">\n",
       "      <th></th>\n",
       "      <th>location_url</th>\n",
       "      <th>route_url</th>\n",
       "      <th>state</th>\n",
       "    </tr>\n",
       "  </thead>\n",
       "  <tbody>\n",
       "    <tr>\n",
       "      <th>0</th>\n",
       "      <td>http://www.mountainproject.com/v/sea-of-scream...</td>\n",
       "      <td>http://www.mountainproject.com/v/the-hobbit/10...</td>\n",
       "      <td>Oklahoma</td>\n",
       "    </tr>\n",
       "    <tr>\n",
       "      <th>1</th>\n",
       "      <td>http://www.mountainproject.com/v/sea-of-scream...</td>\n",
       "      <td>http://www.mountainproject.com/v/accidents-wil...</td>\n",
       "      <td>Oklahoma</td>\n",
       "    </tr>\n",
       "    <tr>\n",
       "      <th>2</th>\n",
       "      <td>http://www.mountainproject.com/v/sea-of-scream...</td>\n",
       "      <td>http://www.mountainproject.com/v/super-slide/1...</td>\n",
       "      <td>Oklahoma</td>\n",
       "    </tr>\n",
       "    <tr>\n",
       "      <th>3</th>\n",
       "      <td>http://www.mountainproject.com/v/sea-of-scream...</td>\n",
       "      <td>http://www.mountainproject.com/v/whos-got-the-...</td>\n",
       "      <td>Oklahoma</td>\n",
       "    </tr>\n",
       "    <tr>\n",
       "      <th>4</th>\n",
       "      <td>http://www.mountainproject.com/v/headwall/1058...</td>\n",
       "      <td>http://www.mountainproject.com/v/last-of-the-g...</td>\n",
       "      <td>Oklahoma</td>\n",
       "    </tr>\n",
       "  </tbody>\n",
       "</table>\n",
       "</div>"
      ],
      "text/plain": [
       "                                        location_url                                          route_url     state\n",
       "0  http://www.mountainproject.com/v/sea-of-scream...  http://www.mountainproject.com/v/the-hobbit/10...  Oklahoma\n",
       "1  http://www.mountainproject.com/v/sea-of-scream...  http://www.mountainproject.com/v/accidents-wil...  Oklahoma\n",
       "2  http://www.mountainproject.com/v/sea-of-scream...  http://www.mountainproject.com/v/super-slide/1...  Oklahoma\n",
       "3  http://www.mountainproject.com/v/sea-of-scream...  http://www.mountainproject.com/v/whos-got-the-...  Oklahoma\n",
       "4  http://www.mountainproject.com/v/headwall/1058...  http://www.mountainproject.com/v/last-of-the-g...  Oklahoma"
      ]
     },
     "execution_count": 67,
     "metadata": {},
     "output_type": "execute_result"
    }
   ],
   "source": [
    "routes_dict = {'route_url': all_route_urls, 'location_url': all_location_urls, 'state': all_states}\n",
    "df_routes = pd.DataFrame(routes_dict)\n",
    "df_routes.head()"
   ]
  },
  {
   "cell_type": "code",
   "execution_count": 68,
   "metadata": {
    "collapsed": false
   },
   "outputs": [
    {
     "data": {
      "text/html": [
       "<div>\n",
       "<table border=\"1\" class=\"dataframe\">\n",
       "  <thead>\n",
       "    <tr style=\"text-align: right;\">\n",
       "      <th></th>\n",
       "      <th>location_url</th>\n",
       "      <th>route_url</th>\n",
       "      <th>state</th>\n",
       "    </tr>\n",
       "  </thead>\n",
       "  <tbody>\n",
       "    <tr>\n",
       "      <th>2416</th>\n",
       "      <td>http://www.mountainproject.com/v/chaos-boulder...</td>\n",
       "      <td>http://www.mountainproject.com/v/circus-trick/...</td>\n",
       "      <td>Utah</td>\n",
       "    </tr>\n",
       "    <tr>\n",
       "      <th>2417</th>\n",
       "      <td>http://www.mountainproject.com/v/the-black-box...</td>\n",
       "      <td>http://www.mountainproject.com/v/arete-left-si...</td>\n",
       "      <td>Utah</td>\n",
       "    </tr>\n",
       "    <tr>\n",
       "      <th>2418</th>\n",
       "      <td>http://www.mountainproject.com/v/the-black-box...</td>\n",
       "      <td>http://www.mountainproject.com/v/arete-right-s...</td>\n",
       "      <td>Utah</td>\n",
       "    </tr>\n",
       "    <tr>\n",
       "      <th>2419</th>\n",
       "      <td>http://www.mountainproject.com/v/the-black-box...</td>\n",
       "      <td>http://www.mountainproject.com/v/slots-of-fun/...</td>\n",
       "      <td>Utah</td>\n",
       "    </tr>\n",
       "    <tr>\n",
       "      <th>2420</th>\n",
       "      <td>http://www.mountainproject.com/v/the-black-box...</td>\n",
       "      <td>http://www.mountainproject.com/v/center-start/...</td>\n",
       "      <td>Utah</td>\n",
       "    </tr>\n",
       "    <tr>\n",
       "      <th>2421</th>\n",
       "      <td>http://www.mountainproject.com/v/flat-top-boul...</td>\n",
       "      <td>http://www.mountainproject.com/v/silly-wabbit/...</td>\n",
       "      <td>Utah</td>\n",
       "    </tr>\n",
       "    <tr>\n",
       "      <th>2422</th>\n",
       "      <td>http://www.mountainproject.com/v/flat-top-boul...</td>\n",
       "      <td>http://www.mountainproject.com/v/the-pregnancy...</td>\n",
       "      <td>Utah</td>\n",
       "    </tr>\n",
       "    <tr>\n",
       "      <th>2423</th>\n",
       "      <td>http://www.mountainproject.com/v/flat-top-boul...</td>\n",
       "      <td>http://www.mountainproject.com/v/mr-trujillos-...</td>\n",
       "      <td>Utah</td>\n",
       "    </tr>\n",
       "    <tr>\n",
       "      <th>2424</th>\n",
       "      <td>http://www.mountainproject.com/v/flat-top-boul...</td>\n",
       "      <td>http://www.mountainproject.com/v/leftover-love...</td>\n",
       "      <td>Utah</td>\n",
       "    </tr>\n",
       "    <tr>\n",
       "      <th>2425</th>\n",
       "      <td>http://www.mountainproject.com/v/flat-top-boul...</td>\n",
       "      <td>http://www.mountainproject.com/v/kick-start-lo...</td>\n",
       "      <td>Utah</td>\n",
       "    </tr>\n",
       "  </tbody>\n",
       "</table>\n",
       "</div>"
      ],
      "text/plain": [
       "                                           location_url                                          route_url state\n",
       "2416  http://www.mountainproject.com/v/chaos-boulder...  http://www.mountainproject.com/v/circus-trick/...  Utah\n",
       "2417  http://www.mountainproject.com/v/the-black-box...  http://www.mountainproject.com/v/arete-left-si...  Utah\n",
       "2418  http://www.mountainproject.com/v/the-black-box...  http://www.mountainproject.com/v/arete-right-s...  Utah\n",
       "2419  http://www.mountainproject.com/v/the-black-box...  http://www.mountainproject.com/v/slots-of-fun/...  Utah\n",
       "2420  http://www.mountainproject.com/v/the-black-box...  http://www.mountainproject.com/v/center-start/...  Utah\n",
       "2421  http://www.mountainproject.com/v/flat-top-boul...  http://www.mountainproject.com/v/silly-wabbit/...  Utah\n",
       "2422  http://www.mountainproject.com/v/flat-top-boul...  http://www.mountainproject.com/v/the-pregnancy...  Utah\n",
       "2423  http://www.mountainproject.com/v/flat-top-boul...  http://www.mountainproject.com/v/mr-trujillos-...  Utah\n",
       "2424  http://www.mountainproject.com/v/flat-top-boul...  http://www.mountainproject.com/v/leftover-love...  Utah\n",
       "2425  http://www.mountainproject.com/v/flat-top-boul...  http://www.mountainproject.com/v/kick-start-lo...  Utah"
      ]
     },
     "execution_count": 68,
     "metadata": {},
     "output_type": "execute_result"
    }
   ],
   "source": [
    "df_routes[df_routes['state'] == 'Utah'].head(10)"
   ]
  },
  {
   "cell_type": "code",
   "execution_count": 69,
   "metadata": {
    "collapsed": true
   },
   "outputs": [],
   "source": [
    "df_routes.to_csv(\"df_routes.csv\")"
   ]
  },
  {
   "cell_type": "code",
   "execution_count": 147,
   "metadata": {
    "collapsed": false
   },
   "outputs": [],
   "source": [
    "def get_location(url):\n",
    "    numerical_coords = (0,0)\n",
    "    loc_req = requests.get(url)\n",
    "    loc_soup = BeautifulSoup(loc_req.text, \"html.parser\")\n",
    "    \n",
    "    #This brings up the table near the top of the page that has location information, if available\n",
    "    loc_table = loc_soup.find(\"div\", attrs ={\"class\":\"rspCol\", \"style\":\"max-width:500px;\"})\n",
    "    #The most direct way to find the location is with the url's: a location is always followed by a map url\n",
    "    table_urls = loc_table.find_all(\"a\", attrs ={\"target\":\"_blank\"})\n",
    "    \n",
    "    for u in table_urls:\n",
    "        #Each map url is labeled by View Map, which allows us to select the location row.\n",
    "        if u.get_text() == 'View Map':\n",
    "            #The most direct way to get the coordinates of the location is by using the coordinates present in the url.\n",
    "            #To access these locations, the url string is split - This splitting is consistent across all map url's.\n",
    "            coords = u.get(\"href\").split('=')[1].split('&')[0].split(',')\n",
    "            numerical_coords = (float(coords[0]), float(coords[1])) #convert unicode coordinates to floats in a tuple.\n",
    "    time.sleep(1)\n",
    "    \n",
    "    \n",
    "    return numerical_coords"
   ]
  },
  {
   "cell_type": "markdown",
   "metadata": {},
   "source": [
    "The following code takes a long time to run since it includes a 1 second break with each url.\n",
    "\n",
    "For debugging, I take a sample of first 120 url's"
   ]
  },
  {
   "cell_type": "code",
   "execution_count": 145,
   "metadata": {
    "collapsed": false
   },
   "outputs": [],
   "source": [
    "#lat_long = [get_location(loc) for loc in location_urls[0:120]]\n",
    "\n",
    "numerical_coords = [(0,0)] * 121\n",
    "\n",
    "for loc in location_urls[0:120]:\n",
    "    \n",
    "    \n"
   ]
  },
  {
   "cell_type": "code",
   "execution_count": 34,
   "metadata": {
    "collapsed": false
   },
   "outputs": [
    {
     "data": {
      "text/plain": [
       "[(44.15516, -71.36736),\n",
       " (44.15601, -71.68723),\n",
       " (44.06349, -71.16594),\n",
       " (44.19325, -71.39333),\n",
       " (43.80386, -71.84091),\n",
       " (43.80386, -71.84091),\n",
       " (43.80386, -71.84091),\n",
       " (43.80386, -71.84091),\n",
       " (43.8025, -71.83593),\n",
       " (43.8025, -71.83593),\n",
       " (43.8025, -71.83593),\n",
       " (43.8025, -71.83593),\n",
       " (43.8025, -71.83593),\n",
       " (43.8025, -71.83593),\n",
       " (43.8025, -71.83593),\n",
       " (43.8025, -71.83593),\n",
       " (43.8025, -71.83593),\n",
       " (43.8025, -71.83593),\n",
       " (43.8025, -71.83593),\n",
       " (43.8025, -71.83593),\n",
       " (43.8025, -71.83593),\n",
       " (43.8025, -71.83593),\n",
       " (43.80417, -71.84037),\n",
       " (43.80417, -71.84037),\n",
       " (43.80417, -71.84037),\n",
       " (43.80417, -71.84037),\n",
       " (43.80417, -71.84037),\n",
       " (43.80417, -71.84037),\n",
       " (43.80417, -71.84037),\n",
       " (43.80417, -71.84037),\n",
       " (43.80417, -71.84037),\n",
       " (43.80417, -71.84037),\n",
       " (43.80417, -71.84037),\n",
       " (43.80417, -71.84037),\n",
       " (43.80288, -71.83926),\n",
       " (43.80288, -71.83926),\n",
       " (43.80288, -71.83926),\n",
       " (43.80288, -71.83926),\n",
       " (43.80288, -71.83926),\n",
       " (43.80288, -71.83926),\n",
       " (43.80288, -71.83926),\n",
       " (43.80288, -71.83926),\n",
       " (43.80188, -71.8375),\n",
       " (43.80188, -71.8375),\n",
       " (43.80188, -71.8375),\n",
       " (43.80105, -71.83823),\n",
       " (43.80105, -71.83823),\n",
       " (43.80105, -71.83823),\n",
       " (43.80105, -71.83823),\n",
       " (43.80105, -71.83823),\n",
       " (43.80105, -71.83823),\n",
       " (43.80105, -71.83823),\n",
       " (43.80105, -71.83823),\n",
       " (43.80105, -71.83823),\n",
       " (43.80105, -71.83823),\n",
       " (43.80105, -71.83823),\n",
       " (43.80105, -71.83823),\n",
       " (43.80105, -71.83823),\n",
       " (43.80105, -71.83823),\n",
       " (43.80105, -71.83823),\n",
       " (43.80105, -71.83823),\n",
       " (43.80105, -71.83823),\n",
       " (43.80352, -71.8404),\n",
       " (43.80352, -71.8404),\n",
       " (43.80352, -71.8404),\n",
       " (43.80352, -71.8404),\n",
       " (43.80352, -71.8404),\n",
       " (43.80293, -71.83513),\n",
       " (43.80293, -71.83513),\n",
       " (43.80293, -71.83513),\n",
       " (43.80293, -71.83513),\n",
       " (43.80293, -71.83513),\n",
       " (43.80293, -71.83513),\n",
       " (43.80293, -71.83513),\n",
       " (43.80293, -71.83513),\n",
       " (43.80293, -71.83513),\n",
       " (43.80293, -71.83513),\n",
       " (43.80293, -71.83513),\n",
       " (43.80293, -71.83513),\n",
       " (43.80285, -71.83444),\n",
       " (43.80285, -71.83444),\n",
       " (43.80285, -71.83444),\n",
       " (43.80285, -71.83444),\n",
       " (43.80285, -71.83444),\n",
       " (43.80285, -71.83444),\n",
       " (43.80285, -71.83444),\n",
       " (43.80285, -71.83444),\n",
       " (43.80285, -71.83444),\n",
       " (43.80285, -71.83444),\n",
       " (43.80285, -71.83444),\n",
       " (43.80274, -71.83029),\n",
       " (43.80274, -71.83029),\n",
       " (43.80274, -71.83029),\n",
       " (43.80274, -71.83029),\n",
       " (43.80274, -71.83029),\n",
       " (43.80274, -71.83029),\n",
       " (43.80274, -71.83029),\n",
       " (43.80274, -71.83029),\n",
       " (43.80274, -71.83029),\n",
       " (43.80274, -71.83029),\n",
       " (43.80274, -71.83029),\n",
       " (43.80274, -71.83029),\n",
       " (43.80274, -71.83029),\n",
       " (43.80274, -71.83029),\n",
       " (43.80274, -71.83029),\n",
       " (43.80274, -71.83029),\n",
       " (43.80274, -71.83029),\n",
       " (43.80274, -71.83029),\n",
       " (43.80274, -71.83029),\n",
       " (0, 0),\n",
       " (0, 0),\n",
       " (0, 0),\n",
       " (0, 0),\n",
       " (0, 0),\n",
       " (0, 0),\n",
       " (0, 0),\n",
       " (0, 0),\n",
       " (0, 0),\n",
       " (0, 0),\n",
       " (0, 0)]"
      ]
     },
     "execution_count": 34,
     "metadata": {},
     "output_type": "execute_result"
    }
   ],
   "source": [
    "lat_long"
   ]
  },
  {
   "cell_type": "markdown",
   "metadata": {},
   "source": [
    "(0,0) entries above indicate locations without data. This edge case still needs to be dealt with, but will likely involve going to the next less specific location."
   ]
  },
  {
   "cell_type": "code",
   "execution_count": 33,
   "metadata": {
    "collapsed": false
   },
   "outputs": [
    {
     "data": {
      "text/plain": [
       "151"
      ]
     },
     "execution_count": 33,
     "metadata": {},
     "output_type": "execute_result"
    }
   ],
   "source": [
    "len(set(location_urls)) # There are much fewer unique locations, this can be a time-saving avenue. Likely requires a dictionary."
   ]
  },
  {
   "cell_type": "markdown",
   "metadata": {},
   "source": [
    "Code below was an example used to determine how to get locations out."
   ]
  },
  {
   "cell_type": "code",
   "execution_count": 85,
   "metadata": {
    "collapsed": false
   },
   "outputs": [],
   "source": [
    "loc_url = location_urls[0]"
   ]
  },
  {
   "cell_type": "code",
   "execution_count": 86,
   "metadata": {
    "collapsed": false
   },
   "outputs": [],
   "source": [
    "loc_req = requests.get(loc_url)\n",
    "loc_soup = BeautifulSoup(loc_req.text, \"html.parser\")"
   ]
  },
  {
   "cell_type": "code",
   "execution_count": 87,
   "metadata": {
    "collapsed": true
   },
   "outputs": [],
   "source": [
    "loc_table = loc_soup.find_all(\"table\", attrs ={\"cellpadding\":\"0\",\"cellspacing\":\"0\"} )"
   ]
  },
  {
   "cell_type": "code",
   "execution_count": 88,
   "metadata": {
    "collapsed": true
   },
   "outputs": [],
   "source": [
    "loc_table = loc_soup.find(\"div\", attrs ={\"class\":\"rspCol\", \"style\":\"max-width:500px;\"})\n",
    "urls = loc_table.find_all(\"a\", attrs ={\"target\":\"_blank\"})"
   ]
  },
  {
   "cell_type": "code",
   "execution_count": 95,
   "metadata": {
    "collapsed": false
   },
   "outputs": [
    {
     "data": {
      "text/plain": [
       "[<a href=\"http://forecast.weather.gov/MapClick.php?textField1=34.89&amp;textField2=-99.3\" target=\"_blank\"><img class=\"nws\" src=\"/images/weather/httpforecastweathergovnewimagesmediumskcpng.png\"/><br/>55° | 30°</a>,\n",
       " <a href=\"http://forecast.weather.gov/MapClick.php?textField1=34.89&amp;textField2=-99.3\" target=\"_blank\"><img class=\"nws\" src=\"/images/weather/httpforecastweathergovnewimagesmediumfewpng.png\"/><br/>58° | 34°</a>,\n",
       " <a href=\"http://forecast.weather.gov/MapClick.php?textField1=34.89&amp;textField2=-99.3\" target=\"_blank\"><img class=\"nws\" src=\"/images/weather/httpforecastweathergovnewimagesmediumfewpng.png\"/><br/>57° | 36°</a>,\n",
       " <a href=\"http://forecast.weather.gov/MapClick.php?textField1=34.89&amp;textField2=-99.3\" target=\"_blank\"><img class=\"nws\" src=\"/images/weather/httpforecastweathergovnewimagesmediumsctpng.png\"/><br/>55° | 36°</a>,\n",
       " <a href=\"http://forecast.weather.gov/MapClick.php?textField1=34.89&amp;textField2=-99.3\" target=\"_blank\"><img class=\"nws\" src=\"/images/weather/httpforecastweathergovnewimagesmediumsctpng.png\"/><br/>55° | 33°</a>,\n",
       " <a href=\"http://forecast.weather.gov/MapClick.php?textField1=34.89&amp;textField2=-99.3\" target=\"_blank\"><img class=\"nws\" src=\"/images/weather/httpforecastweathergovnewimagesmediumfewpng.png\"/><br/>57° | 34°</a>]"
      ]
     },
     "execution_count": 95,
     "metadata": {},
     "output_type": "execute_result"
    }
   ],
   "source": [
    "urls"
   ]
  },
  {
   "cell_type": "code",
   "execution_count": 138,
   "metadata": {
    "collapsed": false
   },
   "outputs": [],
   "source": [
    "numerical_coords = [0,0]\n",
    "for u in urls:\n",
    "    if u.get_text() == 'View Map':\n",
    "        coords = u.get(\"href\").split('=')[1].split('&')[0].split(',')\n",
    "        numerical_coords = [float(x) for x in coords]\n",
    "if numerical_coords == [0,0]:\n",
    "    less_specific_area = loc_soup.find(\"div\", attrs ={\"id\":\"navBox\"}).find_all(\"a\")\n",
    "    less_specific_url = [x.get(\"href\") for x in less_specific_area]\n",
    "    i= 1\n",
    "   # while numerical_coords == [0,0]:\n",
    "    less_specific_req = requests.get(\"http://www.mountainproject.com\"+ less_specific_url[-i])\n",
    "    less_specific_soup = BeautifulSoup(less_specific_req.text,\"html.parser\")\n",
    "    \n",
    "    less_specific_table = less_specific_soup.find(\"div\", attrs ={\"class\":\"rspCol\", \"style\":\"max-width:500px;\"})\n",
    "    new_urls = less_specific_table.find_all(\"a\", attrs ={\"target\":\"_blank\"})\n",
    "    \n",
    "    for u in new_urls:\n",
    "        if u.get_text() == 'View Map':\n",
    "            coords = u.get(\"href\").split('=')[1].split('&')[0].split(',')\n",
    "            numerical_coords = [float(x) for x in coords]"
   ]
  },
  {
   "cell_type": "code",
   "execution_count": 139,
   "metadata": {
    "collapsed": false
   },
   "outputs": [
    {
     "data": {
      "text/plain": [
       "[34.8913, -99.3014]"
      ]
     },
     "execution_count": 139,
     "metadata": {},
     "output_type": "execute_result"
    }
   ],
   "source": [
    "numerical_coords"
   ]
  },
  {
   "cell_type": "code",
   "execution_count": 137,
   "metadata": {
    "collapsed": false
   },
   "outputs": [
    {
     "data": {
      "text/plain": [
       "[<a href=\"http://maps.google.com/maps?q=34.8913,-99.3014&amp;t=h&amp;hl=en\" target=\"_blank\">View Map</a>,\n",
       " <a href=\"http://forecast.weather.gov/MapClick.php?textField1=34.89&amp;textField2=-99.3\" target=\"_blank\"><img class=\"nws\" src=\"/images/weather/httpforecastweathergovnewimagesmediumskcpng.png\"/><br/>55° | 30°</a>,\n",
       " <a href=\"http://forecast.weather.gov/MapClick.php?textField1=34.89&amp;textField2=-99.3\" target=\"_blank\"><img class=\"nws\" src=\"/images/weather/httpforecastweathergovnewimagesmediumfewpng.png\"/><br/>58° | 34°</a>,\n",
       " <a href=\"http://forecast.weather.gov/MapClick.php?textField1=34.89&amp;textField2=-99.3\" target=\"_blank\"><img class=\"nws\" src=\"/images/weather/httpforecastweathergovnewimagesmediumfewpng.png\"/><br/>57° | 36°</a>,\n",
       " <a href=\"http://forecast.weather.gov/MapClick.php?textField1=34.89&amp;textField2=-99.3\" target=\"_blank\"><img class=\"nws\" src=\"/images/weather/httpforecastweathergovnewimagesmediumsctpng.png\"/><br/>55° | 36°</a>,\n",
       " <a href=\"http://forecast.weather.gov/MapClick.php?textField1=34.89&amp;textField2=-99.3\" target=\"_blank\"><img class=\"nws\" src=\"/images/weather/httpforecastweathergovnewimagesmediumsctpng.png\"/><br/>55° | 33°</a>,\n",
       " <a href=\"http://forecast.weather.gov/MapClick.php?textField1=34.89&amp;textField2=-99.3\" target=\"_blank\"><img class=\"nws\" src=\"/images/weather/httpforecastweathergovnewimagesmediumfewpng.png\"/><br/>57° | 34°</a>]"
      ]
     },
     "execution_count": 137,
     "metadata": {},
     "output_type": "execute_result"
    }
   ],
   "source": [
    "new_urls"
   ]
  },
  {
   "cell_type": "code",
   "execution_count": 135,
   "metadata": {
    "collapsed": false
   },
   "outputs": [
    {
     "data": {
      "text/plain": [
       "[<a href=\"http://maps.google.com/maps?q=34.8913,-99.3014&amp;t=h&amp;hl=en\" target=\"_blank\">View Map</a>,\n",
       " <a href=\"http://forecast.weather.gov/MapClick.php?textField1=34.89&amp;textField2=-99.3\" target=\"_blank\"><img class=\"nws\" src=\"/images/weather/httpforecastweathergovnewimagesmediumskcpng.png\"/><br/>55° | 30°</a>,\n",
       " <a href=\"http://forecast.weather.gov/MapClick.php?textField1=34.89&amp;textField2=-99.3\" target=\"_blank\"><img class=\"nws\" src=\"/images/weather/httpforecastweathergovnewimagesmediumfewpng.png\"/><br/>58° | 34°</a>,\n",
       " <a href=\"http://forecast.weather.gov/MapClick.php?textField1=34.89&amp;textField2=-99.3\" target=\"_blank\"><img class=\"nws\" src=\"/images/weather/httpforecastweathergovnewimagesmediumfewpng.png\"/><br/>57° | 36°</a>,\n",
       " <a href=\"http://forecast.weather.gov/MapClick.php?textField1=34.89&amp;textField2=-99.3\" target=\"_blank\"><img class=\"nws\" src=\"/images/weather/httpforecastweathergovnewimagesmediumsctpng.png\"/><br/>55° | 36°</a>,\n",
       " <a href=\"http://forecast.weather.gov/MapClick.php?textField1=34.89&amp;textField2=-99.3\" target=\"_blank\"><img class=\"nws\" src=\"/images/weather/httpforecastweathergovnewimagesmediumsctpng.png\"/><br/>55° | 33°</a>,\n",
       " <a href=\"http://forecast.weather.gov/MapClick.php?textField1=34.89&amp;textField2=-99.3\" target=\"_blank\"><img class=\"nws\" src=\"/images/weather/httpforecastweathergovnewimagesmediumfewpng.png\"/><br/>57° | 34°</a>]"
      ]
     },
     "execution_count": 135,
     "metadata": {},
     "output_type": "execute_result"
    }
   ],
   "source": [
    "less_specific_table.find_all(\"a\", attrs = {\"target\": \"_blank\"})"
   ]
  },
  {
   "cell_type": "code",
   "execution_count": 113,
   "metadata": {
    "collapsed": false
   },
   "outputs": [
    {
     "data": {
      "text/plain": [
       "u'http://www.mountainproject.com/v/sea-of-screams/105866044'"
      ]
     },
     "execution_count": 113,
     "metadata": {},
     "output_type": "execute_result"
    }
   ],
   "source": [
    "loc_url"
   ]
  },
  {
   "cell_type": "code",
   "execution_count": 120,
   "metadata": {
    "collapsed": false
   },
   "outputs": [
    {
     "data": {
      "text/plain": [
       "u'http://www.mountainproject.com/v/quartz-mountain/105854470'"
      ]
     },
     "execution_count": 120,
     "metadata": {},
     "output_type": "execute_result"
    }
   ],
   "source": [
    "\"http://www.mountainproject.com\" + less_specific_url[-i]"
   ]
  },
  {
   "cell_type": "code",
   "execution_count": 106,
   "metadata": {
    "collapsed": false
   },
   "outputs": [
    {
     "data": {
      "text/plain": [
       "-1"
      ]
     },
     "execution_count": 106,
     "metadata": {},
     "output_type": "execute_result"
    }
   ],
   "source": [
    "i = 1\n",
    "-i"
   ]
  },
  {
   "cell_type": "code",
   "execution_count": 108,
   "metadata": {
    "collapsed": false
   },
   "outputs": [
    {
     "data": {
      "text/plain": [
       "[u'/destinations/', u'/v/oklahoma/105854466', u'/v/quartz-mountain/105854470']"
      ]
     },
     "execution_count": 108,
     "metadata": {},
     "output_type": "execute_result"
    }
   ],
   "source": [
    "less_specific_url"
   ]
  },
  {
   "cell_type": "code",
   "execution_count": 83,
   "metadata": {
    "collapsed": false
   },
   "outputs": [
    {
     "name": "stdout",
     "output_type": "stream",
     "text": [
      "[u'105796934', u'109078641', u'105865039', u'105791817', u'105903783', u'105720495', u'105904319', u'105733968', u'105846963', u'105793881', u'105790243', u'105733851', u'105991052', u'108147148', u'105798288', u'107098288', u'105798291', u'105788020', u'105833381']\n"
     ]
    }
   ],
   "source": [
    "state = 'California'\n",
    "\n",
    "#  id=\"mpbox1077091319\" \n",
    "\n",
    "state_url = \"http://mountainproject.com/v/\" + state.lower() +'/' + large_states[state][0]\n",
    "state_req = requests.get(state_url)\n",
    "state_soup = BeautifulSoup(state_req.text,\"html.parser\")\n",
    "area_table = state_soup.find(\"div\", attrs ={\"class\": \"roundedTop\"})\n",
    "\n",
    "list_of_areas = area_table.find_all(\"a\")[1:-2]\n",
    "area_url = [x.get(\"href\") for x in list_of_areas]\n",
    "area_id = [x.split('/')[-1] for x in area_url]\n",
    "\n",
    "\n",
    "print area_id"
   ]
  }
 ],
 "metadata": {
  "kernelspec": {
   "display_name": "Python 2",
   "language": "python",
   "name": "python2"
  },
  "language_info": {
   "codemirror_mode": {
    "name": "ipython",
    "version": 2
   },
   "file_extension": ".py",
   "mimetype": "text/x-python",
   "name": "python",
   "nbconvert_exporter": "python",
   "pygments_lexer": "ipython2",
   "version": "2.7.10"
  }
 },
 "nbformat": 4,
 "nbformat_minor": 0
}
