{
 "cells": [
  {
   "cell_type": "markdown",
   "metadata": {},
   "source": [
    "#Traversing Mountain Project"
   ]
  },
  {
   "cell_type": "code",
   "execution_count": null,
   "metadata": {
    "collapsed": true
   },
   "outputs": [],
   "source": [
    "def is_climb(page):\n",
    "    # If you a span with class=\"rateYDS\" inside an h3 header, then the page is a climb\n",
    "    # Alternative, on a climb page you will be able to find the words \"You & This Route\" inside a div with ...\n",
    "    # id=\"youContainer\" whereas on an area page you will instead be able ot find the words \"You & This Area\"\n",
    "    return bool"
   ]
  },
  {
   "cell_type": "code",
   "execution_count": null,
   "metadata": {
    "collapsed": true
   },
   "outputs": [],
   "source": [
    "def get_all_links_down_hierarchy(page):\n",
    "    # The links are found inside of div with id=\"viewerLeftNavColContent\"\n",
    "    # The first div inside this div should have id=\"mpbox########\" where #### will be different for every page\n",
    "    # Every link in id=\"mpbox########\" should be a link going further down the hierarchy with the exception:\n",
    "        # The link associated with <img src=\"/img/up.gif\" .../> should be excluded\n",
    "        # Any links to mountainproject.com/scripts/... should be excluded\n",
    "    return list_of_links"
   ]
  },
  {
   "cell_type": "code",
   "execution_count": null,
   "metadata": {
    "collapsed": true
   },
   "outputs": [],
   "source": [
    "def scrape(url):\n",
    "    # Beautiful soup (or whatever) code here to get page from url\n",
    "    # Ideally, we will do things such that we pass this data on and don't request the link again to ...\n",
    "    # exact other information from the page\n",
    "    return page"
   ]
  },
  {
   "cell_type": "code",
   "execution_count": null,
   "metadata": {
    "collapsed": true
   },
   "outputs": [],
   "source": [
    "def get_number_of_ratings(page):\n",
    "    # Each review on a climb page is in its own table of class=\"comvis\"\n",
    "    # Inside each table are 2 <td> cells; everything we need is in the first; probably best to code this in ...\n",
    "    # because the second is user input and could have weird stuff that throws us off.\n",
    "    # We can get the link to the user by looking for href=\"/u/...\".\n",
    "    # We can get where the user rated the route by see if the <img> with ... \n",
    "    # src=\"http://www.mountainproject.com/img/stars/star_b.gif\" is present in the table.\n",
    "    return number_of_ratings"
   ]
  },
  {
   "cell_type": "code",
   "execution_count": null,
   "metadata": {
    "collapsed": true
   },
   "outputs": [],
   "source": [
    "def extract_climb_info(page):\n",
    "    # Will be copied and adapted from \"Climb Page Scraping.ipynb\"\n",
    "    return climb_info"
   ]
  },
  {
   "cell_type": "code",
   "execution_count": null,
   "metadata": {
    "collapsed": true
   },
   "outputs": [],
   "source": [
    "def extract_links_to_user_pages(page):\n",
    "    # The links from get_number_of_ratings above.  *We only want the links to users who actually rated the\n",
    "    # route and didn't just submit a comment with no rating.\n",
    "    return list_of_links"
   ]
  },
  {
   "cell_type": "code",
   "execution_count": null,
   "metadata": {
    "collapsed": true
   },
   "outputs": [],
   "source": [
    "def extract_user_info(url):\n",
    "    # Will be copied and adapted from \"User Page Scraping.ipynb\"\n",
    "    return user_info"
   ]
  },
  {
   "cell_type": "code",
   "execution_count": null,
   "metadata": {
    "collapsed": true
   },
   "outputs": [],
   "source": [
    "# Let's do the traversing recursively\n",
    "\n",
    "def traverse(url, min_climb_ratings, climbs_info, user_links):\n",
    "    page = scrape(url)\n",
    "    \n",
    "    if !is_climb(page):\n",
    "        links = get_all_links_down_hierarchy(page)\n",
    "        for link in links:\n",
    "            traverse(link, min_climb_ratings)\n",
    "    else:\n",
    "        num_ratings = get_number_of_ratings(page)\n",
    "        if num_ratings >= min_climb_ratings\n",
    "            climbs_info.append(extract_climb_info(page)) # or .update() if we want climbs_info to be a dict\n",
    "            user_links.extend([(link, 1) for link in extract_links_to_user_pages(page)])\n",
    "\n",
    "min_climb_ratings = 10\n",
    "min_user_ratings = 10\n",
    "            \n",
    "climbs_info = [] # or {} if we want climbs_info to be a dict\n",
    "user_links = []\n",
    "top_page = scrape(\"http://www.mountainproject.com/destinations/\")\n",
    "state_links = get_all_links_to_state_pages(top_page)\n",
    "for link in state_links:\n",
    "    traverse(link, min_climb_ratings)\n",
    "    \n",
    "user_links_reduced = map_reduce(user_links) # user_links is now a list of tuples (link_to_user, num_ratings)\n",
    "\n",
    "user_links_filtered = [user[0] for user in user_links_filtered if user[1] >= min_user_ratings]\n",
    "\n",
    "users_info = [] # or {} if we want users_info to be a dict\n",
    "for link in user_links_filtered:\n",
    "    users_info.append(extract_user_info(link))"
   ]
  },
  {
   "cell_type": "code",
   "execution_count": null,
   "metadata": {
    "collapsed": true
   },
   "outputs": [],
   "source": [
    "\"http://www.mountainproject.com/scripts/Search.php?searchType=routeFinder&minVotes=10&selectedIds=105872225&type=mixed&diffMinrock=1000&diffMinboulder=20000&diffMinaid=70000&diffMinice=30000&diffMinmixed=50000&diffMaxrock=11900&diffMaxboulder=21400&diffMaxaid=75260&diffMaxice=38500&diffMaxmixed=60000&is_trad_climb=1&is_sport_climb=1&is_top_rope=1&stars=0&pitches=0&sort1=area&sort2=rating\n",
    "\""
   ]
  },
  {
   "cell_type": "code",
   "execution_count": null,
   "metadata": {
    "collapsed": true
   },
   "outputs": [],
   "source": [
    "\"http://www.mountainproject.com/scripts/Search.php?searchType=routeFinder&minVotes=10&selectedIds=105872225\""
   ]
  },
  {
   "cell_type": "code",
   "execution_count": null,
   "metadata": {
    "collapsed": true
   },
   "outputs": [],
   "source": [
    "# Get area id's from: http://www.mountainproject.com/destinations/\n",
    "# My code starts below"
   ]
  },
  {
   "cell_type": "code",
   "execution_count": 1,
   "metadata": {
    "collapsed": true
   },
   "outputs": [],
   "source": [
    "# The %... is an iPython thing, and is not part of the Python language.\n",
    "# In this case we're just telling the plotting library to draw things on\n",
    "# the notebook, instead of on a separate window.\n",
    "%matplotlib inline\n",
    "# See all the \"as ...\" contructs? They're just aliasing the package names.\n",
    "# That way we can call methods like plt.plot() instead of matplotlib.pyplot.plot().\n",
    "import numpy as np\n",
    "import scipy as sp\n",
    "import matplotlib as mpl\n",
    "import matplotlib.cm as cm\n",
    "import matplotlib.pyplot as plt\n",
    "import pandas as pd\n",
    "import time\n",
    "pd.set_option('display.width', 500)\n",
    "pd.set_option('display.max_columns', 100)\n",
    "pd.set_option('display.notebook_repr_html', True)\n",
    "import seaborn as sns\n",
    "sns.set_style(\"whitegrid\")\n",
    "sns.set_context(\"poster\")"
   ]
  },
  {
   "cell_type": "code",
   "execution_count": 2,
   "metadata": {
    "collapsed": true
   },
   "outputs": [],
   "source": [
    "from bs4 import BeautifulSoup\n",
    "# The \"requests\" library makes working with HTTP requests easier\n",
    "# than the built-in urllib libraries.\n",
    "import requests"
   ]
  },
  {
   "cell_type": "code",
   "execution_count": 3,
   "metadata": {
    "collapsed": true
   },
   "outputs": [],
   "source": [
    "nh_mixed = requests.get(\"http://www.mountainproject.com/scripts/Search.php?searchType=routeFinder&minVotes=10&selectedIds=%27105872225&type=mixed&diffMinrock=1800&diffMinboulder=20000&diffMinaid=70000&diffMinice=30000&diffMinmixed=50000&diffMaxrock=5500&diffMaxboulder=21400&diffMaxaid=75260&diffMaxice=38500&diffMaxmixed=60000&is_trad_climb=1&is_sport_climb=1&is_top_rope=1&stars=0&pitches=0&sort1=area&sort2=quality_stars+desc\")"
   ]
  },
  {
   "cell_type": "code",
   "execution_count": 5,
   "metadata": {
    "collapsed": true
   },
   "outputs": [],
   "source": [
    "soup = BeautifulSoup(nh_mixed.text, \"html.parser\")"
   ]
  },
  {
   "cell_type": "code",
   "execution_count": 49,
   "metadata": {
    "collapsed": false
   },
   "outputs": [],
   "source": [
    "tables = soup.find_all(\"table\", attrs = {\"class\" : \"objectList\"})\n",
    "entries = tables[1].find_all(\"tr\")\n",
    "test = [x.find_all(\"td\") for x in entries]"
   ]
  },
  {
   "cell_type": "code",
   "execution_count": 57,
   "metadata": {
    "collapsed": true
   },
   "outputs": [],
   "source": [
    "result = [x[0].find(\"a\").get(\"href\") for x in test[1:]]"
   ]
  },
  {
   "cell_type": "code",
   "execution_count": 58,
   "metadata": {
    "collapsed": false
   },
   "outputs": [
    {
     "data": {
      "text/plain": [
       "[u'/v/pegasus-rock-finish/106106926',\n",
       " u'/v/black-dike/105890633',\n",
       " u'/v/repentance/105872936',\n",
       " u'/v/greens-chasm/106680167']"
      ]
     },
     "execution_count": 58,
     "metadata": {},
     "output_type": "execute_result"
    }
   ],
   "source": [
    "result"
   ]
  },
  {
   "cell_type": "code",
   "execution_count": 53,
   "metadata": {
    "collapsed": false
   },
   "outputs": [],
   "source": [
    "#cleaner = lambda r: {'Route Name': r[0].get_text(), 'Route URL': r[0].find(\"a\").get(\"href\")}"
   ]
  },
  {
   "cell_type": "code",
   "execution_count": null,
   "metadata": {
    "collapsed": true
   },
   "outputs": [],
   "source": []
  }
 ],
 "metadata": {
  "kernelspec": {
   "display_name": "Python 2",
   "language": "python",
   "name": "python2"
  },
  "language_info": {
   "codemirror_mode": {
    "name": "ipython",
    "version": 2
   },
   "file_extension": ".py",
   "mimetype": "text/x-python",
   "name": "python",
   "nbconvert_exporter": "python",
   "pygments_lexer": "ipython2",
   "version": "2.7.10"
  }
 },
 "nbformat": 4,
 "nbformat_minor": 0
}
