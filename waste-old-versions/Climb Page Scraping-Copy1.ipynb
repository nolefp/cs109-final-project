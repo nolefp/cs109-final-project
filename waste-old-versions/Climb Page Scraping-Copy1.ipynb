{
 "cells": [
  {
   "cell_type": "markdown",
   "metadata": {},
   "source": [
    "Below, we begin implementing the pseudo code bit by bit, with the goal of determining best methods for specific steps. Later, we will combine the code and pay additional attention to its organization. "
   ]
  },
  {
   "cell_type": "code",
   "execution_count": 1,
   "metadata": {
    "collapsed": false
   },
   "outputs": [],
   "source": [
    "%matplotlib inline\n",
    "import collections \n",
    "import numpy as np\n",
    "import scipy as sp\n",
    "import pandas as pd\n",
    "import time\n",
    "pd.set_option('display.width', 500)\n",
    "pd.set_option('display.max_columns', 100)\n",
    "pd.set_option('display.notebook_repr_html', True)\n",
    "import re\n",
    "import regex\n",
    "import locale\n",
    "from pyquery import PyQuery as pq\n",
    "from bs4 import BeautifulSoup\n",
    "import requests"
   ]
  },
  {
   "cell_type": "code",
   "execution_count": 12,
   "metadata": {
    "collapsed": false
   },
   "outputs": [],
   "source": [
    "climbsjson = collections.defaultdict(dict) # double nested dict\n",
    "usersjson = collections.defaultdict(dict) # double nested dict\n",
    "ucjson = collections.defaultdict(dict) #double nested dict"
   ]
  },
  {
   "cell_type": "code",
   "execution_count": 13,
   "metadata": {
    "collapsed": false
   },
   "outputs": [],
   "source": [
    "# CLIMB VARIABLES - all initialized to undefined:\n",
    "climb_id = 0 \n",
    "climb_name = 'undef'\n",
    "climbdict = {\"climb_id\": 0, \"climb_name\": 'undef',\n",
    "             \"avg_stars\": 0, \"pitches\": 0, \"feet\": 0}"
   ]
  },
  {
   "cell_type": "code",
   "execution_count": 14,
   "metadata": {
    "collapsed": false
   },
   "outputs": [],
   "source": [
    "def parse_climb_link(href_link):\n",
    "    return href_link.split('/')[-1], href_link.split('/')[-2]\n",
    "\n",
    "def parse_user_link(href_link):\n",
    "    return href_link.split('/')[-1], href_link.split('/')[-3]"
   ]
  },
  {
   "cell_type": "code",
   "execution_count": 15,
   "metadata": {
    "collapsed": false
   },
   "outputs": [],
   "source": [
    "wg_link = \"https://www.mountainproject.com/v/pick-o-the-vic/106086237\"\n",
    "link_parsed = wg_link.split('/')\n",
    "\n",
    "# 1. get keys\n",
    "climb_id = link_parsed[-1]\n",
    "climbdict[\"climb_id\"] = climb_id\n",
    "climb_name = link_parsed[-2]\n",
    "climbdict[\"climb_name\"] = climb_name"
   ]
  },
  {
   "cell_type": "code",
   "execution_count": 16,
   "metadata": {
    "collapsed": false
   },
   "outputs": [],
   "source": [
    "climb_req=requests.get(wg_link)\n",
    "climb_=pq(climb_req.text)"
   ]
  },
  {
   "cell_type": "code",
   "execution_count": 17,
   "metadata": {
    "collapsed": false
   },
   "outputs": [],
   "source": [
    "# 2. separate climb div\n",
    "climb_div = climb_('div#rspCol800')"
   ]
  },
  {
   "cell_type": "code",
   "execution_count": 18,
   "metadata": {
    "collapsed": false
   },
   "outputs": [],
   "source": [
    "# 3. get climb summary div\n",
    "climb_summstats = climb_div('div.rspCol[style=\"max-width:500px;\"]')"
   ]
  },
  {
   "cell_type": "code",
   "execution_count": 19,
   "metadata": {
    "collapsed": false
   },
   "outputs": [],
   "source": [
    "# 4. get grade ratings\n",
    "climb_summstats_subtitle = climb_summstats('h3')"
   ]
  },
  {
   "cell_type": "code",
   "execution_count": 20,
   "metadata": {
    "collapsed": false
   },
   "outputs": [
    {
     "data": {
      "text/plain": [
       "{'aid_grade': 0,\n",
       " 'boulder_grade': 0,\n",
       " 'ice_grade': 'WI4',\n",
       " 'mixed_grade': 0,\n",
       " 'rock_grade': 0}"
      ]
     },
     "execution_count": 20,
     "metadata": {},
     "output_type": "execute_result"
    }
   ],
   "source": [
    "# 4. get grade ratings continued \n",
    "guide_grades_dict = {}\n",
    "diff_regexes = {\"aid_grade\": r'(A[0-5])|(C[0-5])', \n",
    "               \"boulder_grade\": r'V\\d\\d?[-,+]?', \n",
    "               \"ice_grade\": r'WI[1-6][+,-]?',\n",
    "               \"mixed_grade\": r'M\\d\\d?[+,-]?', \n",
    "               \"rock_grade\": r'5.\\d\\d?(([a-d]/[a-d])|([a-d]))?[+,-]?'}\n",
    "\n",
    "for key, regex in diff_regexes.iteritems():\n",
    "    temp = re.search(regex, climb_summstats_subtitle.text())\n",
    "    if  temp != None:\n",
    "        guide_grades_dict[key] = temp.group()\n",
    "    else:\n",
    "        guide_grades_dict[key] = 0\n",
    "\n",
    "guide_grades_dict"
   ]
  },
  {
   "cell_type": "code",
   "execution_count": 21,
   "metadata": {
    "collapsed": false
   },
   "outputs": [],
   "source": [
    "# 5. get average star rating\n",
    "average_stars_script_html = climb_summstats('span#routeStars')('script').html()\n",
    "average_stars_regexobj = re.search(r'[1-5]\\.\\d\\d?\\d?\\d?', \n",
    "                                   average_stars_script_html)\n",
    "if average_stars_regexobj != None:     \n",
    "    avg_stars = float(average_stars_regexobj.group()) - 1\n",
    "    climbdict[\"avg_stars\"] = avg_stars\n",
    "else:\n",
    "    avg_stars = 0\n",
    "    "
   ]
  },
  {
   "cell_type": "code",
   "execution_count": 22,
   "metadata": {
    "collapsed": false
   },
   "outputs": [],
   "source": [
    "# 6. get rows of table\n",
    "climb_summstats_table = climb_summstats('table')('tr')"
   ]
  },
  {
   "cell_type": "code",
   "execution_count": 26,
   "metadata": {
    "collapsed": false
   },
   "outputs": [
    {
     "data": {
      "text/plain": [
       "{'TR,': 1,\n",
       " 'aid': 0,\n",
       " 'alpine': 0,\n",
       " 'boulder': 0,\n",
       " 'ice': 1,\n",
       " 'mixed': 0,\n",
       " 'sport': 0,\n",
       " 'trad': 1}"
      ]
     },
     "execution_count": 26,
     "metadata": {},
     "output_type": "execute_result"
    }
   ],
   "source": [
    "# 7. get climb types\n",
    "typesdict = {\"trad\": 0, \"alpine\": 0, \"ice\": 0, \"sport\": 0,\n",
    "        \"boulder\": 0, \"aid\": 0, \"mixed\": 0, \"TR,\": 0}\n",
    "for key in typesdict:\n",
    "    if re.search(r'{}'.format(key), \n",
    "                climb_summstats_table.eq(0).text(), \n",
    "                flags = re.I) != None:\n",
    "        typesdict[key] = 1\n",
    "\n",
    "typesdict"
   ]
  },
  {
   "cell_type": "code",
   "execution_count": 27,
   "metadata": {
    "collapsed": false
   },
   "outputs": [],
   "source": [
    "# 8. get the number of pitches\n",
    "pitches_regobj = re.search(r'(\\d\\d?) pitches', \n",
    "                climb_summstats_table.eq(0).text(), \n",
    "                flags = re.I)\n",
    "if pitches_regobj:\n",
    "    climbdict[\"pitches\"] = int(pitches_regobj.group(1))"
   ]
  },
  {
   "cell_type": "code",
   "execution_count": 28,
   "metadata": {
    "collapsed": true
   },
   "outputs": [],
   "source": [
    "# 9. get number of feet\n",
    "feet_regobj = re.search(r\" (\\d\\d?\\d?\\d?\\d?)'\", \n",
    "                climb_summstats_table.eq(0).text(), \n",
    "                flags = re.I)\n",
    "if feet_regobj:\n",
    "    climbdict[\"feet\"] = int(feet_regobj.group(1))"
   ]
  },
  {
   "cell_type": "code",
   "execution_count": 29,
   "metadata": {
    "collapsed": true
   },
   "outputs": [],
   "source": [
    "# 10. get number of feet\n",
    "grade_regobj = re.search(r'Grade ([I,II,III,IV,V,VI])', \n",
    "                climb_summstats_table.eq(0).text(), \n",
    "                flags = re.I)\n",
    "if grade_regobj:\n",
    "    climbdict[\"grade\"] = grade_regobj.group(1)"
   ]
  },
  {
   "cell_type": "code",
   "execution_count": 30,
   "metadata": {
    "collapsed": false
   },
   "outputs": [
    {
     "data": {
      "text/plain": [
       "{'concensus_aid_grade': 0,\n",
       " 'concensus_boulder_grade': 0,\n",
       " 'concensus_ice_grade': u'WI4',\n",
       " 'concensus_mixed_grade': 0,\n",
       " 'concensus_rock_grade': 0}"
      ]
     },
     "execution_count": 30,
     "metadata": {},
     "output_type": "execute_result"
    }
   ],
   "source": [
    "# 11. get concensus rating\n",
    "concensus_grades_dict = {}\n",
    "\n",
    "for key, regex in diff_regexes.iteritems():\n",
    "    temp = re.search(regex,climb_summstats_table.eq(1).text())\n",
    "    if  temp != None:\n",
    "        concensus_grades_dict[\"concensus_\" + key] = temp.group()\n",
    "    else:\n",
    "        concensus_grades_dict[\"concensus_\" + key] = 0\n",
    "\n",
    "concensus_grades_dict"
   ]
  },
  {
   "cell_type": "code",
   "execution_count": 31,
   "metadata": {
    "collapsed": false
   },
   "outputs": [],
   "source": [
    "# 12. get FA year\n",
    "fa_regobj = re.search(r\"[18,19,20]\\d\\d\\d\",climb_summstats_table.eq(2).text())\n",
    "if fa_regobj:\n",
    "    climbdict[\"fa_year\"] = int(fa_regobj.group())"
   ]
  },
  {
   "cell_type": "code",
   "execution_count": 32,
   "metadata": {
    "collapsed": false
   },
   "outputs": [],
   "source": [
    "# 13. get page views\n",
    "views_regobj = re.search(r\"\\d?\\d?\\d?,?\\d?\\d\\d\",climb_summstats_table.eq(3).text())\n",
    "if views_regobj:\n",
    "    climbdict[\"page_views\"] = int(views_regobj.group().replace(',',''))"
   ]
  },
  {
   "cell_type": "code",
   "execution_count": 33,
   "metadata": {
    "collapsed": true
   },
   "outputs": [],
   "source": [
    "# 14. get detailed users-climb page\n",
    "stats_link = (\"http://mountainproject.com/scripts/ShowObjectStats.php?id=%s\"\n",
    "              % climbdict['climb_id'])\n",
    "climb_stats_req=requests.get(stats_link)\n",
    "stats_=pq(climb_stats_req.text)\n"
   ]
  },
  {
   "cell_type": "code",
   "execution_count": 34,
   "metadata": {
    "collapsed": false
   },
   "outputs": [],
   "source": [
    "# 15. get star quality votes tables\n",
    "stats_stars_table = stats_(\"span:contains('Star Quality Votes')\").next().next().find('tr')"
   ]
  },
  {
   "cell_type": "code",
   "execution_count": 35,
   "metadata": {
    "collapsed": false
   },
   "outputs": [],
   "source": [
    "# 16. get star info from td pairs\n",
    "def star_quality_func(td1, td2):\n",
    "    user_id, user_name = parse_user_link(td1('a').attr('href'))\n",
    "    rating = int(re.search(r'starsHtml\\(([0-5]),', \n",
    "                       td2('script').text()).group(1)) - 1\n",
    "    ucjson[climb_id + \"_\" + user_id][\"user_id\"] = user_id\n",
    "    ucjson[climb_id + \"_\" + user_id][\"climb_id\"] = climb_id\n",
    "    ucjson[climb_id + \"_\" + user_id][\"star_rating\"] = rating"
   ]
  },
  {
   "cell_type": "code",
   "execution_count": 38,
   "metadata": {
    "collapsed": false
   },
   "outputs": [],
   "source": [
    "# 17. iterate through stars table and populate ucjson \n",
    "for i in range(0, len(stats_stars_table)):\n",
    "    tds = stats_stars_table.eq(i).find('td')\n",
    "    if len(tds) > 0:\n",
    "        star_quality_func(tds.eq(0),tds.eq(1))\n",
    "        if len(tds) == 4:\n",
    "            star_quality_func(tds.eq(2),tds.eq(3))\n"
   ]
  },
  {
   "cell_type": "code",
   "execution_count": 39,
   "metadata": {
    "collapsed": false
   },
   "outputs": [],
   "source": [
    "# 18. get suggested ratings rows\n",
    "stats_sugg_table = stats_(\"span:contains('Suggested Ratings')\").next().next().find('tr')  "
   ]
  },
  {
   "cell_type": "code",
   "execution_count": 40,
   "metadata": {
    "collapsed": false
   },
   "outputs": [],
   "source": [
    "# 19. get sugg_rate info from td pairs\n",
    "def sugg_rating_func(td1, td2):\n",
    "    user_id, user_name = parse_user_link(td1('a').attr('href'))\n",
    "    ucjson[climb_id + \"_\" + user_id][\"user_id\"] = user_id\n",
    "    ucjson[climb_id + \"_\" + user_id][\"climb_id\"] = climb_id\n",
    "    \n",
    "    for key, regex in diff_regexes.iteritems():\n",
    "        temp = re.search(regex, td2.text())\n",
    "        if  temp != None:\n",
    "            ucjson[climb_id + \"_\" + user_id][\"sugg_\" + key] = temp.group()\n",
    "        else:\n",
    "            ucjson[climb_id + \"_\" + user_id][\"sugg_\" + key] = 0\n",
    "    "
   ]
  },
  {
   "cell_type": "code",
   "execution_count": 41,
   "metadata": {
    "collapsed": false
   },
   "outputs": [],
   "source": [
    "# 20. iterate through suggested ratings table and populate ucjson \n",
    "for i in range(0, len(stats_sugg_table)):\n",
    "    tds = stats_sugg_table.eq(i).find('td')\n",
    "    if len(tds) > 1:\n",
    "        sugg_rating_func(tds.eq(0),tds.eq(1))\n",
    "        if len(tds) == 4:\n",
    "            sugg_rating_func(tds.eq(2),tds.eq(3))"
   ]
  },
  {
   "cell_type": "code",
   "execution_count": 42,
   "metadata": {
    "collapsed": false
   },
   "outputs": [],
   "source": [
    "# 21. \n",
    "stats_ticks_table = stats_(\"span:contains('Ticks')\").next().next().find('tr')  \n"
   ]
  },
  {
   "cell_type": "code",
   "execution_count": 43,
   "metadata": {
    "collapsed": false
   },
   "outputs": [],
   "source": [
    "# 22. iterate through suggested ratings table and populate ucjson \n",
    "dates_wrong = 0\n",
    "for i in range(0, len(stats_ticks_table)):\n",
    "    tds = stats_ticks_table.eq(i).find('td')\n",
    "    if len(tds) == 3:\n",
    "        user_id, user_name = parse_user_link(tds.eq(0)('a').attr('href'))\n",
    "        ucjson[climb_id + \"_\" + user_id][\"user_id\"] = user_id\n",
    "        ucjson[climb_id + \"_\" + user_id][\"climb_id\"] = climb_id\n",
    "        try: \n",
    "            date = time.strptime(tds.eq(1).text(), \"%b %d, %Y\")\n",
    "            ucjson[climb_id + \"_\" + user_id][\"tick_date\"] = date\n",
    "        except ValueError:\n",
    "            dates_wrong += 1\n",
    "                "
   ]
  },
  {
   "cell_type": "code",
   "execution_count": 44,
   "metadata": {
    "collapsed": false
   },
   "outputs": [
    {
     "data": {
      "text/plain": [
       "defaultdict(dict,\n",
       "            {'106086237_10359': {'climb_id': '106086237',\n",
       "              'star_rating': 3,\n",
       "              'user_id': '10359'},\n",
       "             '106086237_105084578': {'climb_id': '106086237',\n",
       "              'star_rating': 4,\n",
       "              'user_id': '105084578'},\n",
       "             '106086237_105801316': {'climb_id': '106086237',\n",
       "              'tick_date': time.struct_time(tm_year=2008, tm_mon=2, tm_mday=8, tm_hour=0, tm_min=0, tm_sec=0, tm_wday=4, tm_yday=39, tm_isdst=-1),\n",
       "              'user_id': '105801316'},\n",
       "             '106086237_105811645': {'climb_id': '106086237',\n",
       "              'star_rating': 4,\n",
       "              'user_id': '105811645'},\n",
       "             '106086237_105815147': {'climb_id': '106086237',\n",
       "              'star_rating': 3,\n",
       "              'user_id': '105815147'},\n",
       "             '106086237_105855048': {'climb_id': '106086237',\n",
       "              'star_rating': 4,\n",
       "              'tick_date': time.struct_time(tm_year=2008, tm_mon=1, tm_mday=28, tm_hour=0, tm_min=0, tm_sec=0, tm_wday=0, tm_yday=28, tm_isdst=-1),\n",
       "              'user_id': '105855048'},\n",
       "             '106086237_105860008': {'climb_id': '106086237',\n",
       "              'star_rating': 4,\n",
       "              'tick_date': time.struct_time(tm_year=2009, tm_mon=2, tm_mday=3, tm_hour=0, tm_min=0, tm_sec=0, tm_wday=1, tm_yday=34, tm_isdst=-1),\n",
       "              'user_id': '105860008'},\n",
       "             '106086237_105946742': {'climb_id': '106086237',\n",
       "              'star_rating': 3,\n",
       "              'tick_date': time.struct_time(tm_year=2011, tm_mon=3, tm_mday=1, tm_hour=0, tm_min=0, tm_sec=0, tm_wday=1, tm_yday=60, tm_isdst=-1),\n",
       "              'user_id': '105946742'},\n",
       "             '106086237_105960979': {'climb_id': '106086237',\n",
       "              'star_rating': 4,\n",
       "              'sugg_aid_grade': 0,\n",
       "              'sugg_boulder_grade': 0,\n",
       "              'sugg_ice_grade': 'WI4',\n",
       "              'sugg_mixed_grade': 0,\n",
       "              'sugg_rock_grade': 0,\n",
       "              'tick_date': time.struct_time(tm_year=2007, tm_mon=12, tm_mday=31, tm_hour=0, tm_min=0, tm_sec=0, tm_wday=0, tm_yday=365, tm_isdst=-1),\n",
       "              'user_id': '105960979'},\n",
       "             '106086237_105964496': {'climb_id': '106086237',\n",
       "              'tick_date': time.struct_time(tm_year=2012, tm_mon=2, tm_mday=26, tm_hour=0, tm_min=0, tm_sec=0, tm_wday=6, tm_yday=57, tm_isdst=-1),\n",
       "              'user_id': '105964496'},\n",
       "             '106086237_105972105': {'climb_id': '106086237',\n",
       "              'star_rating': 3,\n",
       "              'user_id': '105972105'},\n",
       "             '106086237_105972853': {'climb_id': '106086237',\n",
       "              'star_rating': 4,\n",
       "              'tick_date': time.struct_time(tm_year=2014, tm_mon=3, tm_mday=4, tm_hour=0, tm_min=0, tm_sec=0, tm_wday=1, tm_yday=63, tm_isdst=-1),\n",
       "              'user_id': '105972853'},\n",
       "             '106086237_105989110': {'climb_id': '106086237',\n",
       "              'tick_date': time.struct_time(tm_year=2010, tm_mon=1, tm_mday=4, tm_hour=0, tm_min=0, tm_sec=0, tm_wday=0, tm_yday=4, tm_isdst=-1),\n",
       "              'user_id': '105989110'},\n",
       "             '106086237_105990845': {'climb_id': '106086237',\n",
       "              'star_rating': 4,\n",
       "              'user_id': '105990845'},\n",
       "             '106086237_106022986': {'climb_id': '106086237',\n",
       "              'star_rating': 3,\n",
       "              'user_id': '106022986'},\n",
       "             '106086237_106030548': {'climb_id': '106086237',\n",
       "              'star_rating': 4,\n",
       "              'tick_date': time.struct_time(tm_year=2012, tm_mon=1, tm_mday=5, tm_hour=0, tm_min=0, tm_sec=0, tm_wday=3, tm_yday=5, tm_isdst=-1),\n",
       "              'user_id': '106030548'},\n",
       "             '106086237_106032918': {'climb_id': '106086237',\n",
       "              'user_id': '106032918'},\n",
       "             '106086237_106053222': {'climb_id': '106086237',\n",
       "              'star_rating': 3,\n",
       "              'tick_date': time.struct_time(tm_year=2010, tm_mon=12, tm_mday=19, tm_hour=0, tm_min=0, tm_sec=0, tm_wday=6, tm_yday=353, tm_isdst=-1),\n",
       "              'user_id': '106053222'},\n",
       "             '106086237_106088454': {'climb_id': '106086237',\n",
       "              'star_rating': 3,\n",
       "              'tick_date': time.struct_time(tm_year=2009, tm_mon=2, tm_mday=21, tm_hour=0, tm_min=0, tm_sec=0, tm_wday=5, tm_yday=52, tm_isdst=-1),\n",
       "              'user_id': '106088454'},\n",
       "             '106086237_106091860': {'climb_id': '106086237',\n",
       "              'tick_date': time.struct_time(tm_year=2013, tm_mon=1, tm_mday=1, tm_hour=0, tm_min=0, tm_sec=0, tm_wday=1, tm_yday=1, tm_isdst=-1),\n",
       "              'user_id': '106091860'},\n",
       "             '106086237_106105732': {'climb_id': '106086237',\n",
       "              'star_rating': 2,\n",
       "              'sugg_aid_grade': 0,\n",
       "              'sugg_boulder_grade': 0,\n",
       "              'sugg_ice_grade': 'WI4',\n",
       "              'sugg_mixed_grade': 0,\n",
       "              'sugg_rock_grade': 0,\n",
       "              'tick_date': time.struct_time(tm_year=2007, tm_mon=2, tm_mday=17, tm_hour=0, tm_min=0, tm_sec=0, tm_wday=5, tm_yday=48, tm_isdst=-1),\n",
       "              'user_id': '106105732'},\n",
       "             '106086237_106111867': {'climb_id': '106086237',\n",
       "              'tick_date': time.struct_time(tm_year=2009, tm_mon=12, tm_mday=30, tm_hour=0, tm_min=0, tm_sec=0, tm_wday=2, tm_yday=364, tm_isdst=-1),\n",
       "              'user_id': '106111867'},\n",
       "             '106086237_106128017': {'climb_id': '106086237',\n",
       "              'tick_date': time.struct_time(tm_year=2010, tm_mon=2, tm_mday=13, tm_hour=0, tm_min=0, tm_sec=0, tm_wday=5, tm_yday=44, tm_isdst=-1),\n",
       "              'user_id': '106128017'},\n",
       "             '106086237_106147458': {'climb_id': '106086237',\n",
       "              'star_rating': 3,\n",
       "              'tick_date': time.struct_time(tm_year=2010, tm_mon=2, tm_mday=28, tm_hour=0, tm_min=0, tm_sec=0, tm_wday=6, tm_yday=59, tm_isdst=-1),\n",
       "              'user_id': '106147458'},\n",
       "             '106086237_106190364': {'climb_id': '106086237',\n",
       "              'tick_date': time.struct_time(tm_year=2011, tm_mon=1, tm_mday=16, tm_hour=0, tm_min=0, tm_sec=0, tm_wday=6, tm_yday=16, tm_isdst=-1),\n",
       "              'user_id': '106190364'},\n",
       "             '106086237_106193445': {'climb_id': '106086237',\n",
       "              'tick_date': time.struct_time(tm_year=2015, tm_mon=2, tm_mday=15, tm_hour=0, tm_min=0, tm_sec=0, tm_wday=6, tm_yday=46, tm_isdst=-1),\n",
       "              'user_id': '106193445'},\n",
       "             '106086237_106251531': {'climb_id': '106086237',\n",
       "              'star_rating': 4,\n",
       "              'sugg_aid_grade': 0,\n",
       "              'sugg_boulder_grade': 0,\n",
       "              'sugg_ice_grade': 'WI4',\n",
       "              'sugg_mixed_grade': 0,\n",
       "              'sugg_rock_grade': 0,\n",
       "              'tick_date': time.struct_time(tm_year=2010, tm_mon=1, tm_mday=31, tm_hour=0, tm_min=0, tm_sec=0, tm_wday=6, tm_yday=31, tm_isdst=-1),\n",
       "              'user_id': '106251531'},\n",
       "             '106086237_106268558': {'climb_id': '106086237',\n",
       "              'star_rating': 4,\n",
       "              'tick_date': time.struct_time(tm_year=2014, tm_mon=1, tm_mday=20, tm_hour=0, tm_min=0, tm_sec=0, tm_wday=0, tm_yday=20, tm_isdst=-1),\n",
       "              'user_id': '106268558'},\n",
       "             '106086237_106287179': {'climb_id': '106086237',\n",
       "              'tick_date': time.struct_time(tm_year=2010, tm_mon=1, tm_mday=31, tm_hour=0, tm_min=0, tm_sec=0, tm_wday=6, tm_yday=31, tm_isdst=-1),\n",
       "              'user_id': '106287179'},\n",
       "             '106086237_106316448': {'climb_id': '106086237',\n",
       "              'tick_date': time.struct_time(tm_year=2008, tm_mon=3, tm_mday=9, tm_hour=0, tm_min=0, tm_sec=0, tm_wday=6, tm_yday=69, tm_isdst=-1),\n",
       "              'user_id': '106316448'},\n",
       "             '106086237_106339703': {'climb_id': '106086237',\n",
       "              'tick_date': time.struct_time(tm_year=2012, tm_mon=1, tm_mday=29, tm_hour=0, tm_min=0, tm_sec=0, tm_wday=6, tm_yday=29, tm_isdst=-1),\n",
       "              'user_id': '106339703'},\n",
       "             '106086237_106339959': {'climb_id': '106086237',\n",
       "              'tick_date': time.struct_time(tm_year=2013, tm_mon=1, tm_mday=19, tm_hour=0, tm_min=0, tm_sec=0, tm_wday=5, tm_yday=19, tm_isdst=-1),\n",
       "              'user_id': '106339959'},\n",
       "             '106086237_106352380': {'climb_id': '106086237',\n",
       "              'tick_date': time.struct_time(tm_year=2012, tm_mon=1, tm_mday=29, tm_hour=0, tm_min=0, tm_sec=0, tm_wday=6, tm_yday=29, tm_isdst=-1),\n",
       "              'user_id': '106352380'},\n",
       "             '106086237_106400151': {'climb_id': '106086237',\n",
       "              'star_rating': 3,\n",
       "              'user_id': '106400151'},\n",
       "             '106086237_106415338': {'climb_id': '106086237',\n",
       "              'star_rating': 3,\n",
       "              'user_id': '106415338'},\n",
       "             '106086237_106438374': {'climb_id': '106086237',\n",
       "              'tick_date': time.struct_time(tm_year=2011, tm_mon=6, tm_mday=20, tm_hour=0, tm_min=0, tm_sec=0, tm_wday=0, tm_yday=171, tm_isdst=-1),\n",
       "              'user_id': '106438374'},\n",
       "             '106086237_106463225': {'climb_id': '106086237',\n",
       "              'star_rating': 3,\n",
       "              'tick_date': time.struct_time(tm_year=2015, tm_mon=1, tm_mday=11, tm_hour=0, tm_min=0, tm_sec=0, tm_wday=6, tm_yday=11, tm_isdst=-1),\n",
       "              'user_id': '106463225'},\n",
       "             '106086237_106504228': {'climb_id': '106086237',\n",
       "              'tick_date': time.struct_time(tm_year=2009, tm_mon=12, tm_mday=19, tm_hour=0, tm_min=0, tm_sec=0, tm_wday=5, tm_yday=353, tm_isdst=-1),\n",
       "              'user_id': '106504228'},\n",
       "             '106086237_106510648': {'climb_id': '106086237',\n",
       "              'star_rating': 4,\n",
       "              'tick_date': time.struct_time(tm_year=2011, tm_mon=3, tm_mday=22, tm_hour=0, tm_min=0, tm_sec=0, tm_wday=1, tm_yday=81, tm_isdst=-1),\n",
       "              'user_id': '106510648'},\n",
       "             '106086237_106554608': {'climb_id': '106086237',\n",
       "              'star_rating': 4,\n",
       "              'sugg_aid_grade': 0,\n",
       "              'sugg_boulder_grade': 0,\n",
       "              'sugg_ice_grade': 'WI4',\n",
       "              'sugg_mixed_grade': 0,\n",
       "              'sugg_rock_grade': 0,\n",
       "              'tick_date': time.struct_time(tm_year=2014, tm_mon=2, tm_mday=22, tm_hour=0, tm_min=0, tm_sec=0, tm_wday=5, tm_yday=53, tm_isdst=-1),\n",
       "              'user_id': '106554608'},\n",
       "             '106086237_106559186': {'climb_id': '106086237',\n",
       "              'tick_date': time.struct_time(tm_year=2011, tm_mon=12, tm_mday=29, tm_hour=0, tm_min=0, tm_sec=0, tm_wday=3, tm_yday=363, tm_isdst=-1),\n",
       "              'user_id': '106559186'},\n",
       "             '106086237_106596958': {'climb_id': '106086237',\n",
       "              'star_rating': 3,\n",
       "              'user_id': '106596958'},\n",
       "             '106086237_106598668': {'climb_id': '106086237',\n",
       "              'tick_date': time.struct_time(tm_year=2013, tm_mon=2, tm_mday=3, tm_hour=0, tm_min=0, tm_sec=0, tm_wday=6, tm_yday=34, tm_isdst=-1),\n",
       "              'user_id': '106598668'},\n",
       "             '106086237_106607939': {'climb_id': '106086237',\n",
       "              'tick_date': time.struct_time(tm_year=2009, tm_mon=12, tm_mday=20, tm_hour=0, tm_min=0, tm_sec=0, tm_wday=6, tm_yday=354, tm_isdst=-1),\n",
       "              'user_id': '106607939'},\n",
       "             '106086237_106657189': {'climb_id': '106086237',\n",
       "              'star_rating': 4,\n",
       "              'tick_date': time.struct_time(tm_year=1998, tm_mon=1, tm_mday=9, tm_hour=0, tm_min=0, tm_sec=0, tm_wday=4, tm_yday=9, tm_isdst=-1),\n",
       "              'user_id': '106657189'},\n",
       "             '106086237_106687796': {'climb_id': '106086237',\n",
       "              'tick_date': time.struct_time(tm_year=2013, tm_mon=1, tm_mday=29, tm_hour=0, tm_min=0, tm_sec=0, tm_wday=1, tm_yday=29, tm_isdst=-1),\n",
       "              'user_id': '106687796'},\n",
       "             '106086237_106705516': {'climb_id': '106086237',\n",
       "              'star_rating': 4,\n",
       "              'sugg_aid_grade': 0,\n",
       "              'sugg_boulder_grade': 0,\n",
       "              'sugg_ice_grade': 'WI4',\n",
       "              'sugg_mixed_grade': 0,\n",
       "              'sugg_rock_grade': 0,\n",
       "              'tick_date': time.struct_time(tm_year=2014, tm_mon=3, tm_mday=15, tm_hour=0, tm_min=0, tm_sec=0, tm_wday=5, tm_yday=74, tm_isdst=-1),\n",
       "              'user_id': '106705516'},\n",
       "             '106086237_106712274': {'climb_id': '106086237',\n",
       "              'star_rating': 4,\n",
       "              'user_id': '106712274'},\n",
       "             '106086237_106722954': {'climb_id': '106086237',\n",
       "              'star_rating': 4,\n",
       "              'sugg_aid_grade': 0,\n",
       "              'sugg_boulder_grade': 0,\n",
       "              'sugg_ice_grade': 'WI4',\n",
       "              'sugg_mixed_grade': 0,\n",
       "              'sugg_rock_grade': 0,\n",
       "              'tick_date': time.struct_time(tm_year=2013, tm_mon=2, tm_mday=4, tm_hour=0, tm_min=0, tm_sec=0, tm_wday=0, tm_yday=35, tm_isdst=-1),\n",
       "              'user_id': '106722954'},\n",
       "             '106086237_106738886': {'climb_id': '106086237',\n",
       "              'star_rating': 4,\n",
       "              'tick_date': time.struct_time(tm_year=2013, tm_mon=2, tm_mday=23, tm_hour=0, tm_min=0, tm_sec=0, tm_wday=5, tm_yday=54, tm_isdst=-1),\n",
       "              'user_id': '106738886'},\n",
       "             '106086237_106761267': {'climb_id': '106086237',\n",
       "              'star_rating': 4,\n",
       "              'user_id': '106761267'},\n",
       "             '106086237_106770617': {'climb_id': '106086237',\n",
       "              'star_rating': 4,\n",
       "              'tick_date': time.struct_time(tm_year=2015, tm_mon=2, tm_mday=8, tm_hour=0, tm_min=0, tm_sec=0, tm_wday=6, tm_yday=39, tm_isdst=-1),\n",
       "              'user_id': '106770617'},\n",
       "             '106086237_106776142': {'climb_id': '106086237',\n",
       "              'star_rating': 4,\n",
       "              'tick_date': time.struct_time(tm_year=2012, tm_mon=1, tm_mday=19, tm_hour=0, tm_min=0, tm_sec=0, tm_wday=3, tm_yday=19, tm_isdst=-1),\n",
       "              'user_id': '106776142'},\n",
       "             '106086237_106827872': {'climb_id': '106086237',\n",
       "              'star_rating': 3,\n",
       "              'sugg_aid_grade': 0,\n",
       "              'sugg_boulder_grade': 0,\n",
       "              'sugg_ice_grade': 'WI4',\n",
       "              'sugg_mixed_grade': 0,\n",
       "              'sugg_rock_grade': 0,\n",
       "              'tick_date': time.struct_time(tm_year=2011, tm_mon=12, tm_mday=30, tm_hour=0, tm_min=0, tm_sec=0, tm_wday=4, tm_yday=364, tm_isdst=-1),\n",
       "              'user_id': '106827872'},\n",
       "             '106086237_106834216': {'climb_id': '106086237',\n",
       "              'star_rating': 4,\n",
       "              'tick_date': time.struct_time(tm_year=2012, tm_mon=1, tm_mday=22, tm_hour=0, tm_min=0, tm_sec=0, tm_wday=6, tm_yday=22, tm_isdst=-1),\n",
       "              'user_id': '106834216'},\n",
       "             '106086237_106840388': {'climb_id': '106086237',\n",
       "              'star_rating': 4,\n",
       "              'tick_date': time.struct_time(tm_year=2011, tm_mon=8, tm_mday=11, tm_hour=0, tm_min=0, tm_sec=0, tm_wday=3, tm_yday=223, tm_isdst=-1),\n",
       "              'user_id': '106840388'},\n",
       "             '106086237_106852393': {'climb_id': '106086237',\n",
       "              'star_rating': 4,\n",
       "              'tick_date': time.struct_time(tm_year=2013, tm_mon=12, tm_mday=23, tm_hour=0, tm_min=0, tm_sec=0, tm_wday=0, tm_yday=357, tm_isdst=-1),\n",
       "              'user_id': '106852393'},\n",
       "             '106086237_106887229': {'climb_id': '106086237',\n",
       "              'star_rating': 4,\n",
       "              'user_id': '106887229'},\n",
       "             '106086237_106902275': {'climb_id': '106086237',\n",
       "              'tick_date': time.struct_time(tm_year=2013, tm_mon=3, tm_mday=8, tm_hour=0, tm_min=0, tm_sec=0, tm_wday=4, tm_yday=67, tm_isdst=-1),\n",
       "              'user_id': '106902275'},\n",
       "             '106086237_106945872': {'climb_id': '106086237',\n",
       "              'tick_date': time.struct_time(tm_year=2015, tm_mon=2, tm_mday=1, tm_hour=0, tm_min=0, tm_sec=0, tm_wday=6, tm_yday=32, tm_isdst=-1),\n",
       "              'user_id': '106945872'},\n",
       "             '106086237_106978196': {'climb_id': '106086237',\n",
       "              'star_rating': 4,\n",
       "              'tick_date': time.struct_time(tm_year=2013, tm_mon=1, tm_mday=13, tm_hour=0, tm_min=0, tm_sec=0, tm_wday=6, tm_yday=13, tm_isdst=-1),\n",
       "              'user_id': '106978196'},\n",
       "             '106086237_106983776': {'climb_id': '106086237',\n",
       "              'star_rating': 3,\n",
       "              'tick_date': time.struct_time(tm_year=1998, tm_mon=1, tm_mday=24, tm_hour=0, tm_min=0, tm_sec=0, tm_wday=5, tm_yday=24, tm_isdst=-1),\n",
       "              'user_id': '106983776'},\n",
       "             '106086237_107007040': {'climb_id': '106086237',\n",
       "              'tick_date': time.struct_time(tm_year=2011, tm_mon=1, tm_mday=15, tm_hour=0, tm_min=0, tm_sec=0, tm_wday=5, tm_yday=15, tm_isdst=-1),\n",
       "              'user_id': '107007040'},\n",
       "             '106086237_107070156': {'climb_id': '106086237',\n",
       "              'tick_date': time.struct_time(tm_year=2011, tm_mon=12, tm_mday=18, tm_hour=0, tm_min=0, tm_sec=0, tm_wday=6, tm_yday=352, tm_isdst=-1),\n",
       "              'user_id': '107070156'},\n",
       "             '106086237_107079403': {'climb_id': '106086237',\n",
       "              'star_rating': 3,\n",
       "              'tick_date': time.struct_time(tm_year=2013, tm_mon=2, tm_mday=16, tm_hour=0, tm_min=0, tm_sec=0, tm_wday=5, tm_yday=47, tm_isdst=-1),\n",
       "              'user_id': '107079403'},\n",
       "             '106086237_107093082': {'climb_id': '106086237',\n",
       "              'star_rating': 3,\n",
       "              'tick_date': time.struct_time(tm_year=2012, tm_mon=1, tm_mday=28, tm_hour=0, tm_min=0, tm_sec=0, tm_wday=5, tm_yday=28, tm_isdst=-1),\n",
       "              'user_id': '107093082'},\n",
       "             '106086237_107147681': {'climb_id': '106086237',\n",
       "              'star_rating': 3,\n",
       "              'tick_date': time.struct_time(tm_year=2014, tm_mon=1, tm_mday=19, tm_hour=0, tm_min=0, tm_sec=0, tm_wday=6, tm_yday=19, tm_isdst=-1),\n",
       "              'user_id': '107147681'},\n",
       "             '106086237_107156646': {'climb_id': '106086237',\n",
       "              'star_rating': 3,\n",
       "              'tick_date': time.struct_time(tm_year=2013, tm_mon=2, tm_mday=1, tm_hour=0, tm_min=0, tm_sec=0, tm_wday=4, tm_yday=32, tm_isdst=-1),\n",
       "              'user_id': '107156646'},\n",
       "             '106086237_107160429': {'climb_id': '106086237',\n",
       "              'star_rating': 3,\n",
       "              'user_id': '107160429'},\n",
       "             '106086237_107212777': {'climb_id': '106086237',\n",
       "              'star_rating': 4,\n",
       "              'user_id': '107212777'},\n",
       "             '106086237_107226876': {'climb_id': '106086237',\n",
       "              'star_rating': 4,\n",
       "              'sugg_aid_grade': 0,\n",
       "              'sugg_boulder_grade': 0,\n",
       "              'sugg_ice_grade': 'WI4',\n",
       "              'sugg_mixed_grade': 0,\n",
       "              'sugg_rock_grade': 0,\n",
       "              'tick_date': time.struct_time(tm_year=2014, tm_mon=3, tm_mday=2, tm_hour=0, tm_min=0, tm_sec=0, tm_wday=6, tm_yday=61, tm_isdst=-1),\n",
       "              'user_id': '107226876'},\n",
       "             '106086237_107254662': {'climb_id': '106086237',\n",
       "              'star_rating': 3,\n",
       "              'tick_date': time.struct_time(tm_year=2014, tm_mon=2, tm_mday=1, tm_hour=0, tm_min=0, tm_sec=0, tm_wday=5, tm_yday=32, tm_isdst=-1),\n",
       "              'user_id': '107254662'},\n",
       "             '106086237_107271536': {'climb_id': '106086237',\n",
       "              'tick_date': time.struct_time(tm_year=2012, tm_mon=12, tm_mday=31, tm_hour=0, tm_min=0, tm_sec=0, tm_wday=0, tm_yday=366, tm_isdst=-1),\n",
       "              'user_id': '107271536'},\n",
       "             '106086237_107283948': {'climb_id': '106086237',\n",
       "              'tick_date': time.struct_time(tm_year=2011, tm_mon=9, tm_mday=19, tm_hour=0, tm_min=0, tm_sec=0, tm_wday=0, tm_yday=262, tm_isdst=-1),\n",
       "              'user_id': '107283948'},\n",
       "             '106086237_107300420': {'climb_id': '106086237',\n",
       "              'star_rating': 3,\n",
       "              'tick_date': time.struct_time(tm_year=2013, tm_mon=1, tm_mday=14, tm_hour=0, tm_min=0, tm_sec=0, tm_wday=0, tm_yday=14, tm_isdst=-1),\n",
       "              'user_id': '107300420'},\n",
       "             '106086237_107379400': {'climb_id': '106086237',\n",
       "              'star_rating': 2,\n",
       "              'tick_date': time.struct_time(tm_year=2013, tm_mon=1, tm_mday=20, tm_hour=0, tm_min=0, tm_sec=0, tm_wday=6, tm_yday=20, tm_isdst=-1),\n",
       "              'user_id': '107379400'},\n",
       "             '106086237_107384421': {'climb_id': '106086237',\n",
       "              'tick_date': time.struct_time(tm_year=2012, tm_mon=12, tm_mday=29, tm_hour=0, tm_min=0, tm_sec=0, tm_wday=5, tm_yday=364, tm_isdst=-1),\n",
       "              'user_id': '107384421'},\n",
       "             '106086237_107406013': {'climb_id': '106086237',\n",
       "              'tick_date': time.struct_time(tm_year=2014, tm_mon=3, tm_mday=2, tm_hour=0, tm_min=0, tm_sec=0, tm_wday=6, tm_yday=61, tm_isdst=-1),\n",
       "              'user_id': '107406013'},\n",
       "             '106086237_107420191': {'climb_id': '106086237',\n",
       "              'star_rating': 3,\n",
       "              'tick_date': time.struct_time(tm_year=2014, tm_mon=1, tm_mday=9, tm_hour=0, tm_min=0, tm_sec=0, tm_wday=3, tm_yday=9, tm_isdst=-1),\n",
       "              'user_id': '107420191'},\n",
       "             '106086237_107426015': {'climb_id': '106086237',\n",
       "              'tick_date': time.struct_time(tm_year=2011, tm_mon=12, tm_mday=28, tm_hour=0, tm_min=0, tm_sec=0, tm_wday=2, tm_yday=362, tm_isdst=-1),\n",
       "              'user_id': '107426015'},\n",
       "             '106086237_107477120': {'climb_id': '106086237',\n",
       "              'tick_date': time.struct_time(tm_year=2014, tm_mon=1, tm_mday=13, tm_hour=0, tm_min=0, tm_sec=0, tm_wday=0, tm_yday=13, tm_isdst=-1),\n",
       "              'user_id': '107477120'},\n",
       "             '106086237_107535200': {'climb_id': '106086237',\n",
       "              'tick_date': time.struct_time(tm_year=2012, tm_mon=3, tm_mday=5, tm_hour=0, tm_min=0, tm_sec=0, tm_wday=0, tm_yday=65, tm_isdst=-1),\n",
       "              'user_id': '107535200'},\n",
       "             '106086237_107539722': {'climb_id': '106086237',\n",
       "              'star_rating': 4,\n",
       "              'tick_date': time.struct_time(tm_year=2012, tm_mon=2, tm_mday=12, tm_hour=0, tm_min=0, tm_sec=0, tm_wday=6, tm_yday=43, tm_isdst=-1),\n",
       "              'user_id': '107539722'},\n",
       "             '106086237_107606693': {'climb_id': '106086237',\n",
       "              'tick_date': time.struct_time(tm_year=2015, tm_mon=1, tm_mday=25, tm_hour=0, tm_min=0, tm_sec=0, tm_wday=6, tm_yday=25, tm_isdst=-1),\n",
       "              'user_id': '107606693'},\n",
       "             '106086237_107733126': {'climb_id': '106086237',\n",
       "              'star_rating': 4,\n",
       "              'tick_date': time.struct_time(tm_year=2013, tm_mon=3, tm_mday=24, tm_hour=0, tm_min=0, tm_sec=0, tm_wday=6, tm_yday=83, tm_isdst=-1),\n",
       "              'user_id': '107733126'},\n",
       "             '106086237_107769118': {'climb_id': '106086237',\n",
       "              'star_rating': 4,\n",
       "              'tick_date': time.struct_time(tm_year=2013, tm_mon=1, tm_mday=23, tm_hour=0, tm_min=0, tm_sec=0, tm_wday=2, tm_yday=23, tm_isdst=-1),\n",
       "              'user_id': '107769118'},\n",
       "             '106086237_107785044': {'climb_id': '106086237',\n",
       "              'star_rating': 3,\n",
       "              'tick_date': time.struct_time(tm_year=2014, tm_mon=3, tm_mday=2, tm_hour=0, tm_min=0, tm_sec=0, tm_wday=6, tm_yday=61, tm_isdst=-1),\n",
       "              'user_id': '107785044'},\n",
       "             '106086237_107831489': {'climb_id': '106086237',\n",
       "              'tick_date': time.struct_time(tm_year=2013, tm_mon=3, tm_mday=10, tm_hour=0, tm_min=0, tm_sec=0, tm_wday=6, tm_yday=69, tm_isdst=-1),\n",
       "              'user_id': '107831489'},\n",
       "             '106086237_107890277': {'climb_id': '106086237',\n",
       "              'star_rating': 4,\n",
       "              'tick_date': time.struct_time(tm_year=2014, tm_mon=1, tm_mday=3, tm_hour=0, tm_min=0, tm_sec=0, tm_wday=4, tm_yday=3, tm_isdst=-1),\n",
       "              'user_id': '107890277'},\n",
       "             '106086237_10795': {'climb_id': '106086237',\n",
       "              'tick_date': time.struct_time(tm_year=2012, tm_mon=2, tm_mday=2, tm_hour=0, tm_min=0, tm_sec=0, tm_wday=3, tm_yday=33, tm_isdst=-1),\n",
       "              'user_id': '10795'},\n",
       "             '106086237_108088043': {'climb_id': '106086237',\n",
       "              'tick_date': time.struct_time(tm_year=2015, tm_mon=2, tm_mday=8, tm_hour=0, tm_min=0, tm_sec=0, tm_wday=6, tm_yday=39, tm_isdst=-1),\n",
       "              'user_id': '108088043'},\n",
       "             '106086237_108157559': {'climb_id': '106086237',\n",
       "              'tick_date': time.struct_time(tm_year=2013, tm_mon=12, tm_mday=17, tm_hour=0, tm_min=0, tm_sec=0, tm_wday=1, tm_yday=351, tm_isdst=-1),\n",
       "              'user_id': '108157559'},\n",
       "             '106086237_108176139': {'climb_id': '106086237',\n",
       "              'tick_date': time.struct_time(tm_year=2013, tm_mon=12, tm_mday=29, tm_hour=0, tm_min=0, tm_sec=0, tm_wday=6, tm_yday=363, tm_isdst=-1),\n",
       "              'user_id': '108176139'},\n",
       "             '106086237_108235426': {'climb_id': '106086237',\n",
       "              'tick_date': time.struct_time(tm_year=2014, tm_mon=1, tm_mday=11, tm_hour=0, tm_min=0, tm_sec=0, tm_wday=5, tm_yday=11, tm_isdst=-1),\n",
       "              'user_id': '108235426'},\n",
       "             '106086237_108238671': {'climb_id': '106086237',\n",
       "              'star_rating': 4,\n",
       "              'tick_date': time.struct_time(tm_year=2014, tm_mon=1, tm_mday=7, tm_hour=0, tm_min=0, tm_sec=0, tm_wday=1, tm_yday=7, tm_isdst=-1),\n",
       "              'user_id': '108238671'},\n",
       "             '106086237_108259746': {'climb_id': '106086237',\n",
       "              'star_rating': 3,\n",
       "              'user_id': '108259746'},\n",
       "             '106086237_108269572': {'climb_id': '106086237',\n",
       "              'tick_date': time.struct_time(tm_year=2014, tm_mon=2, tm_mday=19, tm_hour=0, tm_min=0, tm_sec=0, tm_wday=2, tm_yday=50, tm_isdst=-1),\n",
       "              'user_id': '108269572'},\n",
       "             '106086237_108286063': {'climb_id': '106086237',\n",
       "              'tick_date': time.struct_time(tm_year=2014, tm_mon=1, tm_mday=4, tm_hour=0, tm_min=0, tm_sec=0, tm_wday=5, tm_yday=4, tm_isdst=-1),\n",
       "              'user_id': '108286063'},\n",
       "             '106086237_108296858': {'climb_id': '106086237',\n",
       "              'tick_date': time.struct_time(tm_year=2013, tm_mon=2, tm_mday=1, tm_hour=0, tm_min=0, tm_sec=0, tm_wday=4, tm_yday=32, tm_isdst=-1),\n",
       "              'user_id': '108296858'},\n",
       "             '106086237_108330838': {'climb_id': '106086237',\n",
       "              'tick_date': time.struct_time(tm_year=2013, tm_mon=12, tm_mday=16, tm_hour=0, tm_min=0, tm_sec=0, tm_wday=0, tm_yday=350, tm_isdst=-1),\n",
       "              'user_id': '108330838'},\n",
       "             '106086237_108351350': {'climb_id': '106086237',\n",
       "              'star_rating': 4,\n",
       "              'tick_date': time.struct_time(tm_year=2013, tm_mon=12, tm_mday=29, tm_hour=0, tm_min=0, tm_sec=0, tm_wday=6, tm_yday=363, tm_isdst=-1),\n",
       "              'user_id': '108351350'},\n",
       "             '106086237_108375956': {'climb_id': '106086237',\n",
       "              'tick_date': time.struct_time(tm_year=2014, tm_mon=3, tm_mday=9, tm_hour=0, tm_min=0, tm_sec=0, tm_wday=6, tm_yday=68, tm_isdst=-1),\n",
       "              'user_id': '108375956'},\n",
       "             '106086237_108641944': {'climb_id': '106086237',\n",
       "              'star_rating': 4,\n",
       "              'tick_date': time.struct_time(tm_year=2013, tm_mon=1, tm_mday=31, tm_hour=0, tm_min=0, tm_sec=0, tm_wday=3, tm_yday=31, tm_isdst=-1),\n",
       "              'user_id': '108641944'},\n",
       "             '106086237_108894899': {'climb_id': '106086237',\n",
       "              'tick_date': time.struct_time(tm_year=2015, tm_mon=1, tm_mday=29, tm_hour=0, tm_min=0, tm_sec=0, tm_wday=3, tm_yday=29, tm_isdst=-1),\n",
       "              'user_id': '108894899'},\n",
       "             '106086237_109340087': {'climb_id': '106086237',\n",
       "              'tick_date': time.struct_time(tm_year=2015, tm_mon=1, tm_mday=30, tm_hour=0, tm_min=0, tm_sec=0, tm_wday=4, tm_yday=30, tm_isdst=-1),\n",
       "              'user_id': '109340087'},\n",
       "             '106086237_111340539': {'climb_id': '106086237',\n",
       "              'tick_date': time.struct_time(tm_year=2014, tm_mon=3, tm_mday=2, tm_hour=0, tm_min=0, tm_sec=0, tm_wday=6, tm_yday=61, tm_isdst=-1),\n",
       "              'user_id': '111340539'},\n",
       "             '106086237_11466': {'climb_id': '106086237',\n",
       "              'tick_date': time.struct_time(tm_year=2015, tm_mon=1, tm_mday=23, tm_hour=0, tm_min=0, tm_sec=0, tm_wday=4, tm_yday=23, tm_isdst=-1),\n",
       "              'user_id': '11466'},\n",
       "             '106086237_11591': {'climb_id': '106086237',\n",
       "              'star_rating': 4,\n",
       "              'tick_date': time.struct_time(tm_year=2015, tm_mon=2, tm_mday=2, tm_hour=0, tm_min=0, tm_sec=0, tm_wday=0, tm_yday=33, tm_isdst=-1),\n",
       "              'user_id': '11591'},\n",
       "             '106086237_13532': {'climb_id': '106086237',\n",
       "              'tick_date': time.struct_time(tm_year=2000, tm_mon=1, tm_mday=10, tm_hour=0, tm_min=0, tm_sec=0, tm_wday=0, tm_yday=10, tm_isdst=-1),\n",
       "              'user_id': '13532'},\n",
       "             '106086237_13658': {'climb_id': '106086237',\n",
       "              'star_rating': 3,\n",
       "              'tick_date': time.struct_time(tm_year=2004, tm_mon=3, tm_mday=6, tm_hour=0, tm_min=0, tm_sec=0, tm_wday=5, tm_yday=66, tm_isdst=-1),\n",
       "              'user_id': '13658'},\n",
       "             '106086237_13914': {'climb_id': '106086237',\n",
       "              'star_rating': 4,\n",
       "              'sugg_aid_grade': 0,\n",
       "              'sugg_boulder_grade': 0,\n",
       "              'sugg_ice_grade': 'WI4',\n",
       "              'sugg_mixed_grade': 0,\n",
       "              'sugg_rock_grade': 0,\n",
       "              'tick_date': time.struct_time(tm_year=2009, tm_mon=3, tm_mday=15, tm_hour=0, tm_min=0, tm_sec=0, tm_wday=6, tm_yday=74, tm_isdst=-1),\n",
       "              'user_id': '13914'},\n",
       "             '106086237_14723': {'climb_id': '106086237',\n",
       "              'star_rating': 4,\n",
       "              'user_id': '14723'}})"
      ]
     },
     "execution_count": 44,
     "metadata": {},
     "output_type": "execute_result"
    }
   ],
   "source": [
    "ucjson"
   ]
  },
  {
   "cell_type": "code",
   "execution_count": null,
   "metadata": {
    "collapsed": true
   },
   "outputs": [],
   "source": []
  }
 ],
 "metadata": {
  "kernelspec": {
   "display_name": "Python 2",
   "language": "python",
   "name": "python2"
  },
  "language_info": {
   "codemirror_mode": {
    "name": "ipython",
    "version": 2
   },
   "file_extension": ".py",
   "mimetype": "text/x-python",
   "name": "python",
   "nbconvert_exporter": "python",
   "pygments_lexer": "ipython2",
   "version": "2.7.10"
  }
 },
 "nbformat": 4,
 "nbformat_minor": 0
}
