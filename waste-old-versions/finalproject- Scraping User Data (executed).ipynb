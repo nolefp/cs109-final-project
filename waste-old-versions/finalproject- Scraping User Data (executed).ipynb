{
 "metadata": {
  "name": "",
  "signature": "sha256:583922bbb903ff610c035c9941284bca86f1225da4ebd67c32208fe88bd2d8da"
 },
 "nbformat": 3,
 "nbformat_minor": 0,
 "worksheets": [
  {
   "cells": [
    {
     "cell_type": "code",
     "collapsed": false,
     "input": [
      "%matplotlib inline\n",
      "import collections \n",
      "import numpy as np\n",
      "import scipy as sp\n",
      "import pandas as pd\n",
      "import time\n",
      "from datetime import date, timedelta\n",
      "pd.set_option('display.width', 500)\n",
      "pd.set_option('display.max_columns', 100)\n",
      "pd.set_option('display.notebook_repr_html', True)\n",
      "import re\n",
      "import urllib2\n",
      "#import regex\n",
      "#import locale\n",
      "#import usaddress\n",
      "#import geograpy\n",
      "#import nltk\n",
      "from pyquery import PyQuery as pq\n",
      "from bs4 import BeautifulSoup\n",
      "import requests"
     ],
     "language": "python",
     "metadata": {},
     "outputs": [],
     "prompt_number": 3
    },
    {
     "cell_type": "code",
     "collapsed": false,
     "input": [
      "# global data storage\n",
      "climbsjson = collections.defaultdict(dict) # double nested dict\n",
      "usersjson = collections.defaultdict(dict) # double nested dict\n",
      "ucjson = collections.defaultdict(dict) #double nested dict"
     ],
     "language": "python",
     "metadata": {},
     "outputs": [],
     "prompt_number": 4
    },
    {
     "cell_type": "code",
     "collapsed": false,
     "input": [
      " # sub-functions and initializations for user/climb_scrape_func-s\n",
      "\n",
      "def parse_climb_link(href_link):\n",
      "    return href_link.split('/')[-1], href_link.split('/')[-2]\n",
      "\n",
      "def parse_user_link(href_link):\n",
      "    return href_link.split('/')[-1], href_link.split('/')[-3]\n",
      "\n",
      "# 16. get star info from td pairs for climb parser\n",
      "def star_quality_func(td1, td2, climb_id):\n",
      "    user_id, user_name = parse_user_link(td1('a').attr('href'))\n",
      "    rating = int(re.search(r'starsHtml\\(([0-5]),', \n",
      "                       td2('script').text()).group(1)) - 1\n",
      "    ucjson[climb_id + \"_\" + user_id][\"user_id\"] = user_id\n",
      "    ucjson[climb_id + \"_\" + user_id][\"climb_id\"] = climb_id\n",
      "    ucjson[climb_id + \"_\" + user_id][\"star_rating\"] = rating\n",
      "\n",
      "# 19. get sugg_rate info from td pairs\n",
      "def sugg_rating_func(td1, td2, climb_id):\n",
      "    user_id, user_name = parse_user_link(td1('a').attr('href'))\n",
      "    ucjson[climb_id + \"_\" + user_id][\"user_id\"] = user_id\n",
      "    ucjson[climb_id + \"_\" + user_id][\"climb_id\"] = climb_id\n",
      "    \n",
      "    for key, regex in diff_regexes.iteritems():\n",
      "        temp = re.search(regex, td2.text())\n",
      "        if  temp != None:\n",
      "            ucjson[climb_id + \"_\" + user_id][\"sugg_\" + key] = temp.group()\n",
      "        else:\n",
      "            ucjson[climb_id + \"_\" + user_id][\"sugg_\" + key] = 0\n",
      "\n",
      "aid_re = r'(A[0-5])|(C[0-5])[-,+]?'\n",
      "boulder_re = r'V\\d\\d?[-,+]?'\n",
      "ice_re = r'WI[1-6][+,-]?'\n",
      "mixed_re = r'M\\d\\d?[+,-]?'\n",
      "rock_re = r'5.\\d\\d?(([a-d]/[a-d])|([a-d]))?[+,-]?'\n",
      "\n",
      "diff_regexes = {\"aid_grade\": aid_re, \"boulder_grade\": boulder_re, \n",
      "               \"ice_grade\": ice_re, \"mixed_grade\": mixed_re, \n",
      "               \"rock_grade\": rock_re}\n",
      "\n",
      "user_type_regexes = {\"Trad\": rock_re, \"Sport\": rock_re, \n",
      "                     \"Boulders\": boulder_re, \"Aid\": aid_re, \n",
      "                     \"Ice\": ice_re, \"Mixed\": mixed_re}\n",
      "\n",
      "typesdict = {\"trad\": 0, \"alpine\": 0, \"ice\": 0, \"sport\": 0,\n",
      "        \"boulder\": 0, \"aid\": 0, \"mixed\": 0, \"TR,\": 0}\n",
      "\n"
     ],
     "language": "python",
     "metadata": {},
     "outputs": [],
     "prompt_number": 5
    },
    {
     "cell_type": "code",
     "collapsed": false,
     "input": [
      "def user_scrape_func(userlink):\n",
      "    \n",
      "    # initialize local user dict to be appended to usersjson at end\n",
      "    userdict = {\"user_id\": 0, \"user_name\": \"undef\", \"location_place\": \"undef\", \n",
      "                \"location_state\": \"undef\", \"age\": 0, \"gender\": \"undef\", \n",
      "                \"member_date\": 0}\n",
      "    \n",
      "   \n",
      "    \n",
      "    \n",
      "    \n",
      "    # get page and convert to pyquery obj\n",
      "    user_req=requests.get(userlink)\n",
      "    user_=pq(user_req.text)\n",
      "    \n",
      "    # get full link\n",
      "    full_userlink = user_(\"meta[property='og:url']\").attr('content')\n",
      "    \n",
      "    # 1. get user_name and id-s\n",
      "    user_id, user_name = parse_user_link(full_userlink)\n",
      "    userdict[\"user_id\"], userdict[\"user_name\"] = user_id, user_name\n",
      "    userdict[\"user_link\"] = full_userlink\n",
      "    \n",
      "    # extract personal data tag\n",
      "    user_main = user_('div.personalData')\n",
      "    user_pers = user_main(\"div:contains('Personal:')\")('em')\n",
      "    \n",
      "    # 2. if exists, get place of residence\n",
      "    if re.search('Lives in', user_pers.text()) != None:\n",
      "        userdict[\"location_place\"] = user_pers.text().split(',')[0].replace('Lives in ',\"\")\n",
      "        \n",
      "        # check for state separated by comma (will need to clean this)\n",
      "        if len(user_pers.text().split(',')) > 1:\n",
      "            maybe_state = user_pers.text().split(',')[1]\n",
      "            if (re.search(r'(years old)|(male)|(female)', maybe_state) == None):\n",
      "                userdict[\"location_state\"] = maybe_state\n",
      "    \n",
      "    # 3. get age\n",
      "    temp_age = re.search(r'(\\d\\d?) years old', user_pers.text())\n",
      "    if temp_age:\n",
      "        userdict[\"age\"] = int(temp_age.group(1))\n",
      "    \n",
      "    # 4. get gender\n",
      "    temp_gender = re.search(r'(male)|(female)', user_pers.text(), re.I)\n",
      "    if temp_gender:\n",
      "        userdict[\"gender\"] = temp_gender.group()\n",
      "    \n",
      "    # 5. get liked types and difficulties\n",
      "    user_diffs = user_main('table')\n",
      "\n",
      "    for key, value in user_type_regexes.items():\n",
      "        if key != \"Boulders\":\n",
      "            tdwithkey = user_diffs.find(\"tr\").children(\"td:contains('{}')\".format(key))\n",
      "            if tdwithkey:\n",
      "                userdict[\"climbs_\" + str.lower(key)] = 1\n",
      "                leadhtml = tdwithkey.next().html()\n",
      "                followhtml = tdwithkey.next().next().html()  \n",
      "                templeaddiff = re.search(\"{}\".format(value), leadhtml, re.I)\n",
      "                tempfollowdiff = re.search(\"{}\".format(value), followhtml, re.I)\n",
      "                if templeaddiff:\n",
      "                    userdict[\"lead_diff_\" + str.lower(key)] = templeaddiff.group() \n",
      "                else:\n",
      "                    userdict[\"lead_diff_\" + str.lower(key)] = '0'\n",
      "                if tempfollowdiff:\n",
      "                    userdict[\"follow_diff_\" + str.lower(key)] = tempfollowdiff.group()\n",
      "                else:\n",
      "                    userdict[\"follow_diff_\" + str.lower(key)] = '0'\n",
      "            else:\n",
      "                userdict[\"climbs_\" + str.lower(key)] = 0\n",
      "\n",
      "        elif key == \"Boulders\":\n",
      "            boulderhtml = user_diffs.find(\"tr\").children(\"td:contains('{}')\".format(key))\n",
      "            if boulderhtml:\n",
      "                userdict[\"climbs_boulder\"] = 1\n",
      "                boulderdiff = boulderhtml.next().html()\n",
      "                tempboulderdiff = re.search(\"{}\".format(value), boulderdiff)\n",
      "                if tempboulderdiff:\n",
      "                    userdict[\"boulder_diff\"] = tempboulderdiff.group()\n",
      "            else:\n",
      "                userdict[\"climbs_boulder\"] = 0\n",
      "            \n",
      "    \n",
      "    # 6. get date \n",
      "    user_left_box = user_(\"td[width='190']\")('b')\n",
      "    if user_left_box:\n",
      "        userdict[\"member_date\"] = time.strptime(user_left_box.eq(0).text(), \n",
      "                                                \"%b %d, %Y\")\n",
      "    \n",
      "    \n",
      "    \"\"\"\n",
      "    # might be good to add a bgcolor attribute ref to find only populated trs\n",
      "    #### 7. get stars\n",
      "    starsmain = \"http://www.mountainproject.com/u/{}?action=contribs&what=SCORE&\".format(user_id)\n",
      "    stars_main_req=requests.get(starsmain)\n",
      "    stars_main_page = pq(stars_main_req.text)\n",
      "    \n",
      "    # if multiple pages\n",
      "    num_pages = stars_main_page(\"h1\").next().next().find('tr').eq(1).text()\n",
      "    if num_pages:\n",
      "        pages = int(re.search(r'Page \\d\\d? of (\\d\\d?)', num_pages).group(1))\n",
      "    else:\n",
      "        pages = 1\n",
      "    \n",
      "    # parse all pages\n",
      "    for page in range(1, pages + 1):\n",
      "        starslink = \"http://www.mountainproject.com/u/{}?action=contribs&what=SCORE&&page={}\".format(user_id, page)\n",
      "        stars_req=requests.get(starslink)\n",
      "        stars_page = pq(stars_req.text)\n",
      "        star_rows = stars_page(\"table[width*='100%'][border='0'][class='objectList']\").eq(1).find('tr')\n",
      "\n",
      "        for i in range(2, len(star_rows)):\n",
      "            tds = star_rows.eq(i).find('td')\n",
      "            # get user and climb id-s\n",
      "            climb_link = tds.eq(0).find('a').attr('href')\n",
      "            climb_id, _ = parse_climb_link(climb_link)\n",
      "            ucjson[climb_id + \"_\" + user_id][\"user_id\"] = user_id\n",
      "            ucjson[climb_id + \"_\" + user_id][\"climb_id\"] = climb_id\n",
      "            #get rating\n",
      "            rating = int(re.search(r'starsHtml\\(([0-5]),', \n",
      "                           tds.eq(1)('script').text()).group(1)) - 1   \n",
      "            ucjson[climb_id + \"_\" + user_id][\"star_rating\"] = rating\n",
      "\n",
      "    # 8. ticks\n",
      "    ticksmain = \"http://www.mountainproject.com/u/{}?action=ticks&\".format(user_id)\n",
      "    ticks_main_req=requests.get(ticksmain)\n",
      "    ticks_main_page = pq(ticks_main_req.text)\n",
      "    dates_wrong = 0\n",
      "    \n",
      "    # if multiple pages\n",
      "    num_pages = ticks_main_page(\"table#stats\").next().next().find('tr').eq(0).text()\n",
      "    if num_pages:\n",
      "        pages = int(re.search(r'Page \\d\\d? of (\\d\\d?)', num_pages).group(1))\n",
      "    else:\n",
      "        pages = 1\n",
      "    \n",
      "    # parse all pages\n",
      "    for page in range(1, pages + 1):\n",
      "        tickslink = \"http://www.mountainproject.com/u/{}?action=ticks&&page={}\".format(user_id, page)\n",
      "        ticks_req=requests.get(tickslink)\n",
      "        ticks_page = pq(ticks_req.text)\n",
      "        tick_rows = ticks_page(\"table[width*='100%'][border='0'][class='objectList']\").eq(1).find('tr')\n",
      "\n",
      "        # parse all rows\n",
      "        for i in range(2, len(tick_rows)):\n",
      "            tds = tick_rows.eq(i).find('td')\n",
      "            \n",
      "            # get climb id, user id and mark ticked\n",
      "            climb_link = tds.eq(0).find('a').attr('href')\n",
      "            climb_id, _ = parse_climb_link(climb_link)\n",
      "            ucjson[climb_id + \"_\" + user_id][\"user_id\"] = user_id\n",
      "            ucjson[climb_id + \"_\" + user_id][\"climb_id\"] = climb_id\n",
      "            ucjson[climb_id + \"_\" + user_id][\"ticked\"] = 1\n",
      "\n",
      "            # get date\n",
      "            dates = None\n",
      "            days_ago = re.search(r'(\\d\\d?) days ago', tds.eq(4)('p').text())\n",
      "            if days_ago:\n",
      "                days_num = int(days_ago.group(1))\n",
      "                dates = date.today() - timedelta(days=days_num)\n",
      "                ucjson[climb_id + \"_\" + user_id][\"ticked_date\"] = dates\n",
      "            else:\n",
      "                # exception if for some dates with year -0001\n",
      "                try:\n",
      "                    dates = time.strptime(tds.eq(4)('p').text(), \"%b %d, %Y\")\n",
      "                    ucjson[climb_id + \"_\" + user_id][\"ticked_date\"] = dates\n",
      "                except ValueError:\n",
      "                    dates_wrong += 1\n",
      "    \"\"\"\n",
      "    \n",
      "    # add userdict to usersjson\n",
      "    usersjson[user_id] = userdict"
     ],
     "language": "python",
     "metadata": {},
     "outputs": [],
     "prompt_number": 51
    },
    {
     "cell_type": "code",
     "collapsed": false,
     "input": [
      "ucdf = pd.DataFrame.from_csv('climbuser.csv')"
     ],
     "language": "python",
     "metadata": {},
     "outputs": [],
     "prompt_number": 52
    },
    {
     "cell_type": "code",
     "collapsed": false,
     "input": [
      "# get users with above 5 ratings, sorted greatest to lowest\n",
      "userlist = ucdf.groupby(\"user_id\").count()[ucdf.groupby(\"user_id\").count()[\"star_rating\"] > 5].sort_values(by=\"star_rating\", ascending=0).index"
     ],
     "language": "python",
     "metadata": {},
     "outputs": [],
     "prompt_number": 53
    },
    {
     "cell_type": "code",
     "collapsed": false,
     "input": [
      "%%time \n",
      "usercount = 0\n",
      "for user_id in userlist:\n",
      "    user_scrape_func(\"http://www.mountainproject.com/u/\" + str(user_id))\n",
      "    usercount += 1\n",
      "    if usercount % 100 == 0:\n",
      "        print usercount"
     ],
     "language": "python",
     "metadata": {},
     "outputs": [
      {
       "output_type": "stream",
       "stream": "stdout",
       "text": [
        "100\n",
        "200"
       ]
      },
      {
       "output_type": "stream",
       "stream": "stdout",
       "text": [
        "\n",
        "300"
       ]
      },
      {
       "output_type": "stream",
       "stream": "stdout",
       "text": [
        "\n",
        "400"
       ]
      },
      {
       "output_type": "stream",
       "stream": "stdout",
       "text": [
        "\n",
        "500"
       ]
      },
      {
       "output_type": "stream",
       "stream": "stdout",
       "text": [
        "\n",
        "600"
       ]
      },
      {
       "output_type": "stream",
       "stream": "stdout",
       "text": [
        "\n",
        "700"
       ]
      },
      {
       "output_type": "stream",
       "stream": "stdout",
       "text": [
        "\n",
        "800"
       ]
      },
      {
       "output_type": "stream",
       "stream": "stdout",
       "text": [
        "\n",
        "900"
       ]
      },
      {
       "output_type": "stream",
       "stream": "stdout",
       "text": [
        "\n",
        "1000"
       ]
      },
      {
       "output_type": "stream",
       "stream": "stdout",
       "text": [
        "\n",
        "1100"
       ]
      },
      {
       "output_type": "stream",
       "stream": "stdout",
       "text": [
        "\n",
        "1200"
       ]
      },
      {
       "output_type": "stream",
       "stream": "stdout",
       "text": [
        "\n",
        "1300"
       ]
      },
      {
       "output_type": "stream",
       "stream": "stdout",
       "text": [
        "\n",
        "1400"
       ]
      },
      {
       "output_type": "stream",
       "stream": "stdout",
       "text": [
        "\n",
        "1500"
       ]
      },
      {
       "output_type": "stream",
       "stream": "stdout",
       "text": [
        "\n",
        "1600"
       ]
      },
      {
       "output_type": "stream",
       "stream": "stdout",
       "text": [
        "\n",
        "1700"
       ]
      },
      {
       "output_type": "stream",
       "stream": "stdout",
       "text": [
        "\n",
        "1800"
       ]
      },
      {
       "output_type": "stream",
       "stream": "stdout",
       "text": [
        "\n",
        "1900"
       ]
      },
      {
       "output_type": "stream",
       "stream": "stdout",
       "text": [
        "\n",
        "2000"
       ]
      },
      {
       "output_type": "stream",
       "stream": "stdout",
       "text": [
        "\n",
        "2100"
       ]
      },
      {
       "output_type": "stream",
       "stream": "stdout",
       "text": [
        "\n",
        "2200"
       ]
      },
      {
       "output_type": "stream",
       "stream": "stdout",
       "text": [
        "\n",
        "2300"
       ]
      },
      {
       "output_type": "stream",
       "stream": "stdout",
       "text": [
        "\n",
        "2400"
       ]
      },
      {
       "output_type": "stream",
       "stream": "stdout",
       "text": [
        "\n",
        "2500"
       ]
      },
      {
       "output_type": "stream",
       "stream": "stdout",
       "text": [
        "\n",
        "2600"
       ]
      },
      {
       "output_type": "stream",
       "stream": "stdout",
       "text": [
        "\n",
        "2700"
       ]
      },
      {
       "output_type": "stream",
       "stream": "stdout",
       "text": [
        "\n",
        "2800"
       ]
      },
      {
       "output_type": "stream",
       "stream": "stdout",
       "text": [
        "\n",
        "2900"
       ]
      },
      {
       "output_type": "stream",
       "stream": "stdout",
       "text": [
        "\n",
        "3000"
       ]
      },
      {
       "output_type": "stream",
       "stream": "stdout",
       "text": [
        "\n",
        "3100"
       ]
      },
      {
       "output_type": "stream",
       "stream": "stdout",
       "text": [
        "\n",
        "3200"
       ]
      },
      {
       "output_type": "stream",
       "stream": "stdout",
       "text": [
        "\n",
        "3300"
       ]
      },
      {
       "output_type": "stream",
       "stream": "stdout",
       "text": [
        "\n",
        "3400"
       ]
      },
      {
       "output_type": "stream",
       "stream": "stdout",
       "text": [
        "\n",
        "3500"
       ]
      },
      {
       "output_type": "stream",
       "stream": "stdout",
       "text": [
        "\n",
        "3600"
       ]
      },
      {
       "output_type": "stream",
       "stream": "stdout",
       "text": [
        "\n",
        "3700"
       ]
      },
      {
       "output_type": "stream",
       "stream": "stdout",
       "text": [
        "\n",
        "3800"
       ]
      },
      {
       "output_type": "stream",
       "stream": "stdout",
       "text": [
        "\n",
        "3900"
       ]
      },
      {
       "output_type": "stream",
       "stream": "stdout",
       "text": [
        "\n",
        "4000"
       ]
      },
      {
       "output_type": "stream",
       "stream": "stdout",
       "text": [
        "\n",
        "4100"
       ]
      },
      {
       "output_type": "stream",
       "stream": "stdout",
       "text": [
        "\n",
        "4200"
       ]
      },
      {
       "output_type": "stream",
       "stream": "stdout",
       "text": [
        "\n",
        "4300"
       ]
      },
      {
       "output_type": "stream",
       "stream": "stdout",
       "text": [
        "\n",
        "4400"
       ]
      },
      {
       "output_type": "stream",
       "stream": "stdout",
       "text": [
        "\n",
        "4500"
       ]
      },
      {
       "output_type": "stream",
       "stream": "stdout",
       "text": [
        "\n",
        "4600"
       ]
      },
      {
       "output_type": "stream",
       "stream": "stdout",
       "text": [
        "\n",
        "4700"
       ]
      },
      {
       "output_type": "stream",
       "stream": "stdout",
       "text": [
        "\n",
        "4800"
       ]
      },
      {
       "output_type": "stream",
       "stream": "stdout",
       "text": [
        "\n",
        "4900"
       ]
      },
      {
       "output_type": "stream",
       "stream": "stdout",
       "text": [
        "\n",
        "5000"
       ]
      },
      {
       "output_type": "stream",
       "stream": "stdout",
       "text": [
        "\n",
        "5100"
       ]
      },
      {
       "output_type": "stream",
       "stream": "stdout",
       "text": [
        "\n",
        "5200"
       ]
      },
      {
       "output_type": "stream",
       "stream": "stdout",
       "text": [
        "\n",
        "5300"
       ]
      },
      {
       "output_type": "stream",
       "stream": "stdout",
       "text": [
        "\n",
        "5400"
       ]
      },
      {
       "output_type": "stream",
       "stream": "stdout",
       "text": [
        "\n",
        "5500"
       ]
      },
      {
       "output_type": "stream",
       "stream": "stdout",
       "text": [
        "\n",
        "5600"
       ]
      },
      {
       "output_type": "stream",
       "stream": "stdout",
       "text": [
        "\n",
        "5700"
       ]
      },
      {
       "output_type": "stream",
       "stream": "stdout",
       "text": [
        "\n",
        "5800"
       ]
      },
      {
       "output_type": "stream",
       "stream": "stdout",
       "text": [
        "\n",
        "5900"
       ]
      },
      {
       "output_type": "stream",
       "stream": "stdout",
       "text": [
        "\n",
        "6000"
       ]
      },
      {
       "output_type": "stream",
       "stream": "stdout",
       "text": [
        "\n",
        "6100"
       ]
      },
      {
       "output_type": "stream",
       "stream": "stdout",
       "text": [
        "\n",
        "6200"
       ]
      },
      {
       "output_type": "stream",
       "stream": "stdout",
       "text": [
        "\n",
        "6300"
       ]
      },
      {
       "output_type": "stream",
       "stream": "stdout",
       "text": [
        "\n",
        "6400"
       ]
      },
      {
       "output_type": "stream",
       "stream": "stdout",
       "text": [
        "\n",
        "6500"
       ]
      },
      {
       "output_type": "stream",
       "stream": "stdout",
       "text": [
        "\n",
        "6600"
       ]
      },
      {
       "output_type": "stream",
       "stream": "stdout",
       "text": [
        "\n",
        "6700"
       ]
      },
      {
       "output_type": "stream",
       "stream": "stdout",
       "text": [
        "\n",
        "6800"
       ]
      },
      {
       "output_type": "stream",
       "stream": "stdout",
       "text": [
        "\n",
        "6900"
       ]
      },
      {
       "output_type": "stream",
       "stream": "stdout",
       "text": [
        "\n",
        "7000"
       ]
      },
      {
       "output_type": "stream",
       "stream": "stdout",
       "text": [
        "\n",
        "7100"
       ]
      },
      {
       "output_type": "stream",
       "stream": "stdout",
       "text": [
        "\n",
        "7200"
       ]
      },
      {
       "output_type": "stream",
       "stream": "stdout",
       "text": [
        "\n",
        "7300"
       ]
      },
      {
       "output_type": "stream",
       "stream": "stdout",
       "text": [
        "\n",
        "7400"
       ]
      },
      {
       "output_type": "stream",
       "stream": "stdout",
       "text": [
        "\n",
        "7500"
       ]
      },
      {
       "output_type": "stream",
       "stream": "stdout",
       "text": [
        "\n",
        "7600"
       ]
      },
      {
       "output_type": "stream",
       "stream": "stdout",
       "text": [
        "\n",
        "7700"
       ]
      },
      {
       "output_type": "stream",
       "stream": "stdout",
       "text": [
        "\n",
        "7800"
       ]
      },
      {
       "output_type": "stream",
       "stream": "stdout",
       "text": [
        "\n",
        "7900"
       ]
      },
      {
       "output_type": "stream",
       "stream": "stdout",
       "text": [
        "\n",
        "8000"
       ]
      },
      {
       "output_type": "stream",
       "stream": "stdout",
       "text": [
        "\n",
        "8100"
       ]
      },
      {
       "output_type": "stream",
       "stream": "stdout",
       "text": [
        "\n",
        "8200"
       ]
      },
      {
       "output_type": "stream",
       "stream": "stdout",
       "text": [
        "\n",
        "8300"
       ]
      },
      {
       "output_type": "stream",
       "stream": "stdout",
       "text": [
        "\n",
        "8400"
       ]
      },
      {
       "output_type": "stream",
       "stream": "stdout",
       "text": [
        "\n",
        "8500"
       ]
      },
      {
       "output_type": "stream",
       "stream": "stdout",
       "text": [
        "\n",
        "8600"
       ]
      },
      {
       "output_type": "stream",
       "stream": "stdout",
       "text": [
        "\n",
        "8700"
       ]
      },
      {
       "output_type": "stream",
       "stream": "stdout",
       "text": [
        "\n",
        "8800"
       ]
      },
      {
       "output_type": "stream",
       "stream": "stdout",
       "text": [
        "\n",
        "8900"
       ]
      },
      {
       "output_type": "stream",
       "stream": "stdout",
       "text": [
        "\n",
        "9000"
       ]
      },
      {
       "output_type": "stream",
       "stream": "stdout",
       "text": [
        "\n",
        "9100"
       ]
      },
      {
       "output_type": "stream",
       "stream": "stdout",
       "text": [
        "\n",
        "9200"
       ]
      },
      {
       "output_type": "stream",
       "stream": "stdout",
       "text": [
        "\n",
        "9300"
       ]
      },
      {
       "output_type": "stream",
       "stream": "stdout",
       "text": [
        "\n",
        "9400"
       ]
      },
      {
       "output_type": "stream",
       "stream": "stdout",
       "text": [
        "\n",
        "9500"
       ]
      },
      {
       "output_type": "stream",
       "stream": "stdout",
       "text": [
        "\n",
        "9600"
       ]
      },
      {
       "output_type": "stream",
       "stream": "stdout",
       "text": [
        "\n",
        "9700"
       ]
      },
      {
       "output_type": "stream",
       "stream": "stdout",
       "text": [
        "\n",
        "9800"
       ]
      },
      {
       "output_type": "stream",
       "stream": "stdout",
       "text": [
        "\n",
        "9900"
       ]
      },
      {
       "output_type": "stream",
       "stream": "stdout",
       "text": [
        "\n",
        "10000"
       ]
      },
      {
       "output_type": "stream",
       "stream": "stdout",
       "text": [
        "\n",
        "10100"
       ]
      },
      {
       "output_type": "stream",
       "stream": "stdout",
       "text": [
        "\n",
        "10200"
       ]
      },
      {
       "output_type": "stream",
       "stream": "stdout",
       "text": [
        "\n",
        "10300"
       ]
      },
      {
       "output_type": "stream",
       "stream": "stdout",
       "text": [
        "\n",
        "10400"
       ]
      },
      {
       "output_type": "stream",
       "stream": "stdout",
       "text": [
        "\n",
        "10500"
       ]
      },
      {
       "output_type": "stream",
       "stream": "stdout",
       "text": [
        "\n",
        "10600"
       ]
      },
      {
       "output_type": "stream",
       "stream": "stdout",
       "text": [
        "\n",
        "10700"
       ]
      },
      {
       "output_type": "stream",
       "stream": "stdout",
       "text": [
        "\n",
        "10800"
       ]
      },
      {
       "output_type": "stream",
       "stream": "stdout",
       "text": [
        "\n",
        "10900"
       ]
      },
      {
       "output_type": "stream",
       "stream": "stdout",
       "text": [
        "\n",
        "11000"
       ]
      },
      {
       "output_type": "stream",
       "stream": "stdout",
       "text": [
        "\n",
        "11100"
       ]
      },
      {
       "output_type": "stream",
       "stream": "stdout",
       "text": [
        "\n",
        "11200"
       ]
      },
      {
       "output_type": "stream",
       "stream": "stdout",
       "text": [
        "\n",
        "11300"
       ]
      },
      {
       "output_type": "stream",
       "stream": "stdout",
       "text": [
        "\n",
        "CPU times: user 2min 26s, sys: 3.99 s, total: 2min 30s"
       ]
      },
      {
       "output_type": "stream",
       "stream": "stdout",
       "text": [
        "\n",
        "Wall time: 58min 44s\n"
       ]
      }
     ],
     "prompt_number": 54
    },
    {
     "cell_type": "code",
     "collapsed": false,
     "input": [
      "len(usersjson)"
     ],
     "language": "python",
     "metadata": {},
     "outputs": [
      {
       "metadata": {},
       "output_type": "pyout",
       "prompt_number": 55,
       "text": [
        "11323"
       ]
      }
     ],
     "prompt_number": 55
    },
    {
     "cell_type": "code",
     "collapsed": false,
     "input": [
      "usersdf =pd.DataFrame.from_dict(usersjson,orient='index')"
     ],
     "language": "python",
     "metadata": {},
     "outputs": [],
     "prompt_number": 56
    },
    {
     "cell_type": "code",
     "collapsed": false,
     "input": [
      "%debug\n",
      "usersdf.to_csv('users.csv', encoding='utf-8')"
     ],
     "language": "python",
     "metadata": {},
     "outputs": [
      {
       "output_type": "stream",
       "stream": "stdout",
       "text": [
        "> \u001b[1;32m/user_home/w_mountaineers/finalproject/pandas/lib.pyx\u001b[0m(1031)\u001b[0;36mpandas.lib.write_csv_rows (pandas/lib.c:19071)\u001b[1;34m()\u001b[0m\n",
        "\n"
       ]
      },
      {
       "name": "stdout",
       "output_type": "stream",
       "stream": "stdout",
       "text": [
        "ipdb> quit\n"
       ]
      }
     ],
     "prompt_number": 65
    },
    {
     "cell_type": "code",
     "collapsed": false,
     "input": [],
     "language": "python",
     "metadata": {},
     "outputs": []
    }
   ],
   "metadata": {}
  }
 ]
}