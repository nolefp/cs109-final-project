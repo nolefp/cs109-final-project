{
 "metadata": {
  "name": "",
  "signature": "sha256:46ea110a678f2d79f382ff9dc7d706ebffc63acb88518bb25f01a2d6ee84eaa3"
 },
 "nbformat": 3,
 "nbformat_minor": 0,
 "worksheets": [
  {
   "cells": [
    {
     "cell_type": "code",
     "collapsed": false,
     "input": [
      "%matplotlib inline\n",
      "import collections \n",
      "import numpy as np\n",
      "import scipy as sp\n",
      "import pandas as pd\n",
      "import time\n",
      "from datetime import date, timedelta\n",
      "pd.set_option('display.width', 500)\n",
      "pd.set_option('display.max_columns', 100)\n",
      "pd.set_option('display.notebook_repr_html', True)\n",
      "import re\n",
      "import urllib2\n",
      "#import regex\n",
      "#import locale\n",
      "#import usaddress\n",
      "#import geograpy\n",
      "#import nltk\n",
      "from pyquery import PyQuery as pq\n",
      "from bs4 import BeautifulSoup\n",
      "import requests"
     ],
     "language": "python",
     "metadata": {},
     "outputs": [],
     "prompt_number": 1
    },
    {
     "cell_type": "code",
     "collapsed": false,
     "input": [
      "# global data storage\n",
      "climbsjson = collections.defaultdict(dict) # double nested dict\n",
      "usersjson = collections.defaultdict(dict) # double nested dict\n",
      "ucjson = collections.defaultdict(dict) #double nested dict"
     ],
     "language": "python",
     "metadata": {},
     "outputs": [],
     "prompt_number": 2
    },
    {
     "cell_type": "code",
     "collapsed": false,
     "input": [
      " # sub-functions and initializations for user/climb_scrape_func-s\n",
      "\n",
      "def parse_climb_link(href_link):\n",
      "    return href_link.split('/')[-1], href_link.split('/')[-2]\n",
      "\n",
      "def parse_user_link(href_link):\n",
      "    return href_link.split('/')[-1], href_link.split('/')[-3]\n",
      "\n",
      "# 16. get star info from td pairs for climb parser\n",
      "def star_quality_func(td1, td2, climb_id):\n",
      "    user_id, user_name = parse_user_link(td1('a').attr('href'))\n",
      "    rating = int(re.search(r'starsHtml\\(([0-5]),', \n",
      "                       td2('script').text()).group(1)) - 1\n",
      "    ucjson[climb_id + \"_\" + user_id][\"user_id\"] = user_id\n",
      "    ucjson[climb_id + \"_\" + user_id][\"climb_id\"] = climb_id\n",
      "    ucjson[climb_id + \"_\" + user_id][\"star_rating\"] = rating\n",
      "\n",
      "# 19. get sugg_rate info from td pairs\n",
      "def sugg_rating_func(td1, td2, climb_id):\n",
      "    user_id, user_name = parse_user_link(td1('a').attr('href'))\n",
      "    ucjson[climb_id + \"_\" + user_id][\"user_id\"] = user_id\n",
      "    ucjson[climb_id + \"_\" + user_id][\"climb_id\"] = climb_id\n",
      "    \n",
      "    for key, regex in diff_regexes.iteritems():\n",
      "        temp = re.search(regex, td2.text())\n",
      "        if  temp != None:\n",
      "            ucjson[climb_id + \"_\" + user_id][\"sugg_\" + key] = temp.group()\n",
      "        else:\n",
      "            ucjson[climb_id + \"_\" + user_id][\"sugg_\" + key] = 0\n",
      "\n",
      "aid_re = r'(A[0-5])|(C[0-5])[-,+]?'\n",
      "boulder_re = r'V\\d\\d?[-,+]?'\n",
      "ice_re = r'WI[1-6][+,-]?'\n",
      "mixed_re = r'M\\d\\d?[+,-]?'\n",
      "rock_re = r'5.\\d\\d?(([a-d]/[a-d])|([a-d]))?[+,-]?'\n",
      "\n",
      "diff_regexes = {\"aid_grade\": aid_re, \"boulder_grade\": boulder_re, \n",
      "               \"ice_grade\": ice_re, \"mixed_grade\": mixed_re, \n",
      "               \"rock_grade\": rock_re}\n",
      "\n",
      "user_type_regexes = {\"Trad\": rock_re, \"Sport\": rock_re, \n",
      "                     \"Boulders\": boulder_re, \"Aid\": aid_re, \n",
      "                     \"Ice\": ice_re, \"Mixed\": mixed_re}\n",
      "\n",
      "typesdict = {\"trad\": 0, \"alpine\": 0, \"ice\": 0, \"sport\": 0,\n",
      "        \"boulder\": 0, \"aid\": 0, \"mixed\": 0, \"TR,\": 0}\n",
      "\n"
     ],
     "language": "python",
     "metadata": {},
     "outputs": [],
     "prompt_number": 3
    },
    {
     "cell_type": "code",
     "collapsed": false,
     "input": [
      "def user_scrape_func(userlink):\n",
      "    \n",
      "    # initialize local user dict to be appended to usersjson at end\n",
      "    userdict = {\"user_id\": 0, \"user_name\": \"undef\", \"location_place\": \"undef\", \n",
      "                \"location_state\": \"undef\", \"age\": 0, \"gender\": \"undef\", \n",
      "                \"member_date\": 0}\n",
      "    \n",
      "   \n",
      "    \n",
      "    \n",
      "    \n",
      "    # get page and convert to pyquery obj\n",
      "    user_req=requests.get(userlink)\n",
      "    user_=pq(user_req.text)\n",
      "    \n",
      "    # get full link\n",
      "    full_userlink = user_(\"meta[property='og:url']\").attr('content')\n",
      "    \n",
      "    # 1. get user_name and ids\n",
      "    user_id, user_name = parse_user_link(full_userlink)\n",
      "    userdict[\"user_id\"], userdict[\"user_name\"] = user_id, user_name\n",
      "    userdict[\"user_link\"] = full_userlink\n",
      "    \n",
      "    # extract personal data tag\n",
      "    user_main = user_('div.personalData')\n",
      "    user_pers = user_main(\"div:contains('Personal:')\")('em')\n",
      "    \n",
      "    # 2. if exists, get place of residence\n",
      "    if re.search('Lives in', user_pers.text()) != None:\n",
      "        userdict[\"location_place\"] = user_pers.text().split(',')[0].replace('Lives in ',\"\")\n",
      "        \n",
      "        # check for state separated by comma (will need to clean this)\n",
      "        maybe_state = user_pers.text().split(',')[1]\n",
      "        if (re.search(r'(years old)|(male)|(female)', maybe_state) == None):\n",
      "            userdict[\"location_state\"] = maybe_state\n",
      "    \n",
      "    # 3. get age\n",
      "    temp_age = re.search(r'(\\d\\d?) years old', user_pers.text())\n",
      "    if temp_age:\n",
      "        userdict[\"age\"] = int(temp_age.group(1))\n",
      "    \n",
      "    # 4. get gender\n",
      "    temp_gender = re.search(r'(male)|(female)', user_pers.text(), re.I)\n",
      "    if temp_gender:\n",
      "        userdict[\"gender\"] = temp_gender.group()\n",
      "    \n",
      "    # 5. get liked types and difficulties\n",
      "    user_diffs = user_main('table')\n",
      "\n",
      "    for key, value in user_type_regexes.items():\n",
      "        if key != \"Boulders\":\n",
      "            tdwithkey = user_diffs.find(\"tr\").children(\"td:contains('{}')\".format(key))\n",
      "            if tdwithkey:\n",
      "                userdict[\"climbs_\" + str.lower(key)] = 1\n",
      "                leadhtml = tdwithkey.next().html()\n",
      "                followhtml = tdwithkey.next().next().html()  \n",
      "                templeaddiff = re.search(\"{}\".format(value), leadhtml, re.I)\n",
      "                tempfollowdiff = re.search(\"{}\".format(value), followhtml, re.I)\n",
      "                if templeaddiff:\n",
      "                    userdict[\"lead_diff_\" + str.lower(key)] = templeaddiff.group() \n",
      "                else:\n",
      "                    userdict[\"lead_diff_\" + str.lower(key)] = '0'\n",
      "                if tempfollowdiff:\n",
      "                    userdict[\"follow_diff_\" + str.lower(key)] = tempfollowdiff.group()\n",
      "                else:\n",
      "                    userdict[\"follow_diff_\" + str.lower(key)] = '0'\n",
      "            else:\n",
      "                userdict[\"climbs_\" + str.lower(key)] = 0\n",
      "\n",
      "        elif key == \"Boulders\":\n",
      "            boulderhtml = user_diffs.find(\"tr\").children(\"td:contains('{}')\".format(key))\n",
      "            if boulderhtml:\n",
      "                userdict[\"climbs_boulder\"] = 1\n",
      "                boulderdiff = boulderhtml.next().html()\n",
      "                tempboulderdiff = re.search(\"{}\".format(value), boulderdiff)\n",
      "                if tempboulderdiff:\n",
      "                    userdict[\"boulder_diff\"] = tempboulderdiff.group()\n",
      "            else:\n",
      "                userdict[\"climbs_boulder\"] = 0\n",
      "            \n",
      "    \n",
      "    # 6. get date \n",
      "    user_left_box = user_(\"td[width='190']\")('b')\n",
      "    if user_left_box:\n",
      "        userdict[\"member_date\"] = time.strptime(user_left_box.eq(0).text(), \n",
      "                                                \"%b %d, %Y\")\n",
      "    \n",
      "    \n",
      "    \n",
      "    # might be good to add a bgcolor attribute ref to find only populated trs\n",
      "    #### 7. get stars\n",
      "    starsmain = \"http://www.mountainproject.com/u/{}?action=contribs&what=SCORE&\".format(user_id)\n",
      "    stars_main_req=requests.get(starsmain)\n",
      "    stars_main_page = pq(stars_main_req.text)\n",
      "    \n",
      "    # if multiple pages\n",
      "    num_pages = stars_main_page(\"h1\").next().next().find('tr').eq(1).text()\n",
      "    if num_pages:\n",
      "        pages = int(re.search(r'Page \\d\\d? of (\\d\\d?)', num_pages).group(1))\n",
      "    else:\n",
      "        pages = 1\n",
      "    \n",
      "    # parse all pages\n",
      "    for page in range(1, pages + 1):\n",
      "        time.sleep(.1)\n",
      "        starslink = \"http://www.mountainproject.com/u/{}?action=contribs&what=SCORE&&page={}\".format(user_id, page)\n",
      "        stars_req=requests.get(starslink)\n",
      "        stars_page = pq(stars_req.text)\n",
      "        star_rows = stars_page(\"table[width*='100%'][border='0'][class='objectList']\").eq(1).find('tr')\n",
      "\n",
      "        for i in range(2, len(star_rows)):\n",
      "            tds = star_rows.eq(i).find('td')\n",
      "            # get user and climb id-s\n",
      "            climb_link = tds.eq(0).find('a').attr('href')\n",
      "            climb_id, _ = parse_climb_link(climb_link)\n",
      "            ucjson[climb_id + \"_\" + user_id][\"user_id\"] = user_id\n",
      "            ucjson[climb_id + \"_\" + user_id][\"climb_id\"] = climb_id\n",
      "            #get rating\n",
      "            rating = int(re.search(r'starsHtml\\(([0-5]),', \n",
      "                           tds.eq(1)('script').text()).group(1)) - 1   \n",
      "            ucjson[climb_id + \"_\" + user_id][\"star_rating\"] = rating\n",
      "\n",
      "    # 8. ticks\n",
      "    ticksmain = \"http://www.mountainproject.com/u/{}?action=ticks&\".format(user_id)\n",
      "    ticks_main_req=requests.get(ticksmain)\n",
      "    ticks_main_page = pq(ticks_main_req.text)\n",
      "    dates_wrong = 0\n",
      "    \n",
      "    # if multiple pages\n",
      "    num_pages = ticks_main_page(\"table#stats\").next().next().find('tr').eq(0).text()\n",
      "    if num_pages:\n",
      "        pages = int(re.search(r'Page \\d\\d? of (\\d\\d?)', num_pages).group(1))\n",
      "    else:\n",
      "        pages = 1\n",
      "    \n",
      "    # parse all pages\n",
      "    for page in range(1, pages + 1):\n",
      "        time.sleep(.1)\n",
      "        tickslink = \"http://www.mountainproject.com/u/{}?action=ticks&&page={}\".format(user_id, page)\n",
      "        ticks_req=requests.get(tickslink)\n",
      "        ticks_page = pq(ticks_req.text)\n",
      "        tick_rows = ticks_page(\"table[width*='100%'][border='0'][class='objectList']\").eq(1).find('tr')\n",
      "\n",
      "        # parse all rows\n",
      "        for i in range(2, len(tick_rows)):\n",
      "            tds = tick_rows.eq(i).find('td')\n",
      "            \n",
      "            # get climb id, user id and mark ticked\n",
      "            climb_link = tds.eq(0).find('a').attr('href')\n",
      "            climb_id, _ = parse_climb_link(climb_link)\n",
      "            ucjson[climb_id + \"_\" + user_id][\"user_id\"] = user_id\n",
      "            ucjson[climb_id + \"_\" + user_id][\"climb_id\"] = climb_id\n",
      "            ucjson[climb_id + \"_\" + user_id][\"ticked\"] = 1\n",
      "\n",
      "            # get date\n",
      "            dates = None\n",
      "            days_ago = re.search(r'(\\d\\d?) days ago', tds.eq(4)('p').text())\n",
      "            if days_ago:\n",
      "                days_num = int(days_ago.group(1))\n",
      "                dates = date.today() - timedelta(days=days_num)\n",
      "                ucjson[climb_id + \"_\" + user_id][\"ticked_date\"] = dates\n",
      "            else:\n",
      "                # exception if for some dates with year -0001\n",
      "                try:\n",
      "                    dates = time.strptime(tds.eq(4)('p').text(), \"%b %d, %Y\")\n",
      "                    ucjson[climb_id + \"_\" + user_id][\"ticked_date\"] = dates\n",
      "                except ValueError:\n",
      "                    dates_wrong += 1\n",
      "    \n",
      "    # add userdict to usersjson\n",
      "    usersjson[user_id] = userdict"
     ],
     "language": "python",
     "metadata": {},
     "outputs": [],
     "prompt_number": 50
    },
    {
     "cell_type": "code",
     "collapsed": false,
     "input": [
      "def climb_scrape_func(climb_link, state='undef', lat=0, lng=0):\n",
      "    \n",
      "    # initialize local climbdict\n",
      "    climbdict = {\"climb_id\": 0, \"climb_name\": 'undef',\n",
      "             \"avg_stars\": 0, \"pitches\": 0, \"feet\": 0, \"climb_link\": climb_link}\n",
      "    \n",
      "    # add latittude and logitude and state\n",
      "    climbdict[\"latitude\"] = lat\n",
      "    climbdict[\"longitude\"] = lng\n",
      "    climbdict[\"state\"] = state\n",
      "        \n",
      "    # 1. get keys\n",
      "    climb_id, climb_name = parse_climb_link(climb_link)\n",
      "    climbdict[\"climb_id\"] = climb_id\n",
      "    climbdict[\"climb_name\"] = climb_name\n",
      "    \n",
      "    # climb already scraped, then abort\n",
      "    if len(climbsjson[climb_id]) != 0:\n",
      "        return\n",
      "    \n",
      "    # get page into pyquery object\n",
      "    climb_req=requests.get(climb_link)\n",
      "    climb_=pq(climb_req.text)\n",
      "\n",
      "    # 0. get areas\n",
      "    climb_loc = climb_(\"#navBox\").find('a')\n",
      "    for i in range(0, len(climb_loc)):\n",
      "        climbdict[\"area_\" + str(i)] = (climb_loc.eq(i).attr('href'))\n",
      "    \n",
      "    # 2. separate climb div\n",
      "    climb_div = climb_('div#rspCol800')\n",
      "    \n",
      "    # 3. get climb summary div\n",
      "    climb_summstats = climb_div('div.rspCol[style=\"max-width:500px;\"]')\n",
      "    \n",
      "    # 4. get grade ratings\n",
      "    climb_summstats_subtitle = climb_summstats('h3')\n",
      "    \n",
      "    for key, regex in diff_regexes.items():\n",
      "        temp = re.search(regex, climb_summstats_subtitle.text())\n",
      "        if  temp != None:\n",
      "            climbdict[\"guide_\" + key] = temp.group()\n",
      "        else:\n",
      "            climbdict[\"guide_\" + key] = 0\n",
      "            \n",
      "    # 5. get average star rating\n",
      "    average_stars_script_html = climb_summstats('span#routeStars')('script').html()\n",
      "    average_stars_regexobj = re.search(r'[1-5]\\.\\d\\d?\\d?\\d?', \n",
      "                                       average_stars_script_html)\n",
      "    if average_stars_regexobj != None:     \n",
      "        avg_stars = float(average_stars_regexobj.group()) - 1\n",
      "        climbdict[\"avg_stars\"] = avg_stars\n",
      "    else:\n",
      "        avg_stars = 0\n",
      "        \n",
      "    # 6. get rows of table\n",
      "    climb_summstats_table = climb_summstats('table')\n",
      "\n",
      "    # get climb types, pitches, feet, grade\n",
      "    climb_summstats_type_cell = climb_summstats_table(\"td:contains('Type:')\")\n",
      "    # 7. get climb types\n",
      "    if climb_summstats_type_cell:\n",
      "        climb_summstats_type_text = climb_summstats_type_cell.next().text()\n",
      "        for key in typesdict:\n",
      "            if re.search(r'{}'.format(key), \n",
      "                        climb_summstats_type_text, \n",
      "                        flags = re.I) != None:\n",
      "                climbdict[\"type_\" + key] = 1\n",
      "            else:\n",
      "                climbdict[\"type_\" + key] = 0\n",
      "\n",
      "        # 8. get the number of pitches\n",
      "        pitches_regobj = re.search(r'(\\d\\d?) pitch(es)?', \n",
      "                        climb_summstats_type_text, \n",
      "                        flags = re.I)\n",
      "        if pitches_regobj:\n",
      "            climbdict[\"pitches\"] = int(pitches_regobj.group(1))\n",
      "        else:\n",
      "            climbdict[\"pitches\"] = None\n",
      "\n",
      "        # 9. get number of feet\n",
      "        feet_regobj = re.search(r\" (\\d\\d?\\d?\\d?\\d?)'\", \n",
      "                        climb_summstats_type_text, \n",
      "                        flags = re.I)\n",
      "        if feet_regobj:\n",
      "            climbdict[\"feet\"] = int(feet_regobj.group(1))\n",
      "        else:\n",
      "            climbdict[\"feet\"] = None\n",
      "\n",
      "        # 10. get commitment grade\n",
      "        grade_regobj = re.search(r'Grade ([I,II,III,IV,V,VI])', \n",
      "                        climb_summstats_type_text, \n",
      "                        flags = re.I)\n",
      "        if grade_regobj:\n",
      "            climbdict[\"grade\"] = grade_regobj.group(1)\n",
      "        else:\n",
      "            climbdict[\"grade\"] = None\n",
      "\n",
      "    # 11. get concensus rating\n",
      "    climb_summstats_table_consensus_cell = climb_summstats_table(\"td:contains('Consensus')\")\n",
      "    if climb_summstats_table_consensus_cell:\n",
      "        climb_summstats_table_consensus_text = climb_summstats_table_consensus_cell.next().text()\n",
      "        for key, regex in diff_regexes.iteritems():\n",
      "            temp = re.search(regex,climb_summstats_table_consensus_text)\n",
      "            if  temp != None:\n",
      "                climbdict[\"concensus_\" + key] = temp.group()\n",
      "            else:\n",
      "                climbdict[\"concensus_\" + key] = 0\n",
      "\n",
      "    # 12. get FA year\n",
      "    climb_summstats_table_fa_cell = climb_summstats_table(\"td:contains('FA:')\")\n",
      "    if climb_summstats_table_fa_cell:\n",
      "        climb_summstats_table_fa_text = climb_summstats_table_fa_cell.next().text()\n",
      "        fa_regobj = re.search(r\"(((18)|(19)|(20))\\d\\d)\",climb_summstats_table_fa_text)\n",
      "        if fa_regobj:\n",
      "            climbdict[\"fa_year\"] = int(fa_regobj.group(1))\n",
      "        else:\n",
      "            climbdict[\"fa_year\"] = None\n",
      "    \n",
      "    # 13. get page views\n",
      "    climb_summstats_table_pv_cell = climb_summstats_table(\"td:contains('Page Views')\")\n",
      "    if climb_summstats_table_pv_cell:\n",
      "        climb_summstats_table_pv_text = climb_summstats_table_pv_cell.next().text()    \n",
      "        views_regobj = re.search(r\"\\d?\\d?\\d?,?\\d?\\d\\d\",climb_summstats_table_pv_text )\n",
      "        if views_regobj:\n",
      "            climbdict[\"page_views\"] = int(views_regobj.group().replace(',',''))\n",
      "        else:\n",
      "            climbdict[\"page_views\"] = None\n",
      "        \n",
      "    # 14. get detailed users-climb page\n",
      "    stats_link = (\"http://mountainproject.com/scripts/ShowObjectStats.php?id=%s\"\n",
      "                  % climbdict['climb_id'])\n",
      "    climb_stats_req=requests.get(stats_link)\n",
      "    stats_=pq(climb_stats_req.text)\n",
      "\n",
      "    # 15. get star quality votes tables\n",
      "    stats_stars_table = stats_(\"span:contains('Star Quality Votes')\").next().next().find('tr')  \n",
      "    \n",
      "    # 17. iterate through stars table and populate ucjson \n",
      "    for i in range(0, len(stats_stars_table)):\n",
      "        tds = stats_stars_table.eq(i).find('td')\n",
      "        if len(tds) > 0:\n",
      "            star_quality_func(tds.eq(0),tds.eq(1), climb_id)\n",
      "            if len(tds) == 4:\n",
      "                star_quality_func(tds.eq(2),tds.eq(3), climb_id)\n",
      "                \n",
      "    # 18. get suggested ratings rows\n",
      "    stats_sugg_table = stats_(\"span:contains('Suggested Ratings')\").next().next().find('tr')  \n",
      "    \n",
      "    # 20. iterate through suggested ratings table and populate ucjson \n",
      "    for i in range(0, len(stats_sugg_table)):\n",
      "        tds = stats_sugg_table.eq(i).find('td')\n",
      "        if len(tds) > 1:\n",
      "            sugg_rating_func(tds.eq(0),tds.eq(1), climb_id)\n",
      "            if len(tds) == 4:\n",
      "                sugg_rating_func(tds.eq(2),tds.eq(3), climb_id)\n",
      "                \n",
      "    # 21. \n",
      "    stats_ticks_table = stats_(\"span:contains('Ticks')\").next().next().find('tr')  \n",
      "\n",
      "    # 22. iterate through ticks ratings table and populate ucjson \n",
      "    # this might require a tweek if dates are ever listed as (\"\\d\\d? days ago\")\n",
      "    dates_wrong = 0\n",
      "    for i in range(0, len(stats_ticks_table)):\n",
      "        tds = stats_ticks_table.eq(i).find('td')\n",
      "        if len(tds) == 3:\n",
      "            user_id, user_name = parse_user_link(tds.eq(0)('a').attr('href'))\n",
      "            ucjson[climb_id + \"_\" + user_id][\"user_id\"] = user_id\n",
      "            ucjson[climb_id + \"_\" + user_id][\"climb_id\"] = climb_id\n",
      "            try: \n",
      "                date = time.strptime(tds.eq(1).text(), \"%b %d, %Y\")\n",
      "                ucjson[climb_id + \"_\" + user_id][\"tick_date\"] = date\n",
      "                ucjson[climb_id + \"_\" + user_id][\"ticked\"] = 1\n",
      "            except ValueError:\n",
      "                dates_wrong += 1\n",
      "                \n",
      "    # add climbdict to climbsjson\n",
      "    climbsjson[climb_id] = climbdict"
     ],
     "language": "python",
     "metadata": {},
     "outputs": [],
     "prompt_number": 51
    },
    {
     "cell_type": "code",
     "collapsed": false,
     "input": [
      "\"\"\"\n",
      "userlinks_test = [\"http://www.mountainproject.com/u/claire-stolz//108141508\",\n",
      "                  \"http://www.mountainproject.com/u/nick-grant//107851075\", \n",
      "                  \"http://www.mountainproject.com/u/aaron-carney//110105933\",\n",
      "                  'http://www.mountainproject.com/u/aaron-conway//108046170',\n",
      "                  \"http://www.mountainproject.com/u/alan-margolies//108119044\",\n",
      "                  \"http://www.mountainproject.com/u/amelia-litz//108635482\",\n",
      "                  \"http://www.mountainproject.com/u/aaron-chambers//108225696\", \n",
      "                  \"http://www.mountainproject.com/u/richardo//107499279\", \n",
      "                  \"http://www.mountainproject.com/u/ray-shader//106642411\", \n",
      "                  \"http://www.mountainproject.com/u/rob-albert//106146571\", \n",
      "                  \"http://www.mountainproject.com/u/robbie-mize//107316636\", \n",
      "                  \"http://www.mountainproject.com/u/ross-keller//11047\", \n",
      "                  \"http://www.mountainproject.com/u/ross-merridock//108379018\"]\n",
      "\"\"\""
     ],
     "language": "python",
     "metadata": {},
     "outputs": [
      {
       "metadata": {},
       "output_type": "pyout",
       "prompt_number": 6,
       "text": [
        "'\\nuserlinks_test = [\"http://www.mountainproject.com/u/claire-stolz//108141508\",\\n                  \"http://www.mountainproject.com/u/nick-grant//107851075\", \\n                  \"http://www.mountainproject.com/u/aaron-carney//110105933\",\\n                  \\'http://www.mountainproject.com/u/aaron-conway//108046170\\',\\n                  \"http://www.mountainproject.com/u/alan-margolies//108119044\",\\n                  \"http://www.mountainproject.com/u/amelia-litz//108635482\",\\n                  \"http://www.mountainproject.com/u/aaron-chambers//108225696\", \\n                  \"http://www.mountainproject.com/u/richardo//107499279\", \\n                  \"http://www.mountainproject.com/u/ray-shader//106642411\", \\n                  \"http://www.mountainproject.com/u/rob-albert//106146571\", \\n                  \"http://www.mountainproject.com/u/robbie-mize//107316636\", \\n                  \"http://www.mountainproject.com/u/ross-keller//11047\", \\n                  \"http://www.mountainproject.com/u/ross-merridock//108379018\"]\\n'"
       ]
      }
     ],
     "prompt_number": 6
    },
    {
     "cell_type": "code",
     "collapsed": false,
     "input": [
      "\"\"\"\n",
      "%%time\n",
      "for userlink in userlinks_test:\n",
      "    user_scrape_func(userlink)\n",
      "\"\"\""
     ],
     "language": "python",
     "metadata": {},
     "outputs": [
      {
       "metadata": {},
       "output_type": "pyout",
       "prompt_number": 7,
       "text": [
        "'\\n%%time\\nfor userlink in userlinks_test:\\n    user_scrape_func(userlink)\\n'"
       ]
      }
     ],
     "prompt_number": 7
    },
    {
     "cell_type": "code",
     "collapsed": false,
     "input": [
      "\"\"\"\n",
      "climblinks_test = [\"http://www.mountainproject.com/v/high-exposure/105798994\", \n",
      "                   \"http://www.mountainproject.com/v/directissima/105799563\",\n",
      "                   \"http://www.mountainproject.com/v/enduro-mans-longest-hangout/107328856\", \n",
      "                   \"http://www.mountainproject.com/v/ridicullissima/105888125\", \n",
      "                   \"http://www.mountainproject.com/v/directississima/105799077\", \n",
      "                   \"http://www.mountainproject.com/v/hammond-eggs/107315322\", \n",
      "                   \"http://www.mountainproject.com/v/kelloggs/105908309\", \n",
      "                   \"http://www.mountainproject.com/v/pinnacle-gully/105890658\", \n",
      "                   \"http://www.mountainproject.com/v/diagonal-gully/106707853\", \n",
      "                   \"http://www.mountainproject.com/v/el-cap-tree/107057624\", \n",
      "                   \"http://www.mountainproject.com/v/quo-vadis/106683500\", \n",
      "                   \"http://www.mountainproject.com/v/dawn-wall-free/109951912\", \n",
      "                   \"https://www.mountainproject.com/v/shoestring-gully/106100769\"]\n",
      "\"\"\""
     ],
     "language": "python",
     "metadata": {},
     "outputs": [
      {
       "metadata": {},
       "output_type": "pyout",
       "prompt_number": 8,
       "text": [
        "'\\nclimblinks_test = [\"http://www.mountainproject.com/v/high-exposure/105798994\", \\n                   \"http://www.mountainproject.com/v/directissima/105799563\",\\n                   \"http://www.mountainproject.com/v/enduro-mans-longest-hangout/107328856\", \\n                   \"http://www.mountainproject.com/v/ridicullissima/105888125\", \\n                   \"http://www.mountainproject.com/v/directississima/105799077\", \\n                   \"http://www.mountainproject.com/v/hammond-eggs/107315322\", \\n                   \"http://www.mountainproject.com/v/kelloggs/105908309\", \\n                   \"http://www.mountainproject.com/v/pinnacle-gully/105890658\", \\n                   \"http://www.mountainproject.com/v/diagonal-gully/106707853\", \\n                   \"http://www.mountainproject.com/v/el-cap-tree/107057624\", \\n                   \"http://www.mountainproject.com/v/quo-vadis/106683500\", \\n                   \"http://www.mountainproject.com/v/dawn-wall-free/109951912\", \\n                   \"https://www.mountainproject.com/v/shoestring-gully/106100769\"]\\n'"
       ]
      }
     ],
     "prompt_number": 8
    },
    {
     "cell_type": "code",
     "collapsed": false,
     "input": [
      "\"\"\"\n",
      "%%time \n",
      "for climblink in climblinks_test:\n",
      "    climb_scrape_func(climblink)\n",
      "    time.sleep(1)\n",
      "\"\"\""
     ],
     "language": "python",
     "metadata": {},
     "outputs": [
      {
       "metadata": {},
       "output_type": "pyout",
       "prompt_number": 9,
       "text": [
        "'\\n%%time \\nfor climblink in climblinks_test:\\n    climb_scrape_func(climblink)\\n    time.sleep(1)\\n'"
       ]
      }
     ],
     "prompt_number": 9
    },
    {
     "cell_type": "code",
     "collapsed": false,
     "input": [
      "climbsdf = pd.DataFrame.from_csv(\"df_routes_lat_long.csv\")"
     ],
     "language": "python",
     "metadata": {},
     "outputs": [],
     "prompt_number": 10
    },
    {
     "cell_type": "code",
     "collapsed": false,
     "input": [
      "climbsdf = climbsdf.reset_index()"
     ],
     "language": "python",
     "metadata": {},
     "outputs": [],
     "prompt_number": 11
    },
    {
     "cell_type": "code",
     "collapsed": false,
     "input": [
      "climbsdf.head()\n",
      "\n"
     ],
     "language": "python",
     "metadata": {},
     "outputs": [
      {
       "html": [
        "<div style=\"max-width:1500px;overflow:auto;\">\n",
        "<table border=\"1\" class=\"dataframe\">\n",
        "  <thead>\n",
        "    <tr style=\"text-align: right;\">\n",
        "      <th></th>\n",
        "      <th>location_url</th>\n",
        "      <th>route_url</th>\n",
        "      <th>state</th>\n",
        "      <th>latitude</th>\n",
        "      <th>longitude</th>\n",
        "    </tr>\n",
        "  </thead>\n",
        "  <tbody>\n",
        "    <tr>\n",
        "      <th>0</th>\n",
        "      <td>http://www.mountainproject.com/v/sea-of-scream...</td>\n",
        "      <td>http://www.mountainproject.com/v/the-hobbit/10...</td>\n",
        "      <td>Oklahoma</td>\n",
        "      <td>34.8913</td>\n",
        "      <td>-99.3014</td>\n",
        "    </tr>\n",
        "    <tr>\n",
        "      <th>1</th>\n",
        "      <td>http://www.mountainproject.com/v/sea-of-scream...</td>\n",
        "      <td>http://www.mountainproject.com/v/accidents-wil...</td>\n",
        "      <td>Oklahoma</td>\n",
        "      <td>34.8913</td>\n",
        "      <td>-99.3014</td>\n",
        "    </tr>\n",
        "    <tr>\n",
        "      <th>2</th>\n",
        "      <td>http://www.mountainproject.com/v/sea-of-scream...</td>\n",
        "      <td>http://www.mountainproject.com/v/super-slide/1...</td>\n",
        "      <td>Oklahoma</td>\n",
        "      <td>34.8913</td>\n",
        "      <td>-99.3014</td>\n",
        "    </tr>\n",
        "    <tr>\n",
        "      <th>3</th>\n",
        "      <td>http://www.mountainproject.com/v/sea-of-scream...</td>\n",
        "      <td>http://www.mountainproject.com/v/whos-got-the-...</td>\n",
        "      <td>Oklahoma</td>\n",
        "      <td>34.8913</td>\n",
        "      <td>-99.3014</td>\n",
        "    </tr>\n",
        "    <tr>\n",
        "      <th>4</th>\n",
        "      <td>http://www.mountainproject.com/v/headwall/1058...</td>\n",
        "      <td>http://www.mountainproject.com/v/last-of-the-g...</td>\n",
        "      <td>Oklahoma</td>\n",
        "      <td>34.8913</td>\n",
        "      <td>-99.3014</td>\n",
        "    </tr>\n",
        "  </tbody>\n",
        "</table>\n",
        "</div>"
       ],
       "metadata": {},
       "output_type": "pyout",
       "prompt_number": 12,
       "text": [
        "                                        location_url                                          route_url     state  latitude  longitude\n",
        "0  http://www.mountainproject.com/v/sea-of-scream...  http://www.mountainproject.com/v/the-hobbit/10...  Oklahoma   34.8913   -99.3014\n",
        "1  http://www.mountainproject.com/v/sea-of-scream...  http://www.mountainproject.com/v/accidents-wil...  Oklahoma   34.8913   -99.3014\n",
        "2  http://www.mountainproject.com/v/sea-of-scream...  http://www.mountainproject.com/v/super-slide/1...  Oklahoma   34.8913   -99.3014\n",
        "3  http://www.mountainproject.com/v/sea-of-scream...  http://www.mountainproject.com/v/whos-got-the-...  Oklahoma   34.8913   -99.3014\n",
        "4  http://www.mountainproject.com/v/headwall/1058...  http://www.mountainproject.com/v/last-of-the-g...  Oklahoma   34.8913   -99.3014"
       ]
      }
     ],
     "prompt_number": 12
    },
    {
     "cell_type": "code",
     "collapsed": false,
     "input": [
      "%%time\n",
      "climbs_scraped = 0\n",
      "for climburl, state, lat, lng in zip(climbsdf.route_url, climbsdf.state, climbsdf.latitude, climbsdf.longitude):\n",
      "    climb_scrape_func(climburl, lat, lng)\n",
      "    climbs_scraped += 1\n",
      "    if climbs_scraped % 50 == 0:\n",
      "        print climbs_scraped\n",
      "    time.sleep(.2)"
     ],
     "language": "python",
     "metadata": {},
     "outputs": [
      {
       "output_type": "stream",
       "stream": "stdout",
       "text": [
        "50\n",
        "100"
       ]
      },
      {
       "output_type": "stream",
       "stream": "stdout",
       "text": [
        "\n",
        "150"
       ]
      },
      {
       "output_type": "stream",
       "stream": "stdout",
       "text": [
        "\n",
        "200"
       ]
      },
      {
       "output_type": "stream",
       "stream": "stdout",
       "text": [
        "\n",
        "250"
       ]
      },
      {
       "output_type": "stream",
       "stream": "stdout",
       "text": [
        "\n",
        "300"
       ]
      },
      {
       "output_type": "stream",
       "stream": "stdout",
       "text": [
        "\n",
        "350"
       ]
      },
      {
       "output_type": "stream",
       "stream": "stdout",
       "text": [
        "\n",
        "400"
       ]
      },
      {
       "output_type": "stream",
       "stream": "stdout",
       "text": [
        "\n",
        "450"
       ]
      },
      {
       "output_type": "stream",
       "stream": "stdout",
       "text": [
        "\n",
        "500"
       ]
      },
      {
       "output_type": "stream",
       "stream": "stdout",
       "text": [
        "\n",
        "550"
       ]
      },
      {
       "output_type": "stream",
       "stream": "stdout",
       "text": [
        "\n",
        "600"
       ]
      },
      {
       "output_type": "stream",
       "stream": "stdout",
       "text": [
        "\n",
        "650"
       ]
      },
      {
       "output_type": "stream",
       "stream": "stdout",
       "text": [
        "\n",
        "700"
       ]
      },
      {
       "output_type": "stream",
       "stream": "stdout",
       "text": [
        "\n",
        "750"
       ]
      },
      {
       "output_type": "stream",
       "stream": "stdout",
       "text": [
        "\n",
        "800"
       ]
      },
      {
       "output_type": "stream",
       "stream": "stdout",
       "text": [
        "\n",
        "850"
       ]
      },
      {
       "output_type": "stream",
       "stream": "stdout",
       "text": [
        "\n",
        "900"
       ]
      },
      {
       "output_type": "stream",
       "stream": "stdout",
       "text": [
        "\n",
        "950"
       ]
      },
      {
       "output_type": "stream",
       "stream": "stdout",
       "text": [
        "\n",
        "1000"
       ]
      },
      {
       "output_type": "stream",
       "stream": "stdout",
       "text": [
        "\n",
        "1050"
       ]
      },
      {
       "output_type": "stream",
       "stream": "stdout",
       "text": [
        "\n",
        "1100"
       ]
      },
      {
       "output_type": "stream",
       "stream": "stdout",
       "text": [
        "\n",
        "1150"
       ]
      },
      {
       "output_type": "stream",
       "stream": "stdout",
       "text": [
        "\n",
        "1200"
       ]
      },
      {
       "output_type": "stream",
       "stream": "stdout",
       "text": [
        "\n",
        "1250"
       ]
      },
      {
       "output_type": "stream",
       "stream": "stdout",
       "text": [
        "\n",
        "1300"
       ]
      },
      {
       "output_type": "stream",
       "stream": "stdout",
       "text": [
        "\n",
        "1350"
       ]
      },
      {
       "output_type": "stream",
       "stream": "stdout",
       "text": [
        "\n",
        "1400"
       ]
      },
      {
       "output_type": "stream",
       "stream": "stdout",
       "text": [
        "\n",
        "1450"
       ]
      },
      {
       "output_type": "stream",
       "stream": "stdout",
       "text": [
        "\n",
        "1500"
       ]
      },
      {
       "output_type": "stream",
       "stream": "stdout",
       "text": [
        "\n",
        "1550"
       ]
      },
      {
       "output_type": "stream",
       "stream": "stdout",
       "text": [
        "\n",
        "1600"
       ]
      },
      {
       "output_type": "stream",
       "stream": "stdout",
       "text": [
        "\n",
        "1650"
       ]
      },
      {
       "output_type": "stream",
       "stream": "stdout",
       "text": [
        "\n",
        "1700"
       ]
      },
      {
       "output_type": "stream",
       "stream": "stdout",
       "text": [
        "\n",
        "1750"
       ]
      },
      {
       "output_type": "stream",
       "stream": "stdout",
       "text": [
        "\n",
        "1800"
       ]
      },
      {
       "output_type": "stream",
       "stream": "stdout",
       "text": [
        "\n",
        "1850"
       ]
      },
      {
       "output_type": "stream",
       "stream": "stdout",
       "text": [
        "\n",
        "1900"
       ]
      },
      {
       "output_type": "stream",
       "stream": "stdout",
       "text": [
        "\n",
        "1950"
       ]
      },
      {
       "output_type": "stream",
       "stream": "stdout",
       "text": [
        "\n",
        "2000"
       ]
      },
      {
       "output_type": "stream",
       "stream": "stdout",
       "text": [
        "\n",
        "2050"
       ]
      },
      {
       "output_type": "stream",
       "stream": "stdout",
       "text": [
        "\n",
        "2100"
       ]
      },
      {
       "output_type": "stream",
       "stream": "stdout",
       "text": [
        "\n",
        "2150"
       ]
      },
      {
       "output_type": "stream",
       "stream": "stdout",
       "text": [
        "\n",
        "2200"
       ]
      },
      {
       "output_type": "stream",
       "stream": "stdout",
       "text": [
        "\n",
        "2250"
       ]
      },
      {
       "output_type": "stream",
       "stream": "stdout",
       "text": [
        "\n",
        "2300"
       ]
      },
      {
       "output_type": "stream",
       "stream": "stdout",
       "text": [
        "\n",
        "2350"
       ]
      },
      {
       "output_type": "stream",
       "stream": "stdout",
       "text": [
        "\n",
        "2400"
       ]
      },
      {
       "output_type": "stream",
       "stream": "stdout",
       "text": [
        "\n",
        "2450"
       ]
      },
      {
       "output_type": "stream",
       "stream": "stdout",
       "text": [
        "\n",
        "2500"
       ]
      },
      {
       "output_type": "stream",
       "stream": "stdout",
       "text": [
        "\n",
        "2550"
       ]
      },
      {
       "output_type": "stream",
       "stream": "stdout",
       "text": [
        "\n",
        "2600"
       ]
      },
      {
       "output_type": "stream",
       "stream": "stdout",
       "text": [
        "\n",
        "2650"
       ]
      },
      {
       "output_type": "stream",
       "stream": "stdout",
       "text": [
        "\n",
        "2700"
       ]
      },
      {
       "output_type": "stream",
       "stream": "stdout",
       "text": [
        "\n",
        "2750"
       ]
      },
      {
       "output_type": "stream",
       "stream": "stdout",
       "text": [
        "\n",
        "2800"
       ]
      },
      {
       "output_type": "stream",
       "stream": "stdout",
       "text": [
        "\n",
        "2850"
       ]
      },
      {
       "output_type": "stream",
       "stream": "stdout",
       "text": [
        "\n",
        "2900"
       ]
      },
      {
       "output_type": "stream",
       "stream": "stdout",
       "text": [
        "\n",
        "2950"
       ]
      },
      {
       "output_type": "stream",
       "stream": "stdout",
       "text": [
        "\n",
        "3000"
       ]
      },
      {
       "output_type": "stream",
       "stream": "stdout",
       "text": [
        "\n",
        "3050"
       ]
      },
      {
       "output_type": "stream",
       "stream": "stdout",
       "text": [
        "\n",
        "3100"
       ]
      },
      {
       "output_type": "stream",
       "stream": "stdout",
       "text": [
        "\n",
        "3150"
       ]
      },
      {
       "output_type": "stream",
       "stream": "stdout",
       "text": [
        "\n",
        "3200"
       ]
      },
      {
       "output_type": "stream",
       "stream": "stdout",
       "text": [
        "\n",
        "3250"
       ]
      },
      {
       "output_type": "stream",
       "stream": "stdout",
       "text": [
        "\n",
        "3300"
       ]
      },
      {
       "output_type": "stream",
       "stream": "stdout",
       "text": [
        "\n",
        "3350"
       ]
      },
      {
       "output_type": "stream",
       "stream": "stdout",
       "text": [
        "\n",
        "3400"
       ]
      },
      {
       "output_type": "stream",
       "stream": "stdout",
       "text": [
        "\n",
        "3450"
       ]
      },
      {
       "output_type": "stream",
       "stream": "stdout",
       "text": [
        "\n",
        "3500"
       ]
      },
      {
       "output_type": "stream",
       "stream": "stdout",
       "text": [
        "\n",
        "3550"
       ]
      },
      {
       "output_type": "stream",
       "stream": "stdout",
       "text": [
        "\n",
        "3600"
       ]
      },
      {
       "output_type": "stream",
       "stream": "stdout",
       "text": [
        "\n",
        "3650"
       ]
      },
      {
       "output_type": "stream",
       "stream": "stdout",
       "text": [
        "\n",
        "3700"
       ]
      },
      {
       "output_type": "stream",
       "stream": "stdout",
       "text": [
        "\n",
        "3750"
       ]
      },
      {
       "output_type": "stream",
       "stream": "stdout",
       "text": [
        "\n",
        "3800"
       ]
      },
      {
       "output_type": "stream",
       "stream": "stdout",
       "text": [
        "\n",
        "3850"
       ]
      },
      {
       "output_type": "stream",
       "stream": "stdout",
       "text": [
        "\n",
        "3900"
       ]
      },
      {
       "output_type": "stream",
       "stream": "stdout",
       "text": [
        "\n",
        "3950"
       ]
      },
      {
       "output_type": "stream",
       "stream": "stdout",
       "text": [
        "\n",
        "4000"
       ]
      },
      {
       "output_type": "stream",
       "stream": "stdout",
       "text": [
        "\n",
        "4050"
       ]
      },
      {
       "output_type": "stream",
       "stream": "stdout",
       "text": [
        "\n",
        "4100"
       ]
      },
      {
       "output_type": "stream",
       "stream": "stdout",
       "text": [
        "\n",
        "4150"
       ]
      },
      {
       "output_type": "stream",
       "stream": "stdout",
       "text": [
        "\n",
        "4200"
       ]
      },
      {
       "output_type": "stream",
       "stream": "stdout",
       "text": [
        "\n",
        "4250"
       ]
      },
      {
       "output_type": "stream",
       "stream": "stdout",
       "text": [
        "\n",
        "4300"
       ]
      },
      {
       "output_type": "stream",
       "stream": "stdout",
       "text": [
        "\n",
        "4350"
       ]
      },
      {
       "output_type": "stream",
       "stream": "stdout",
       "text": [
        "\n",
        "4400"
       ]
      },
      {
       "output_type": "stream",
       "stream": "stdout",
       "text": [
        "\n",
        "4450"
       ]
      },
      {
       "output_type": "stream",
       "stream": "stdout",
       "text": [
        "\n",
        "4500"
       ]
      },
      {
       "output_type": "stream",
       "stream": "stdout",
       "text": [
        "\n",
        "4550"
       ]
      },
      {
       "output_type": "stream",
       "stream": "stdout",
       "text": [
        "\n",
        "4600"
       ]
      },
      {
       "output_type": "stream",
       "stream": "stdout",
       "text": [
        "\n",
        "4650"
       ]
      },
      {
       "output_type": "stream",
       "stream": "stdout",
       "text": [
        "\n",
        "4700"
       ]
      },
      {
       "output_type": "stream",
       "stream": "stdout",
       "text": [
        "\n",
        "4750"
       ]
      },
      {
       "output_type": "stream",
       "stream": "stdout",
       "text": [
        "\n",
        "4800"
       ]
      },
      {
       "output_type": "stream",
       "stream": "stdout",
       "text": [
        "\n",
        "4850"
       ]
      },
      {
       "output_type": "stream",
       "stream": "stdout",
       "text": [
        "\n",
        "4900"
       ]
      },
      {
       "output_type": "stream",
       "stream": "stdout",
       "text": [
        "\n",
        "4950"
       ]
      },
      {
       "output_type": "stream",
       "stream": "stdout",
       "text": [
        "\n",
        "5000"
       ]
      },
      {
       "output_type": "stream",
       "stream": "stdout",
       "text": [
        "\n",
        "5050"
       ]
      },
      {
       "output_type": "stream",
       "stream": "stdout",
       "text": [
        "\n",
        "5100"
       ]
      },
      {
       "output_type": "stream",
       "stream": "stdout",
       "text": [
        "\n",
        "5150"
       ]
      },
      {
       "output_type": "stream",
       "stream": "stdout",
       "text": [
        "\n",
        "5200"
       ]
      },
      {
       "output_type": "stream",
       "stream": "stdout",
       "text": [
        "\n",
        "5250"
       ]
      },
      {
       "output_type": "stream",
       "stream": "stdout",
       "text": [
        "\n",
        "5300"
       ]
      },
      {
       "output_type": "stream",
       "stream": "stdout",
       "text": [
        "\n",
        "5350"
       ]
      },
      {
       "output_type": "stream",
       "stream": "stdout",
       "text": [
        "\n",
        "5400"
       ]
      },
      {
       "output_type": "stream",
       "stream": "stdout",
       "text": [
        "\n",
        "5450"
       ]
      },
      {
       "output_type": "stream",
       "stream": "stdout",
       "text": [
        "\n",
        "5500"
       ]
      },
      {
       "output_type": "stream",
       "stream": "stdout",
       "text": [
        "\n",
        "5550"
       ]
      },
      {
       "output_type": "stream",
       "stream": "stdout",
       "text": [
        "\n",
        "5600"
       ]
      },
      {
       "output_type": "stream",
       "stream": "stdout",
       "text": [
        "\n",
        "5650"
       ]
      },
      {
       "output_type": "stream",
       "stream": "stdout",
       "text": [
        "\n",
        "5700"
       ]
      },
      {
       "output_type": "stream",
       "stream": "stdout",
       "text": [
        "\n",
        "5750"
       ]
      },
      {
       "output_type": "stream",
       "stream": "stdout",
       "text": [
        "\n",
        "5800"
       ]
      },
      {
       "output_type": "stream",
       "stream": "stdout",
       "text": [
        "\n",
        "5850"
       ]
      },
      {
       "output_type": "stream",
       "stream": "stdout",
       "text": [
        "\n",
        "5900"
       ]
      },
      {
       "output_type": "stream",
       "stream": "stdout",
       "text": [
        "\n",
        "5950"
       ]
      },
      {
       "output_type": "stream",
       "stream": "stdout",
       "text": [
        "\n",
        "6000"
       ]
      },
      {
       "output_type": "stream",
       "stream": "stdout",
       "text": [
        "\n",
        "6050"
       ]
      },
      {
       "output_type": "stream",
       "stream": "stdout",
       "text": [
        "\n",
        "6100"
       ]
      },
      {
       "output_type": "stream",
       "stream": "stdout",
       "text": [
        "\n",
        "6150"
       ]
      },
      {
       "output_type": "stream",
       "stream": "stdout",
       "text": [
        "\n",
        "6200"
       ]
      },
      {
       "output_type": "stream",
       "stream": "stdout",
       "text": [
        "\n",
        "6250"
       ]
      },
      {
       "output_type": "stream",
       "stream": "stdout",
       "text": [
        "\n",
        "6300"
       ]
      },
      {
       "output_type": "stream",
       "stream": "stdout",
       "text": [
        "\n",
        "6350"
       ]
      },
      {
       "output_type": "stream",
       "stream": "stdout",
       "text": [
        "\n",
        "6400"
       ]
      },
      {
       "output_type": "stream",
       "stream": "stdout",
       "text": [
        "\n",
        "6450"
       ]
      },
      {
       "output_type": "stream",
       "stream": "stdout",
       "text": [
        "\n",
        "6500"
       ]
      },
      {
       "output_type": "stream",
       "stream": "stdout",
       "text": [
        "\n",
        "6550"
       ]
      },
      {
       "output_type": "stream",
       "stream": "stdout",
       "text": [
        "\n",
        "6600"
       ]
      },
      {
       "output_type": "stream",
       "stream": "stdout",
       "text": [
        "\n",
        "6650"
       ]
      },
      {
       "output_type": "stream",
       "stream": "stdout",
       "text": [
        "\n",
        "6700"
       ]
      },
      {
       "output_type": "stream",
       "stream": "stdout",
       "text": [
        "\n",
        "6750"
       ]
      },
      {
       "output_type": "stream",
       "stream": "stdout",
       "text": [
        "\n",
        "6800"
       ]
      },
      {
       "output_type": "stream",
       "stream": "stdout",
       "text": [
        "\n",
        "6850"
       ]
      },
      {
       "output_type": "stream",
       "stream": "stdout",
       "text": [
        "\n",
        "6900"
       ]
      },
      {
       "output_type": "stream",
       "stream": "stdout",
       "text": [
        "\n",
        "6950"
       ]
      },
      {
       "output_type": "stream",
       "stream": "stdout",
       "text": [
        "\n",
        "7000"
       ]
      },
      {
       "output_type": "stream",
       "stream": "stdout",
       "text": [
        "\n",
        "7050"
       ]
      },
      {
       "output_type": "stream",
       "stream": "stdout",
       "text": [
        "\n",
        "7100"
       ]
      },
      {
       "output_type": "stream",
       "stream": "stdout",
       "text": [
        "\n",
        "7150"
       ]
      },
      {
       "output_type": "stream",
       "stream": "stdout",
       "text": [
        "\n",
        "7200"
       ]
      },
      {
       "output_type": "stream",
       "stream": "stdout",
       "text": [
        "\n",
        "7250"
       ]
      },
      {
       "output_type": "stream",
       "stream": "stdout",
       "text": [
        "\n",
        "7300"
       ]
      },
      {
       "output_type": "stream",
       "stream": "stdout",
       "text": [
        "\n",
        "7350"
       ]
      },
      {
       "output_type": "stream",
       "stream": "stdout",
       "text": [
        "\n",
        "7400"
       ]
      },
      {
       "output_type": "stream",
       "stream": "stdout",
       "text": [
        "\n",
        "7450"
       ]
      },
      {
       "output_type": "stream",
       "stream": "stdout",
       "text": [
        "\n",
        "7500"
       ]
      },
      {
       "output_type": "stream",
       "stream": "stdout",
       "text": [
        "\n",
        "7550"
       ]
      },
      {
       "output_type": "stream",
       "stream": "stdout",
       "text": [
        "\n",
        "7600"
       ]
      },
      {
       "output_type": "stream",
       "stream": "stdout",
       "text": [
        "\n",
        "7650"
       ]
      },
      {
       "output_type": "stream",
       "stream": "stdout",
       "text": [
        "\n",
        "7700"
       ]
      },
      {
       "output_type": "stream",
       "stream": "stdout",
       "text": [
        "\n",
        "7750"
       ]
      },
      {
       "output_type": "stream",
       "stream": "stdout",
       "text": [
        "\n",
        "7800"
       ]
      },
      {
       "output_type": "stream",
       "stream": "stdout",
       "text": [
        "\n",
        "7850"
       ]
      },
      {
       "output_type": "stream",
       "stream": "stdout",
       "text": [
        "\n",
        "7900"
       ]
      },
      {
       "output_type": "stream",
       "stream": "stdout",
       "text": [
        "\n",
        "7950"
       ]
      },
      {
       "output_type": "stream",
       "stream": "stdout",
       "text": [
        "\n",
        "8000"
       ]
      },
      {
       "output_type": "stream",
       "stream": "stdout",
       "text": [
        "\n",
        "8050"
       ]
      },
      {
       "output_type": "stream",
       "stream": "stdout",
       "text": [
        "\n",
        "8100"
       ]
      },
      {
       "output_type": "stream",
       "stream": "stdout",
       "text": [
        "\n",
        "8150"
       ]
      },
      {
       "output_type": "stream",
       "stream": "stdout",
       "text": [
        "\n",
        "8200"
       ]
      },
      {
       "output_type": "stream",
       "stream": "stdout",
       "text": [
        "\n",
        "8250"
       ]
      },
      {
       "output_type": "stream",
       "stream": "stdout",
       "text": [
        "\n",
        "8300"
       ]
      },
      {
       "output_type": "stream",
       "stream": "stdout",
       "text": [
        "\n",
        "8350"
       ]
      },
      {
       "output_type": "stream",
       "stream": "stdout",
       "text": [
        "\n",
        "8400"
       ]
      },
      {
       "output_type": "stream",
       "stream": "stdout",
       "text": [
        "\n",
        "8450"
       ]
      },
      {
       "output_type": "stream",
       "stream": "stdout",
       "text": [
        "\n",
        "8500"
       ]
      },
      {
       "output_type": "stream",
       "stream": "stdout",
       "text": [
        "\n",
        "8550"
       ]
      },
      {
       "output_type": "stream",
       "stream": "stdout",
       "text": [
        "\n",
        "8600"
       ]
      },
      {
       "output_type": "stream",
       "stream": "stdout",
       "text": [
        "\n",
        "8650"
       ]
      },
      {
       "output_type": "stream",
       "stream": "stdout",
       "text": [
        "\n",
        "8700"
       ]
      },
      {
       "output_type": "stream",
       "stream": "stdout",
       "text": [
        "\n",
        "8750"
       ]
      },
      {
       "output_type": "stream",
       "stream": "stdout",
       "text": [
        "\n",
        "8800"
       ]
      },
      {
       "output_type": "stream",
       "stream": "stdout",
       "text": [
        "\n",
        "8850"
       ]
      },
      {
       "output_type": "stream",
       "stream": "stdout",
       "text": [
        "\n",
        "8900"
       ]
      },
      {
       "output_type": "stream",
       "stream": "stdout",
       "text": [
        "\n",
        "8950"
       ]
      },
      {
       "output_type": "stream",
       "stream": "stdout",
       "text": [
        "\n",
        "9000"
       ]
      },
      {
       "output_type": "stream",
       "stream": "stdout",
       "text": [
        "\n",
        "9050"
       ]
      },
      {
       "output_type": "stream",
       "stream": "stdout",
       "text": [
        "\n",
        "9100"
       ]
      },
      {
       "output_type": "stream",
       "stream": "stdout",
       "text": [
        "\n",
        "9150"
       ]
      },
      {
       "output_type": "stream",
       "stream": "stdout",
       "text": [
        "\n",
        "9200"
       ]
      },
      {
       "output_type": "stream",
       "stream": "stdout",
       "text": [
        "\n",
        "9250"
       ]
      },
      {
       "output_type": "stream",
       "stream": "stdout",
       "text": [
        "\n",
        "9300"
       ]
      },
      {
       "output_type": "stream",
       "stream": "stdout",
       "text": [
        "\n",
        "9350"
       ]
      },
      {
       "output_type": "stream",
       "stream": "stdout",
       "text": [
        "\n",
        "9400"
       ]
      },
      {
       "output_type": "stream",
       "stream": "stdout",
       "text": [
        "\n",
        "9450"
       ]
      },
      {
       "output_type": "stream",
       "stream": "stdout",
       "text": [
        "\n",
        "9500"
       ]
      },
      {
       "output_type": "stream",
       "stream": "stdout",
       "text": [
        "\n",
        "9550"
       ]
      },
      {
       "output_type": "stream",
       "stream": "stdout",
       "text": [
        "\n",
        "9600"
       ]
      },
      {
       "output_type": "stream",
       "stream": "stdout",
       "text": [
        "\n",
        "9650"
       ]
      },
      {
       "output_type": "stream",
       "stream": "stdout",
       "text": [
        "\n",
        "9700"
       ]
      },
      {
       "output_type": "stream",
       "stream": "stdout",
       "text": [
        "\n",
        "9750"
       ]
      },
      {
       "output_type": "stream",
       "stream": "stdout",
       "text": [
        "\n",
        "9800"
       ]
      },
      {
       "output_type": "stream",
       "stream": "stdout",
       "text": [
        "\n",
        "9850"
       ]
      },
      {
       "output_type": "stream",
       "stream": "stdout",
       "text": [
        "\n",
        "9900"
       ]
      },
      {
       "output_type": "stream",
       "stream": "stdout",
       "text": [
        "\n",
        "9950"
       ]
      },
      {
       "output_type": "stream",
       "stream": "stdout",
       "text": [
        "\n",
        "10000"
       ]
      },
      {
       "output_type": "stream",
       "stream": "stdout",
       "text": [
        "\n",
        "10050"
       ]
      },
      {
       "output_type": "stream",
       "stream": "stdout",
       "text": [
        "\n",
        "10100"
       ]
      },
      {
       "output_type": "stream",
       "stream": "stdout",
       "text": [
        "\n",
        "10150"
       ]
      },
      {
       "output_type": "stream",
       "stream": "stdout",
       "text": [
        "\n",
        "10200"
       ]
      },
      {
       "output_type": "stream",
       "stream": "stdout",
       "text": [
        "\n",
        "10250"
       ]
      },
      {
       "output_type": "stream",
       "stream": "stdout",
       "text": [
        "\n",
        "10300"
       ]
      },
      {
       "output_type": "stream",
       "stream": "stdout",
       "text": [
        "\n",
        "10350"
       ]
      },
      {
       "output_type": "stream",
       "stream": "stdout",
       "text": [
        "\n",
        "10400"
       ]
      },
      {
       "output_type": "stream",
       "stream": "stdout",
       "text": [
        "\n",
        "10450"
       ]
      },
      {
       "output_type": "stream",
       "stream": "stdout",
       "text": [
        "\n",
        "10500"
       ]
      },
      {
       "output_type": "stream",
       "stream": "stdout",
       "text": [
        "\n",
        "10550"
       ]
      },
      {
       "output_type": "stream",
       "stream": "stdout",
       "text": [
        "\n",
        "10600"
       ]
      },
      {
       "output_type": "stream",
       "stream": "stdout",
       "text": [
        "\n",
        "10650"
       ]
      },
      {
       "output_type": "stream",
       "stream": "stdout",
       "text": [
        "\n",
        "10700"
       ]
      },
      {
       "output_type": "stream",
       "stream": "stdout",
       "text": [
        "\n",
        "10750"
       ]
      },
      {
       "output_type": "stream",
       "stream": "stdout",
       "text": [
        "\n",
        "10800"
       ]
      },
      {
       "output_type": "stream",
       "stream": "stdout",
       "text": [
        "\n",
        "10850"
       ]
      },
      {
       "output_type": "stream",
       "stream": "stdout",
       "text": [
        "\n",
        "10900"
       ]
      },
      {
       "output_type": "stream",
       "stream": "stdout",
       "text": [
        "\n",
        "10950"
       ]
      },
      {
       "output_type": "stream",
       "stream": "stdout",
       "text": [
        "\n",
        "11000"
       ]
      },
      {
       "output_type": "stream",
       "stream": "stdout",
       "text": [
        "\n",
        "11050"
       ]
      },
      {
       "output_type": "stream",
       "stream": "stdout",
       "text": [
        "\n",
        "11100"
       ]
      },
      {
       "output_type": "stream",
       "stream": "stdout",
       "text": [
        "\n",
        "11150"
       ]
      },
      {
       "output_type": "stream",
       "stream": "stdout",
       "text": [
        "\n",
        "11200"
       ]
      },
      {
       "output_type": "stream",
       "stream": "stdout",
       "text": [
        "\n",
        "11250"
       ]
      },
      {
       "output_type": "stream",
       "stream": "stdout",
       "text": [
        "\n",
        "11300"
       ]
      },
      {
       "output_type": "stream",
       "stream": "stdout",
       "text": [
        "\n",
        "11350"
       ]
      },
      {
       "output_type": "stream",
       "stream": "stdout",
       "text": [
        "\n",
        "11400"
       ]
      },
      {
       "output_type": "stream",
       "stream": "stdout",
       "text": [
        "\n",
        "11450"
       ]
      },
      {
       "output_type": "stream",
       "stream": "stdout",
       "text": [
        "\n",
        "11500"
       ]
      },
      {
       "output_type": "stream",
       "stream": "stdout",
       "text": [
        "\n",
        "11550"
       ]
      },
      {
       "output_type": "stream",
       "stream": "stdout",
       "text": [
        "\n",
        "11600"
       ]
      },
      {
       "output_type": "stream",
       "stream": "stdout",
       "text": [
        "\n",
        "11650"
       ]
      },
      {
       "output_type": "stream",
       "stream": "stdout",
       "text": [
        "\n",
        "11700"
       ]
      },
      {
       "output_type": "stream",
       "stream": "stdout",
       "text": [
        "\n",
        "11750"
       ]
      },
      {
       "output_type": "stream",
       "stream": "stdout",
       "text": [
        "\n",
        "11800"
       ]
      },
      {
       "output_type": "stream",
       "stream": "stdout",
       "text": [
        "\n",
        "11850"
       ]
      },
      {
       "output_type": "stream",
       "stream": "stdout",
       "text": [
        "\n",
        "11900"
       ]
      },
      {
       "output_type": "stream",
       "stream": "stdout",
       "text": [
        "\n",
        "11950"
       ]
      },
      {
       "output_type": "stream",
       "stream": "stdout",
       "text": [
        "\n",
        "12000"
       ]
      },
      {
       "output_type": "stream",
       "stream": "stdout",
       "text": [
        "\n",
        "12050"
       ]
      },
      {
       "output_type": "stream",
       "stream": "stdout",
       "text": [
        "\n",
        "12100"
       ]
      },
      {
       "output_type": "stream",
       "stream": "stdout",
       "text": [
        "\n",
        "12150"
       ]
      },
      {
       "output_type": "stream",
       "stream": "stdout",
       "text": [
        "\n",
        "12200"
       ]
      },
      {
       "output_type": "stream",
       "stream": "stdout",
       "text": [
        "\n",
        "12250"
       ]
      },
      {
       "output_type": "stream",
       "stream": "stdout",
       "text": [
        "\n",
        "12300"
       ]
      },
      {
       "output_type": "stream",
       "stream": "stdout",
       "text": [
        "\n",
        "12350"
       ]
      },
      {
       "output_type": "stream",
       "stream": "stdout",
       "text": [
        "\n",
        "12400"
       ]
      },
      {
       "output_type": "stream",
       "stream": "stdout",
       "text": [
        "\n",
        "12450"
       ]
      },
      {
       "output_type": "stream",
       "stream": "stdout",
       "text": [
        "\n",
        "12500"
       ]
      },
      {
       "output_type": "stream",
       "stream": "stdout",
       "text": [
        "\n",
        "12550"
       ]
      },
      {
       "output_type": "stream",
       "stream": "stdout",
       "text": [
        "\n",
        "12600"
       ]
      },
      {
       "output_type": "stream",
       "stream": "stdout",
       "text": [
        "\n",
        "12650"
       ]
      },
      {
       "output_type": "stream",
       "stream": "stdout",
       "text": [
        "\n",
        "12700"
       ]
      },
      {
       "output_type": "stream",
       "stream": "stdout",
       "text": [
        "\n",
        "12750"
       ]
      },
      {
       "output_type": "stream",
       "stream": "stdout",
       "text": [
        "\n",
        "12800"
       ]
      },
      {
       "output_type": "stream",
       "stream": "stdout",
       "text": [
        "\n",
        "12850"
       ]
      },
      {
       "output_type": "stream",
       "stream": "stdout",
       "text": [
        "\n",
        "12900"
       ]
      },
      {
       "output_type": "stream",
       "stream": "stdout",
       "text": [
        "\n",
        "12950"
       ]
      },
      {
       "output_type": "stream",
       "stream": "stdout",
       "text": [
        "\n",
        "13000"
       ]
      },
      {
       "output_type": "stream",
       "stream": "stdout",
       "text": [
        "\n",
        "13050"
       ]
      },
      {
       "output_type": "stream",
       "stream": "stdout",
       "text": [
        "\n",
        "13100"
       ]
      },
      {
       "output_type": "stream",
       "stream": "stdout",
       "text": [
        "\n",
        "13150"
       ]
      },
      {
       "output_type": "stream",
       "stream": "stdout",
       "text": [
        "\n",
        "13200"
       ]
      },
      {
       "output_type": "stream",
       "stream": "stdout",
       "text": [
        "\n",
        "13250"
       ]
      },
      {
       "output_type": "stream",
       "stream": "stdout",
       "text": [
        "\n",
        "13300"
       ]
      },
      {
       "output_type": "stream",
       "stream": "stdout",
       "text": [
        "\n",
        "13350"
       ]
      },
      {
       "output_type": "stream",
       "stream": "stdout",
       "text": [
        "\n",
        "13400"
       ]
      },
      {
       "output_type": "stream",
       "stream": "stdout",
       "text": [
        "\n",
        "13450"
       ]
      },
      {
       "output_type": "stream",
       "stream": "stdout",
       "text": [
        "\n",
        "13500"
       ]
      },
      {
       "output_type": "stream",
       "stream": "stdout",
       "text": [
        "\n",
        "13550"
       ]
      },
      {
       "output_type": "stream",
       "stream": "stdout",
       "text": [
        "\n",
        "13600"
       ]
      },
      {
       "output_type": "stream",
       "stream": "stdout",
       "text": [
        "\n",
        "13650"
       ]
      },
      {
       "output_type": "stream",
       "stream": "stdout",
       "text": [
        "\n",
        "13700"
       ]
      },
      {
       "output_type": "stream",
       "stream": "stdout",
       "text": [
        "\n",
        "13750"
       ]
      },
      {
       "output_type": "stream",
       "stream": "stdout",
       "text": [
        "\n",
        "13800"
       ]
      },
      {
       "output_type": "stream",
       "stream": "stdout",
       "text": [
        "\n",
        "13850"
       ]
      },
      {
       "output_type": "stream",
       "stream": "stdout",
       "text": [
        "\n",
        "13900"
       ]
      },
      {
       "output_type": "stream",
       "stream": "stdout",
       "text": [
        "\n",
        "13950"
       ]
      },
      {
       "output_type": "stream",
       "stream": "stdout",
       "text": [
        "\n",
        "14000"
       ]
      },
      {
       "output_type": "stream",
       "stream": "stdout",
       "text": [
        "\n",
        "14050"
       ]
      },
      {
       "output_type": "stream",
       "stream": "stdout",
       "text": [
        "\n",
        "14100"
       ]
      },
      {
       "output_type": "stream",
       "stream": "stdout",
       "text": [
        "\n",
        "14150"
       ]
      },
      {
       "output_type": "stream",
       "stream": "stdout",
       "text": [
        "\n",
        "14200"
       ]
      },
      {
       "output_type": "stream",
       "stream": "stdout",
       "text": [
        "\n",
        "14250"
       ]
      },
      {
       "output_type": "stream",
       "stream": "stdout",
       "text": [
        "\n",
        "14300"
       ]
      },
      {
       "output_type": "stream",
       "stream": "stdout",
       "text": [
        "\n",
        "14350"
       ]
      },
      {
       "output_type": "stream",
       "stream": "stdout",
       "text": [
        "\n",
        "14400"
       ]
      },
      {
       "output_type": "stream",
       "stream": "stdout",
       "text": [
        "\n",
        "14450"
       ]
      },
      {
       "output_type": "stream",
       "stream": "stdout",
       "text": [
        "\n",
        "14500"
       ]
      },
      {
       "output_type": "stream",
       "stream": "stdout",
       "text": [
        "\n",
        "14550"
       ]
      },
      {
       "output_type": "stream",
       "stream": "stdout",
       "text": [
        "\n",
        "14600"
       ]
      },
      {
       "output_type": "stream",
       "stream": "stdout",
       "text": [
        "\n",
        "14650"
       ]
      },
      {
       "output_type": "stream",
       "stream": "stdout",
       "text": [
        "\n",
        "14700"
       ]
      },
      {
       "output_type": "stream",
       "stream": "stdout",
       "text": [
        "\n",
        "14750"
       ]
      },
      {
       "output_type": "stream",
       "stream": "stdout",
       "text": [
        "\n",
        "14800"
       ]
      },
      {
       "output_type": "stream",
       "stream": "stdout",
       "text": [
        "\n",
        "14850"
       ]
      },
      {
       "output_type": "stream",
       "stream": "stdout",
       "text": [
        "\n",
        "14900"
       ]
      },
      {
       "output_type": "stream",
       "stream": "stdout",
       "text": [
        "\n",
        "14950"
       ]
      },
      {
       "output_type": "stream",
       "stream": "stdout",
       "text": [
        "\n",
        "15000"
       ]
      },
      {
       "output_type": "stream",
       "stream": "stdout",
       "text": [
        "\n",
        "15050"
       ]
      },
      {
       "output_type": "stream",
       "stream": "stdout",
       "text": [
        "\n",
        "15100"
       ]
      },
      {
       "output_type": "stream",
       "stream": "stdout",
       "text": [
        "\n",
        "15150"
       ]
      },
      {
       "output_type": "stream",
       "stream": "stdout",
       "text": [
        "\n",
        "15200"
       ]
      },
      {
       "output_type": "stream",
       "stream": "stdout",
       "text": [
        "\n",
        "15250"
       ]
      },
      {
       "output_type": "stream",
       "stream": "stdout",
       "text": [
        "\n",
        "15300"
       ]
      },
      {
       "output_type": "stream",
       "stream": "stdout",
       "text": [
        "\n",
        "15350"
       ]
      },
      {
       "output_type": "stream",
       "stream": "stdout",
       "text": [
        "\n",
        "15400"
       ]
      },
      {
       "output_type": "stream",
       "stream": "stdout",
       "text": [
        "\n",
        "15450"
       ]
      },
      {
       "output_type": "stream",
       "stream": "stdout",
       "text": [
        "\n",
        "15500"
       ]
      },
      {
       "output_type": "stream",
       "stream": "stdout",
       "text": [
        "\n",
        "15550"
       ]
      },
      {
       "output_type": "stream",
       "stream": "stdout",
       "text": [
        "\n",
        "15600"
       ]
      },
      {
       "output_type": "stream",
       "stream": "stdout",
       "text": [
        "\n",
        "15650"
       ]
      },
      {
       "output_type": "stream",
       "stream": "stdout",
       "text": [
        "\n",
        "15700"
       ]
      },
      {
       "output_type": "stream",
       "stream": "stdout",
       "text": [
        "\n",
        "15750"
       ]
      },
      {
       "output_type": "stream",
       "stream": "stdout",
       "text": [
        "\n",
        "15800"
       ]
      },
      {
       "output_type": "stream",
       "stream": "stdout",
       "text": [
        "\n",
        "15850"
       ]
      },
      {
       "output_type": "stream",
       "stream": "stdout",
       "text": [
        "\n",
        "15900"
       ]
      },
      {
       "output_type": "stream",
       "stream": "stdout",
       "text": [
        "\n",
        "15950"
       ]
      },
      {
       "output_type": "stream",
       "stream": "stdout",
       "text": [
        "\n",
        "16000"
       ]
      },
      {
       "output_type": "stream",
       "stream": "stdout",
       "text": [
        "\n",
        "16050"
       ]
      },
      {
       "output_type": "stream",
       "stream": "stdout",
       "text": [
        "\n",
        "16100"
       ]
      },
      {
       "output_type": "stream",
       "stream": "stdout",
       "text": [
        "\n",
        "16150"
       ]
      },
      {
       "output_type": "stream",
       "stream": "stdout",
       "text": [
        "\n",
        "16200"
       ]
      },
      {
       "output_type": "stream",
       "stream": "stdout",
       "text": [
        "\n",
        "16250"
       ]
      },
      {
       "output_type": "stream",
       "stream": "stdout",
       "text": [
        "\n",
        "16300"
       ]
      },
      {
       "output_type": "stream",
       "stream": "stdout",
       "text": [
        "\n",
        "16350"
       ]
      },
      {
       "output_type": "stream",
       "stream": "stdout",
       "text": [
        "\n",
        "16400"
       ]
      },
      {
       "output_type": "stream",
       "stream": "stdout",
       "text": [
        "\n",
        "16450"
       ]
      },
      {
       "output_type": "stream",
       "stream": "stdout",
       "text": [
        "\n",
        "16500"
       ]
      },
      {
       "output_type": "stream",
       "stream": "stdout",
       "text": [
        "\n",
        "16550"
       ]
      },
      {
       "output_type": "stream",
       "stream": "stdout",
       "text": [
        "\n",
        "16600"
       ]
      },
      {
       "output_type": "stream",
       "stream": "stdout",
       "text": [
        "\n",
        "16650"
       ]
      },
      {
       "output_type": "stream",
       "stream": "stdout",
       "text": [
        "\n",
        "16700"
       ]
      },
      {
       "output_type": "stream",
       "stream": "stdout",
       "text": [
        "\n",
        "16750"
       ]
      },
      {
       "output_type": "stream",
       "stream": "stdout",
       "text": [
        "\n",
        "16800"
       ]
      },
      {
       "output_type": "stream",
       "stream": "stdout",
       "text": [
        "\n",
        "16850"
       ]
      },
      {
       "output_type": "stream",
       "stream": "stdout",
       "text": [
        "\n",
        "16900"
       ]
      },
      {
       "output_type": "stream",
       "stream": "stdout",
       "text": [
        "\n",
        "16950"
       ]
      },
      {
       "output_type": "stream",
       "stream": "stdout",
       "text": [
        "\n",
        "17000"
       ]
      },
      {
       "output_type": "stream",
       "stream": "stdout",
       "text": [
        "\n",
        "17050"
       ]
      },
      {
       "output_type": "stream",
       "stream": "stdout",
       "text": [
        "\n",
        "17100"
       ]
      },
      {
       "output_type": "stream",
       "stream": "stdout",
       "text": [
        "\n",
        "17150"
       ]
      },
      {
       "output_type": "stream",
       "stream": "stdout",
       "text": [
        "\n",
        "17200"
       ]
      },
      {
       "output_type": "stream",
       "stream": "stdout",
       "text": [
        "\n",
        "17250"
       ]
      },
      {
       "output_type": "stream",
       "stream": "stdout",
       "text": [
        "\n",
        "17300"
       ]
      },
      {
       "output_type": "stream",
       "stream": "stdout",
       "text": [
        "\n",
        "17350"
       ]
      },
      {
       "output_type": "stream",
       "stream": "stdout",
       "text": [
        "\n",
        "17400"
       ]
      },
      {
       "output_type": "stream",
       "stream": "stdout",
       "text": [
        "\n",
        "17450"
       ]
      },
      {
       "output_type": "stream",
       "stream": "stdout",
       "text": [
        "\n",
        "17500"
       ]
      },
      {
       "output_type": "stream",
       "stream": "stdout",
       "text": [
        "\n",
        "17550"
       ]
      },
      {
       "output_type": "stream",
       "stream": "stdout",
       "text": [
        "\n",
        "17600"
       ]
      },
      {
       "output_type": "stream",
       "stream": "stdout",
       "text": [
        "\n",
        "17650"
       ]
      },
      {
       "output_type": "stream",
       "stream": "stdout",
       "text": [
        "\n",
        "17700"
       ]
      },
      {
       "output_type": "stream",
       "stream": "stdout",
       "text": [
        "\n",
        "17750"
       ]
      },
      {
       "output_type": "stream",
       "stream": "stdout",
       "text": [
        "\n",
        "17800"
       ]
      },
      {
       "output_type": "stream",
       "stream": "stdout",
       "text": [
        "\n",
        "17850"
       ]
      },
      {
       "output_type": "stream",
       "stream": "stdout",
       "text": [
        "\n",
        "17900"
       ]
      },
      {
       "output_type": "stream",
       "stream": "stdout",
       "text": [
        "\n",
        "17950"
       ]
      },
      {
       "output_type": "stream",
       "stream": "stdout",
       "text": [
        "\n",
        "18000"
       ]
      },
      {
       "output_type": "stream",
       "stream": "stdout",
       "text": [
        "\n",
        "18050"
       ]
      },
      {
       "output_type": "stream",
       "stream": "stdout",
       "text": [
        "\n",
        "18100"
       ]
      },
      {
       "output_type": "stream",
       "stream": "stdout",
       "text": [
        "\n",
        "18150"
       ]
      },
      {
       "output_type": "stream",
       "stream": "stdout",
       "text": [
        "\n",
        "18200"
       ]
      },
      {
       "output_type": "stream",
       "stream": "stdout",
       "text": [
        "\n",
        "18250"
       ]
      },
      {
       "output_type": "stream",
       "stream": "stdout",
       "text": [
        "\n",
        "18300"
       ]
      },
      {
       "output_type": "stream",
       "stream": "stdout",
       "text": [
        "\n",
        "18350"
       ]
      },
      {
       "output_type": "stream",
       "stream": "stdout",
       "text": [
        "\n",
        "18400"
       ]
      },
      {
       "output_type": "stream",
       "stream": "stdout",
       "text": [
        "\n",
        "18450"
       ]
      },
      {
       "output_type": "stream",
       "stream": "stdout",
       "text": [
        "\n",
        "18500"
       ]
      },
      {
       "output_type": "stream",
       "stream": "stdout",
       "text": [
        "\n",
        "18550"
       ]
      },
      {
       "output_type": "stream",
       "stream": "stdout",
       "text": [
        "\n",
        "18600"
       ]
      },
      {
       "output_type": "stream",
       "stream": "stdout",
       "text": [
        "\n",
        "18650"
       ]
      },
      {
       "output_type": "stream",
       "stream": "stdout",
       "text": [
        "\n",
        "18700"
       ]
      },
      {
       "output_type": "stream",
       "stream": "stdout",
       "text": [
        "\n",
        "18750"
       ]
      },
      {
       "output_type": "stream",
       "stream": "stdout",
       "text": [
        "\n",
        "18800"
       ]
      },
      {
       "output_type": "stream",
       "stream": "stdout",
       "text": [
        "\n",
        "18850"
       ]
      },
      {
       "output_type": "stream",
       "stream": "stdout",
       "text": [
        "\n",
        "18900"
       ]
      },
      {
       "output_type": "stream",
       "stream": "stdout",
       "text": [
        "\n",
        "CPU times: user 21min 39s, sys: 23.6 s, total: 22min 2s"
       ]
      },
      {
       "output_type": "stream",
       "stream": "stdout",
       "text": [
        "\n",
        "Wall time: 4h 48min 16s\n"
       ]
      }
     ],
     "prompt_number": 13
    },
    {
     "cell_type": "code",
     "collapsed": false,
     "input": [
      "len(climbsjson)"
     ],
     "language": "python",
     "metadata": {},
     "outputs": [
      {
       "metadata": {},
       "output_type": "pyout",
       "prompt_number": 14,
       "text": [
        "18773"
       ]
      }
     ],
     "prompt_number": 14
    },
    {
     "cell_type": "code",
     "collapsed": false,
     "input": [
      "climbsdf =pd.DataFrame.from_dict(climbsjson,orient='index')\n"
     ],
     "language": "python",
     "metadata": {},
     "outputs": [],
     "prompt_number": 15
    },
    {
     "cell_type": "code",
     "collapsed": false,
     "input": [
      "climbsdf.describe()"
     ],
     "language": "python",
     "metadata": {},
     "outputs": [
      {
       "html": [
        "<div style=\"max-width:1500px;overflow:auto;\">\n",
        "<table border=\"1\" class=\"dataframe\">\n",
        "  <thead>\n",
        "    <tr style=\"text-align: right;\">\n",
        "      <th></th>\n",
        "      <th>type_mixed</th>\n",
        "      <th>type_alpine</th>\n",
        "      <th>feet</th>\n",
        "      <th>type_aid</th>\n",
        "      <th>fa_year</th>\n",
        "      <th>type_TR,</th>\n",
        "      <th>avg_stars</th>\n",
        "      <th>state</th>\n",
        "      <th>latitude</th>\n",
        "      <th>page_views</th>\n",
        "      <th>type_trad</th>\n",
        "      <th>pitches</th>\n",
        "      <th>type_ice</th>\n",
        "      <th>type_boulder</th>\n",
        "      <th>longitude</th>\n",
        "      <th>type_sport</th>\n",
        "    </tr>\n",
        "  </thead>\n",
        "  <tbody>\n",
        "    <tr>\n",
        "      <th>count</th>\n",
        "      <td>18773.000000</td>\n",
        "      <td>18773.000000</td>\n",
        "      <td>15137.000000</td>\n",
        "      <td>18773.000000</td>\n",
        "      <td>5908.000000</td>\n",
        "      <td>18773.000000</td>\n",
        "      <td>18773.000000</td>\n",
        "      <td>18773.000000</td>\n",
        "      <td>18773.000000</td>\n",
        "      <td>18773.000000</td>\n",
        "      <td>18773.000000</td>\n",
        "      <td>13206.000000</td>\n",
        "      <td>18773.000000</td>\n",
        "      <td>18773.000000</td>\n",
        "      <td>18773</td>\n",
        "      <td>18773.000000</td>\n",
        "    </tr>\n",
        "    <tr>\n",
        "      <th>mean</th>\n",
        "      <td>0.002983</td>\n",
        "      <td>0.018377</td>\n",
        "      <td>121.572967</td>\n",
        "      <td>0.004102</td>\n",
        "      <td>1987.141503</td>\n",
        "      <td>0.072178</td>\n",
        "      <td>2.476971</td>\n",
        "      <td>38.760473</td>\n",
        "      <td>-104.646066</td>\n",
        "      <td>2532.874394</td>\n",
        "      <td>0.383849</td>\n",
        "      <td>1.515220</td>\n",
        "      <td>0.016140</td>\n",
        "      <td>0.137272</td>\n",
        "      <td>0</td>\n",
        "      <td>0.488308</td>\n",
        "    </tr>\n",
        "    <tr>\n",
        "      <th>std</th>\n",
        "      <td>0.054537</td>\n",
        "      <td>0.134316</td>\n",
        "      <td>1017.015325</td>\n",
        "      <td>0.063914</td>\n",
        "      <td>14.934810</td>\n",
        "      <td>0.258790</td>\n",
        "      <td>0.862664</td>\n",
        "      <td>3.802676</td>\n",
        "      <td>15.148212</td>\n",
        "      <td>4662.915426</td>\n",
        "      <td>0.486335</td>\n",
        "      <td>1.676495</td>\n",
        "      <td>0.126018</td>\n",
        "      <td>0.344143</td>\n",
        "      <td>0</td>\n",
        "      <td>0.499877</td>\n",
        "    </tr>\n",
        "    <tr>\n",
        "      <th>min</th>\n",
        "      <td>0.000000</td>\n",
        "      <td>0.000000</td>\n",
        "      <td>4.000000</td>\n",
        "      <td>0.000000</td>\n",
        "      <td>1911.000000</td>\n",
        "      <td>0.000000</td>\n",
        "      <td>0.000000</td>\n",
        "      <td>21.309100</td>\n",
        "      <td>-158.228700</td>\n",
        "      <td>77.000000</td>\n",
        "      <td>0.000000</td>\n",
        "      <td>1.000000</td>\n",
        "      <td>0.000000</td>\n",
        "      <td>0.000000</td>\n",
        "      <td>0</td>\n",
        "      <td>0.000000</td>\n",
        "    </tr>\n",
        "    <tr>\n",
        "      <th>25%</th>\n",
        "      <td>0.000000</td>\n",
        "      <td>0.000000</td>\n",
        "      <td>45.000000</td>\n",
        "      <td>0.000000</td>\n",
        "      <td>1977.000000</td>\n",
        "      <td>0.000000</td>\n",
        "      <td>2.076900</td>\n",
        "      <td>36.011800</td>\n",
        "      <td>-115.446270</td>\n",
        "      <td>796.000000</td>\n",
        "      <td>0.000000</td>\n",
        "      <td>1.000000</td>\n",
        "      <td>0.000000</td>\n",
        "      <td>0.000000</td>\n",
        "      <td>0</td>\n",
        "      <td>0.000000</td>\n",
        "    </tr>\n",
        "    <tr>\n",
        "      <th>50%</th>\n",
        "      <td>0.000000</td>\n",
        "      <td>0.000000</td>\n",
        "      <td>65.000000</td>\n",
        "      <td>0.000000</td>\n",
        "      <td>1989.000000</td>\n",
        "      <td>0.000000</td>\n",
        "      <td>2.545500</td>\n",
        "      <td>38.788600</td>\n",
        "      <td>-107.715400</td>\n",
        "      <td>1369.000000</td>\n",
        "      <td>0.000000</td>\n",
        "      <td>1.000000</td>\n",
        "      <td>0.000000</td>\n",
        "      <td>0.000000</td>\n",
        "      <td>0</td>\n",
        "      <td>0.000000</td>\n",
        "    </tr>\n",
        "    <tr>\n",
        "      <th>75%</th>\n",
        "      <td>0.000000</td>\n",
        "      <td>0.000000</td>\n",
        "      <td>90.000000</td>\n",
        "      <td>0.000000</td>\n",
        "      <td>1999.000000</td>\n",
        "      <td>0.000000</td>\n",
        "      <td>3.066700</td>\n",
        "      <td>40.613440</td>\n",
        "      <td>-103.907650</td>\n",
        "      <td>2545.000000</td>\n",
        "      <td>1.000000</td>\n",
        "      <td>1.000000</td>\n",
        "      <td>0.000000</td>\n",
        "      <td>0.000000</td>\n",
        "      <td>0</td>\n",
        "      <td>1.000000</td>\n",
        "    </tr>\n",
        "    <tr>\n",
        "      <th>max</th>\n",
        "      <td>1.000000</td>\n",
        "      <td>1.000000</td>\n",
        "      <td>90110.000000</td>\n",
        "      <td>1.000000</td>\n",
        "      <td>2015.000000</td>\n",
        "      <td>1.000000</td>\n",
        "      <td>3.991300</td>\n",
        "      <td>64.820900</td>\n",
        "      <td>110.704550</td>\n",
        "      <td>139600.000000</td>\n",
        "      <td>1.000000</td>\n",
        "      <td>35.000000</td>\n",
        "      <td>1.000000</td>\n",
        "      <td>1.000000</td>\n",
        "      <td>0</td>\n",
        "      <td>1.000000</td>\n",
        "    </tr>\n",
        "  </tbody>\n",
        "</table>\n",
        "</div>"
       ],
       "metadata": {},
       "output_type": "pyout",
       "prompt_number": 19,
       "text": [
        "         type_mixed   type_alpine          feet      type_aid      fa_year      type_TR,     avg_stars         state      latitude     page_views     type_trad       pitches      type_ice  type_boulder  longitude    type_sport\n",
        "count  18773.000000  18773.000000  15137.000000  18773.000000  5908.000000  18773.000000  18773.000000  18773.000000  18773.000000   18773.000000  18773.000000  13206.000000  18773.000000  18773.000000      18773  18773.000000\n",
        "mean       0.002983      0.018377    121.572967      0.004102  1987.141503      0.072178      2.476971     38.760473   -104.646066    2532.874394      0.383849      1.515220      0.016140      0.137272          0      0.488308\n",
        "std        0.054537      0.134316   1017.015325      0.063914    14.934810      0.258790      0.862664      3.802676     15.148212    4662.915426      0.486335      1.676495      0.126018      0.344143          0      0.499877\n",
        "min        0.000000      0.000000      4.000000      0.000000  1911.000000      0.000000      0.000000     21.309100   -158.228700      77.000000      0.000000      1.000000      0.000000      0.000000          0      0.000000\n",
        "25%        0.000000      0.000000     45.000000      0.000000  1977.000000      0.000000      2.076900     36.011800   -115.446270     796.000000      0.000000      1.000000      0.000000      0.000000          0      0.000000\n",
        "50%        0.000000      0.000000     65.000000      0.000000  1989.000000      0.000000      2.545500     38.788600   -107.715400    1369.000000      0.000000      1.000000      0.000000      0.000000          0      0.000000\n",
        "75%        0.000000      0.000000     90.000000      0.000000  1999.000000      0.000000      3.066700     40.613440   -103.907650    2545.000000      1.000000      1.000000      0.000000      0.000000          0      1.000000\n",
        "max        1.000000      1.000000  90110.000000      1.000000  2015.000000      1.000000      3.991300     64.820900    110.704550  139600.000000      1.000000     35.000000      1.000000      1.000000          0      1.000000"
       ]
      }
     ],
     "prompt_number": 19
    },
    {
     "cell_type": "code",
     "collapsed": false,
     "input": [
      "climb_columns = ['climb_id','climb_name','climb_link','fa_year','feet', 'page_views', 'pitches','avg_stars','grade','state','latitude','longitude',\n",
      " 'area_0','area_1','area_2','area_3','area_4','area_5','area_6', 'area_7', 'area_8','area_9', \n",
      "'type_TR,', 'type_aid', 'type_alpine', 'type_boulder', 'type_ice', 'type_mixed', 'type_sport', 'type_trad',\n",
      " 'guide_aid_grade', 'guide_boulder_grade','guide_ice_grade','guide_mixed_grade','guide_rock_grade',\n",
      " 'concensus_aid_grade', 'concensus_boulder_grade', 'concensus_ice_grade', 'concensus_mixed_grade', 'concensus_rock_grade']"
     ],
     "language": "python",
     "metadata": {},
     "outputs": [],
     "prompt_number": 34
    },
    {
     "cell_type": "code",
     "collapsed": false,
     "input": [
      "sorted_climbsdf = climbsdf.reindex_axis(climb_columns, axis=1)\n",
      "sorted_climbsdf.head()"
     ],
     "language": "python",
     "metadata": {},
     "outputs": [
      {
       "html": [
        "<div style=\"max-width:1500px;overflow:auto;\">\n",
        "<table border=\"1\" class=\"dataframe\">\n",
        "  <thead>\n",
        "    <tr style=\"text-align: right;\">\n",
        "      <th></th>\n",
        "      <th>climb_id</th>\n",
        "      <th>climb_name</th>\n",
        "      <th>climb_link</th>\n",
        "      <th>fa_year</th>\n",
        "      <th>feet</th>\n",
        "      <th>page_views</th>\n",
        "      <th>pitches</th>\n",
        "      <th>avg_stars</th>\n",
        "      <th>grade</th>\n",
        "      <th>state</th>\n",
        "      <th>latitude</th>\n",
        "      <th>longitude</th>\n",
        "      <th>area_0</th>\n",
        "      <th>area_1</th>\n",
        "      <th>area_2</th>\n",
        "      <th>area_3</th>\n",
        "      <th>area_4</th>\n",
        "      <th>area_5</th>\n",
        "      <th>area_6</th>\n",
        "      <th>area_7</th>\n",
        "      <th>area_8</th>\n",
        "      <th>area_9</th>\n",
        "      <th>type_TR,</th>\n",
        "      <th>type_aid</th>\n",
        "      <th>type_alpine</th>\n",
        "      <th>type_boulder</th>\n",
        "      <th>type_ice</th>\n",
        "      <th>type_mixed</th>\n",
        "      <th>type_sport</th>\n",
        "      <th>type_trad</th>\n",
        "      <th>guide_aid_grade</th>\n",
        "      <th>guide_boulder_grade</th>\n",
        "      <th>guide_ice_grade</th>\n",
        "      <th>guide_mixed_grade</th>\n",
        "      <th>guide_rock_grade</th>\n",
        "      <th>concensus_aid_grade</th>\n",
        "      <th>concensus_boulder_grade</th>\n",
        "      <th>concensus_ice_grade</th>\n",
        "      <th>concensus_mixed_grade</th>\n",
        "      <th>concensus_rock_grade</th>\n",
        "    </tr>\n",
        "  </thead>\n",
        "  <tbody>\n",
        "    <tr>\n",
        "      <th>105714713</th>\n",
        "      <td>105714713</td>\n",
        "      <td>garden-party</td>\n",
        "      <td>http://www.mountainproject.com/v/garden-party/...</td>\n",
        "      <td>NaN</td>\n",
        "      <td>60</td>\n",
        "      <td>1157</td>\n",
        "      <td>1</td>\n",
        "      <td>2.0769</td>\n",
        "      <td>None</td>\n",
        "      <td>44.0597</td>\n",
        "      <td>-103.4232</td>\n",
        "      <td>0</td>\n",
        "      <td>/destinations/</td>\n",
        "      <td>/v/south-dakota/105708963</td>\n",
        "      <td>/v/falling-rock/105714240</td>\n",
        "      <td>/v/north-canyon-wall/105714312</td>\n",
        "      <td>NaN</td>\n",
        "      <td>NaN</td>\n",
        "      <td>NaN</td>\n",
        "      <td>NaN</td>\n",
        "      <td>NaN</td>\n",
        "      <td>NaN</td>\n",
        "      <td>1</td>\n",
        "      <td>0</td>\n",
        "      <td>0</td>\n",
        "      <td>0</td>\n",
        "      <td>0</td>\n",
        "      <td>0</td>\n",
        "      <td>0</td>\n",
        "      <td>1</td>\n",
        "      <td>0</td>\n",
        "      <td>0</td>\n",
        "      <td>0</td>\n",
        "      <td>0</td>\n",
        "      <td>5.8</td>\n",
        "      <td>0</td>\n",
        "      <td>0</td>\n",
        "      <td>0</td>\n",
        "      <td>0</td>\n",
        "      <td>5.8-</td>\n",
        "    </tr>\n",
        "    <tr>\n",
        "      <th>105714716</th>\n",
        "      <td>105714716</td>\n",
        "      <td>paperboy-centerfold</td>\n",
        "      <td>http://www.mountainproject.com/v/paperboy-cent...</td>\n",
        "      <td>NaN</td>\n",
        "      <td>60</td>\n",
        "      <td>1320</td>\n",
        "      <td>1</td>\n",
        "      <td>2.1333</td>\n",
        "      <td>None</td>\n",
        "      <td>44.0597</td>\n",
        "      <td>-103.4232</td>\n",
        "      <td>0</td>\n",
        "      <td>/destinations/</td>\n",
        "      <td>/v/south-dakota/105708963</td>\n",
        "      <td>/v/falling-rock/105714240</td>\n",
        "      <td>/v/north-canyon-wall/105714312</td>\n",
        "      <td>NaN</td>\n",
        "      <td>NaN</td>\n",
        "      <td>NaN</td>\n",
        "      <td>NaN</td>\n",
        "      <td>NaN</td>\n",
        "      <td>NaN</td>\n",
        "      <td>1</td>\n",
        "      <td>0</td>\n",
        "      <td>0</td>\n",
        "      <td>0</td>\n",
        "      <td>0</td>\n",
        "      <td>0</td>\n",
        "      <td>0</td>\n",
        "      <td>1</td>\n",
        "      <td>0</td>\n",
        "      <td>0</td>\n",
        "      <td>0</td>\n",
        "      <td>0</td>\n",
        "      <td>5.8</td>\n",
        "      <td>0</td>\n",
        "      <td>0</td>\n",
        "      <td>0</td>\n",
        "      <td>0</td>\n",
        "      <td>5.8</td>\n",
        "    </tr>\n",
        "    <tr>\n",
        "      <th>105714719</th>\n",
        "      <td>105714719</td>\n",
        "      <td>blockhead</td>\n",
        "      <td>http://www.mountainproject.com/v/blockhead/105...</td>\n",
        "      <td>NaN</td>\n",
        "      <td>70</td>\n",
        "      <td>1106</td>\n",
        "      <td>1</td>\n",
        "      <td>2.3529</td>\n",
        "      <td>None</td>\n",
        "      <td>44.0597</td>\n",
        "      <td>-103.4232</td>\n",
        "      <td>0</td>\n",
        "      <td>/destinations/</td>\n",
        "      <td>/v/south-dakota/105708963</td>\n",
        "      <td>/v/falling-rock/105714240</td>\n",
        "      <td>/v/north-canyon-wall/105714312</td>\n",
        "      <td>NaN</td>\n",
        "      <td>NaN</td>\n",
        "      <td>NaN</td>\n",
        "      <td>NaN</td>\n",
        "      <td>NaN</td>\n",
        "      <td>NaN</td>\n",
        "      <td>1</td>\n",
        "      <td>0</td>\n",
        "      <td>0</td>\n",
        "      <td>0</td>\n",
        "      <td>0</td>\n",
        "      <td>0</td>\n",
        "      <td>1</td>\n",
        "      <td>0</td>\n",
        "      <td>0</td>\n",
        "      <td>0</td>\n",
        "      <td>0</td>\n",
        "      <td>0</td>\n",
        "      <td>5.10</td>\n",
        "      <td>0</td>\n",
        "      <td>0</td>\n",
        "      <td>0</td>\n",
        "      <td>0</td>\n",
        "      <td>5.10</td>\n",
        "    </tr>\n",
        "    <tr>\n",
        "      <th>105714722</th>\n",
        "      <td>105714722</td>\n",
        "      <td>central-yellow-wall</td>\n",
        "      <td>http://www.mountainproject.com/v/central-yello...</td>\n",
        "      <td>NaN</td>\n",
        "      <td>20</td>\n",
        "      <td>1377</td>\n",
        "      <td>NaN</td>\n",
        "      <td>3.2857</td>\n",
        "      <td>None</td>\n",
        "      <td>43.8477</td>\n",
        "      <td>-103.5668</td>\n",
        "      <td>0</td>\n",
        "      <td>/destinations/</td>\n",
        "      <td>/v/south-dakota/105708963</td>\n",
        "      <td>/v/custer-state-park/106058091</td>\n",
        "      <td>/v/sylvan-lake-/106887955</td>\n",
        "      <td>/v/outlets/105714243</td>\n",
        "      <td>/v/campground-boulder/105714321</td>\n",
        "      <td>NaN</td>\n",
        "      <td>NaN</td>\n",
        "      <td>NaN</td>\n",
        "      <td>NaN</td>\n",
        "      <td>1</td>\n",
        "      <td>0</td>\n",
        "      <td>0</td>\n",
        "      <td>1</td>\n",
        "      <td>0</td>\n",
        "      <td>0</td>\n",
        "      <td>0</td>\n",
        "      <td>0</td>\n",
        "      <td>0</td>\n",
        "      <td>V3</td>\n",
        "      <td>0</td>\n",
        "      <td>0</td>\n",
        "      <td>0</td>\n",
        "      <td>0</td>\n",
        "      <td>V3</td>\n",
        "      <td>0</td>\n",
        "      <td>0</td>\n",
        "      <td>0</td>\n",
        "    </tr>\n",
        "    <tr>\n",
        "      <th>105714728</th>\n",
        "      <td>105714728</td>\n",
        "      <td>waves</td>\n",
        "      <td>http://www.mountainproject.com/v/waves/105714728</td>\n",
        "      <td>NaN</td>\n",
        "      <td>180</td>\n",
        "      <td>9063</td>\n",
        "      <td>2</td>\n",
        "      <td>3.4797</td>\n",
        "      <td>None</td>\n",
        "      <td>43.8864</td>\n",
        "      <td>-103.4670</td>\n",
        "      <td>0</td>\n",
        "      <td>/destinations/</td>\n",
        "      <td>/v/south-dakota/105708963</td>\n",
        "      <td>/v/mount-rushmore-national-memorial/106062228</td>\n",
        "      <td>/v/south-seas/105714249</td>\n",
        "      <td>/v/shipyard-rock/105714333</td>\n",
        "      <td>NaN</td>\n",
        "      <td>NaN</td>\n",
        "      <td>NaN</td>\n",
        "      <td>NaN</td>\n",
        "      <td>NaN</td>\n",
        "      <td>0</td>\n",
        "      <td>0</td>\n",
        "      <td>0</td>\n",
        "      <td>0</td>\n",
        "      <td>0</td>\n",
        "      <td>0</td>\n",
        "      <td>1</td>\n",
        "      <td>0</td>\n",
        "      <td>0</td>\n",
        "      <td>0</td>\n",
        "      <td>0</td>\n",
        "      <td>0</td>\n",
        "      <td>5.8</td>\n",
        "      <td>0</td>\n",
        "      <td>0</td>\n",
        "      <td>0</td>\n",
        "      <td>0</td>\n",
        "      <td>5.8</td>\n",
        "    </tr>\n",
        "  </tbody>\n",
        "</table>\n",
        "</div>"
       ],
       "metadata": {},
       "output_type": "pyout",
       "prompt_number": 35,
       "text": [
        "            climb_id           climb_name                                         climb_link  fa_year  feet  page_views  pitches  avg_stars grade    state  latitude  longitude          area_0                     area_1                                         area_2                          area_3                      area_4                           area_5 area_6 area_7 area_8 area_9  type_TR,  type_aid  type_alpine  type_boulder  type_ice  type_mixed  type_sport  type_trad guide_aid_grade  \\\n",
        "105714713  105714713         garden-party  http://www.mountainproject.com/v/garden-party/...      NaN    60        1157        1     2.0769  None  44.0597 -103.4232          0  /destinations/  /v/south-dakota/105708963                      /v/falling-rock/105714240  /v/north-canyon-wall/105714312                         NaN                              NaN    NaN    NaN    NaN    NaN         1         0            0             0         0           0           0          1               0   \n",
        "105714716  105714716  paperboy-centerfold  http://www.mountainproject.com/v/paperboy-cent...      NaN    60        1320        1     2.1333  None  44.0597 -103.4232          0  /destinations/  /v/south-dakota/105708963                      /v/falling-rock/105714240  /v/north-canyon-wall/105714312                         NaN                              NaN    NaN    NaN    NaN    NaN         1         0            0             0         0           0           0          1               0   \n",
        "105714719  105714719            blockhead  http://www.mountainproject.com/v/blockhead/105...      NaN    70        1106        1     2.3529  None  44.0597 -103.4232          0  /destinations/  /v/south-dakota/105708963                      /v/falling-rock/105714240  /v/north-canyon-wall/105714312                         NaN                              NaN    NaN    NaN    NaN    NaN         1         0            0             0         0           0           1          0               0   \n",
        "105714722  105714722  central-yellow-wall  http://www.mountainproject.com/v/central-yello...      NaN    20        1377      NaN     3.2857  None  43.8477 -103.5668          0  /destinations/  /v/south-dakota/105708963                 /v/custer-state-park/106058091       /v/sylvan-lake-/106887955        /v/outlets/105714243  /v/campground-boulder/105714321    NaN    NaN    NaN    NaN         1         0            0             1         0           0           0          0               0   \n",
        "105714728  105714728                waves   http://www.mountainproject.com/v/waves/105714728      NaN   180        9063        2     3.4797  None  43.8864 -103.4670          0  /destinations/  /v/south-dakota/105708963  /v/mount-rushmore-national-memorial/106062228         /v/south-seas/105714249  /v/shipyard-rock/105714333                              NaN    NaN    NaN    NaN    NaN         0         0            0             0         0           0           1          0               0   \n",
        "\n",
        "          guide_boulder_grade guide_ice_grade guide_mixed_grade guide_rock_grade concensus_aid_grade concensus_boulder_grade concensus_ice_grade concensus_mixed_grade concensus_rock_grade  \n",
        "105714713                   0               0                 0              5.8                   0                       0                   0                     0                 5.8-  \n",
        "105714716                   0               0                 0              5.8                   0                       0                   0                     0                  5.8  \n",
        "105714719                   0               0                 0             5.10                   0                       0                   0                     0                 5.10  \n",
        "105714722                  V3               0                 0                0                   0                      V3                   0                     0                    0  \n",
        "105714728                   0               0                 0              5.8                   0                       0                   0                     0                  5.8  "
       ]
      }
     ],
     "prompt_number": 35
    },
    {
     "cell_type": "code",
     "collapsed": false,
     "input": [
      "sorted_climbsdf.to_csv('sorted_climbs.csv')"
     ],
     "language": "python",
     "metadata": {},
     "outputs": [],
     "prompt_number": 36
    },
    {
     "cell_type": "code",
     "collapsed": false,
     "input": [
      "ucdf =pd.DataFrame.from_dict(ucjson,orient='index')"
     ],
     "language": "python",
     "metadata": {},
     "outputs": [],
     "prompt_number": 24
    },
    {
     "cell_type": "code",
     "collapsed": false,
     "input": [
      "ucdf.to_csv('climbuser.csv')"
     ],
     "language": "python",
     "metadata": {},
     "outputs": [],
     "prompt_number": 25
    },
    {
     "cell_type": "code",
     "collapsed": false,
     "input": [
      "sorteducdf = ucdf.reindex_axis(['climb_id',\n",
      " 'user_id',\n",
      " 'star_rating',\n",
      " 'tick_date', \n",
      " 'ticked',\n",
      " 'sugg_aid_grade',\n",
      " 'sugg_boulder_grade',\n",
      " 'sugg_ice_grade',\n",
      " 'sugg_mixed_grade',\n",
      " 'sugg_rock_grade'], axis=1)"
     ],
     "language": "python",
     "metadata": {},
     "outputs": [],
     "prompt_number": 27
    },
    {
     "cell_type": "code",
     "collapsed": false,
     "input": [
      "sorteducdf.to_csv('sorted_climbuserdf.csv')"
     ],
     "language": "python",
     "metadata": {},
     "outputs": [],
     "prompt_number": 31
    },
    {
     "cell_type": "code",
     "collapsed": false,
     "input": [
      "sorted_climbuserdf.csv"
     ],
     "language": "python",
     "metadata": {},
     "outputs": [
      {
       "ename": "NameError",
       "evalue": "name 'sorted_climbuserdf' is not defined",
       "output_type": "pyerr",
       "traceback": [
        "\u001b[1;31m---------------------------------------------------------------------------\u001b[0m\n\u001b[1;31mNameError\u001b[0m                                 Traceback (most recent call last)",
        "\u001b[1;32m<ipython-input-54-e87e111673af>\u001b[0m in \u001b[0;36m<module>\u001b[1;34m()\u001b[0m\n\u001b[1;32m----> 1\u001b[1;33m \u001b[0msorted_climbuserdf\u001b[0m\u001b[1;33m.\u001b[0m\u001b[0mcsv\u001b[0m\u001b[1;33m\u001b[0m\u001b[0m\n\u001b[0m",
        "\u001b[1;31mNameError\u001b[0m: name 'sorted_climbuserdf' is not defined"
       ]
      }
     ],
     "prompt_number": 54
    },
    {
     "cell_type": "code",
     "collapsed": false,
     "input": [
      "for user in users:\n",
      "    user_scrape_func(\"http://www.mountainproject.com/u/\" + str(user)) \n",
      "    break"
     ],
     "language": "python",
     "metadata": {},
     "outputs": [
      {
       "ename": "TypeError",
       "evalue": "'instancemethod' object is not iterable",
       "output_type": "pyerr",
       "traceback": [
        "\u001b[1;31m---------------------------------------------------------------------------\u001b[0m\n\u001b[1;31mTypeError\u001b[0m                                 Traceback (most recent call last)",
        "\u001b[1;32m<ipython-input-57-c069a411b49a>\u001b[0m in \u001b[0;36m<module>\u001b[1;34m()\u001b[0m\n\u001b[1;32m----> 1\u001b[1;33m \u001b[1;32mfor\u001b[0m \u001b[0muser\u001b[0m \u001b[1;32min\u001b[0m \u001b[0musers\u001b[0m\u001b[1;33m:\u001b[0m\u001b[1;33m\u001b[0m\u001b[0m\n\u001b[0m\u001b[0;32m      2\u001b[0m     \u001b[0muser_scrape_func\u001b[0m\u001b[1;33m(\u001b[0m\u001b[1;34m\"http://www.mountainproject.com/u/\"\u001b[0m \u001b[1;33m+\u001b[0m \u001b[0mstr\u001b[0m\u001b[1;33m(\u001b[0m\u001b[0muser\u001b[0m\u001b[1;33m)\u001b[0m\u001b[1;33m)\u001b[0m\u001b[1;33m\u001b[0m\u001b[0m\n\u001b[0;32m      3\u001b[0m     \u001b[1;32mbreak\u001b[0m\u001b[1;33m\u001b[0m\u001b[0m\n",
        "\u001b[1;31mTypeError\u001b[0m: 'instancemethod' object is not iterable"
       ]
      }
     ],
     "prompt_number": 57
    },
    {
     "cell_type": "code",
     "collapsed": false,
     "input": [
      "for user in np.array(users)"
     ],
     "language": "python",
     "metadata": {},
     "outputs": [
      {
       "ename": "SyntaxError",
       "evalue": "invalid syntax (<ipython-input-67-4c9e0c558728>, line 1)",
       "output_type": "pyerr",
       "traceback": [
        "\u001b[1;36m  File \u001b[1;32m\"<ipython-input-67-4c9e0c558728>\"\u001b[1;36m, line \u001b[1;32m1\u001b[0m\n\u001b[1;33m    for user in np.array(users)\u001b[0m\n\u001b[1;37m                               ^\u001b[0m\n\u001b[1;31mSyntaxError\u001b[0m\u001b[1;31m:\u001b[0m invalid syntax\n"
       ]
      }
     ],
     "prompt_number": 67
    },
    {
     "cell_type": "code",
     "collapsed": false,
     "input": [],
     "language": "python",
     "metadata": {},
     "outputs": []
    }
   ],
   "metadata": {}
  }
 ]
}