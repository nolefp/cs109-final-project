{
 "cells": [
  {
   "cell_type": "code",
   "execution_count": 1,
   "metadata": {
    "collapsed": true
   },
   "outputs": [],
   "source": [
    "%matplotlib inline\n",
    "import collections \n",
    "import numpy as np\n",
    "import scipy as sp\n",
    "import pandas as pd\n",
    "import time\n",
    "pd.set_option('display.width', 500)\n",
    "pd.set_option('display.max_columns', 100)\n",
    "pd.set_option('display.notebook_repr_html', True)\n",
    "import re\n",
    "#import regex\n",
    "#import locale\n",
    "#import usaddress\n",
    "#import geograpy\n",
    "#import nltk\n",
    "from pyquery import PyQuery as pq\n",
    "from bs4 import BeautifulSoup\n",
    "import requests"
   ]
  },
  {
   "cell_type": "code",
   "execution_count": 2,
   "metadata": {
    "collapsed": false
   },
   "outputs": [],
   "source": [
    "# global data storage\n",
    "climbsjson = collections.defaultdict(dict) # double nested dict\n",
    "usersjson = collections.defaultdict(dict) # double nested dict\n",
    "ucjson = collections.defaultdict(dict) #double nested dict"
   ]
  },
  {
   "cell_type": "code",
   "execution_count": 3,
   "metadata": {
    "collapsed": true
   },
   "outputs": [],
   "source": [
    "# sub-functions and initializations for user/climb_scrape_func-s\n",
    "\n",
    "def parse_climb_link(href_link):\n",
    "    return href_link.split('/')[-1], href_link.split('/')[-2]\n",
    "\n",
    "def parse_user_link(href_link):\n",
    "    return href_link.split('/')[-1], href_link.split('/')[-3]\n",
    "\n",
    "aid_re = r'(A[0-5])|(C[0-5])[-,+]?'\n",
    "boulder_re = r'V\\d\\d?[-,+]?'\n",
    "ice_re = r'WI[1-6][+,-]?'\n",
    "mixed_re = r'M\\d\\d?[+,-]?'\n",
    "rock_re = r'5.\\d\\d?(([a-d]/[a-d])|([a-d]))?[+,-]?'\n",
    "\n",
    "diff_regexes = {\"aid_grade\": aid_re, \"boulder_grade\": boulder_re, \n",
    "               \"ice_grade\": ice_re, \"mixed_grade\": mixed_re, \n",
    "               \"rock_grade\": rock_re}\n",
    "\n",
    "user_type_regexes = {\"Trad\": rock_re, \"Sport\": rock_re, \n",
    "                     \"Boulders\": boulder_re, \"Aid\": aid_re, \n",
    "                     \"Ice\": ice_re, \"Mixed\": mixed_re}\n",
    "\n",
    "typesdict = {\"trad\": 0, \"alpine\": 0, \"ice\": 0, \"sport\": 0,\n",
    "        \"boulder\": 0, \"aid\": 0, \"mixed\": 0, \"TR,\": 0}"
   ]
  },
  {
   "cell_type": "code",
   "execution_count": 4,
   "metadata": {
    "collapsed": false
   },
   "outputs": [],
   "source": [
    "userlink = \"http://mountainproject.com/u/jared-lavacque//106325793\"\n",
    "\n",
    "userdict = {\"user_id\": 0, \"user_name\": \"undef\", \"location_place\": \"undef\", \n",
    "            \"location_state\": \"undef\", \"age\": 0, \"gender\": \"undef\", \n",
    "            \"member_date\": 0}\n",
    "\n",
    "user_id, user_name = parse_user_link(userlink)\n",
    "\n",
    "userdict[\"user_id\"], userdict[\"user_name\"] = user_id, user_name"
   ]
  },
  {
   "cell_type": "code",
   "execution_count": 5,
   "metadata": {
    "collapsed": false
   },
   "outputs": [],
   "source": [
    "user_req=requests.get(userlink)\n",
    "user_=pq(user_req.text)"
   ]
  },
  {
   "cell_type": "code",
   "execution_count": 6,
   "metadata": {
    "collapsed": true
   },
   "outputs": [],
   "source": [
    "user_main = user_('div.personalData')"
   ]
  },
  {
   "cell_type": "code",
   "execution_count": 7,
   "metadata": {
    "collapsed": true
   },
   "outputs": [],
   "source": [
    "user_pers = user_main(\"div:contains('Personal:')\")('em')"
   ]
  },
  {
   "cell_type": "code",
   "execution_count": 8,
   "metadata": {
    "collapsed": false
   },
   "outputs": [],
   "source": [
    "if re.search('Lives in', user_pers.text()) != None:\n",
    "        userdict[\"location_place\"] = user_pers.text().split(',')[0].replace('Lives in ',\"\")\n",
    "        maybe_state = user_pers.text().split(',')[1]\n",
    "        if (re.search('(years old)|(male)|(female)', maybe_state) == None):\n",
    "            userdict[\"location_state\"] = maybe_state"
   ]
  },
  {
   "cell_type": "code",
   "execution_count": 9,
   "metadata": {
    "collapsed": false
   },
   "outputs": [],
   "source": [
    "temp_age = re.search(r'(\\d\\d?) years old', user_pers.text())\n",
    "if temp_age:\n",
    "    userdict[\"age\"] = int(temp_age.group(1))"
   ]
  },
  {
   "cell_type": "code",
   "execution_count": 10,
   "metadata": {
    "collapsed": false
   },
   "outputs": [],
   "source": [
    "temp_gender = re.search(r'(male)|(female)', user_pers.text(), re.I)\n",
    "if temp_gender:\n",
    "    userdict[\"gender\"] = temp_gender.group()"
   ]
  },
  {
   "cell_type": "code",
   "execution_count": 11,
   "metadata": {
    "collapsed": true
   },
   "outputs": [],
   "source": [
    " # the below regretably doesnt work because the selector :contains cannot \n",
    "# format strings...\n",
    "\n",
    "user_type_regexes = {'Trad:': rock_re, \"Sport\": rock_re, \n",
    "                     \"Boulders\": boulder_re, \"Aid\": aid_re, \n",
    "                     \"Ice\": ice_re, \"Mixed\": mixed_re}\n",
    "\n",
    "\n",
    "user_diffs = user_main('table')\n",
    "\n",
    "for key, value in user_type_regexes.items():\n",
    "    if key != \"Boulders\":\n",
    "        tdwithkey = user_diffs.find(\"tr\").children(\"td:contains('{}')\".format(key))\n",
    "        if tdwithkey:\n",
    "            userdict[\"climbs_\" + str.lower(key)] = 1\n",
    "            leadhtml = tdwithkey.next().html()\n",
    "            followhtml = tdwithkey.next().next().html()  \n",
    "            templeaddiff = re.search(\"{}\".format(value), leadhtml, re.I)\n",
    "            tempfollowdiff = re.search(\"{}\".format(value), followhtml, re.I)\n",
    "            if templeaddiff:\n",
    "                userdict[\"lead_diff_\" + str.lower(key)] = templeaddiff.group() \n",
    "            else:\n",
    "                userdict[\"lead_diff_\" + str.lower(key)] = '0'\n",
    "            if tempfollowdiff:\n",
    "                userdict[\"follow_diff_\" + str.lower(key)] = tempfollowdiff.group()\n",
    "            else:\n",
    "                userdict[\"follow_diff_\" + str.lower(key)] = '0'\n",
    "        else:\n",
    "            userdict[\"climbs_\" + str.lower(key)] = 0\n",
    "\n",
    "    elif key == \"Boulders\":\n",
    "        boulderhtml = user_diffs.find(\"tr\").children(\"td:contains('{}')\".format(key))\n",
    "        if boulderhtml:\n",
    "            userdict[\"climbs_boulder\"] = 1\n",
    "            boulderdiff = boulderhtml.next().html()\n",
    "            tempboulderdiff = re.search(\"{}\".format(value), boulderdiff)\n",
    "            if tempboulderdiff:\n",
    "                userdict[\"boulder_diff\"] = tempboulderdiff.group()\n",
    "        else:\n",
    "            userdict[\"climbs_boulder\"] = 0\n",
    "            \n"
   ]
  },
  {
   "cell_type": "code",
   "execution_count": 18,
   "metadata": {
    "collapsed": false
   },
   "outputs": [
    {
     "ename": "SyntaxError",
     "evalue": "invalid syntax (<ipython-input-18-53d5e5db969a>, line 5)",
     "output_type": "error",
     "traceback": [
      "\u001b[1;36m  File \u001b[1;32m\"<ipython-input-18-53d5e5db969a>\"\u001b[1;36m, line \u001b[1;32m5\u001b[0m\n\u001b[1;33m    \"%b %d, %Y\")\u001b[0m\n\u001b[1;37m              ^\u001b[0m\n\u001b[1;31mSyntaxError\u001b[0m\u001b[1;31m:\u001b[0m invalid syntax\n"
     ]
    }
   ],
   "source": [
    "# 6. get date \n",
    "user_left_box = user_(\"td[width='190']\")('b')\n",
    "if user_left_box:\n",
    "    userdict[\"joined_date\"] = time.strptime(user_left_box.eq(0).text(), \n",
    "                                            \"%b %d, %Y\")"
   ]
  },
  {
   "cell_type": "code",
   "execution_count": 19,
   "metadata": {
    "collapsed": false,
    "scrolled": true
   },
   "outputs": [
    {
     "data": {
      "text/plain": [
       "[<tr>, <tr>, <tr>, <tr>, <tr>, <tr>, <tr>, <tr>, <tr>, <tr>, <tr>, <tr>, <tr>, <tr>, <tr>, <tr>, <tr>, <tr>, <tr>, <tr>, <tr>, <tr>, <tr>, <tr>, <tr>, <tr>, <tr>]"
      ]
     },
     "execution_count": 19,
     "metadata": {},
     "output_type": "execute_result"
    }
   ],
   "source": [
    "starslink = \"http://www.mountainproject.com/u/{}?action=contribs&what=SCORE&\".format(user_id)\n",
    "stars_req=requests.get(starslink)\n",
    "user_stars=pq(stars_req.text)\n",
    "user_stars(\"table[width*='100%'][border='0'][class='objectList']\").eq(1).find('tr')"
   ]
  },
  {
   "cell_type": "code",
   "execution_count": 43,
   "metadata": {
    "collapsed": false
   },
   "outputs": [
    {
     "name": "stdout",
     "output_type": "stream",
     "text": [
      "http://www.mountainproject.com/u/106325793?action=ticks&\n"
     ]
    },
    {
     "data": {
      "text/plain": [
       "u'7'"
      ]
     },
     "execution_count": 43,
     "metadata": {},
     "output_type": "execute_result"
    }
   ],
   "source": [
    "tickslink = \"http://www.mountainproject.com/u/{}?action=ticks&\".format(user_id)\n",
    "#tickslink = \"http://www.mountainproject.com/u/ian-grant//108290010?action=ticks&\"\n",
    "# 7. get ticks\n",
    "ticks_req=requests.get(tickslink)\n",
    "ticks_page = pq(ticks_req.text)\n",
    "num_pages = ticks_page(\"table#stats\").next().next().find('tr').eq(0).text()\n",
    "if num_pages:\n",
    "    pages = int(re.search(r'Page \\d\\d? of (\\d\\d?)', num_pages).group(1))\n",
    "    for page in range(1, pages + 1):\n",
    "        \n",
    "    \n",
    "tick_rows = ticks_page(\"table[width*='100%'][border='0'][class='objectList']\").eq(1).find('tr')   \n",
    "\n"
   ]
  },
  {
   "cell_type": "code",
   "execution_count": 30,
   "metadata": {
    "collapsed": false
   },
   "outputs": [
    {
     "name": "stdout",
     "output_type": "stream",
     "text": [
      "\n",
      "\t\t\t\t\t\t\t<td class=\"objectListColumnHeader\">Name</td>\n",
      "\t\t\t\t\t\t\t<td class=\"objectListColumnHeader\">Rating</td>\n",
      "\t\t\t\t\t\t\t<td class=\"objectListColumnHeader\">Location</td>\n",
      "\t\t\t\t\t\t\t<td class=\"objectListColumnHeader\">Comments</td>\n",
      "\t\t\t\t\t\t\t<td class=\"objectListColumnHeader\">Tick Date</td>\n",
      "\t\t\t\t\t\t\n"
     ]
    }
   ],
   "source": [
    "for i in range(2, len(tick_rows)):\n",
    "    tds = tick_rows.eq(i).find('td')\n",
    "    climb_link = tds.eq(0).find('a').attr('href')\n",
    "    climb_id, _ = climb_link.split('/')[-1], climb_link.split('/')[-2]\n",
    "    date = time.strptime(tds.eq(4)('p').text(), \"%b %d, %Y\")\n",
    "    ucjson[climb_id + \"_\" + user_id][\"user_id\"] = user_id\n",
    "    ucjson[climb_id + \"_\" + user_id][\"climb_id\"] = climb_id\n",
    "    ucjson[climb_id + \"_\" + user_id][\"ticked_date\"] = date"
   ]
  },
  {
   "cell_type": "code",
   "execution_count": 49,
   "metadata": {
    "collapsed": false
   },
   "outputs": [
    {
     "name": "stdout",
     "output_type": "stream",
     "text": [
      "yay\n"
     ]
    }
   ],
   "source": [
    "if len(usersjson[23131]) == 0:\n",
    "    print \"yay\""
   ]
  },
  {
   "cell_type": "code",
   "execution_count": null,
   "metadata": {
    "collapsed": true
   },
   "outputs": [],
   "source": []
  }
 ],
 "metadata": {
  "kernelspec": {
   "display_name": "Python 2",
   "language": "python",
   "name": "python2"
  },
  "language_info": {
   "codemirror_mode": {
    "name": "ipython",
    "version": 2
   },
   "file_extension": ".py",
   "mimetype": "text/x-python",
   "name": "python",
   "nbconvert_exporter": "python",
   "pygments_lexer": "ipython2",
   "version": "2.7.10"
  }
 },
 "nbformat": 4,
 "nbformat_minor": 0
}
