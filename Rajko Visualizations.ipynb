{
 "cells": [
  {
   "cell_type": "code",
   "execution_count": 2,
   "metadata": {
    "collapsed": true
   },
   "outputs": [],
   "source": [
    "%matplotlib inline\n",
    "import numpy as np\n",
    "import scipy as sp\n",
    "import matplotlib as mpl\n",
    "import matplotlib.cm as cm\n",
    "import matplotlib.pyplot as plt\n",
    "import re\n",
    "import pandas as pd\n",
    "import math \n",
    "\n",
    "pd.set_option('display.width', 500)\n",
    "pd.set_option('display.max_columns', 100)\n",
    "pd.set_option('display.notebook_repr_html', True)\n",
    "import seaborn as sns\n",
    "sns.set_style(\"whitegrid\")\n",
    "sns.set_context(\"poster\")"
   ]
  },
  {
   "cell_type": "markdown",
   "metadata": {},
   "source": [
    "# Visualizations"
   ]
  },
  {
   "cell_type": "markdown",
   "metadata": {},
   "source": [
    "## City-to-Climb-Coordinates Travel Maps"
   ]
  },
  {
   "cell_type": "markdown",
   "metadata": {},
   "source": [
    "All I am going to do below is read in our largest csv and then export a new csv with only the necessary columns. The rest of the viz will be done in Tabluea. "
   ]
  },
  {
   "cell_type": "code",
   "execution_count": 3,
   "metadata": {
    "collapsed": false
   },
   "outputs": [
    {
     "name": "stderr",
     "output_type": "stream",
     "text": [
      "C:\\Users\\nolefp\\Anaconda\\lib\\site-packages\\IPython\\core\\interactiveshell.py:3006: DtypeWarning: Columns (6,7,8,9,71,72,73,74,83,84,85,86,88,89,90,91) have mixed types. Specify dtype option on import or set low_memory=False.\n",
      "  if self.run_code(code, result):\n"
     ]
    }
   ],
   "source": [
    "alldf = pd.DataFrame.from_csv('../fin_proj_dfs/cleaned_data/cleaned-all-joined-df.csv')"
   ]
  },
  {
   "cell_type": "code",
   "execution_count": 4,
   "metadata": {
    "collapsed": false
   },
   "outputs": [],
   "source": [
    "# remove the climb longitude and latitude columns\n",
    "userdf = alldf.drop(['longitude_y','latitude_y'], axis=1)"
   ]
  },
  {
   "cell_type": "code",
   "execution_count": 5,
   "metadata": {
    "collapsed": false
   },
   "outputs": [],
   "source": [
    "# rename the user longitude and latitude columns\n",
    "userdf.rename(columns = {'longitude_x':'longitude', 'latitude_x':'latitude'}, inplace=True)"
   ]
  },
  {
   "cell_type": "code",
   "execution_count": 6,
   "metadata": {
    "collapsed": false
   },
   "outputs": [],
   "source": [
    "# add unique identifier\n",
    "userdf.insert(1,\"pair_id\", userdf.climb_id.apply(lambda x: str(x)) + \"_\" + \n",
    "                            userdf.user_id.apply(lambda x: str(x)))"
   ]
  },
  {
   "cell_type": "code",
   "execution_count": 7,
   "metadata": {
    "collapsed": false
   },
   "outputs": [],
   "source": [
    "# remove the climb longitude and latitude columns\n",
    "climbdf = alldf.drop(['longitude_x','latitude_x'], axis=1)"
   ]
  },
  {
   "cell_type": "code",
   "execution_count": 8,
   "metadata": {
    "collapsed": true
   },
   "outputs": [],
   "source": [
    "# rename the user longitude and latitude columns\n",
    "climbdf.rename(columns = {'longitude_y':'longitude', 'latitude_y':'latitude'}, inplace=True)"
   ]
  },
  {
   "cell_type": "code",
   "execution_count": 9,
   "metadata": {
    "collapsed": false
   },
   "outputs": [],
   "source": [
    "# add unique identifier\n",
    "climbdf.insert(1,\"pair_id\", climbdf.climb_id.apply(lambda x: str(x)) + \"_\" + \n",
    "                            climbdf.user_id.apply(lambda x: str(x)))\n"
   ]
  },
  {
   "cell_type": "code",
   "execution_count": 10,
   "metadata": {
    "collapsed": false
   },
   "outputs": [
    {
     "data": {
      "text/plain": [
       "792560"
      ]
     },
     "execution_count": 10,
     "metadata": {},
     "output_type": "execute_result"
    }
   ],
   "source": [
    "len(climbdf)"
   ]
  },
  {
   "cell_type": "code",
   "execution_count": 11,
   "metadata": {
    "collapsed": false
   },
   "outputs": [],
   "source": [
    "geodf = userdf.append(climbdf, ignore_index=True)"
   ]
  },
  {
   "cell_type": "code",
   "execution_count": 12,
   "metadata": {
    "collapsed": false
   },
   "outputs": [
    {
     "data": {
      "text/plain": [
       "792560"
      ]
     },
     "execution_count": 12,
     "metadata": {},
     "output_type": "execute_result"
    }
   ],
   "source": [
    "len(geodf)/2"
   ]
  },
  {
   "cell_type": "code",
   "execution_count": 14,
   "metadata": {
    "collapsed": false,
    "scrolled": true
   },
   "outputs": [
    {
     "data": {
      "text/plain": [
       "['age',\n",
       " 'area_0',\n",
       " 'area_1',\n",
       " 'area_2',\n",
       " 'area_3',\n",
       " 'area_4',\n",
       " 'area_5',\n",
       " 'area_6',\n",
       " 'area_7',\n",
       " 'area_8',\n",
       " 'area_9',\n",
       " 'avg_stars',\n",
       " 'boulder_diff',\n",
       " 'boulder_diff_number',\n",
       " 'climb_id',\n",
       " 'climb_link',\n",
       " 'climb_name',\n",
       " 'climbs_aid',\n",
       " 'climbs_boulder',\n",
       " 'climbs_ice',\n",
       " 'climbs_mixed',\n",
       " 'climbs_sport',\n",
       " 'climbs_trad',\n",
       " 'concensus_aid_grade',\n",
       " 'concensus_aid_grade_number',\n",
       " 'concensus_boulder_grade',\n",
       " 'concensus_boulder_grade_number',\n",
       " 'concensus_ice_grade',\n",
       " 'concensus_ice_grade_number',\n",
       " 'concensus_mixed_grade',\n",
       " 'concensus_mixed_grade_number',\n",
       " 'concensus_rock_grade',\n",
       " 'concensus_rock_grade_number',\n",
       " 'fa_year',\n",
       " 'feet',\n",
       " 'follow_diff_aid',\n",
       " 'follow_diff_aid_number',\n",
       " 'follow_diff_ice',\n",
       " 'follow_diff_ice_number',\n",
       " 'follow_diff_mixed',\n",
       " 'follow_diff_mixed_number',\n",
       " 'follow_diff_sport',\n",
       " 'follow_diff_sport_number',\n",
       " 'follow_diff_trad',\n",
       " 'follow_diff_trad_number',\n",
       " 'gender',\n",
       " 'guide_aid_grade',\n",
       " 'guide_aid_grade_number',\n",
       " 'guide_boulder_grade',\n",
       " 'guide_boulder_grade_number',\n",
       " 'guide_ice_grade',\n",
       " 'guide_ice_grade_number',\n",
       " 'guide_mixed_grade',\n",
       " 'guide_mixed_grade_number',\n",
       " 'guide_rock_grade',\n",
       " 'guide_rock_grade_number',\n",
       " 'latitude',\n",
       " 'lead_diff_aid',\n",
       " 'lead_diff_aid_number',\n",
       " 'lead_diff_ice',\n",
       " 'lead_diff_ice_number',\n",
       " 'lead_diff_mixed',\n",
       " 'lead_diff_mixed_number',\n",
       " 'lead_diff_sport',\n",
       " 'lead_diff_sport_number',\n",
       " 'lead_diff_trad',\n",
       " 'lead_diff_trad_number',\n",
       " 'longitude',\n",
       " 'member_date',\n",
       " 'page_views',\n",
       " 'pair_id',\n",
       " 'pitches',\n",
       " 'star_rating',\n",
       " 'state',\n",
       " 'sugg_aid_grade',\n",
       " 'sugg_aid_grade_number',\n",
       " 'sugg_boulder_grade',\n",
       " 'sugg_boulder_grade_number',\n",
       " 'sugg_ice_grade',\n",
       " 'sugg_ice_grade_number',\n",
       " 'sugg_mixed_grade',\n",
       " 'sugg_mixed_grade_number',\n",
       " 'sugg_rock_grade',\n",
       " 'sugg_rock_grade_number',\n",
       " 'tick_date',\n",
       " 'ticked',\n",
       " 'type_TR,',\n",
       " 'type_aid',\n",
       " 'type_alpine',\n",
       " 'type_boulder',\n",
       " 'type_ice',\n",
       " 'type_mixed',\n",
       " 'type_sport',\n",
       " 'type_trad',\n",
       " 'user_city',\n",
       " 'user_city_geo',\n",
       " 'user_country',\n",
       " 'user_id',\n",
       " 'user_link',\n",
       " 'user_name',\n",
       " 'user_state',\n",
       " 'user_state_geo',\n",
       " 'user_zip_code',\n",
       " 'user_zip_geo']"
      ]
     },
     "execution_count": 14,
     "metadata": {},
     "output_type": "execute_result"
    }
   ],
   "source": [
    "list(geodf.columns)"
   ]
  },
  {
   "cell_type": "code",
   "execution_count": 15,
   "metadata": {
    "collapsed": true
   },
   "outputs": [],
   "source": [
    "geodf.drop([ 'sugg_aid_grade',\n",
    "'sugg_aid_grade_number',\n",
    " 'sugg_boulder_grade',\n",
    " 'sugg_boulder_grade_number',\n",
    " 'sugg_ice_grade',\n",
    " 'sugg_ice_grade_number',\n",
    " 'sugg_mixed_grade',\n",
    " 'sugg_mixed_grade_number',\n",
    " 'sugg_rock_grade',\n",
    " 'sugg_rock_grade_number',  'concensus_aid_grade',\n",
    " 'concensus_aid_grade_number',\n",
    " 'concensus_boulder_grade',\n",
    " 'concensus_boulder_grade_number',\n",
    " 'concensus_ice_grade',\n",
    " 'concensus_ice_grade_number',\n",
    " 'concensus_mixed_grade',\n",
    " 'concensus_mixed_grade_number',\n",
    " 'concensus_rock_grade',\n",
    " 'concensus_rock_grade_number', 'area_5',\n",
    " 'area_6',\n",
    " 'area_7',\n",
    " 'area_8',\n",
    " 'area_9',], axis=1, inplace=1)"
   ]
  },
  {
   "cell_type": "code",
   "execution_count": 17,
   "metadata": {
    "collapsed": true
   },
   "outputs": [],
   "source": [
    "geodf.dropna(axis=0,subset=['latitude','longitude'],inplace=1)"
   ]
  },
  {
   "cell_type": "code",
   "execution_count": 18,
   "metadata": {
    "collapsed": true
   },
   "outputs": [],
   "source": [
    "geodf.to_csv('../fin_proj_dfs/custom_viz_data/less-massive-all-travelmap.csv')"
   ]
  },
  {
   "cell_type": "code",
   "execution_count": null,
   "metadata": {
    "collapsed": true
   },
   "outputs": [],
   "source": []
  }
 ],
 "metadata": {
  "kernelspec": {
   "display_name": "Python 2",
   "language": "python",
   "name": "python2"
  },
  "language_info": {
   "codemirror_mode": {
    "name": "ipython",
    "version": 2
   },
   "file_extension": ".py",
   "mimetype": "text/x-python",
   "name": "python",
   "nbconvert_exporter": "python",
   "pygments_lexer": "ipython2",
   "version": "2.7.11"
  }
 },
 "nbformat": 4,
 "nbformat_minor": 0
}
