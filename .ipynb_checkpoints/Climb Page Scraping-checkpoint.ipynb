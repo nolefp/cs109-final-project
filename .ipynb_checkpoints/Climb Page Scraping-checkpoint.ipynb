{
 "cells": [
  {
   "cell_type": "markdown",
   "metadata": {},
   "source": [
    "Below is a first iteration of pseudo code for our project:"
   ]
  },
  {
   "cell_type": "code",
   "execution_count": null,
   "metadata": {
    "collapsed": true
   },
   "outputs": [],
   "source": [
    "PSEUDO CODE:\n",
    "\n",
    "# go to page (get numeric_id and name_before, contained in link)\n",
    "go to http://mountainproject.com/v/[climb_name]/[climb_id_numeric]\n",
    "\n",
    "# get keys\n",
    "parse link by '/' \n",
    "last entry in array is numeric id\n",
    "second to last is climb name\n",
    "\n",
    "# separate desciptions for this climb from left sidebar\n",
    "get all inside 'div' with id 'rspCol800'\n",
    "\n",
    "# get top left climb summary facts\n",
    "go to div with class 'rspCol' and style 'max-width:500px'\n",
    "\n",
    "# get guidebook rating (this needs to be adjusted for bouldering and for ice, maybe use bold style?)\n",
    "find first 'span' tag with class 'rateYDS'\n",
    "go inside 'a' tag and find ';' in text, pull string after up to '\"'\n",
    "if pulled text is of regex format 5.[1-14][a-d]:\n",
    "    store it as guidebook rating\n",
    "\n",
    "# get average star rating\n",
    "find 'span' with 'id' equal to 'routeStars'\n",
    "get 'script' tag inside that 'span'\n",
    "get text and find 'starsHtml(', get decimal between that and next ','\n",
    "if  1 < decimal-1 < 4:\n",
    "    store as average rating\n",
    "else:\n",
    "    say average rating has no solution\n",
    "\n",
    "### get table with main descriptive data\n",
    "get to 'table' below 'span' with id 'starSummaryText', next or sibling method\n",
    "\n",
    "## get climb types, pitches, feet, and grade\n",
    "find 'td' with text 'Type*' and get next 'td' text\n",
    "parse on commas, store as array\n",
    "\n",
    "# climb types\n",
    "for type in [trad, ice, alpine, sport, boulder]:\n",
    "    if find in array:\n",
    "        make type cell = 1\n",
    "\n",
    "# pitches\n",
    "if find regex\"* pitches\" in array:\n",
    "    strip that element of non-numeric chars     \n",
    "    if number in range(0,100):\n",
    "        pitches = number\n",
    "    else:\n",
    "        pitches = NaN\n",
    "else:\n",
    "    pitches = NaN\n",
    "\n",
    "# feet\n",
    "if find element with regex \"*'\":\n",
    "    strip non-numeric characters\n",
    "    if number in range (0,15000):\n",
    "        feet = number\n",
    "\n",
    "# grade \n",
    "if find element with regex 'Grade*':\n",
    "    parse entry on space\n",
    "    take last element of parse\n",
    "    if element in [I, II, III, IV, V]:\n",
    "        grade = element\n",
    "    else:\n",
    "        grade = NaN\n",
    "\n",
    "## get consensus rating (this will have to be adapted for boulder and ice)\n",
    "find 'td' with text 'Consensus*' and get next 'td'\n",
    "within that 'td', get 'span' with class 'rateYDS'\n",
    "if text of that span matches regex 5.[1-14][a-d]:\n",
    "    store as consensus rating:\n",
    "else:\n",
    "    consensus rating = unknown\n",
    "\n",
    "## get consensus rating (this will have to be adapted for boulder and ice)\n",
    "find 'td' with text 'FA*' and get next 'td' text\n",
    "if find regex '19[0-9][0-9]':\n",
    "    append match as fa_year\n",
    "\n",
    "## get consensus rating (this will have to be adapted for boulder and ice)\n",
    "find 'td' with text 'Page Views*' and get next 'td' text\n",
    "convert to number\n",
    "page_views = number\n",
    "\n",
    "\n",
    "#### get user climb data\n",
    "go to http://mountainproject.com/scripts/ShowObjectStats.php?id=[climb_key_numeric]\n",
    "\n",
    "### get star quality votes (this data either needs to be updated or added)\n",
    "find 'span' with text 'Star Quality Votes'\n",
    "go to next sibling 'small' tag\n",
    "go to next sibling 'table' tag\n",
    "go to child 'tbody' tad and extract all children\n",
    "\n",
    "def starqualityfunc(td1, td2):\n",
    "    get 'a' tag from td1 children\n",
    "    user = 'href' attribute\n",
    "    climb = current_climb\n",
    "    get 'script' tag inside 'td' tag and find regex for \"starsHtml([2-5],\" \n",
    "    star_rating = number from regex \n",
    "    append trio to user_climb table\n",
    "    \n",
    "    \n",
    "for 'tr' in 'tbody' children:\n",
    "    if contains 4 elements:\n",
    "        spit into two sets of two elements\n",
    "        apply star quality votes func to each subset\n",
    "    if contains 2 elements:\n",
    "        apply star quality func to them\n",
    "\n",
    "        \n",
    "### get suggested ratings\n",
    "find 'span' with text 'Suggested Ratings'\n",
    "go to next sibling 'small' tag\n",
    "go to next sibling 'table' tag\n",
    "go to child 'tbody' tag and extract all children\n",
    "for 'tr' in children:\n",
    "        \n",
    "def suggratfunc(td1, td2):\n",
    "    get 'a' tag from td1 children\n",
    "    user = 'href' attribute (parsed)\n",
    "    climb = current_climb\n",
    "    get 'span' tag inside 'td' tag with class rateYDS \n",
    "    star_rating = that span's text'\n",
    "    append trio to user_climb table\n",
    "    \n",
    "    \n",
    "for 'tr' in 'tbody' children:\n",
    "    if contains 4 elements:\n",
    "        spit into two sets of two elements\n",
    "        apply star quality votes func to each subset\n",
    "    if contains 2 elements:\n",
    "        apply star quality func to them\n",
    "        \n",
    "### get ticks\n",
    "find 'span' with text 'Ticks'\n",
    "go to next sibling 'small' tag\n",
    "go to next sibling 'table' tag\n",
    "go to child 'tbody' tag and extract all children\n",
    "for 'tr' in children:\n",
    "    get href of 'a' tag of first 'td' element\n",
    "    store it as user\n",
    "    store climb as climb\n",
    "    go to nextg 'td' tag, store text as date\n",
    "    append date to user_climb entry in user_climb_table\n",
    "\n",
    "    \n"
   ]
  },
  {
   "cell_type": "markdown",
   "metadata": {},
   "source": [
    "Below, we begin implementing the pseudo code bit by bit, with the goal of determining best methods for specific steps. Later, we will combine the code and pay additional attention to its organization. "
   ]
  },
  {
   "cell_type": "code",
   "execution_count": 1,
   "metadata": {
    "collapsed": true
   },
   "outputs": [],
   "source": [
    "%matplotlib inline\n",
    "import numpy as np\n",
    "import scipy as sp\n",
    "import pandas as pd\n",
    "import time\n",
    "pd.set_option('display.width', 500)\n",
    "pd.set_option('display.max_columns', 100)\n",
    "pd.set_option('display.notebook_repr_html', True)\n",
    "import re\n",
    "import regex\n",
    "from pyquery import PyQuery as pq\n",
    "from bs4 import BeautifulSoup\n",
    "import requests"
   ]
  },
  {
   "cell_type": "code",
   "execution_count": 170,
   "metadata": {
    "collapsed": false
   },
   "outputs": [],
   "source": [
    "# CLIMB VARIABLES - all initialized to undefined:\n",
    "climb_id = 0 \n",
    "climb_name = 'undef'\n"
   ]
  },
  {
   "cell_type": "code",
   "execution_count": 171,
   "metadata": {
    "collapsed": false
   },
   "outputs": [],
   "source": [
    "wg_link = \"http://mountainproject.com/v/whitney-gilman-ridge/105872668\"\n",
    "link_parsed = wg_link.split('/')\n",
    "\n",
    "# 1. get keys\n",
    "climb_id = link_parsed[-1]\n",
    "climb_name = link_parsed[-2]"
   ]
  },
  {
   "cell_type": "code",
   "execution_count": 172,
   "metadata": {
    "collapsed": false
   },
   "outputs": [],
   "source": [
    "climb_req=requests.get(wg_link)\n",
    "climb_=pq(climb_req.text)"
   ]
  },
  {
   "cell_type": "code",
   "execution_count": 173,
   "metadata": {
    "collapsed": false
   },
   "outputs": [],
   "source": [
    "# 2. separate climb div\n",
    "climb_div = climb_('div#rspCol800')"
   ]
  },
  {
   "cell_type": "code",
   "execution_count": 174,
   "metadata": {
    "collapsed": false
   },
   "outputs": [],
   "source": [
    "# 3. get climb summary div\n",
    "climb_summstats = climb_div('div.rspCol[style=\"max-width:500px;\"]')"
   ]
  },
  {
   "cell_type": "code",
   "execution_count": 175,
   "metadata": {
    "collapsed": false
   },
   "outputs": [],
   "source": [
    "# 4. get grade ratings\n",
    "climb_summstats_subtitle = climb_summstats('h3')"
   ]
  },
  {
   "cell_type": "code",
   "execution_count": 189,
   "metadata": {
    "collapsed": false
   },
   "outputs": [],
   "source": [
    "# 4. get grade ratings continued (below code is inefficient...)\n",
    "guide_grades = {\"rock_grade\": 0, \"ice_grade\": 0, \"aid_grade\": 0,\n",
    "              \"boulder_grade\": 0, \"mixed_grade\": 0, \"avg_stars\": 0}\n",
    "\n",
    "'''returns any rock, ice, aid, boulder and mixed grades in single touple from text'''\n",
    "rock_grade, ice_grade, aid_grade, boulder_grade, mixed_grade = 0, 0, 0, 0, 0\n",
    "if re.search(r'5.\\d\\d?(([a-d]/[a-d])|([a-d]))?[+,-]?', text) != None:\n",
    "            rock_grade = re.search(r'5.\\d\\d?(([a-d]/[a-d])|([a-d]))?[+,-]?', \n",
    "                                   text).group()\n",
    "if re.search(r'WI[1-6][+,-]?', text) != None:\n",
    "            ice_grade = re.search(r'WI[1-6][+,-]?', \n",
    "                                   text).group()\n",
    "if re.search(r'(A[0-5])|(C[0-5])', text) != None:\n",
    "            aid_grade = re.search(r'(A[0-5])|(C[0-5])', \n",
    "                                   text).group()\n",
    "if re.search(r'V\\d\\d?[-,+]?', text) != None:\n",
    "            boulder_grade = re.search(r'V\\d\\d?[-,+]?', \n",
    "                                   text).group()    \n",
    "if re.search(r'M\\d\\d?[+,-]?', text) != None:\n",
    "            mixed_grade = re.search(r'M\\d\\d?[+,-]?', \n",
    "                                   text).group()   \n",
    "return rock_grade, ice_grade, aid_grade, boulder_grade, mixed_grade\n"
   ]
  },
  {
   "cell_type": "code",
   "execution_count": 190,
   "metadata": {
    "collapsed": false
   },
   "outputs": [],
   "source": [
    "# 4. get grade ratings, final\n",
    "rock_grade, ice_grade, aid_grade, boulder_grade, mixed_grade = get_grades(climb_summstats_subtitle.text())"
   ]
  },
  {
   "cell_type": "code",
   "execution_count": 191,
   "metadata": {
    "collapsed": false
   },
   "outputs": [
    {
     "data": {
      "text/plain": [
       "(u'5.7', 0, 0, 0, 0)"
      ]
     },
     "execution_count": 191,
     "metadata": {},
     "output_type": "execute_result"
    }
   ],
   "source": [
    "get_grades(climb_summstats_subtitle.text())"
   ]
  },
  {
   "cell_type": "code",
   "execution_count": 218,
   "metadata": {
    "collapsed": false
   },
   "outputs": [],
   "source": [
    "# 5. get average star rating\n",
    "if re.search(r'[1-5].\\d\\d?\\d?\\d?', \n",
    "                      climb_summstats('span#routeStars')('script').html()):\n",
    "    avg_stars = float(re.search(r'[1-5]\\.\\d\\d?\\d?\\d?', \n",
    "                    climb_summstats('span#routeStars')('script').html())\n",
    "                    .group()) - 1  \n",
    "    "
   ]
  },
  {
   "cell_type": "code",
   "execution_count": 219,
   "metadata": {
    "collapsed": false
   },
   "outputs": [
    {
     "data": {
      "text/plain": [
       "3.6853"
      ]
     },
     "execution_count": 219,
     "metadata": {},
     "output_type": "execute_result"
    }
   ],
   "source": [
    "avg_stars"
   ]
  },
  {
   "cell_type": "code",
   "execution_count": 246,
   "metadata": {
    "collapsed": false
   },
   "outputs": [],
   "source": [
    "# 6. get rows of table\n",
    "climb_summstats_table = climb_summstats('table')('tr')"
   ]
  },
  {
   "cell_type": "code",
   "execution_count": 271,
   "metadata": {
    "collapsed": false
   },
   "outputs": [
    {
     "data": {
      "text/plain": [
       "u\"Type: Trad, Alpine, 5 pitches, 600',  Grade II\""
      ]
     },
     "execution_count": 271,
     "metadata": {},
     "output_type": "execute_result"
    }
   ],
   "source": [
    "# 7. get climb types\n",
    "types = {\"trad\": 0, \"alpine\": 0, \"ice\": 0, \"sport\": 0,\n",
    "        \"boulder\": 0, \"aid\": 0, \"mixed\": 0}\n",
    "for key in types:\n",
    "    if re.search(r'{}'.format(key), \n",
    "                 climb_summstats_table.eq(0).text(), \n",
    "                 flags = re.I) != None:\n",
    "        types[key] = 1"
   ]
  },
  {
   "cell_type": "code",
   "execution_count": 296,
   "metadata": {
    "collapsed": false
   },
   "outputs": [
    {
     "data": {
      "text/plain": [
       "<_sre.SRE_Match at 0xe442e68>"
      ]
     },
     "execution_count": 296,
     "metadata": {},
     "output_type": "execute_result"
    }
   ],
   "source": [
    "# 8. get the number of pitches\n"
   ]
  },
  {
   "cell_type": "code",
   "execution_count": null,
   "metadata": {
    "collapsed": true
   },
   "outputs": [],
   "source": []
  }
 ],
 "metadata": {
  "kernelspec": {
   "display_name": "Python 2",
   "language": "python",
   "name": "python2"
  },
  "language_info": {
   "codemirror_mode": {
    "name": "ipython",
    "version": 2
   },
   "file_extension": ".py",
   "mimetype": "text/x-python",
   "name": "python",
   "nbconvert_exporter": "python",
   "pygments_lexer": "ipython2",
   "version": "2.7.10"
  }
 },
 "nbformat": 4,
 "nbformat_minor": 0
}
