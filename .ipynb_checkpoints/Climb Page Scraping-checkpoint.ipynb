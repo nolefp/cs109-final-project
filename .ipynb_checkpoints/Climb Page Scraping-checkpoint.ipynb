{
 "cells": [
  {
   "cell_type": "markdown",
   "metadata": {},
   "source": [
    "Below, we begin implementing the pseudo code bit by bit, with the goal of determining best methods for specific steps. Later, we will combine the code and pay additional attention to its organization. "
   ]
  },
  {
   "cell_type": "code",
   "execution_count": 405,
   "metadata": {
    "collapsed": false
   },
   "outputs": [],
   "source": [
    "%matplotlib inline\n",
    "import numpy as np\n",
    "import scipy as sp\n",
    "import pandas as pd\n",
    "import time\n",
    "pd.set_option('display.width', 500)\n",
    "pd.set_option('display.max_columns', 100)\n",
    "pd.set_option('display.notebook_repr_html', True)\n",
    "import re\n",
    "import regex\n",
    "import locale\n",
    "from pyquery import PyQuery as pq\n",
    "from bs4 import BeautifulSoup\n",
    "import requests"
   ]
  },
  {
   "cell_type": "code",
   "execution_count": 318,
   "metadata": {
    "collapsed": false
   },
   "outputs": [],
   "source": [
    "# CLIMB VARIABLES - all initialized to undefined:\n",
    "climb_id = 0 \n",
    "climb_name = 'undef'\n",
    "climbdict = {\"climb_id\": 0, \"climb_name\": 'undef',\n",
    "             \"avg_stars\": 0, \"pitches\": 0, \"feet\": 0}"
   ]
  },
  {
   "cell_type": "code",
   "execution_count": 411,
   "metadata": {
    "collapsed": true
   },
   "outputs": [],
   "source": [
    "def parse_climb_id(href_link):\n",
    "    return href_link.split('/')[-1]\n",
    "\n",
    "def parse_climb_name(href_link):\n",
    "    return href_link.split('/')[-2]\n",
    "\n",
    "def parse_user_name(Href_link)"
   ]
  },
  {
   "cell_type": "code",
   "execution_count": 342,
   "metadata": {
    "collapsed": false
   },
   "outputs": [],
   "source": [
    "wg_link = \"http://mountainproject.com/v/whitney-gilman-ridge/105872668\"\n",
    "link_parsed = wg_link.split('/')\n",
    "\n",
    "# 1. get keys\n",
    "climb_id = link_parsed[-1]\n",
    "climbdict[\"climb_id\"] = climb_id\n",
    "climb_name = link_parsed[-2]\n",
    "climbdict[\"climb_name\"] = climb_name"
   ]
  },
  {
   "cell_type": "code",
   "execution_count": 343,
   "metadata": {
    "collapsed": false
   },
   "outputs": [],
   "source": [
    "climb_req=requests.get(wg_link)\n",
    "climb_=pq(climb_req.text)"
   ]
  },
  {
   "cell_type": "code",
   "execution_count": 344,
   "metadata": {
    "collapsed": false
   },
   "outputs": [],
   "source": [
    "# 2. separate climb div\n",
    "climb_div = climb_('div#rspCol800')"
   ]
  },
  {
   "cell_type": "code",
   "execution_count": 345,
   "metadata": {
    "collapsed": false
   },
   "outputs": [],
   "source": [
    "# 3. get climb summary div\n",
    "climb_summstats = climb_div('div.rspCol[style=\"max-width:500px;\"]')"
   ]
  },
  {
   "cell_type": "code",
   "execution_count": 346,
   "metadata": {
    "collapsed": false
   },
   "outputs": [],
   "source": [
    "# 4. get grade ratings\n",
    "climb_summstats_subtitle = climb_summstats('h3')"
   ]
  },
  {
   "cell_type": "code",
   "execution_count": 383,
   "metadata": {
    "collapsed": false
   },
   "outputs": [
    {
     "data": {
      "text/plain": [
       "{'aid_grade': 0,\n",
       " 'boulder_grade': 0,\n",
       " 'ice_grade': 0,\n",
       " 'mixed_grade': 0,\n",
       " 'rock_grade': u'5.7'}"
      ]
     },
     "execution_count": 383,
     "metadata": {},
     "output_type": "execute_result"
    }
   ],
   "source": [
    "# 4. get grade ratings continued \n",
    "guide_grades_dict = {}\n",
    "diff_regexes = {\"aid_grade\": r'(A[0-5])|(C[0-5])', \n",
    "               \"boulder_grade\": r'V\\d\\d?[-,+]?', \n",
    "               \"ice_grade\": r'WI[1-6][+,-]?',\n",
    "               \"mixed_grade\": r'M\\d\\d?[+,-]?', \n",
    "               \"rock_grade\": r'5.\\d\\d?(([a-d]/[a-d])|([a-d]))?[+,-]?'}\n",
    "\n",
    "for key, regex in diff_regexes.iteritems():\n",
    "    temp = re.search(regex, climb_summstats_subtitle.text())\n",
    "    if  temp != None:\n",
    "        guide_grades_dict[key] = temp.group()\n",
    "    else:\n",
    "        guide_grades_dict[key] = 0\n",
    "\n",
    "guide_grades_dict"
   ]
  },
  {
   "cell_type": "code",
   "execution_count": 349,
   "metadata": {
    "collapsed": false
   },
   "outputs": [],
   "source": [
    "# 5. get average star rating\n",
    "average_stars_script_html = climb_summstats('span#routeStars')('script').html()\n",
    "average_stars_regexobj = re.search(r'[1-5]\\.\\d\\d?\\d?\\d?', \n",
    "                                   average_stars_script_html)\n",
    "if average_stars_regexobj != None:     \n",
    "    avg_stars = float(average_stars_regexobj.group()) - 1\n",
    "    climbdict[\"avg_stars\"] = avg_stars\n",
    "else:\n",
    "    avg_stars = 0\n",
    "    "
   ]
  },
  {
   "cell_type": "code",
   "execution_count": 351,
   "metadata": {
    "collapsed": false
   },
   "outputs": [],
   "source": [
    "# 6. get rows of table\n",
    "climb_summstats_table = climb_summstats('table')('tr')"
   ]
  },
  {
   "cell_type": "code",
   "execution_count": 382,
   "metadata": {
    "collapsed": false
   },
   "outputs": [
    {
     "data": {
      "text/plain": [
       "{'aid': 0,\n",
       " 'alpine': 1,\n",
       " 'boulder': 0,\n",
       " 'ice': 0,\n",
       " 'mixed': 0,\n",
       " 'sport': 0,\n",
       " 'trad': 1}"
      ]
     },
     "execution_count": 382,
     "metadata": {},
     "output_type": "execute_result"
    }
   ],
   "source": [
    "# 7. get climb types\n",
    "typesdict = {\"trad\": 0, \"alpine\": 0, \"ice\": 0, \"sport\": 0,\n",
    "        \"boulder\": 0, \"aid\": 0, \"mixed\": 0}\n",
    "for key in types:\n",
    "    if re.search(r'{}'.format(key), \n",
    "                climb_summstats_table.eq(0).text(), \n",
    "                flags = re.I) != None:\n",
    "        typesdict[key] = 1\n",
    "\n",
    "typesdict"
   ]
  },
  {
   "cell_type": "code",
   "execution_count": 359,
   "metadata": {
    "collapsed": false
   },
   "outputs": [],
   "source": [
    "# 8. get the number of pitches\n",
    "pitches_regobj = re.search(r'(\\d\\d?) pitches', \n",
    "                climb_summstats_table.eq(0).text(), \n",
    "                flags = re.I)\n",
    "if temp:\n",
    "    climbdict[\"pitches\"] = int(temp.group(1))"
   ]
  },
  {
   "cell_type": "code",
   "execution_count": 365,
   "metadata": {
    "collapsed": true
   },
   "outputs": [],
   "source": [
    "# 9. get number of feet\n",
    "feet_regobj = re.search(r\" (\\d\\d?\\d?\\d?\\d?)'\", \n",
    "                climb_summstats_table.eq(0).text(), \n",
    "                flags = re.I)\n",
    "if feet_regobj:\n",
    "    climbdict[\"feet\"] = int(feet_regobj.group(1))"
   ]
  },
  {
   "cell_type": "code",
   "execution_count": 369,
   "metadata": {
    "collapsed": true
   },
   "outputs": [],
   "source": [
    "# 10. get number of feet\n",
    "grade_regobj = re.search(r'Grade ([I,II,III,IV,V,VI])', \n",
    "                climb_summstats_table.eq(0).text(), \n",
    "                flags = re.I)\n",
    "if grade_regobj:\n",
    "    climbdict[\"grade\"] = grade_regobj.group(1)"
   ]
  },
  {
   "cell_type": "code",
   "execution_count": 381,
   "metadata": {
    "collapsed": false
   },
   "outputs": [
    {
     "data": {
      "text/plain": [
       "{'concensus_aid_grade': 0,\n",
       " 'concensus_boulder_grade': 0,\n",
       " 'concensus_ice_grade': 0,\n",
       " 'concensus_mixed_grade': 0,\n",
       " 'concensus_rock_grade': u'5.7'}"
      ]
     },
     "execution_count": 381,
     "metadata": {},
     "output_type": "execute_result"
    }
   ],
   "source": [
    "# 11. get concensus rating\n",
    "concensus_grades_dict = {}\n",
    "\n",
    "for key, regex in diff_regexes.iteritems():\n",
    "    temp = re.search(regex,climb_summstats_table.eq(1).text())\n",
    "    if  temp != None:\n",
    "        concensus_grades_dict[\"concensus_\" + key] = temp.group()\n",
    "    else:\n",
    "        concensus_grades_dict[\"concensus_\" + key] = 0\n",
    "\n",
    "concensus_grades_dict"
   ]
  },
  {
   "cell_type": "code",
   "execution_count": 392,
   "metadata": {
    "collapsed": false
   },
   "outputs": [],
   "source": [
    "# 12. get FA year\n",
    "fa_regobj = re.search(r\"[18,19,20]\\d\\d\\d\",climb_summstats_table.eq(2).text())\n",
    "if fa_regobj:\n",
    "    climbdict[\"fa_year\"] = int(fa_regobj.group())"
   ]
  },
  {
   "cell_type": "code",
   "execution_count": 407,
   "metadata": {
    "collapsed": false
   },
   "outputs": [],
   "source": [
    "# 13. get page views\n",
    "views_regobj = re.search(r\"\\d?\\d?\\d?,?\\d?\\d\\d\",climb_summstats_table.eq(3).text())\n",
    "if views_regobj:\n",
    "    climbdict[\"page_views\"] = int(views_regobj.group().replace(',',''))"
   ]
  },
  {
   "cell_type": "code",
   "execution_count": 409,
   "metadata": {
    "collapsed": true
   },
   "outputs": [],
   "source": [
    "# 14. get detailed users-climb page\n",
    "stats_link = (\"http://mountainproject.com/scripts/ShowObjectStats.php?id=%s\"\n",
    "              % climbdict['climb_id'])\n",
    "climb_stats_req=requests.get(stats_link)\n",
    "stats_=pq(climb_stats_req.text)"
   ]
  },
  {
   "cell_type": "code",
   "execution_count": 410,
   "metadata": {
    "collapsed": false
   },
   "outputs": [
    {
     "data": {
      "text/plain": [
       "'http://mountainproject.com/scripts/ShowObjectStats.php?id=105872668'"
      ]
     },
     "execution_count": 410,
     "metadata": {},
     "output_type": "execute_result"
    }
   ],
   "source": [
    "stats_stars"
   ]
  },
  {
   "cell_type": "code",
   "execution_count": null,
   "metadata": {
    "collapsed": true
   },
   "outputs": [],
   "source": []
  }
 ],
 "metadata": {
  "kernelspec": {
   "display_name": "Python 2",
   "language": "python",
   "name": "python2"
  },
  "language_info": {
   "codemirror_mode": {
    "name": "ipython",
    "version": 2
   },
   "file_extension": ".py",
   "mimetype": "text/x-python",
   "name": "python",
   "nbconvert_exporter": "python",
   "pygments_lexer": "ipython2",
   "version": "2.7.10"
  }
 },
 "nbformat": 4,
 "nbformat_minor": 0
}
