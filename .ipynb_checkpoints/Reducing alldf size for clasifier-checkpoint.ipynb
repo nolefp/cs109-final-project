{
 "cells": [
  {
   "cell_type": "code",
   "execution_count": 1,
   "metadata": {
    "collapsed": true
   },
   "outputs": [],
   "source": [
    "%matplotlib inline\n",
    "import numpy as np\n",
    "import scipy as sp\n",
    "import matplotlib as mpl\n",
    "import matplotlib.cm as cm\n",
    "import matplotlib.pyplot as plt\n",
    "import re\n",
    "import pandas as pd\n",
    "import math \n",
    "\n",
    "pd.set_option('display.width', 500)\n",
    "pd.set_option('display.max_columns', 100)\n",
    "pd.set_option('display.notebook_repr_html', True)\n",
    "import seaborn as sns\n",
    "sns.set_style(\"whitegrid\")\n",
    "sns.set_context(\"poster\")"
   ]
  },
  {
   "cell_type": "code",
   "execution_count": 3,
   "metadata": {
    "collapsed": false
   },
   "outputs": [
    {
     "name": "stderr",
     "output_type": "stream",
     "text": [
      "C:\\Users\\nolefp\\Anaconda\\lib\\site-packages\\IPython\\core\\interactiveshell.py:3006: DtypeWarning: Columns (6,7,8,9,67,68,69,70,79,80,81,82,84,85,86,87) have mixed types. Specify dtype option on import or set low_memory=False.\n",
      "  if self.run_code(code, result):\n"
     ]
    }
   ],
   "source": [
    "alldf = pd.DataFrame.from_csv('../fin_proj_dfs/finalproject-joined-cleaned-df.csv')"
   ]
  },
  {
   "cell_type": "code",
   "execution_count": 4,
   "metadata": {
    "collapsed": true
   },
   "outputs": [],
   "source": [
    "alldf.dropna(axis=0,subset=['star_rating'],inplace=1)"
   ]
  },
  {
   "cell_type": "code",
   "execution_count": 5,
   "metadata": {
    "collapsed": false
   },
   "outputs": [
    {
     "data": {
      "text/plain": [
       "621053"
      ]
     },
     "execution_count": 5,
     "metadata": {},
     "output_type": "execute_result"
    }
   ],
   "source": [
    "len(alldf)"
   ]
  },
  {
   "cell_type": "code",
   "execution_count": 6,
   "metadata": {
    "collapsed": false
   },
   "outputs": [],
   "source": [
    "def reduce_dataframe(df, userlim, climblim):\n",
    "    newdf = df.groupby('user_id').filter(lambda x: x['star_rating'].count() > userlim)\n",
    "    newdf = newdf.groupby('climb_id').filter(lambda x: x['star_rating'].count() > climblim)\n",
    "    if len(newdf) == len(df):\n",
    "        return newdf\n",
    "    return reduce_dataframe(newdf, userlim, climblim)"
   ]
  },
  {
   "cell_type": "code",
   "execution_count": 7,
   "metadata": {
    "collapsed": false
   },
   "outputs": [],
   "source": [
    "smalldf = reduce_dataframe(alldf, 50, 50)"
   ]
  },
  {
   "cell_type": "code",
   "execution_count": 8,
   "metadata": {
    "collapsed": false
   },
   "outputs": [
    {
     "name": "stdout",
     "output_type": "stream",
     "text": [
      "22217\n",
      "51\n",
      "51\n"
     ]
    }
   ],
   "source": [
    "print len(smalldf)\n",
    "print smalldf.groupby('user_id').star_rating.count().min()\n",
    "print smalldf.groupby('climb_id').star_rating.count().min()"
   ]
  },
  {
   "cell_type": "code",
   "execution_count": 11,
   "metadata": {
    "collapsed": false
   },
   "outputs": [],
   "source": [
    "smalldf.to_csv('../fin_proj_dfs/finalproject-joined-cleaned-small-df.csv')"
   ]
  },
  {
   "cell_type": "code",
   "execution_count": null,
   "metadata": {
    "collapsed": false
   },
   "outputs": [],
   "source": [
    "small_60_60_df = reduce_dataframe(alldf, 60, 60)"
   ]
  },
  {
   "cell_type": "code",
   "execution_count": null,
   "metadata": {
    "collapsed": false
   },
   "outputs": [],
   "source": [
    "print len(small_60_60_df)\n",
    "print small_60_60_df.groupby('user_id').star_rating.count().min()\n",
    "print small_60_60_df.groupby('climb_id').star_rating.count().min()\n",
    "\n",
    "\n"
   ]
  },
  {
   "cell_type": "code",
   "execution_count": 51,
   "metadata": {
    "collapsed": false
   },
   "outputs": [
    {
     "data": {
      "text/plain": [
       "area_1\n",
       "/v/colorado/105708956    21992\n",
       "/v/utah/105708957         1388\n",
       "/v/wyoming/105708960       232\n",
       "Name: user_id, dtype: int64"
      ]
     },
     "execution_count": 51,
     "metadata": {},
     "output_type": "execute_result"
    }
   ],
   "source": [
    "smalldf.groupby('area_1').user_id.count()"
   ]
  },
  {
   "cell_type": "code",
   "execution_count": 56,
   "metadata": {
    "collapsed": false
   },
   "outputs": [
    {
     "data": {
      "text/plain": [
       "area_2\n",
       "/v/boulder/105801420                12959\n",
       "/v/golden/105800295                  5391\n",
       "/v/canon-city/105800427              1547\n",
       "/v/moab-area/105716711               1388\n",
       "/v/estes-park-valley/105801865        963\n",
       "/v/south-platte/105797719             735\n",
       "/v/alpine-rock/105744466              336\n",
       "/v/vedauwoo/105744307                 232\n",
       "/v/grand-junction-area/105802036       61\n",
       "Name: user_id, dtype: int64"
      ]
     },
     "execution_count": 56,
     "metadata": {},
     "output_type": "execute_result"
    }
   ],
   "source": [
    "smalldf.groupby('area_2').user_id.count().sort_values(ascending=False)"
   ]
  },
  {
   "cell_type": "code",
   "execution_count": 55,
   "metadata": {
    "collapsed": false
   },
   "outputs": [
    {
     "data": {
      "text/plain": [
       "area_3\n",
       "/v/eldorado-canyon-sp/105744246                   7772\n",
       "/v/clear-creek-canyon/105744243                   5070\n",
       "/v/boulder-canyon/105744222                       5017\n",
       "/v/shelf-road/105744267                           1547\n",
       "/v/indian-creek/105716763                          920\n",
       "/v/lumpy-ridge/105744228                           821\n",
       "/v/turkey-rocks/105797943                          647\n",
       "/v/rmnp---rock/105744460                           336\n",
       "/v/north-table-mountaingolden-cliffs/105744249     321\n",
       "/v/castle-valley/105716784                         263\n",
       "/v/nautilus/105745214                              145\n",
       "/v/potash-road/105716778                           122\n",
       "/v/upper-dream-canyon/105744234                    101\n",
       "/v/cathedral-spires-area/105797900                  88\n",
       "/v/co-hwy-7--tributaries/105802025                  88\n",
       "/v/walts-wall/105745175                             87\n",
       "/v/fisher-towers/105716787                          83\n",
       "/v/eldorado-mountain/105744255                      69\n",
       "/v/colorado-national-monument/105744448             61\n",
       "/v/big-thompson-canyon/105744364                    54\n",
       "Name: user_id, dtype: int64"
      ]
     },
     "execution_count": 55,
     "metadata": {},
     "output_type": "execute_result"
    }
   ],
   "source": [
    "smalldf.groupby('area_3').user_id.count().sort_values(ascending=False)"
   ]
  },
  {
   "cell_type": "code",
   "execution_count": null,
   "metadata": {
    "collapsed": true
   },
   "outputs": [],
   "source": []
  }
 ],
 "metadata": {
  "kernelspec": {
   "display_name": "Python 2",
   "language": "python",
   "name": "python2"
  },
  "language_info": {
   "codemirror_mode": {
    "name": "ipython",
    "version": 2
   },
   "file_extension": ".py",
   "mimetype": "text/x-python",
   "name": "python",
   "nbconvert_exporter": "python",
   "pygments_lexer": "ipython2",
   "version": "2.7.11"
  }
 },
 "nbformat": 4,
 "nbformat_minor": 0
}
