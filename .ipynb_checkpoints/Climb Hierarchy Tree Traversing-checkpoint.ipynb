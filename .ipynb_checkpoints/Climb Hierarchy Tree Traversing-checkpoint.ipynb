{
 "cells": [
  {
   "cell_type": "markdown",
   "metadata": {},
   "source": [
    "#Traversing Mountain Project"
   ]
  },
  {
   "cell_type": "code",
   "execution_count": null,
   "metadata": {
    "collapsed": true
   },
   "outputs": [],
   "source": [
    "def is_climb(page):\n",
    "    # If you a span with class=\"rateYDS\" inside an h3 header, then the page is a climb\n",
    "    # Alternative, on a climb page you will be able to find the words \"You & This Route\" inside a div with ...\n",
    "    # id=\"youContainer\" whereas on an area page you will instead be able ot find the words \"You & This Area\"\n",
    "    return bool"
   ]
  },
  {
   "cell_type": "code",
   "execution_count": null,
   "metadata": {
    "collapsed": true
   },
   "outputs": [],
   "source": [
    "def get_all_links_down_hierarchy(page):\n",
    "    # The links are found inside of div with id=\"viewerLeftNavColContent\"\n",
    "    # The first div inside this div should have id=\"mpbox########\" where #### will be different for every page\n",
    "    # Every link in id=\"mpbox########\" should be a link going further down the hierarchy with the exception:\n",
    "        # The link associated with <img src=\"/img/up.gif\" .../> should be excluded\n",
    "        # Any links to mountainproject.com/scripts/... should be excluded\n",
    "    return list_of_links"
   ]
  },
  {
   "cell_type": "code",
   "execution_count": null,
   "metadata": {
    "collapsed": true
   },
   "outputs": [],
   "source": [
    "def scrape(url):\n",
    "    # Beautiful soup (or whatever) code here to get page from url\n",
    "    # Ideally, we will do things such that we pass this data on and don't request the link again to ...\n",
    "    # exact other information from the page\n",
    "    return page"
   ]
  },
  {
   "cell_type": "code",
   "execution_count": null,
   "metadata": {
    "collapsed": true
   },
   "outputs": [],
   "source": [
    "def get_number_of_ratings(page):\n",
    "    # Each review on a climb page is in its own table of class=\"comvis\"\n",
    "    # Inside each table are 2 <td> cells; everything we need is in the first; probably best to code this in ...\n",
    "    # because the second is user input and could have weird stuff that throws us off.\n",
    "    # We can get the link to the user by looking for href=\"/u/...\".\n",
    "    # We can get where the user rated the route by see if the <img> with ... \n",
    "    # src=\"http://www.mountainproject.com/img/stars/star_b.gif\" is present in the table.\n",
    "    return number_of_ratings"
   ]
  },
  {
   "cell_type": "code",
   "execution_count": null,
   "metadata": {
    "collapsed": true
   },
   "outputs": [],
   "source": [
    "def extract_climb_info(page):\n",
    "    # Will be copied and adapted from \"Climb Page Scraping.ipynb\"\n",
    "    return climb_info"
   ]
  },
  {
   "cell_type": "code",
   "execution_count": null,
   "metadata": {
    "collapsed": true
   },
   "outputs": [],
   "source": [
    "def extract_links_to_user_pages(page):\n",
    "    # The links from get_number_of_ratings above.  *We only want the links to users who actually rated the\n",
    "    # route and didn't just submit a comment with no rating.\n",
    "    return list_of_links"
   ]
  },
  {
   "cell_type": "code",
   "execution_count": null,
   "metadata": {
    "collapsed": true
   },
   "outputs": [],
   "source": [
    "def extract_user_info(url):\n",
    "    # Will be copied and adapted from \"User Page Scraping.ipynb\"\n",
    "    return user_info"
   ]
  },
  {
   "cell_type": "code",
   "execution_count": null,
   "metadata": {
    "collapsed": true
   },
   "outputs": [],
   "source": [
    "# Let's do the traversing recursively\n",
    "\n",
    "def traverse(url, min_climb_ratings, climbs_info, user_links):\n",
    "    page = scrape(url)\n",
    "    \n",
    "    if !is_climb(page):\n",
    "        links = get_all_links_down_hierarchy(page)\n",
    "        for link in links:\n",
    "            traverse(link, min_climb_ratings)\n",
    "    else:\n",
    "        num_ratings = get_number_of_ratings(page)\n",
    "        if num_ratings >= min_climb_ratings\n",
    "            climbs_info.append(extract_climb_info(page)) # or .update() if we want climbs_info to be a dict\n",
    "            user_links.extend([(link, 1) for link in extract_links_to_user_pages(page)])\n",
    "\n",
    "min_climb_ratings = 10\n",
    "min_user_ratings = 10\n",
    "            \n",
    "climbs_info = [] # or {} if we want climbs_info to be a dict\n",
    "user_links = []\n",
    "top_page = scrape(\"http://www.mountainproject.com/destinations/\")\n",
    "state_links = get_all_links_to_state_pages(top_page)\n",
    "for link in state_links:\n",
    "    traverse(link, min_climb_ratings)\n",
    "    \n",
    "user_links_reduced = map_reduce(user_links) # user_links is now a list of tuples (link_to_user, num_ratings)\n",
    "\n",
    "user_links_filtered = [user[0] for user in user_links_filtered if user[1] >= min_user_ratings]\n",
    "\n",
    "users_info = [] # or {} if we want users_info to be a dict\n",
    "for link in user_links_filtered:\n",
    "    users_info.append(extract_user_info(link))"
   ]
  }
 ],
 "metadata": {
  "kernelspec": {
   "display_name": "Python 2",
   "language": "python",
   "name": "python2"
  },
  "language_info": {
   "codemirror_mode": {
    "name": "ipython",
    "version": 2
   },
   "file_extension": ".py",
   "mimetype": "text/x-python",
   "name": "python",
   "nbconvert_exporter": "python",
   "pygments_lexer": "ipython2",
   "version": "2.7.10"
  }
 },
 "nbformat": 4,
 "nbformat_minor": 0
}
