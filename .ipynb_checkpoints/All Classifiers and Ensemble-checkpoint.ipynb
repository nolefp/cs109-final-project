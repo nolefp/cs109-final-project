{
 "cells": [
  {
   "cell_type": "code",
   "execution_count": 1,
   "metadata": {
    "collapsed": true
   },
   "outputs": [],
   "source": [
    "%matplotlib inline\n",
    "import numpy as np\n",
    "import scipy as sp\n",
    "import matplotlib as mpl\n",
    "import matplotlib.cm as cm\n",
    "import matplotlib.pyplot as plt\n",
    "import pandas as pd\n",
    "pd.set_option('display.width', 500)\n",
    "pd.set_option('display.max_columns', 100)\n",
    "pd.set_option('display.notebook_repr_html', True)\n",
    "import seaborn as sns\n",
    "sns.set_style(\"whitegrid\")\n",
    "sns.set_context(\"poster\")"
   ]
  },
  {
   "cell_type": "markdown",
   "metadata": {},
   "source": [
    "##Load the data and create testing, validation, and training dataframes"
   ]
  },
  {
   "cell_type": "code",
   "execution_count": 3,
   "metadata": {
    "collapsed": false
   },
   "outputs": [],
   "source": [
    "fulldf = pd.read_csv('classifier_dfs/finalproject-joined-cleaned-small-df.csv')"
   ]
  },
  {
   "cell_type": "code",
   "execution_count": 4,
   "metadata": {
    "collapsed": false
   },
   "outputs": [
    {
     "data": {
      "text/html": [
       "<div>\n",
       "<table border=\"1\" class=\"dataframe\">\n",
       "  <thead>\n",
       "    <tr style=\"text-align: right;\">\n",
       "      <th></th>\n",
       "      <th>Unnamed: 0</th>\n",
       "      <th>climb_id</th>\n",
       "      <th>user_id</th>\n",
       "      <th>star_rating</th>\n",
       "      <th>tick_date</th>\n",
       "      <th>ticked</th>\n",
       "      <th>sugg_aid_grade</th>\n",
       "      <th>sugg_boulder_grade</th>\n",
       "      <th>sugg_ice_grade</th>\n",
       "      <th>sugg_mixed_grade</th>\n",
       "      <th>sugg_rock_grade</th>\n",
       "      <th>sugg_ice_grade_number</th>\n",
       "      <th>sugg_boulder_grade_number</th>\n",
       "      <th>sugg_aid_grade_number</th>\n",
       "      <th>sugg_mixed_grade_number</th>\n",
       "      <th>sugg_rock_grade_number</th>\n",
       "      <th>location_state</th>\n",
       "      <th>climbs_trad</th>\n",
       "      <th>gender</th>\n",
       "      <th>age</th>\n",
       "      <th>climbs_aid</th>\n",
       "      <th>climbs_ice</th>\n",
       "      <th>climbs_boulder</th>\n",
       "      <th>user_link</th>\n",
       "      <th>climbs_mixed</th>\n",
       "      <th>location_place</th>\n",
       "      <th>climbs_sport</th>\n",
       "      <th>member_date</th>\n",
       "      <th>user_name</th>\n",
       "      <th>lead_diff_sport</th>\n",
       "      <th>boulder_diff</th>\n",
       "      <th>follow_diff_sport</th>\n",
       "      <th>lead_diff_ice</th>\n",
       "      <th>lead_diff_trad</th>\n",
       "      <th>follow_diff_ice</th>\n",
       "      <th>follow_diff_trad</th>\n",
       "      <th>follow_diff_mixed</th>\n",
       "      <th>lead_diff_mixed</th>\n",
       "      <th>follow_diff_aid</th>\n",
       "      <th>lead_diff_aid</th>\n",
       "      <th>lead_diff_sport_number</th>\n",
       "      <th>follow_diff_aid_number</th>\n",
       "      <th>lead_diff_ice_number</th>\n",
       "      <th>follow_diff_sport_number</th>\n",
       "      <th>follow_diff_mixed_number</th>\n",
       "      <th>lead_diff_aid_number</th>\n",
       "      <th>lead_diff_mixed_number</th>\n",
       "      <th>lead_diff_trad_number</th>\n",
       "      <th>boulder_diff_number</th>\n",
       "      <th>follow_diff_ice_number</th>\n",
       "      <th>...</th>\n",
       "      <th>user_zip_code</th>\n",
       "      <th>user_place</th>\n",
       "      <th>climb_name</th>\n",
       "      <th>climb_link</th>\n",
       "      <th>fa_year</th>\n",
       "      <th>feet</th>\n",
       "      <th>page_views</th>\n",
       "      <th>pitches</th>\n",
       "      <th>avg_stars</th>\n",
       "      <th>area_0</th>\n",
       "      <th>area_1</th>\n",
       "      <th>area_2</th>\n",
       "      <th>area_3</th>\n",
       "      <th>area_4</th>\n",
       "      <th>area_5</th>\n",
       "      <th>area_6</th>\n",
       "      <th>area_7</th>\n",
       "      <th>area_8</th>\n",
       "      <th>area_9</th>\n",
       "      <th>type_TR,</th>\n",
       "      <th>type_aid</th>\n",
       "      <th>type_alpine</th>\n",
       "      <th>type_boulder</th>\n",
       "      <th>type_ice</th>\n",
       "      <th>type_mixed</th>\n",
       "      <th>type_sport</th>\n",
       "      <th>type_trad</th>\n",
       "      <th>guide_aid_grade</th>\n",
       "      <th>guide_boulder_grade</th>\n",
       "      <th>guide_ice_grade</th>\n",
       "      <th>guide_mixed_grade</th>\n",
       "      <th>guide_rock_grade</th>\n",
       "      <th>concensus_aid_grade</th>\n",
       "      <th>concensus_boulder_grade</th>\n",
       "      <th>concensus_ice_grade</th>\n",
       "      <th>concensus_mixed_grade</th>\n",
       "      <th>concensus_rock_grade</th>\n",
       "      <th>guide_aid_grade_number</th>\n",
       "      <th>guide_rock_grade_number</th>\n",
       "      <th>guide_boulder_grade_number</th>\n",
       "      <th>concensus_rock_grade_number</th>\n",
       "      <th>concensus_boulder_grade_number</th>\n",
       "      <th>concensus_ice_grade_number</th>\n",
       "      <th>guide_ice_grade_number</th>\n",
       "      <th>concensus_mixed_grade_number</th>\n",
       "      <th>guide_mixed_grade_number</th>\n",
       "      <th>concensus_aid_grade_number</th>\n",
       "      <th>state</th>\n",
       "      <th>latitude</th>\n",
       "      <th>longitude</th>\n",
       "    </tr>\n",
       "  </thead>\n",
       "  <tbody>\n",
       "    <tr>\n",
       "      <th>0</th>\n",
       "      <td>1408</td>\n",
       "      <td>105717289</td>\n",
       "      <td>105990845</td>\n",
       "      <td>4</td>\n",
       "      <td>NaN</td>\n",
       "      <td>NaN</td>\n",
       "      <td>NaN</td>\n",
       "      <td>NaN</td>\n",
       "      <td>NaN</td>\n",
       "      <td>NaN</td>\n",
       "      <td>NaN</td>\n",
       "      <td>NaN</td>\n",
       "      <td>NaN</td>\n",
       "      <td>NaN</td>\n",
       "      <td>NaN</td>\n",
       "      <td>NaN</td>\n",
       "      <td>NaN</td>\n",
       "      <td>0</td>\n",
       "      <td>NaN</td>\n",
       "      <td>NaN</td>\n",
       "      <td>0</td>\n",
       "      <td>0</td>\n",
       "      <td>0</td>\n",
       "      <td>https://www.mountainproject.com/u/orphaned//10...</td>\n",
       "      <td>0</td>\n",
       "      <td>NaN</td>\n",
       "      <td>0</td>\n",
       "      <td>(2007, 7, 9, 0, 0, 0, 0, 190, -1)</td>\n",
       "      <td>orphaned</td>\n",
       "      <td>NaN</td>\n",
       "      <td>NaN</td>\n",
       "      <td>NaN</td>\n",
       "      <td>NaN</td>\n",
       "      <td>NaN</td>\n",
       "      <td>NaN</td>\n",
       "      <td>NaN</td>\n",
       "      <td>NaN</td>\n",
       "      <td>NaN</td>\n",
       "      <td>NaN</td>\n",
       "      <td>NaN</td>\n",
       "      <td>NaN</td>\n",
       "      <td>NaN</td>\n",
       "      <td>NaN</td>\n",
       "      <td>NaN</td>\n",
       "      <td>NaN</td>\n",
       "      <td>NaN</td>\n",
       "      <td>NaN</td>\n",
       "      <td>NaN</td>\n",
       "      <td>NaN</td>\n",
       "      <td>NaN</td>\n",
       "      <td>...</td>\n",
       "      <td>NaN</td>\n",
       "      <td>NaN</td>\n",
       "      <td>kor-ingalls-route</td>\n",
       "      <td>http://www.mountainproject.com/v/kor-ingalls-r...</td>\n",
       "      <td>1961</td>\n",
       "      <td>NaN</td>\n",
       "      <td>70344</td>\n",
       "      <td>4</td>\n",
       "      <td>3.3619</td>\n",
       "      <td>/destinations/</td>\n",
       "      <td>/v/utah/105708957</td>\n",
       "      <td>/v/moab-area/105716711</td>\n",
       "      <td>/v/castle-valley/105716784</td>\n",
       "      <td>/v/castleton-tower/105716850</td>\n",
       "      <td>NaN</td>\n",
       "      <td>NaN</td>\n",
       "      <td>NaN</td>\n",
       "      <td>NaN</td>\n",
       "      <td>NaN</td>\n",
       "      <td>0</td>\n",
       "      <td>0</td>\n",
       "      <td>0</td>\n",
       "      <td>0</td>\n",
       "      <td>0</td>\n",
       "      <td>0</td>\n",
       "      <td>0</td>\n",
       "      <td>1</td>\n",
       "      <td>0</td>\n",
       "      <td>0</td>\n",
       "      <td>0</td>\n",
       "      <td>0</td>\n",
       "      <td>5.9</td>\n",
       "      <td>0</td>\n",
       "      <td>0</td>\n",
       "      <td>0</td>\n",
       "      <td>0</td>\n",
       "      <td>5.9+</td>\n",
       "      <td>NaN</td>\n",
       "      <td>9</td>\n",
       "      <td>NaN</td>\n",
       "      <td>9.3</td>\n",
       "      <td>NaN</td>\n",
       "      <td>NaN</td>\n",
       "      <td>NaN</td>\n",
       "      <td>NaN</td>\n",
       "      <td>NaN</td>\n",
       "      <td>NaN</td>\n",
       "      <td>Utah</td>\n",
       "      <td>38.651</td>\n",
       "      <td>-109.3678</td>\n",
       "    </tr>\n",
       "    <tr>\n",
       "      <th>1</th>\n",
       "      <td>1416</td>\n",
       "      <td>105717289</td>\n",
       "      <td>106192059</td>\n",
       "      <td>3</td>\n",
       "      <td>time.struct_time(tm_year=2011, tm_mon=3, tm_md...</td>\n",
       "      <td>1</td>\n",
       "      <td>NaN</td>\n",
       "      <td>NaN</td>\n",
       "      <td>NaN</td>\n",
       "      <td>NaN</td>\n",
       "      <td>5.9+</td>\n",
       "      <td>NaN</td>\n",
       "      <td>NaN</td>\n",
       "      <td>NaN</td>\n",
       "      <td>NaN</td>\n",
       "      <td>9.3</td>\n",
       "      <td>CO</td>\n",
       "      <td>1</td>\n",
       "      <td>0</td>\n",
       "      <td>40</td>\n",
       "      <td>0</td>\n",
       "      <td>0</td>\n",
       "      <td>1</td>\n",
       "      <td>https://www.mountainproject.com/u/julius-beres...</td>\n",
       "      <td>0</td>\n",
       "      <td>Boulder</td>\n",
       "      <td>1</td>\n",
       "      <td>(2008, 6, 27, 0, 0, 0, 4, 179, -1)</td>\n",
       "      <td>julius-beres</td>\n",
       "      <td>5.12b</td>\n",
       "      <td>V6</td>\n",
       "      <td>5.12c</td>\n",
       "      <td>NaN</td>\n",
       "      <td>5.11b</td>\n",
       "      <td>NaN</td>\n",
       "      <td>5.11c</td>\n",
       "      <td>NaN</td>\n",
       "      <td>NaN</td>\n",
       "      <td>NaN</td>\n",
       "      <td>NaN</td>\n",
       "      <td>14.5</td>\n",
       "      <td>NaN</td>\n",
       "      <td>NaN</td>\n",
       "      <td>15</td>\n",
       "      <td>NaN</td>\n",
       "      <td>NaN</td>\n",
       "      <td>NaN</td>\n",
       "      <td>12.5</td>\n",
       "      <td>6</td>\n",
       "      <td>NaN</td>\n",
       "      <td>...</td>\n",
       "      <td>NaN</td>\n",
       "      <td>Boulder</td>\n",
       "      <td>kor-ingalls-route</td>\n",
       "      <td>http://www.mountainproject.com/v/kor-ingalls-r...</td>\n",
       "      <td>1961</td>\n",
       "      <td>NaN</td>\n",
       "      <td>70344</td>\n",
       "      <td>4</td>\n",
       "      <td>3.3619</td>\n",
       "      <td>/destinations/</td>\n",
       "      <td>/v/utah/105708957</td>\n",
       "      <td>/v/moab-area/105716711</td>\n",
       "      <td>/v/castle-valley/105716784</td>\n",
       "      <td>/v/castleton-tower/105716850</td>\n",
       "      <td>NaN</td>\n",
       "      <td>NaN</td>\n",
       "      <td>NaN</td>\n",
       "      <td>NaN</td>\n",
       "      <td>NaN</td>\n",
       "      <td>0</td>\n",
       "      <td>0</td>\n",
       "      <td>0</td>\n",
       "      <td>0</td>\n",
       "      <td>0</td>\n",
       "      <td>0</td>\n",
       "      <td>0</td>\n",
       "      <td>1</td>\n",
       "      <td>0</td>\n",
       "      <td>0</td>\n",
       "      <td>0</td>\n",
       "      <td>0</td>\n",
       "      <td>5.9</td>\n",
       "      <td>0</td>\n",
       "      <td>0</td>\n",
       "      <td>0</td>\n",
       "      <td>0</td>\n",
       "      <td>5.9+</td>\n",
       "      <td>NaN</td>\n",
       "      <td>9</td>\n",
       "      <td>NaN</td>\n",
       "      <td>9.3</td>\n",
       "      <td>NaN</td>\n",
       "      <td>NaN</td>\n",
       "      <td>NaN</td>\n",
       "      <td>NaN</td>\n",
       "      <td>NaN</td>\n",
       "      <td>NaN</td>\n",
       "      <td>Utah</td>\n",
       "      <td>38.651</td>\n",
       "      <td>-109.3678</td>\n",
       "    </tr>\n",
       "    <tr>\n",
       "      <th>2</th>\n",
       "      <td>1419</td>\n",
       "      <td>105717289</td>\n",
       "      <td>10232</td>\n",
       "      <td>4</td>\n",
       "      <td>NaN</td>\n",
       "      <td>NaN</td>\n",
       "      <td>NaN</td>\n",
       "      <td>NaN</td>\n",
       "      <td>NaN</td>\n",
       "      <td>NaN</td>\n",
       "      <td>5.9+</td>\n",
       "      <td>NaN</td>\n",
       "      <td>NaN</td>\n",
       "      <td>NaN</td>\n",
       "      <td>NaN</td>\n",
       "      <td>9.3</td>\n",
       "      <td>CO</td>\n",
       "      <td>1</td>\n",
       "      <td>0</td>\n",
       "      <td>NaN</td>\n",
       "      <td>0</td>\n",
       "      <td>0</td>\n",
       "      <td>0</td>\n",
       "      <td>https://www.mountainproject.com/u/tony-b//10232</td>\n",
       "      <td>0</td>\n",
       "      <td>Around Boulder</td>\n",
       "      <td>1</td>\n",
       "      <td>(2001, 1, 1, 0, 0, 0, 0, 1, -1)</td>\n",
       "      <td>tony-b</td>\n",
       "      <td>5.11c</td>\n",
       "      <td>NaN</td>\n",
       "      <td>5.11c</td>\n",
       "      <td>NaN</td>\n",
       "      <td>5.11c</td>\n",
       "      <td>NaN</td>\n",
       "      <td>5.11c</td>\n",
       "      <td>NaN</td>\n",
       "      <td>NaN</td>\n",
       "      <td>NaN</td>\n",
       "      <td>NaN</td>\n",
       "      <td>13.0</td>\n",
       "      <td>NaN</td>\n",
       "      <td>NaN</td>\n",
       "      <td>13</td>\n",
       "      <td>NaN</td>\n",
       "      <td>NaN</td>\n",
       "      <td>NaN</td>\n",
       "      <td>13.0</td>\n",
       "      <td>NaN</td>\n",
       "      <td>NaN</td>\n",
       "      <td>...</td>\n",
       "      <td>NaN</td>\n",
       "      <td>Around Boulder</td>\n",
       "      <td>kor-ingalls-route</td>\n",
       "      <td>http://www.mountainproject.com/v/kor-ingalls-r...</td>\n",
       "      <td>1961</td>\n",
       "      <td>NaN</td>\n",
       "      <td>70344</td>\n",
       "      <td>4</td>\n",
       "      <td>3.3619</td>\n",
       "      <td>/destinations/</td>\n",
       "      <td>/v/utah/105708957</td>\n",
       "      <td>/v/moab-area/105716711</td>\n",
       "      <td>/v/castle-valley/105716784</td>\n",
       "      <td>/v/castleton-tower/105716850</td>\n",
       "      <td>NaN</td>\n",
       "      <td>NaN</td>\n",
       "      <td>NaN</td>\n",
       "      <td>NaN</td>\n",
       "      <td>NaN</td>\n",
       "      <td>0</td>\n",
       "      <td>0</td>\n",
       "      <td>0</td>\n",
       "      <td>0</td>\n",
       "      <td>0</td>\n",
       "      <td>0</td>\n",
       "      <td>0</td>\n",
       "      <td>1</td>\n",
       "      <td>0</td>\n",
       "      <td>0</td>\n",
       "      <td>0</td>\n",
       "      <td>0</td>\n",
       "      <td>5.9</td>\n",
       "      <td>0</td>\n",
       "      <td>0</td>\n",
       "      <td>0</td>\n",
       "      <td>0</td>\n",
       "      <td>5.9+</td>\n",
       "      <td>NaN</td>\n",
       "      <td>9</td>\n",
       "      <td>NaN</td>\n",
       "      <td>9.3</td>\n",
       "      <td>NaN</td>\n",
       "      <td>NaN</td>\n",
       "      <td>NaN</td>\n",
       "      <td>NaN</td>\n",
       "      <td>NaN</td>\n",
       "      <td>NaN</td>\n",
       "      <td>Utah</td>\n",
       "      <td>38.651</td>\n",
       "      <td>-109.3678</td>\n",
       "    </tr>\n",
       "    <tr>\n",
       "      <th>3</th>\n",
       "      <td>1424</td>\n",
       "      <td>105717289</td>\n",
       "      <td>105942841</td>\n",
       "      <td>NaN</td>\n",
       "      <td>time.struct_time(tm_year=2009, tm_mon=3, tm_md...</td>\n",
       "      <td>1</td>\n",
       "      <td>NaN</td>\n",
       "      <td>NaN</td>\n",
       "      <td>NaN</td>\n",
       "      <td>NaN</td>\n",
       "      <td>NaN</td>\n",
       "      <td>NaN</td>\n",
       "      <td>NaN</td>\n",
       "      <td>NaN</td>\n",
       "      <td>NaN</td>\n",
       "      <td>NaN</td>\n",
       "      <td>CO</td>\n",
       "      <td>1</td>\n",
       "      <td>0</td>\n",
       "      <td>32</td>\n",
       "      <td>0</td>\n",
       "      <td>0</td>\n",
       "      <td>0</td>\n",
       "      <td>https://www.mountainproject.com/u/tootalltim//...</td>\n",
       "      <td>0</td>\n",
       "      <td>Boulder</td>\n",
       "      <td>0</td>\n",
       "      <td>(2007, 4, 9, 0, 0, 0, 0, 99, -1)</td>\n",
       "      <td>tootalltim</td>\n",
       "      <td>NaN</td>\n",
       "      <td>NaN</td>\n",
       "      <td>NaN</td>\n",
       "      <td>NaN</td>\n",
       "      <td>5.10a</td>\n",
       "      <td>NaN</td>\n",
       "      <td>5.11c</td>\n",
       "      <td>NaN</td>\n",
       "      <td>NaN</td>\n",
       "      <td>NaN</td>\n",
       "      <td>NaN</td>\n",
       "      <td>NaN</td>\n",
       "      <td>NaN</td>\n",
       "      <td>NaN</td>\n",
       "      <td>NaN</td>\n",
       "      <td>NaN</td>\n",
       "      <td>NaN</td>\n",
       "      <td>NaN</td>\n",
       "      <td>10.0</td>\n",
       "      <td>NaN</td>\n",
       "      <td>NaN</td>\n",
       "      <td>...</td>\n",
       "      <td>NaN</td>\n",
       "      <td>Boulder</td>\n",
       "      <td>kor-ingalls-route</td>\n",
       "      <td>http://www.mountainproject.com/v/kor-ingalls-r...</td>\n",
       "      <td>1961</td>\n",
       "      <td>NaN</td>\n",
       "      <td>70344</td>\n",
       "      <td>4</td>\n",
       "      <td>3.3619</td>\n",
       "      <td>/destinations/</td>\n",
       "      <td>/v/utah/105708957</td>\n",
       "      <td>/v/moab-area/105716711</td>\n",
       "      <td>/v/castle-valley/105716784</td>\n",
       "      <td>/v/castleton-tower/105716850</td>\n",
       "      <td>NaN</td>\n",
       "      <td>NaN</td>\n",
       "      <td>NaN</td>\n",
       "      <td>NaN</td>\n",
       "      <td>NaN</td>\n",
       "      <td>0</td>\n",
       "      <td>0</td>\n",
       "      <td>0</td>\n",
       "      <td>0</td>\n",
       "      <td>0</td>\n",
       "      <td>0</td>\n",
       "      <td>0</td>\n",
       "      <td>1</td>\n",
       "      <td>0</td>\n",
       "      <td>0</td>\n",
       "      <td>0</td>\n",
       "      <td>0</td>\n",
       "      <td>5.9</td>\n",
       "      <td>0</td>\n",
       "      <td>0</td>\n",
       "      <td>0</td>\n",
       "      <td>0</td>\n",
       "      <td>5.9+</td>\n",
       "      <td>NaN</td>\n",
       "      <td>9</td>\n",
       "      <td>NaN</td>\n",
       "      <td>9.3</td>\n",
       "      <td>NaN</td>\n",
       "      <td>NaN</td>\n",
       "      <td>NaN</td>\n",
       "      <td>NaN</td>\n",
       "      <td>NaN</td>\n",
       "      <td>NaN</td>\n",
       "      <td>Utah</td>\n",
       "      <td>38.651</td>\n",
       "      <td>-109.3678</td>\n",
       "    </tr>\n",
       "    <tr>\n",
       "      <th>4</th>\n",
       "      <td>1432</td>\n",
       "      <td>105717289</td>\n",
       "      <td>10431</td>\n",
       "      <td>4</td>\n",
       "      <td>time.struct_time(tm_year=1979, tm_mon=3, tm_md...</td>\n",
       "      <td>1</td>\n",
       "      <td>NaN</td>\n",
       "      <td>NaN</td>\n",
       "      <td>NaN</td>\n",
       "      <td>NaN</td>\n",
       "      <td>5.9</td>\n",
       "      <td>NaN</td>\n",
       "      <td>NaN</td>\n",
       "      <td>NaN</td>\n",
       "      <td>NaN</td>\n",
       "      <td>9.0</td>\n",
       "      <td>CO</td>\n",
       "      <td>1</td>\n",
       "      <td>0</td>\n",
       "      <td>59</td>\n",
       "      <td>0</td>\n",
       "      <td>0</td>\n",
       "      <td>0</td>\n",
       "      <td>https://www.mountainproject.com/u/ken-trout//1...</td>\n",
       "      <td>0</td>\n",
       "      <td>Golden</td>\n",
       "      <td>1</td>\n",
       "      <td>(2001, 12, 21, 0, 0, 0, 4, 355, -1)</td>\n",
       "      <td>ken-trout</td>\n",
       "      <td>5.0</td>\n",
       "      <td>NaN</td>\n",
       "      <td>5.0</td>\n",
       "      <td>NaN</td>\n",
       "      <td>5.0</td>\n",
       "      <td>NaN</td>\n",
       "      <td>5.0</td>\n",
       "      <td>NaN</td>\n",
       "      <td>NaN</td>\n",
       "      <td>NaN</td>\n",
       "      <td>NaN</td>\n",
       "      <td>0.0</td>\n",
       "      <td>NaN</td>\n",
       "      <td>NaN</td>\n",
       "      <td>0</td>\n",
       "      <td>NaN</td>\n",
       "      <td>NaN</td>\n",
       "      <td>NaN</td>\n",
       "      <td>0.0</td>\n",
       "      <td>NaN</td>\n",
       "      <td>NaN</td>\n",
       "      <td>...</td>\n",
       "      <td>NaN</td>\n",
       "      <td>Golden</td>\n",
       "      <td>kor-ingalls-route</td>\n",
       "      <td>http://www.mountainproject.com/v/kor-ingalls-r...</td>\n",
       "      <td>1961</td>\n",
       "      <td>NaN</td>\n",
       "      <td>70344</td>\n",
       "      <td>4</td>\n",
       "      <td>3.3619</td>\n",
       "      <td>/destinations/</td>\n",
       "      <td>/v/utah/105708957</td>\n",
       "      <td>/v/moab-area/105716711</td>\n",
       "      <td>/v/castle-valley/105716784</td>\n",
       "      <td>/v/castleton-tower/105716850</td>\n",
       "      <td>NaN</td>\n",
       "      <td>NaN</td>\n",
       "      <td>NaN</td>\n",
       "      <td>NaN</td>\n",
       "      <td>NaN</td>\n",
       "      <td>0</td>\n",
       "      <td>0</td>\n",
       "      <td>0</td>\n",
       "      <td>0</td>\n",
       "      <td>0</td>\n",
       "      <td>0</td>\n",
       "      <td>0</td>\n",
       "      <td>1</td>\n",
       "      <td>0</td>\n",
       "      <td>0</td>\n",
       "      <td>0</td>\n",
       "      <td>0</td>\n",
       "      <td>5.9</td>\n",
       "      <td>0</td>\n",
       "      <td>0</td>\n",
       "      <td>0</td>\n",
       "      <td>0</td>\n",
       "      <td>5.9+</td>\n",
       "      <td>NaN</td>\n",
       "      <td>9</td>\n",
       "      <td>NaN</td>\n",
       "      <td>9.3</td>\n",
       "      <td>NaN</td>\n",
       "      <td>NaN</td>\n",
       "      <td>NaN</td>\n",
       "      <td>NaN</td>\n",
       "      <td>NaN</td>\n",
       "      <td>NaN</td>\n",
       "      <td>Utah</td>\n",
       "      <td>38.651</td>\n",
       "      <td>-109.3678</td>\n",
       "    </tr>\n",
       "  </tbody>\n",
       "</table>\n",
       "<p>5 rows × 102 columns</p>\n",
       "</div>"
      ],
      "text/plain": [
       "   Unnamed: 0   climb_id    user_id  star_rating                                          tick_date  ticked  sugg_aid_grade  sugg_boulder_grade  sugg_ice_grade  sugg_mixed_grade sugg_rock_grade  sugg_ice_grade_number  sugg_boulder_grade_number  sugg_aid_grade_number  sugg_mixed_grade_number  sugg_rock_grade_number location_state  climbs_trad  gender  age  climbs_aid  climbs_ice  climbs_boulder                                          user_link  climbs_mixed  location_place  climbs_sport  \\\n",
       "0        1408  105717289  105990845            4                                                NaN     NaN             NaN                 NaN             NaN               NaN             NaN                    NaN                        NaN                    NaN                      NaN                     NaN            NaN            0     NaN  NaN           0           0               0  https://www.mountainproject.com/u/orphaned//10...             0             NaN             0   \n",
       "1        1416  105717289  106192059            3  time.struct_time(tm_year=2011, tm_mon=3, tm_md...       1             NaN                 NaN             NaN               NaN            5.9+                    NaN                        NaN                    NaN                      NaN                     9.3             CO            1       0   40           0           0               1  https://www.mountainproject.com/u/julius-beres...             0         Boulder             1   \n",
       "2        1419  105717289      10232            4                                                NaN     NaN             NaN                 NaN             NaN               NaN            5.9+                    NaN                        NaN                    NaN                      NaN                     9.3             CO            1       0  NaN           0           0               0    https://www.mountainproject.com/u/tony-b//10232             0  Around Boulder             1   \n",
       "3        1424  105717289  105942841          NaN  time.struct_time(tm_year=2009, tm_mon=3, tm_md...       1             NaN                 NaN             NaN               NaN             NaN                    NaN                        NaN                    NaN                      NaN                     NaN             CO            1       0   32           0           0               0  https://www.mountainproject.com/u/tootalltim//...             0         Boulder             0   \n",
       "4        1432  105717289      10431            4  time.struct_time(tm_year=1979, tm_mon=3, tm_md...       1             NaN                 NaN             NaN               NaN             5.9                    NaN                        NaN                    NaN                      NaN                     9.0             CO            1       0   59           0           0               0  https://www.mountainproject.com/u/ken-trout//1...             0          Golden             1   \n",
       "\n",
       "                           member_date     user_name lead_diff_sport boulder_diff follow_diff_sport lead_diff_ice lead_diff_trad follow_diff_ice follow_diff_trad follow_diff_mixed lead_diff_mixed follow_diff_aid lead_diff_aid  lead_diff_sport_number  follow_diff_aid_number  lead_diff_ice_number  follow_diff_sport_number  follow_diff_mixed_number  lead_diff_aid_number  lead_diff_mixed_number  lead_diff_trad_number  boulder_diff_number  follow_diff_ice_number    ...     user_zip_code  \\\n",
       "0    (2007, 7, 9, 0, 0, 0, 0, 190, -1)      orphaned             NaN          NaN               NaN           NaN            NaN             NaN              NaN               NaN             NaN             NaN           NaN                     NaN                     NaN                   NaN                       NaN                       NaN                   NaN                     NaN                    NaN                  NaN                     NaN    ...               NaN   \n",
       "1   (2008, 6, 27, 0, 0, 0, 4, 179, -1)  julius-beres           5.12b           V6             5.12c           NaN          5.11b             NaN            5.11c               NaN             NaN             NaN           NaN                    14.5                     NaN                   NaN                        15                       NaN                   NaN                     NaN                   12.5                    6                     NaN    ...               NaN   \n",
       "2      (2001, 1, 1, 0, 0, 0, 0, 1, -1)        tony-b           5.11c          NaN             5.11c           NaN          5.11c             NaN            5.11c               NaN             NaN             NaN           NaN                    13.0                     NaN                   NaN                        13                       NaN                   NaN                     NaN                   13.0                  NaN                     NaN    ...               NaN   \n",
       "3     (2007, 4, 9, 0, 0, 0, 0, 99, -1)    tootalltim             NaN          NaN               NaN           NaN          5.10a             NaN            5.11c               NaN             NaN             NaN           NaN                     NaN                     NaN                   NaN                       NaN                       NaN                   NaN                     NaN                   10.0                  NaN                     NaN    ...               NaN   \n",
       "4  (2001, 12, 21, 0, 0, 0, 4, 355, -1)     ken-trout             5.0          NaN               5.0           NaN            5.0             NaN              5.0               NaN             NaN             NaN           NaN                     0.0                     NaN                   NaN                         0                       NaN                   NaN                     NaN                    0.0                  NaN                     NaN    ...               NaN   \n",
       "\n",
       "       user_place         climb_name                                         climb_link fa_year feet  page_views  pitches  avg_stars          area_0             area_1                  area_2                      area_3                        area_4 area_5 area_6 area_7 area_8  area_9  type_TR,  type_aid  type_alpine  type_boulder  type_ice  type_mixed  type_sport  type_trad  guide_aid_grade  guide_boulder_grade  guide_ice_grade  guide_mixed_grade  guide_rock_grade  concensus_aid_grade  \\\n",
       "0             NaN  kor-ingalls-route  http://www.mountainproject.com/v/kor-ingalls-r...    1961  NaN       70344        4     3.3619  /destinations/  /v/utah/105708957  /v/moab-area/105716711  /v/castle-valley/105716784  /v/castleton-tower/105716850    NaN    NaN    NaN    NaN     NaN         0         0            0             0         0           0           0          1                0                    0                0                  0               5.9                    0   \n",
       "1         Boulder  kor-ingalls-route  http://www.mountainproject.com/v/kor-ingalls-r...    1961  NaN       70344        4     3.3619  /destinations/  /v/utah/105708957  /v/moab-area/105716711  /v/castle-valley/105716784  /v/castleton-tower/105716850    NaN    NaN    NaN    NaN     NaN         0         0            0             0         0           0           0          1                0                    0                0                  0               5.9                    0   \n",
       "2  Around Boulder  kor-ingalls-route  http://www.mountainproject.com/v/kor-ingalls-r...    1961  NaN       70344        4     3.3619  /destinations/  /v/utah/105708957  /v/moab-area/105716711  /v/castle-valley/105716784  /v/castleton-tower/105716850    NaN    NaN    NaN    NaN     NaN         0         0            0             0         0           0           0          1                0                    0                0                  0               5.9                    0   \n",
       "3         Boulder  kor-ingalls-route  http://www.mountainproject.com/v/kor-ingalls-r...    1961  NaN       70344        4     3.3619  /destinations/  /v/utah/105708957  /v/moab-area/105716711  /v/castle-valley/105716784  /v/castleton-tower/105716850    NaN    NaN    NaN    NaN     NaN         0         0            0             0         0           0           0          1                0                    0                0                  0               5.9                    0   \n",
       "4          Golden  kor-ingalls-route  http://www.mountainproject.com/v/kor-ingalls-r...    1961  NaN       70344        4     3.3619  /destinations/  /v/utah/105708957  /v/moab-area/105716711  /v/castle-valley/105716784  /v/castleton-tower/105716850    NaN    NaN    NaN    NaN     NaN         0         0            0             0         0           0           0          1                0                    0                0                  0               5.9                    0   \n",
       "\n",
       "  concensus_boulder_grade  concensus_ice_grade  concensus_mixed_grade  concensus_rock_grade  guide_aid_grade_number guide_rock_grade_number  guide_boulder_grade_number  concensus_rock_grade_number  concensus_boulder_grade_number  concensus_ice_grade_number  guide_ice_grade_number  concensus_mixed_grade_number  guide_mixed_grade_number  concensus_aid_grade_number  state  latitude longitude  \n",
       "0                       0                    0                      0                  5.9+                     NaN                       9                         NaN                          9.3                             NaN                         NaN                     NaN                           NaN                       NaN                         NaN   Utah    38.651 -109.3678  \n",
       "1                       0                    0                      0                  5.9+                     NaN                       9                         NaN                          9.3                             NaN                         NaN                     NaN                           NaN                       NaN                         NaN   Utah    38.651 -109.3678  \n",
       "2                       0                    0                      0                  5.9+                     NaN                       9                         NaN                          9.3                             NaN                         NaN                     NaN                           NaN                       NaN                         NaN   Utah    38.651 -109.3678  \n",
       "3                       0                    0                      0                  5.9+                     NaN                       9                         NaN                          9.3                             NaN                         NaN                     NaN                           NaN                       NaN                         NaN   Utah    38.651 -109.3678  \n",
       "4                       0                    0                      0                  5.9+                     NaN                       9                         NaN                          9.3                             NaN                         NaN                     NaN                           NaN                       NaN                         NaN   Utah    38.651 -109.3678  \n",
       "\n",
       "[5 rows x 102 columns]"
      ]
     },
     "execution_count": 4,
     "metadata": {},
     "output_type": "execute_result"
    }
   ],
   "source": [
    "fulldf.head()"
   ]
  },
  {
   "cell_type": "code",
   "execution_count": 5,
   "metadata": {
    "collapsed": true
   },
   "outputs": [],
   "source": [
    "fulldf = fulldf[['climb_id','user_id','star_rating']]"
   ]
  },
  {
   "cell_type": "code",
   "execution_count": 7,
   "metadata": {
    "collapsed": false
   },
   "outputs": [],
   "source": [
    "mask = [False if str(x) == 'nan' else True for x in fulldf.star_rating]\n",
    "fulldf = fulldf[mask]"
   ]
  },
  {
   "cell_type": "code",
   "execution_count": 8,
   "metadata": {
    "collapsed": false
   },
   "outputs": [
    {
     "data": {
      "text/html": [
       "<div>\n",
       "<table border=\"1\" class=\"dataframe\">\n",
       "  <thead>\n",
       "    <tr style=\"text-align: right;\">\n",
       "      <th></th>\n",
       "      <th>climb_id</th>\n",
       "      <th>user_id</th>\n",
       "      <th>star_rating</th>\n",
       "    </tr>\n",
       "  </thead>\n",
       "  <tbody>\n",
       "    <tr>\n",
       "      <th>0</th>\n",
       "      <td>105717289</td>\n",
       "      <td>105990845</td>\n",
       "      <td>4</td>\n",
       "    </tr>\n",
       "    <tr>\n",
       "      <th>1</th>\n",
       "      <td>105717289</td>\n",
       "      <td>106192059</td>\n",
       "      <td>3</td>\n",
       "    </tr>\n",
       "    <tr>\n",
       "      <th>2</th>\n",
       "      <td>105717289</td>\n",
       "      <td>10232</td>\n",
       "      <td>4</td>\n",
       "    </tr>\n",
       "    <tr>\n",
       "      <th>4</th>\n",
       "      <td>105717289</td>\n",
       "      <td>10431</td>\n",
       "      <td>4</td>\n",
       "    </tr>\n",
       "    <tr>\n",
       "      <th>5</th>\n",
       "      <td>105717289</td>\n",
       "      <td>107356939</td>\n",
       "      <td>4</td>\n",
       "    </tr>\n",
       "  </tbody>\n",
       "</table>\n",
       "</div>"
      ],
      "text/plain": [
       "    climb_id    user_id  star_rating\n",
       "0  105717289  105990845            4\n",
       "1  105717289  106192059            3\n",
       "2  105717289      10232            4\n",
       "4  105717289      10431            4\n",
       "5  105717289  107356939            4"
      ]
     },
     "execution_count": 8,
     "metadata": {},
     "output_type": "execute_result"
    }
   ],
   "source": [
    "fulldf.head()"
   ]
  },
  {
   "cell_type": "code",
   "execution_count": 9,
   "metadata": {
    "collapsed": true
   },
   "outputs": [],
   "source": [
    "rand_split = [1 if x < .7 else 2 if x < .85 else 3 for x in list(np.random.random(len(fulldf)))]\n",
    "train_split = [True if x == 1 else False for x in rand_split]\n",
    "validate_split = [True if x == 2 else False for x in rand_split]\n",
    "test_split = [True if x == 3 else False for x in rand_split]"
   ]
  },
  {
   "cell_type": "code",
   "execution_count": 10,
   "metadata": {
    "collapsed": true
   },
   "outputs": [],
   "source": [
    "traindf = fulldf[train_split]\n",
    "validatedf = fulldf[validate_split]\n",
    "testdf = fulldf[test_split]"
   ]
  },
  {
   "cell_type": "code",
   "execution_count": 11,
   "metadata": {
    "collapsed": false
   },
   "outputs": [
    {
     "data": {
      "text/plain": [
       "(15537, 3306, 3374)"
      ]
     },
     "execution_count": 11,
     "metadata": {},
     "output_type": "execute_result"
    }
   ],
   "source": [
    "len(traindf), len(validatedf), len(testdf)"
   ]
  },
  {
   "cell_type": "code",
   "execution_count": 12,
   "metadata": {
    "collapsed": true
   },
   "outputs": [],
   "source": [
    "trainUsers = np.unique(traindf.user_id)\n",
    "trainClimbs = np.unique(traindf.climb_id)\n",
    "validateUsers = np.unique(validatedf.user_id)\n",
    "validateClimbs = np.unique(validatedf.climb_id)\n",
    "testUsers = np.unique(testdf.user_id)\n",
    "testClimbs = np.unique(testdf.climb_id)"
   ]
  },
  {
   "cell_type": "code",
   "execution_count": 13,
   "metadata": {
    "collapsed": false
   },
   "outputs": [
    {
     "name": "stdout",
     "output_type": "stream",
     "text": [
      "[]\n",
      "[]\n",
      "[]\n",
      "[]\n"
     ]
    }
   ],
   "source": [
    "print [user for user in validateUsers if user not in trainUsers]\n",
    "print [climb for climb in validateClimbs if climb not in trainClimbs]\n",
    "print [user for user in testUsers if user not in trainUsers]\n",
    "print [climb for climb in testClimbs if climb not in trainClimbs]"
   ]
  },
  {
   "cell_type": "code",
   "execution_count": 14,
   "metadata": {
    "collapsed": false
   },
   "outputs": [
    {
     "name": "stdout",
     "output_type": "stream",
     "text": [
      "[30, 31, 33, 33, 34, 34, 35, 35, 35, 35]\n",
      "[29, 29, 31, 32, 32, 32, 33, 33, 33, 34]\n"
     ]
    }
   ],
   "source": [
    "print sorted(traindf.groupby('user_id').count().star_rating)[:10]\n",
    "print sorted(traindf.groupby('climb_id').count().star_rating)[:10]"
   ]
  },
  {
   "cell_type": "code",
   "execution_count": 15,
   "metadata": {
    "collapsed": true
   },
   "outputs": [],
   "source": [
    "traindf.to_csv(\"classifier_dfs/small-train.csv\", index=False, header=True, encoding=\"utf-8\")\n",
    "validatedf.to_csv(\"classifier_dfs/small-validate.csv\", index=False, header=True, encoding=\"utf-8\")\n",
    "testdf.to_csv(\"classifier_dfs/small-test.csv\", index=False, header=True, encoding=\"utf-8\")"
   ]
  },
  {
   "cell_type": "markdown",
   "metadata": {},
   "source": [
    "##Run a baseline model"
   ]
  },
  {
   "cell_type": "code",
   "execution_count": 18,
   "metadata": {
    "collapsed": true
   },
   "outputs": [],
   "source": [
    "ybar = traindf.star_rating.mean()"
   ]
  },
  {
   "cell_type": "code",
   "execution_count": 19,
   "metadata": {
    "collapsed": true
   },
   "outputs": [],
   "source": [
    "userids=traindf.user_id.unique()\n",
    "climbids=traindf.climb_id.unique()\n",
    "useridmap={v:k for k,v in enumerate(userids)}\n",
    "climbidmap={v:k for k,v in enumerate(climbids)}"
   ]
  },
  {
   "cell_type": "code",
   "execution_count": 20,
   "metadata": {
    "collapsed": true
   },
   "outputs": [],
   "source": [
    "user_biases = {user_id : (traindf[traindf.user_id == user_id].star_rating.mean() - ybar) for user_id in userids}\n",
    "climb_biases = {climb_id : (traindf[traindf.climb_id == climb_id].star_rating.mean() - ybar) for climb_id in climbids}"
   ]
  },
  {
   "cell_type": "code",
   "execution_count": 22,
   "metadata": {
    "collapsed": true
   },
   "outputs": [],
   "source": [
    "predictions={}\n",
    "predictions_valid={}"
   ]
  },
  {
   "cell_type": "code",
   "execution_count": 23,
   "metadata": {
    "collapsed": false
   },
   "outputs": [],
   "source": [
    "predictions[\"baseline\"] = []\n",
    "for index, row in testdf.iterrows():\n",
    "    user = row[\"user_id\"]\n",
    "    climb = row[\"climb_id\"]\n",
    "    prediction = ybar + (user_biases[user]) + (climb_biases[climb])\n",
    "    predictions[\"baseline\"].append(prediction)\n",
    "    \n",
    "predictions_valid[\"baseline\"] = []\n",
    "for index, row in validatedf.iterrows():\n",
    "    user = row[\"user_id\"]\n",
    "    climb = row[\"climb_id\"]\n",
    "    prediction = ybar + (user_biases[user]) + (climb_biases[climb])\n",
    "    predictions_valid[\"baseline\"].append(prediction)"
   ]
  },
  {
   "cell_type": "code",
   "execution_count": 24,
   "metadata": {
    "collapsed": true
   },
   "outputs": [],
   "source": [
    "def get_rmse(s, s_predict):\n",
    "    diff = s - s_predict\n",
    "    return np.sqrt(np.dot(diff,diff)/diff.shape[0])"
   ]
  },
  {
   "cell_type": "code",
   "execution_count": 25,
   "metadata": {
    "collapsed": true
   },
   "outputs": [],
   "source": [
    "def compare_results(stars_actual, stars_predicted, ylow=1, yhigh=6, model=\"\", predicteds=False, onsame=False, axis=False):\n",
    "    \"\"\"\n",
    "    plot predicted results against actual results. Takes 2 arguments: a\n",
    "    numpy array of actual ratings and a numpy array of predicted ratings\n",
    "    scatterplots the predictions, a unit slope line, line segments joining the mean,\n",
    "    and a filled in area of the standard deviations.\"\n",
    "    \"\"\"\n",
    "    if onsame:\n",
    "        ax=onsame\n",
    "    elif axis:\n",
    "        ax=axis\n",
    "    else:\n",
    "        fig=plt.figure()\n",
    "        ax=plt.gca()\n",
    "    df=pd.DataFrame(dict(actual=stars_actual, predicted=stars_predicted))\n",
    "    xp=[]\n",
    "    yp=[]\n",
    "    for k,v in df.groupby('actual'):\n",
    "        xp.append(k)\n",
    "        yp.append(v.predicted.mean())        \n",
    "    \n",
    "    cl, = ax.plot(xp,yp, 's-', label=\"means for %s\" % model)\n",
    "    c=cl.get_color()\n",
    "\n",
    "    sig=df.groupby('actual').predicted.std().values\n",
    "    ax.fill_between(xp, yp - sig, yp + sig, \n",
    "                 color=c, alpha=0.2)\n",
    "    if predicteds:\n",
    "        ax.plot(df.actual, df.predicted, '.', color=c, alpha=0.1, label=\"predicted for %s\" % model)\n",
    "\n",
    "    if not onsame:\n",
    "        ax.plot([1,5],[1,5], 'k', label=\"slope 1\")\n",
    "        ax.set_xlabel(\"actual\")\n",
    "        ax.set_ylabel(\"predicted\")\n",
    "        ax.set_ylim([ylow,yhigh])\n",
    "        ax.set_xlim([0.9, 4.1])\n",
    "    ax.legend(frameon=False, loc=\"upper left\")\n",
    "    rmse=get_rmse(stars_actual, stars_predicted)\n",
    "    print \"RMSE for %s\" % model, rmse\n",
    "    return ax,rmse"
   ]
  },
  {
   "cell_type": "code",
   "execution_count": 27,
   "metadata": {
    "collapsed": false
   },
   "outputs": [
    {
     "name": "stdout",
     "output_type": "stream",
     "text": [
      "RMSE for baseline 0.602627202244\n"
     ]
    },
    {
     "data": {
      "text/plain": [
       "(<matplotlib.axes._subplots.AxesSubplot at 0x1096eee90>, 0.60262720224436661)"
      ]
     },
     "execution_count": 27,
     "metadata": {},
     "output_type": "execute_result"
    },
    {
     "data": {
      "image/png": "[encoded data removed]",
      "text/plain": [
       "<matplotlib.figure.Figure at 0x100535e10>"
      ]
     },
     "metadata": {},
     "output_type": "display_data"
    }
   ],
   "source": [
    "compare_results(testdf.star_rating, predictions['baseline'], model=\"baseline\", predicteds=True, yhigh=5)"
   ]
  },
  {
   "cell_type": "markdown",
   "metadata": {},
   "source": [
    "##Run a ridge regression with a larger feature matrix"
   ]
  },
  {
   "cell_type": "code",
   "execution_count": 28,
   "metadata": {
    "collapsed": false
   },
   "outputs": [],
   "source": [
    "climbsdf = pd.read_csv(\"finalproject-sorted_climbs.csv\")"
   ]
  },
  {
   "cell_type": "code",
   "execution_count": 29,
   "metadata": {
    "collapsed": false
   },
   "outputs": [
    {
     "data": {
      "text/html": [
       "<div>\n",
       "<table border=\"1\" class=\"dataframe\">\n",
       "  <thead>\n",
       "    <tr style=\"text-align: right;\">\n",
       "      <th></th>\n",
       "      <th>Unnamed: 0</th>\n",
       "      <th>climb_id</th>\n",
       "      <th>climb_name</th>\n",
       "      <th>climb_link</th>\n",
       "      <th>fa_year</th>\n",
       "      <th>feet</th>\n",
       "      <th>page_views</th>\n",
       "      <th>pitches</th>\n",
       "      <th>avg_stars</th>\n",
       "      <th>grade</th>\n",
       "      <th>state</th>\n",
       "      <th>latitude</th>\n",
       "      <th>longitude</th>\n",
       "      <th>area_0</th>\n",
       "      <th>area_1</th>\n",
       "      <th>area_2</th>\n",
       "      <th>area_3</th>\n",
       "      <th>area_4</th>\n",
       "      <th>area_5</th>\n",
       "      <th>area_6</th>\n",
       "      <th>area_7</th>\n",
       "      <th>area_8</th>\n",
       "      <th>area_9</th>\n",
       "      <th>type_TR,</th>\n",
       "      <th>type_aid</th>\n",
       "      <th>type_alpine</th>\n",
       "      <th>type_boulder</th>\n",
       "      <th>type_ice</th>\n",
       "      <th>type_mixed</th>\n",
       "      <th>type_sport</th>\n",
       "      <th>type_trad</th>\n",
       "      <th>guide_aid_grade</th>\n",
       "      <th>guide_boulder_grade</th>\n",
       "      <th>guide_ice_grade</th>\n",
       "      <th>guide_mixed_grade</th>\n",
       "      <th>guide_rock_grade</th>\n",
       "      <th>concensus_aid_grade</th>\n",
       "      <th>concensus_boulder_grade</th>\n",
       "      <th>concensus_ice_grade</th>\n",
       "      <th>concensus_mixed_grade</th>\n",
       "      <th>concensus_rock_grade</th>\n",
       "    </tr>\n",
       "  </thead>\n",
       "  <tbody>\n",
       "    <tr>\n",
       "      <th>0</th>\n",
       "      <td>105714713</td>\n",
       "      <td>105714713</td>\n",
       "      <td>garden-party</td>\n",
       "      <td>http://www.mountainproject.com/v/garden-party/...</td>\n",
       "      <td>NaN</td>\n",
       "      <td>60</td>\n",
       "      <td>1157</td>\n",
       "      <td>1</td>\n",
       "      <td>2.0769</td>\n",
       "      <td>NaN</td>\n",
       "      <td>44.0597</td>\n",
       "      <td>-103.4232</td>\n",
       "      <td>0</td>\n",
       "      <td>/destinations/</td>\n",
       "      <td>/v/south-dakota/105708963</td>\n",
       "      <td>/v/falling-rock/105714240</td>\n",
       "      <td>/v/north-canyon-wall/105714312</td>\n",
       "      <td>NaN</td>\n",
       "      <td>NaN</td>\n",
       "      <td>NaN</td>\n",
       "      <td>NaN</td>\n",
       "      <td>NaN</td>\n",
       "      <td>NaN</td>\n",
       "      <td>1</td>\n",
       "      <td>0</td>\n",
       "      <td>0</td>\n",
       "      <td>0</td>\n",
       "      <td>0</td>\n",
       "      <td>0</td>\n",
       "      <td>0</td>\n",
       "      <td>1</td>\n",
       "      <td>0</td>\n",
       "      <td>0</td>\n",
       "      <td>0</td>\n",
       "      <td>0</td>\n",
       "      <td>5.8</td>\n",
       "      <td>0</td>\n",
       "      <td>0</td>\n",
       "      <td>0</td>\n",
       "      <td>0</td>\n",
       "      <td>5.8-</td>\n",
       "    </tr>\n",
       "    <tr>\n",
       "      <th>1</th>\n",
       "      <td>105714716</td>\n",
       "      <td>105714716</td>\n",
       "      <td>paperboy-centerfold</td>\n",
       "      <td>http://www.mountainproject.com/v/paperboy-cent...</td>\n",
       "      <td>NaN</td>\n",
       "      <td>60</td>\n",
       "      <td>1320</td>\n",
       "      <td>1</td>\n",
       "      <td>2.1333</td>\n",
       "      <td>NaN</td>\n",
       "      <td>44.0597</td>\n",
       "      <td>-103.4232</td>\n",
       "      <td>0</td>\n",
       "      <td>/destinations/</td>\n",
       "      <td>/v/south-dakota/105708963</td>\n",
       "      <td>/v/falling-rock/105714240</td>\n",
       "      <td>/v/north-canyon-wall/105714312</td>\n",
       "      <td>NaN</td>\n",
       "      <td>NaN</td>\n",
       "      <td>NaN</td>\n",
       "      <td>NaN</td>\n",
       "      <td>NaN</td>\n",
       "      <td>NaN</td>\n",
       "      <td>1</td>\n",
       "      <td>0</td>\n",
       "      <td>0</td>\n",
       "      <td>0</td>\n",
       "      <td>0</td>\n",
       "      <td>0</td>\n",
       "      <td>0</td>\n",
       "      <td>1</td>\n",
       "      <td>0</td>\n",
       "      <td>0</td>\n",
       "      <td>0</td>\n",
       "      <td>0</td>\n",
       "      <td>5.8</td>\n",
       "      <td>0</td>\n",
       "      <td>0</td>\n",
       "      <td>0</td>\n",
       "      <td>0</td>\n",
       "      <td>5.8</td>\n",
       "    </tr>\n",
       "    <tr>\n",
       "      <th>2</th>\n",
       "      <td>105714719</td>\n",
       "      <td>105714719</td>\n",
       "      <td>blockhead</td>\n",
       "      <td>http://www.mountainproject.com/v/blockhead/105...</td>\n",
       "      <td>NaN</td>\n",
       "      <td>70</td>\n",
       "      <td>1106</td>\n",
       "      <td>1</td>\n",
       "      <td>2.3529</td>\n",
       "      <td>NaN</td>\n",
       "      <td>44.0597</td>\n",
       "      <td>-103.4232</td>\n",
       "      <td>0</td>\n",
       "      <td>/destinations/</td>\n",
       "      <td>/v/south-dakota/105708963</td>\n",
       "      <td>/v/falling-rock/105714240</td>\n",
       "      <td>/v/north-canyon-wall/105714312</td>\n",
       "      <td>NaN</td>\n",
       "      <td>NaN</td>\n",
       "      <td>NaN</td>\n",
       "      <td>NaN</td>\n",
       "      <td>NaN</td>\n",
       "      <td>NaN</td>\n",
       "      <td>1</td>\n",
       "      <td>0</td>\n",
       "      <td>0</td>\n",
       "      <td>0</td>\n",
       "      <td>0</td>\n",
       "      <td>0</td>\n",
       "      <td>1</td>\n",
       "      <td>0</td>\n",
       "      <td>0</td>\n",
       "      <td>0</td>\n",
       "      <td>0</td>\n",
       "      <td>0</td>\n",
       "      <td>5.10</td>\n",
       "      <td>0</td>\n",
       "      <td>0</td>\n",
       "      <td>0</td>\n",
       "      <td>0</td>\n",
       "      <td>5.10</td>\n",
       "    </tr>\n",
       "    <tr>\n",
       "      <th>3</th>\n",
       "      <td>105714722</td>\n",
       "      <td>105714722</td>\n",
       "      <td>central-yellow-wall</td>\n",
       "      <td>http://www.mountainproject.com/v/central-yello...</td>\n",
       "      <td>NaN</td>\n",
       "      <td>20</td>\n",
       "      <td>1377</td>\n",
       "      <td>NaN</td>\n",
       "      <td>3.2857</td>\n",
       "      <td>NaN</td>\n",
       "      <td>43.8477</td>\n",
       "      <td>-103.5668</td>\n",
       "      <td>0</td>\n",
       "      <td>/destinations/</td>\n",
       "      <td>/v/south-dakota/105708963</td>\n",
       "      <td>/v/custer-state-park/106058091</td>\n",
       "      <td>/v/sylvan-lake-/106887955</td>\n",
       "      <td>/v/outlets/105714243</td>\n",
       "      <td>/v/campground-boulder/105714321</td>\n",
       "      <td>NaN</td>\n",
       "      <td>NaN</td>\n",
       "      <td>NaN</td>\n",
       "      <td>NaN</td>\n",
       "      <td>1</td>\n",
       "      <td>0</td>\n",
       "      <td>0</td>\n",
       "      <td>1</td>\n",
       "      <td>0</td>\n",
       "      <td>0</td>\n",
       "      <td>0</td>\n",
       "      <td>0</td>\n",
       "      <td>0</td>\n",
       "      <td>V3</td>\n",
       "      <td>0</td>\n",
       "      <td>0</td>\n",
       "      <td>0</td>\n",
       "      <td>0</td>\n",
       "      <td>V3</td>\n",
       "      <td>0</td>\n",
       "      <td>0</td>\n",
       "      <td>0</td>\n",
       "    </tr>\n",
       "    <tr>\n",
       "      <th>4</th>\n",
       "      <td>105714728</td>\n",
       "      <td>105714728</td>\n",
       "      <td>waves</td>\n",
       "      <td>http://www.mountainproject.com/v/waves/105714728</td>\n",
       "      <td>NaN</td>\n",
       "      <td>180</td>\n",
       "      <td>9063</td>\n",
       "      <td>2</td>\n",
       "      <td>3.4797</td>\n",
       "      <td>NaN</td>\n",
       "      <td>43.8864</td>\n",
       "      <td>-103.4670</td>\n",
       "      <td>0</td>\n",
       "      <td>/destinations/</td>\n",
       "      <td>/v/south-dakota/105708963</td>\n",
       "      <td>/v/mount-rushmore-national-memorial/106062228</td>\n",
       "      <td>/v/south-seas/105714249</td>\n",
       "      <td>/v/shipyard-rock/105714333</td>\n",
       "      <td>NaN</td>\n",
       "      <td>NaN</td>\n",
       "      <td>NaN</td>\n",
       "      <td>NaN</td>\n",
       "      <td>NaN</td>\n",
       "      <td>0</td>\n",
       "      <td>0</td>\n",
       "      <td>0</td>\n",
       "      <td>0</td>\n",
       "      <td>0</td>\n",
       "      <td>0</td>\n",
       "      <td>1</td>\n",
       "      <td>0</td>\n",
       "      <td>0</td>\n",
       "      <td>0</td>\n",
       "      <td>0</td>\n",
       "      <td>0</td>\n",
       "      <td>5.8</td>\n",
       "      <td>0</td>\n",
       "      <td>0</td>\n",
       "      <td>0</td>\n",
       "      <td>0</td>\n",
       "      <td>5.8</td>\n",
       "    </tr>\n",
       "  </tbody>\n",
       "</table>\n",
       "</div>"
      ],
      "text/plain": [
       "   Unnamed: 0   climb_id           climb_name                                         climb_link  fa_year  feet  page_views  pitches  avg_stars grade    state  latitude  longitude          area_0                     area_1                                         area_2                          area_3                      area_4                           area_5 area_6 area_7 area_8 area_9  type_TR,  type_aid  type_alpine  type_boulder  type_ice  type_mixed  type_sport  type_trad  \\\n",
       "0   105714713  105714713         garden-party  http://www.mountainproject.com/v/garden-party/...      NaN    60        1157        1     2.0769   NaN  44.0597 -103.4232          0  /destinations/  /v/south-dakota/105708963                      /v/falling-rock/105714240  /v/north-canyon-wall/105714312                         NaN                              NaN    NaN    NaN    NaN    NaN         1         0            0             0         0           0           0          1   \n",
       "1   105714716  105714716  paperboy-centerfold  http://www.mountainproject.com/v/paperboy-cent...      NaN    60        1320        1     2.1333   NaN  44.0597 -103.4232          0  /destinations/  /v/south-dakota/105708963                      /v/falling-rock/105714240  /v/north-canyon-wall/105714312                         NaN                              NaN    NaN    NaN    NaN    NaN         1         0            0             0         0           0           0          1   \n",
       "2   105714719  105714719            blockhead  http://www.mountainproject.com/v/blockhead/105...      NaN    70        1106        1     2.3529   NaN  44.0597 -103.4232          0  /destinations/  /v/south-dakota/105708963                      /v/falling-rock/105714240  /v/north-canyon-wall/105714312                         NaN                              NaN    NaN    NaN    NaN    NaN         1         0            0             0         0           0           1          0   \n",
       "3   105714722  105714722  central-yellow-wall  http://www.mountainproject.com/v/central-yello...      NaN    20        1377      NaN     3.2857   NaN  43.8477 -103.5668          0  /destinations/  /v/south-dakota/105708963                 /v/custer-state-park/106058091       /v/sylvan-lake-/106887955        /v/outlets/105714243  /v/campground-boulder/105714321    NaN    NaN    NaN    NaN         1         0            0             1         0           0           0          0   \n",
       "4   105714728  105714728                waves   http://www.mountainproject.com/v/waves/105714728      NaN   180        9063        2     3.4797   NaN  43.8864 -103.4670          0  /destinations/  /v/south-dakota/105708963  /v/mount-rushmore-national-memorial/106062228         /v/south-seas/105714249  /v/shipyard-rock/105714333                              NaN    NaN    NaN    NaN    NaN         0         0            0             0         0           0           1          0   \n",
       "\n",
       "  guide_aid_grade guide_boulder_grade guide_ice_grade guide_mixed_grade guide_rock_grade concensus_aid_grade concensus_boulder_grade concensus_ice_grade concensus_mixed_grade concensus_rock_grade  \n",
       "0               0                   0               0                 0              5.8                   0                       0                   0                     0                 5.8-  \n",
       "1               0                   0               0                 0              5.8                   0                       0                   0                     0                  5.8  \n",
       "2               0                   0               0                 0             5.10                   0                       0                   0                     0                 5.10  \n",
       "3               0                  V3               0                 0                0                   0                      V3                   0                     0                    0  \n",
       "4               0                   0               0                 0              5.8                   0                       0                   0                     0                  5.8  "
      ]
     },
     "execution_count": 29,
     "metadata": {},
     "output_type": "execute_result"
    }
   ],
   "source": [
    "climbsdf.head()"
   ]
  },
  {
   "cell_type": "code",
   "execution_count": 30,
   "metadata": {
    "collapsed": true
   },
   "outputs": [],
   "source": [
    "mask = [True if x in trainClimbs else False for x in climbsdf.climb_id]\n",
    "climbsdf = climbsdf[mask]"
   ]
  },
  {
   "cell_type": "code",
   "execution_count": 31,
   "metadata": {
    "collapsed": true
   },
   "outputs": [],
   "source": [
    "climbsdf = climbsdf[[\"climb_id\", \"pitches\", \"type_TR,\", \"type_aid\", \"type_alpine\", \"type_boulder\", \n",
    "                     \"type_ice\", \"type_mixed\", \"type_sport\", \"type_trad\", \"concensus_aid_grade\", \n",
    "                     \"concensus_boulder_grade\", \"concensus_ice_grade\", \"concensus_mixed_grade\", \n",
    "                     \"concensus_rock_grade\"]]"
   ]
  },
  {
   "cell_type": "code",
   "execution_count": 32,
   "metadata": {
    "collapsed": true
   },
   "outputs": [],
   "source": [
    "climbsdf.columns = [\"climb_id\", \"pitches\", \"tr\", \"aid\", \"alpine\", \"boulder\", \"ice\", \"mixed\", \"sport\", \"trad\", \"aid_grade\", \"boulder_grade\", \"ice_grade\", \"mixed_grade\", \"rock_grade\"]"
   ]
  },
  {
   "cell_type": "code",
   "execution_count": 33,
   "metadata": {
    "collapsed": true
   },
   "outputs": [],
   "source": [
    "climbsdf[\"aid_grade_num\"] = [int(x[1]) + (0.3 if len(x) > 2 and x[2] == \"+\" else 0) - \n",
    "                             (0.3 if len(x) > 2 and x[2] == \"-\" else 0) if x != \"0\" \n",
    "                             else float('nan') for x in climbsdf.aid_grade]\n",
    "climbsdf[\"boulder_grade_num\"] = [int(x[1]) + (0.3 if len(x) > 2 and x[2] == \"+\" else 0) - \n",
    "                                 (0.3 if len(x) > 2 and x[2] == \"-\" else 0) if x != \"0\" \n",
    "                                 else float('nan') for x in climbsdf.boulder_grade]\n",
    "climbsdf[\"ice_grade_num\"] = [int(x[2]) + (0.3 if len(x) > 3 and x[3] == \"+\" else 0) - \n",
    "                             (0.3 if len(x) > 3 and x[3] == \"-\" else 0) if x != \"0\" \n",
    "                             else float('nan') for x in climbsdf.ice_grade]\n",
    "climbsdf[\"mixed_grade_num\"] = [(int(x[1:]) if len(x) > 2 and x[2] != \"+\" and x[2] != \"-\" else int(x[1])) + \n",
    "                               (0.3 if len(x) > 2 and x[2] == \"+\" else 0) - \n",
    "                               (0.3 if len(x) > 2 and x[2] == \"-\" else 0) if x != \"0\" \n",
    "                               else float('nan') for x in climbsdf.mixed_grade]"
   ]
  },
  {
   "cell_type": "code",
   "execution_count": 34,
   "metadata": {
    "collapsed": true
   },
   "outputs": [],
   "source": [
    "climbsdf[\"rock_grade_num\"] = [(float(x[2:x.find(\"+\")]) + 0.3 if x.find(\"+\") != -1 else\n",
    "                               float(x[2:x.find(\"-\")]) -0.3 if x.find(\"-\") != -1 else\n",
    "                               float(x[2:x.find(\"a/b\")]) - 0.25 if x.find(\"a/b\") != -1 else\n",
    "                               float(x[2:x.find(\"b/c\")]) if x.find(\"b/c\") != -1 else\n",
    "                               float(x[2:x.find(\"c/d\")]) + 0.25 if x.find(\"c/d\") != -1 else\n",
    "                               float(x[2:x.find(\"a\")]) - 0.375 if x.find(\"a\") != -1 else\n",
    "                               float(x[2:x.find(\"b\")]) - 0.125 if x.find(\"b\") != -1 else\n",
    "                               float(x[2:x.find(\"c\")]) + 0.125 if x.find(\"c\") != -1 else\n",
    "                               float(x[2:x.find(\"d\")]) + 0.375 if x.find(\"d\") != -1 else\n",
    "                               float(x[2:]))\n",
    "                              if x != '0' and x != '5-6' else float('nan') for x in climbsdf.rock_grade]"
   ]
  },
  {
   "cell_type": "code",
   "execution_count": 35,
   "metadata": {
    "collapsed": true
   },
   "outputs": [],
   "source": [
    "aid_mean = np.mean(climbsdf.aid_grade_num)\n",
    "aid_std = np.std(climbsdf.aid_grade_num)\n",
    "boulder_mean = np.mean(climbsdf.boulder_grade_num)\n",
    "boulder_std = np.std(climbsdf.boulder_grade_num)\n",
    "ice_mean = np.mean(climbsdf.ice_grade_num)\n",
    "ice_std = np.std(climbsdf.ice_grade_num)\n",
    "mixed_mean = np.mean(climbsdf.mixed_grade_num)\n",
    "mixed_std = np.std(climbsdf.mixed_grade_num)\n",
    "rock_mean = np.mean(climbsdf.rock_grade_num)\n",
    "rock_std = np.std(climbsdf.rock_grade_num)"
   ]
  },
  {
   "cell_type": "code",
   "execution_count": 36,
   "metadata": {
    "collapsed": true
   },
   "outputs": [],
   "source": [
    "climbsdf[\"aid_grade_norm\"] = (climbsdf.aid_grade_num - aid_mean)/aid_std\n",
    "climbsdf[\"boulder_grade_norm\"] = (climbsdf.boulder_grade_num - boulder_mean)/boulder_std\n",
    "climbsdf[\"ice_grade_norm\"] = (climbsdf.ice_grade_num - ice_mean)/ice_std\n",
    "climbsdf[\"mixed_grade_norm\"] = (climbsdf.mixed_grade_num - mixed_mean)/mixed_std\n",
    "climbsdf[\"rock_grade_norm\"] = (climbsdf.rock_grade_num - rock_mean)/rock_std"
   ]
  },
  {
   "cell_type": "code",
   "execution_count": 37,
   "metadata": {
    "collapsed": true
   },
   "outputs": [],
   "source": [
    "climbsdf[\"norm_grade\"] = climbsdf[[\"aid_grade_norm\", \"boulder_grade_norm\", \"ice_grade_norm\", \n",
    "                                   \"mixed_grade_norm\", \"rock_grade_norm\"]].apply(np.nanmean, axis=1)"
   ]
  },
  {
   "cell_type": "code",
   "execution_count": 40,
   "metadata": {
    "collapsed": true
   },
   "outputs": [],
   "source": [
    "climbsdf[\"norm_grade\"] = [0 if np.isnan(x) else x for x in climbsdf.norm_grade]"
   ]
  },
  {
   "cell_type": "code",
   "execution_count": 41,
   "metadata": {
    "collapsed": false
   },
   "outputs": [],
   "source": [
    "climbsdf[\"norm_grade_2\"] = climbsdf[[\"norm_grade\"]]**2\n",
    "climbsdf[\"norm_grade_3\"] = climbsdf[[\"norm_grade\"]]**3"
   ]
  },
  {
   "cell_type": "code",
   "execution_count": 42,
   "metadata": {
    "collapsed": true
   },
   "outputs": [],
   "source": [
    "climbsdf = climbsdf[[\"climb_id\", \"pitches\", \"tr\", \"aid\", \"alpine\", \"boulder\", \"ice\", \"mixed\", \n",
    "                     \"sport\", \"trad\", \"norm_grade\", \"norm_grade_2\", \"norm_grade_3\"]]"
   ]
  },
  {
   "cell_type": "code",
   "execution_count": 43,
   "metadata": {
    "collapsed": true
   },
   "outputs": [],
   "source": [
    "pitches_mean = np.mean(climbsdf.pitches)\n",
    "pitches_std = np.std(climbsdf.pitches)\n",
    "climbsdf[\"pitches_norm\"] = (climbsdf.pitches - pitches_mean)/pitches_std"
   ]
  },
  {
   "cell_type": "code",
   "execution_count": 44,
   "metadata": {
    "collapsed": true
   },
   "outputs": [],
   "source": [
    "climbsdf = climbsdf[[\"climb_id\", \"pitches_norm\", \"tr\", \"aid\", \"alpine\", \"boulder\", \"ice\", \"mixed\", \n",
    "                     \"sport\", \"trad\", \"norm_grade\", \"norm_grade_2\", \"norm_grade_3\"]]"
   ]
  },
  {
   "cell_type": "code",
   "execution_count": 45,
   "metadata": {
    "collapsed": true
   },
   "outputs": [],
   "source": [
    "climbsdict = {int(x[0]) : x[1:] for x in climbsdf.values}"
   ]
  },
  {
   "cell_type": "code",
   "execution_count": 48,
   "metadata": {
    "collapsed": true
   },
   "outputs": [],
   "source": [
    "def make_feature_matrix(indf):\n",
    "    num_features = len(climbsdict.values()[0])\n",
    "    featurematrix = np.zeros(shape=(len(indf), len(useridmap) + len(climbidmap) + len(useridmap) * num_features))\n",
    "    inarray = indf[[\"user_id\", \"climb_id\", \"star_rating\"]].values\n",
    "    for i in range(len(inarray)):\n",
    "        featurematrix[i, useridmap[inarray[i,0]]] = 1\n",
    "        featurematrix[i, len(useridmap) + climbidmap[inarray[i,1]]] = 1\n",
    "        for i in range(num_features):\n",
    "            featurematrix[i, (len(useridmap) + len(climbidmap) + useridmap[inarray[i,0]] * num_features) + i] = climbsdict[inarray[i,1]][i]\n",
    "    return (featurematrix, indf.star_rating.values)"
   ]
  },
  {
   "cell_type": "code",
   "execution_count": 49,
   "metadata": {
    "collapsed": false
   },
   "outputs": [
    {
     "name": "stdout",
     "output_type": "stream",
     "text": [
      "CPU times: user 794 ms, sys: 53.2 ms, total: 847 ms\n",
      "Wall time: 844 ms\n"
     ]
    }
   ],
   "source": [
    "%%time\n",
    "\n",
    "train_fm, train_stars = make_feature_matrix(traindf)\n",
    "validate_fm, validate_stars = make_feature_matrix(validatedf)\n",
    "test_fm, test_stars = make_feature_matrix(testdf)"
   ]
  },
  {
   "cell_type": "code",
   "execution_count": 50,
   "metadata": {
    "collapsed": false
   },
   "outputs": [
    {
     "name": "stdout",
     "output_type": "stream",
     "text": [
      "Matrix Shapes:\n",
      "\n",
      "train_fm (15537, 3583)\n",
      "train_stars (15537,)\n",
      "validate_fm (3306, 3583)\n",
      "validate_stars (3306,)\n",
      "test_fm (3374, 3583)\n",
      "test_stars (3374,)\n"
     ]
    }
   ],
   "source": [
    "print \"Matrix Shapes:\"\n",
    "print \n",
    "print \"train_fm\", train_fm.shape\n",
    "print \"train_stars\", train_stars.shape\n",
    "print \"validate_fm\", validate_fm.shape\n",
    "print \"validate_stars\", validate_stars.shape\n",
    "print \"test_fm\", test_fm.shape\n",
    "print \"test_stars\", test_stars.shape"
   ]
  },
  {
   "cell_type": "code",
   "execution_count": 51,
   "metadata": {
    "collapsed": true
   },
   "outputs": [],
   "source": [
    "from sklearn.linear_model import Ridge"
   ]
  },
  {
   "cell_type": "code",
   "execution_count": 52,
   "metadata": {
    "collapsed": false
   },
   "outputs": [
    {
     "name": "stdout",
     "output_type": "stream",
     "text": [
      "CPU times: user 1min 17s, sys: 1.7 s, total: 1min 19s\n",
      "Wall time: 29.6 s\n"
     ]
    }
   ],
   "source": [
    "%%time\n",
    "\n",
    "vdict={}\n",
    "rdict={}\n",
    "for alpha in [0.01, 0.1, 1, 10, 100, 1000]:\n",
    "    regression = Ridge(alpha=alpha).fit(train_fm, train_stars)\n",
    "    rdict[alpha] = regression\n",
    "    predictions_actual_zip = zip(list(regression.predict(validate_fm)),list(validate_stars))\n",
    "    se_sum = 0\n",
    "    for (a,b) in predictions_actual_zip:\n",
    "        se_sum = se_sum + (a - b)**2\n",
    "    vdict[alpha] = np.sqrt(se_sum / len(predictions_actual_zip))"
   ]
  },
  {
   "cell_type": "code",
   "execution_count": 53,
   "metadata": {
    "collapsed": false
   },
   "outputs": [
    {
     "name": "stdout",
     "output_type": "stream",
     "text": [
      "1\n"
     ]
    }
   ],
   "source": [
    "minerroralpha=min(vdict, key=vdict.get)\n",
    "print minerroralpha\n",
    "regr=rdict[minerroralpha] "
   ]
  },
  {
   "cell_type": "code",
   "execution_count": 54,
   "metadata": {
    "collapsed": true
   },
   "outputs": [],
   "source": [
    "predictions[\"feature\"] = list(regr.predict(test_fm))\n",
    "predictions_valid[\"feature\"] = list(regr.predict(validate_fm))"
   ]
  },
  {
   "cell_type": "code",
   "execution_count": 55,
   "metadata": {
    "collapsed": false
   },
   "outputs": [
    {
     "name": "stdout",
     "output_type": "stream",
     "text": [
      "RMSE for Ridge Regression 0.570042197518\n"
     ]
    },
    {
     "data": {
      "text/plain": [
       "(<matplotlib.axes._subplots.AxesSubplot at 0x10be74b90>, 0.57004219751757634)"
      ]
     },
     "execution_count": 55,
     "metadata": {},
     "output_type": "execute_result"
    },
    {
     "data": {
      "image/png": "[encoded data removed]",
      "text/plain": [
       "<matplotlib.figure.Figure at 0x1096f84d0>"
      ]
     },
     "metadata": {},
     "output_type": "display_data"
    }
   ],
   "source": [
    "compare_results(test_stars, predictions[\"feature\"], model=\"Ridge Regression\", yhigh=5, predicteds=True)"
   ]
  },
  {
   "cell_type": "markdown",
   "metadata": {},
   "source": [
    "##K Nearest Neighbors"
   ]
  },
  {
   "cell_type": "code",
   "execution_count": 56,
   "metadata": {
    "collapsed": false
   },
   "outputs": [
    {
     "name": "stdout",
     "output_type": "stream",
     "text": [
      "Mean and Median support is: 13.9563548551 12.0\n"
     ]
    }
   ],
   "source": [
    "users_for_climbs = traindf.groupby('climb_id').user_id.unique()\n",
    "lres=len(climbids)\n",
    "supports=[[[] for i in range(lres)] for i in range(lres)]\n",
    "supporthistlist=[]\n",
    "for i, climb1 in enumerate(climbids):\n",
    "    for j, climb2 in enumerate(climbids):\n",
    "        if  i <= j:#its symmetric\n",
    "            if climb1 == climb2:\n",
    "                common_reviewers = users_for_climbs[climb1]\n",
    "            else:\n",
    "                common_reviewers = set(users_for_climbs[climb1]).intersection(set(users_for_climbs[climb2]))\n",
    "                supporthistlist.append(len(common_reviewers))\n",
    "            supports[i][j]=common_reviewers\n",
    "            supports[j][i]=common_reviewers\n",
    "print \"Mean and Median support is:\",np.mean(supporthistlist), np.median(supporthistlist)"
   ]
  },
  {
   "cell_type": "code",
   "execution_count": 57,
   "metadata": {
    "collapsed": true
   },
   "outputs": [],
   "source": [
    "from scipy.stats.stats import pearsonr"
   ]
  },
  {
   "cell_type": "code",
   "execution_count": 92,
   "metadata": {
    "collapsed": true
   },
   "outputs": [],
   "source": [
    "def pearson_sim(climb1_reviews, climb2_reviews, n_common):\n",
    "    \n",
    "    if n_common < 2:\n",
    "        return 0\n",
    "    \n",
    "    if type(climb1_reviews) == dict:\n",
    "        x = climb1_reviews.values()\n",
    "    elif type(climb1_reviews) == pd.core.frame.DataFrame:\n",
    "        x = [row[1] - user_biases[row[0]] for row in climb1_reviews[[\"user_id\",\"star_rating\"]].values.tolist()]\n",
    "    else:\n",
    "        return 0\n",
    "    \n",
    "    if type(climb2_reviews) == dict:\n",
    "        y = climb2_reviews.values()\n",
    "    elif type(climb2_reviews) == pd.core.frame.DataFrame:\n",
    "        y = [row[1] - user_biases[row[0]] for row in climb2_reviews[[\"user_id\",\"star_rating\"]].values.tolist()]\n",
    "    else:\n",
    "        return 0\n",
    "    \n",
    "    return pearsonr(x,y)[0]"
   ]
  },
  {
   "cell_type": "code",
   "execution_count": 60,
   "metadata": {
    "collapsed": true
   },
   "outputs": [],
   "source": [
    "def get_climb_reviews(climb_id, df, set_of_users):\n",
    "    \"\"\"\n",
    "    given a resturant id and a set of reviewers, return the sub-dataframe of their\n",
    "    reviews.\n",
    "    \"\"\"\n",
    "    mask = (df.user_id.isin(set_of_users)) & (df.climb_id == climb_id)\n",
    "    reviews = df[mask]\n",
    "    reviews = reviews[reviews.user_id.duplicated() == False]\n",
    "    return reviews"
   ]
  },
  {
   "cell_type": "code",
   "execution_count": 61,
   "metadata": {
    "collapsed": true
   },
   "outputs": [],
   "source": [
    "class Database:\n",
    "    \"A class representing a database of similarities and common supports\"\n",
    "    \n",
    "    def __init__(self, rindexmap, supports):\n",
    "        \"the constructor, takes a map of restaurant id's to integers\"\n",
    "        database={}\n",
    "        self.rindexmap=rindexmap\n",
    "        self.supports=supports\n",
    "        l_keys=len(self.rindexmap.keys())\n",
    "        self.database_sim=np.zeros([l_keys,l_keys])\n",
    "        self.database_sup=np.zeros([l_keys, l_keys], dtype=np.int)\n",
    "\n",
    "    def set_supports(self, supports):\n",
    "        self.supports=supports\n",
    "        \n",
    "    def get(self, b1, b2):\n",
    "        \"returns a tuple of similarity,common_support given two business ids\"\n",
    "        sim=self.database_sim[self.rindexmap[b1]][self.rindexmap[b2]]\n",
    "        nsup=self.database_sup[self.rindexmap[b1]][self.rindexmap[b2]]\n",
    "        return (sim, nsup)"
   ]
  },
  {
   "cell_type": "code",
   "execution_count": 62,
   "metadata": {
    "collapsed": true
   },
   "outputs": [],
   "source": [
    "db=Database(climbidmap, supports)"
   ]
  },
  {
   "cell_type": "code",
   "execution_count": 70,
   "metadata": {
    "collapsed": false
   },
   "outputs": [
    {
     "data": {
      "text/html": [
       "<div>\n",
       "<table border=\"1\" class=\"dataframe\">\n",
       "  <thead>\n",
       "    <tr style=\"text-align: right;\">\n",
       "      <th></th>\n",
       "      <th>climb_id</th>\n",
       "      <th>user_id</th>\n",
       "      <th>star_rating</th>\n",
       "    </tr>\n",
       "  </thead>\n",
       "  <tbody>\n",
       "    <tr>\n",
       "      <th>1</th>\n",
       "      <td>105717289</td>\n",
       "      <td>106192059</td>\n",
       "      <td>3</td>\n",
       "    </tr>\n",
       "  </tbody>\n",
       "</table>\n",
       "</div>"
      ],
      "text/plain": [
       "    climb_id    user_id  star_rating\n",
       "1  105717289  106192059            3"
      ]
     },
     "execution_count": 70,
     "metadata": {},
     "output_type": "execute_result"
    }
   ],
   "source": [
    "#[user_biases[x] + ybar for x in traindf.user_id]\n",
    "traindf.head(1)"
   ]
  },
  {
   "cell_type": "code",
   "execution_count": 71,
   "metadata": {
    "collapsed": true
   },
   "outputs": [],
   "source": [
    "def mapper1(row):\n",
    "    return row[2], (row[1], row[3], user_biases[row[2]] + ybar)"
   ]
  },
  {
   "cell_type": "code",
   "execution_count": 72,
   "metadata": {
    "collapsed": true
   },
   "outputs": [],
   "source": [
    "def combiner(items):\n",
    "    indict={}\n",
    "    for key, value in items:\n",
    "        if not indict.has_key(key):\n",
    "            indict[key]=[]\n",
    "        indict[key].append(value)\n",
    "    return indict.items()"
   ]
  },
  {
   "cell_type": "code",
   "execution_count": 73,
   "metadata": {
    "collapsed": true
   },
   "outputs": [],
   "source": [
    "def reducer1(the_input):\n",
    "    user_id, values = the_input\n",
    "    ratings=[]\n",
    "    for climb_id,stars,user_avg in values:\n",
    "        ratings.append((climb_id,(stars, user_avg)))\n",
    "    return user_id, ratings"
   ]
  },
  {
   "cell_type": "code",
   "execution_count": 74,
   "metadata": {
    "collapsed": true
   },
   "outputs": [],
   "source": [
    "from itertools import combinations_with_replacement"
   ]
  },
  {
   "cell_type": "code",
   "execution_count": 75,
   "metadata": {
    "collapsed": true
   },
   "outputs": [],
   "source": [
    "def mapper2(the_input):\n",
    "    user_id, the_list = the_input\n",
    "    return [((a[0][0], a[1][0]),(a[0][1],a[1][1])) for a in list(combinations_with_replacement(the_list, 2))]"
   ]
  },
  {
   "cell_type": "code",
   "execution_count": 76,
   "metadata": {
    "collapsed": true
   },
   "outputs": [],
   "source": [
    "def combiner_list(itemslist):\n",
    "    indict={}\n",
    "    for items in itemslist:\n",
    "        for key, value in items:\n",
    "            if not indict.has_key(key):\n",
    "                indict[key]=[]\n",
    "            indict[key].append(value)\n",
    "    return indict.items()"
   ]
  },
  {
   "cell_type": "code",
   "execution_count": 80,
   "metadata": {
    "collapsed": true
   },
   "outputs": [],
   "source": [
    "def reducer2(the_input):\n",
    "    climbtuple, the_list = the_input\n",
    "    n_common = len(the_list)\n",
    "    climb1_reviews={}\n",
    "    climb2_reviews={}\n",
    "    for i in range(n_common):\n",
    "        climb1_reviews[i] = the_list[i][0][0] - the_list[i][0][1]\n",
    "        climb2_reviews[i] = the_list[i][1][0] - the_list[i][1][1]\n",
    "    return (climbtuple, (pearson_sim(climb1_reviews, climb2_reviews, n_common), n_common))"
   ]
  },
  {
   "cell_type": "code",
   "execution_count": 81,
   "metadata": {
    "collapsed": true
   },
   "outputs": [],
   "source": [
    "def map_reduce(tuples):\n",
    "    mapped1=map(mapper1, tuples)\n",
    "    combine1=combiner(mapped1)\n",
    "    reduced1=reduce(lambda x,y: x + [reducer1(y)], combine1, [])\n",
    "    mapped2=map(mapper2,reduced1)\n",
    "    combine2=combiner_list(mapped2)\n",
    "    output=reduce(lambda x,y: x + [reducer2(y)], combine2, [])\n",
    "    return output"
   ]
  },
  {
   "cell_type": "code",
   "execution_count": 82,
   "metadata": {
    "collapsed": false
   },
   "outputs": [
    {
     "name": "stdout",
     "output_type": "stream",
     "text": [
      "CPU times: user 12.9 s, sys: 322 ms, total: 13.2 s\n",
      "Wall time: 13.2 s\n"
     ]
    }
   ],
   "source": [
    "%%time\n",
    "\n",
    "tuples=traindf.itertuples()\n",
    "sims=map_reduce(tuples)"
   ]
  },
  {
   "cell_type": "code",
   "execution_count": 83,
   "metadata": {
    "collapsed": true
   },
   "outputs": [],
   "source": [
    "def populate_from_mr(db, df, mapredlist):\n",
    "    for tpair,vpair in mapredlist:\n",
    "        i1=db.rindexmap[tpair[0]]\n",
    "        i2=db.rindexmap[tpair[1]]\n",
    "        db.database_sim[i1][i2]=vpair[0]\n",
    "        db.database_sup[i1][i2]=vpair[1]\n",
    "        db.database_sim[i2][i1]=vpair[0]\n",
    "        db.database_sup[i2][i1]=vpair[1]"
   ]
  },
  {
   "cell_type": "code",
   "execution_count": 84,
   "metadata": {
    "collapsed": true
   },
   "outputs": [],
   "source": [
    "populate_from_mr(db, traindf, sims)"
   ]
  },
  {
   "cell_type": "code",
   "execution_count": 85,
   "metadata": {
    "collapsed": true
   },
   "outputs": [],
   "source": [
    "db2=Database(climbidmap, supports)"
   ]
  },
  {
   "cell_type": "code",
   "execution_count": 90,
   "metadata": {
    "collapsed": true
   },
   "outputs": [],
   "source": [
    "def calculate_similarity(db, df, climb1, climb2, similarity_func):\n",
    "    # find common reviewers\n",
    "    common_reviewers = db.supports[db.rindexmap[climb1]][db.rindexmap[climb2]]\n",
    "    n_common=len(common_reviewers)\n",
    "    if climb1==climb2:\n",
    "        return 1., n_common\n",
    "    #get reviews\n",
    "    climb1_reviews = get_climb_reviews(climb1, df, common_reviewers)\n",
    "    climb2_reviews = get_climb_reviews(climb2, df, common_reviewers)\n",
    "    sim=similarity_func(climb1_reviews, climb2_reviews, n_common)\n",
    "    return sim, n_common\n",
    "\n",
    "def populate_by_calculating(db, df, similarity_func):\n",
    "    \"\"\"\n",
    "    a populator for every pair of businesses in df. takes similarity_func like\n",
    "    pearson_sim as argument\n",
    "    \"\"\"\n",
    "    items=db.rindexmap.items()\n",
    "    for b1, i1 in items:\n",
    "        for b2, i2 in items:\n",
    "            if i1 <= i2:\n",
    "                sim, nsup=calculate_similarity(db, df, b1, b2, similarity_func)\n",
    "                db.database_sim[i1][i2]=sim\n",
    "                db.database_sim[i2][i1]=sim\n",
    "                db.database_sup[i1][i2]=nsup\n",
    "                db.database_sup[i2][i1]=nsup"
   ]
  },
  {
   "cell_type": "code",
   "execution_count": 93,
   "metadata": {
    "collapsed": false
   },
   "outputs": [
    {
     "ename": "KeyboardInterrupt",
     "evalue": "",
     "output_type": "error",
     "traceback": [
      "\u001b[0;31m---------------------------------------------------------------------------\u001b[0m",
      "\u001b[0;31mKeyboardInterrupt\u001b[0m                         Traceback (most recent call last)",
      "\u001b[0;32m<ipython-input-93-bd98f8b0da1f>\u001b[0m in \u001b[0;36m<module>\u001b[0;34m()\u001b[0m\n\u001b[0;32m----> 1\u001b[0;31m \u001b[0mget_ipython\u001b[0m\u001b[0;34m(\u001b[0m\u001b[0;34m)\u001b[0m\u001b[0;34m.\u001b[0m\u001b[0mrun_cell_magic\u001b[0m\u001b[0;34m(\u001b[0m\u001b[0;34mu'time'\u001b[0m\u001b[0;34m,\u001b[0m \u001b[0;34mu''\u001b[0m\u001b[0;34m,\u001b[0m \u001b[0;34mu'populate_by_calculating(db2, traindf, pearson_sim)'\u001b[0m\u001b[0;34m)\u001b[0m\u001b[0;34m\u001b[0m\u001b[0m\n\u001b[0m",
      "\u001b[0;32m//anaconda/lib/python2.7/site-packages/IPython/core/interactiveshell.pyc\u001b[0m in \u001b[0;36mrun_cell_magic\u001b[0;34m(self, magic_name, line, cell)\u001b[0m\n\u001b[1;32m   2262\u001b[0m             \u001b[0mmagic_arg_s\u001b[0m \u001b[0;34m=\u001b[0m \u001b[0mself\u001b[0m\u001b[0;34m.\u001b[0m\u001b[0mvar_expand\u001b[0m\u001b[0;34m(\u001b[0m\u001b[0mline\u001b[0m\u001b[0;34m,\u001b[0m \u001b[0mstack_depth\u001b[0m\u001b[0;34m)\u001b[0m\u001b[0;34m\u001b[0m\u001b[0m\n\u001b[1;32m   2263\u001b[0m             \u001b[0;32mwith\u001b[0m \u001b[0mself\u001b[0m\u001b[0;34m.\u001b[0m\u001b[0mbuiltin_trap\u001b[0m\u001b[0;34m:\u001b[0m\u001b[0;34m\u001b[0m\u001b[0m\n\u001b[0;32m-> 2264\u001b[0;31m                 \u001b[0mresult\u001b[0m \u001b[0;34m=\u001b[0m \u001b[0mfn\u001b[0m\u001b[0;34m(\u001b[0m\u001b[0mmagic_arg_s\u001b[0m\u001b[0;34m,\u001b[0m \u001b[0mcell\u001b[0m\u001b[0;34m)\u001b[0m\u001b[0;34m\u001b[0m\u001b[0m\n\u001b[0m\u001b[1;32m   2265\u001b[0m             \u001b[0;32mreturn\u001b[0m \u001b[0mresult\u001b[0m\u001b[0;34m\u001b[0m\u001b[0m\n\u001b[1;32m   2266\u001b[0m \u001b[0;34m\u001b[0m\u001b[0m\n",
      "\u001b[0;32m//anaconda/lib/python2.7/site-packages/IPython/core/magics/execution.pyc\u001b[0m in \u001b[0;36mtime\u001b[0;34m(self, line, cell, local_ns)\u001b[0m\n",
      "\u001b[0;32m//anaconda/lib/python2.7/site-packages/IPython/core/magic.pyc\u001b[0m in \u001b[0;36m<lambda>\u001b[0;34m(f, *a, **k)\u001b[0m\n\u001b[1;32m    191\u001b[0m     \u001b[0;31m# but it's overkill for just that one bit of state.\u001b[0m\u001b[0;34m\u001b[0m\u001b[0;34m\u001b[0m\u001b[0m\n\u001b[1;32m    192\u001b[0m     \u001b[0;32mdef\u001b[0m \u001b[0mmagic_deco\u001b[0m\u001b[0;34m(\u001b[0m\u001b[0marg\u001b[0m\u001b[0;34m)\u001b[0m\u001b[0;34m:\u001b[0m\u001b[0;34m\u001b[0m\u001b[0m\n\u001b[0;32m--> 193\u001b[0;31m         \u001b[0mcall\u001b[0m \u001b[0;34m=\u001b[0m \u001b[0;32mlambda\u001b[0m \u001b[0mf\u001b[0m\u001b[0;34m,\u001b[0m \u001b[0;34m*\u001b[0m\u001b[0ma\u001b[0m\u001b[0;34m,\u001b[0m \u001b[0;34m**\u001b[0m\u001b[0mk\u001b[0m\u001b[0;34m:\u001b[0m \u001b[0mf\u001b[0m\u001b[0;34m(\u001b[0m\u001b[0;34m*\u001b[0m\u001b[0ma\u001b[0m\u001b[0;34m,\u001b[0m \u001b[0;34m**\u001b[0m\u001b[0mk\u001b[0m\u001b[0;34m)\u001b[0m\u001b[0;34m\u001b[0m\u001b[0m\n\u001b[0m\u001b[1;32m    194\u001b[0m \u001b[0;34m\u001b[0m\u001b[0m\n\u001b[1;32m    195\u001b[0m         \u001b[0;32mif\u001b[0m \u001b[0mcallable\u001b[0m\u001b[0;34m(\u001b[0m\u001b[0marg\u001b[0m\u001b[0;34m)\u001b[0m\u001b[0;34m:\u001b[0m\u001b[0;34m\u001b[0m\u001b[0m\n",
      "\u001b[0;32m//anaconda/lib/python2.7/site-packages/IPython/core/magics/execution.pyc\u001b[0m in \u001b[0;36mtime\u001b[0;34m(self, line, cell, local_ns)\u001b[0m\n\u001b[1;32m   1160\u001b[0m         \u001b[0;32mif\u001b[0m \u001b[0mmode\u001b[0m\u001b[0;34m==\u001b[0m\u001b[0;34m'eval'\u001b[0m\u001b[0;34m:\u001b[0m\u001b[0;34m\u001b[0m\u001b[0m\n\u001b[1;32m   1161\u001b[0m             \u001b[0mst\u001b[0m \u001b[0;34m=\u001b[0m \u001b[0mclock2\u001b[0m\u001b[0;34m(\u001b[0m\u001b[0;34m)\u001b[0m\u001b[0;34m\u001b[0m\u001b[0m\n\u001b[0;32m-> 1162\u001b[0;31m             \u001b[0mout\u001b[0m \u001b[0;34m=\u001b[0m \u001b[0meval\u001b[0m\u001b[0;34m(\u001b[0m\u001b[0mcode\u001b[0m\u001b[0;34m,\u001b[0m \u001b[0mglob\u001b[0m\u001b[0;34m,\u001b[0m \u001b[0mlocal_ns\u001b[0m\u001b[0;34m)\u001b[0m\u001b[0;34m\u001b[0m\u001b[0m\n\u001b[0m\u001b[1;32m   1163\u001b[0m             \u001b[0mend\u001b[0m \u001b[0;34m=\u001b[0m \u001b[0mclock2\u001b[0m\u001b[0;34m(\u001b[0m\u001b[0;34m)\u001b[0m\u001b[0;34m\u001b[0m\u001b[0m\n\u001b[1;32m   1164\u001b[0m         \u001b[0;32melse\u001b[0m\u001b[0;34m:\u001b[0m\u001b[0;34m\u001b[0m\u001b[0m\n",
      "\u001b[0;32m<timed eval>\u001b[0m in \u001b[0;36m<module>\u001b[0;34m()\u001b[0m\n",
      "\u001b[0;32m<ipython-input-90-3b2a9e75552c>\u001b[0m in \u001b[0;36mpopulate_by_calculating\u001b[0;34m(db, df, similarity_func)\u001b[0m\n\u001b[1;32m     20\u001b[0m         \u001b[0;32mfor\u001b[0m \u001b[0mb2\u001b[0m\u001b[0;34m,\u001b[0m \u001b[0mi2\u001b[0m \u001b[0;32min\u001b[0m \u001b[0mitems\u001b[0m\u001b[0;34m:\u001b[0m\u001b[0;34m\u001b[0m\u001b[0m\n\u001b[1;32m     21\u001b[0m             \u001b[0;32mif\u001b[0m \u001b[0mi1\u001b[0m \u001b[0;34m<=\u001b[0m \u001b[0mi2\u001b[0m\u001b[0;34m:\u001b[0m\u001b[0;34m\u001b[0m\u001b[0m\n\u001b[0;32m---> 22\u001b[0;31m                 \u001b[0msim\u001b[0m\u001b[0;34m,\u001b[0m \u001b[0mnsup\u001b[0m\u001b[0;34m=\u001b[0m\u001b[0mcalculate_similarity\u001b[0m\u001b[0;34m(\u001b[0m\u001b[0mdb\u001b[0m\u001b[0;34m,\u001b[0m \u001b[0mdf\u001b[0m\u001b[0;34m,\u001b[0m \u001b[0mb1\u001b[0m\u001b[0;34m,\u001b[0m \u001b[0mb2\u001b[0m\u001b[0;34m,\u001b[0m \u001b[0msimilarity_func\u001b[0m\u001b[0;34m)\u001b[0m\u001b[0;34m\u001b[0m\u001b[0m\n\u001b[0m\u001b[1;32m     23\u001b[0m                 \u001b[0mdb\u001b[0m\u001b[0;34m.\u001b[0m\u001b[0mdatabase_sim\u001b[0m\u001b[0;34m[\u001b[0m\u001b[0mi1\u001b[0m\u001b[0;34m]\u001b[0m\u001b[0;34m[\u001b[0m\u001b[0mi2\u001b[0m\u001b[0;34m]\u001b[0m\u001b[0;34m=\u001b[0m\u001b[0msim\u001b[0m\u001b[0;34m\u001b[0m\u001b[0m\n\u001b[1;32m     24\u001b[0m                 \u001b[0mdb\u001b[0m\u001b[0;34m.\u001b[0m\u001b[0mdatabase_sim\u001b[0m\u001b[0;34m[\u001b[0m\u001b[0mi2\u001b[0m\u001b[0;34m]\u001b[0m\u001b[0;34m[\u001b[0m\u001b[0mi1\u001b[0m\u001b[0;34m]\u001b[0m\u001b[0;34m=\u001b[0m\u001b[0msim\u001b[0m\u001b[0;34m\u001b[0m\u001b[0m\n",
      "\u001b[0;32m<ipython-input-90-3b2a9e75552c>\u001b[0m in \u001b[0;36mcalculate_similarity\u001b[0;34m(db, df, climb1, climb2, similarity_func)\u001b[0m\n\u001b[1;32m      7\u001b[0m     \u001b[0;31m#get reviews\u001b[0m\u001b[0;34m\u001b[0m\u001b[0;34m\u001b[0m\u001b[0m\n\u001b[1;32m      8\u001b[0m     \u001b[0mclimb1_reviews\u001b[0m \u001b[0;34m=\u001b[0m \u001b[0mget_climb_reviews\u001b[0m\u001b[0;34m(\u001b[0m\u001b[0mclimb1\u001b[0m\u001b[0;34m,\u001b[0m \u001b[0mdf\u001b[0m\u001b[0;34m,\u001b[0m \u001b[0mcommon_reviewers\u001b[0m\u001b[0;34m)\u001b[0m\u001b[0;34m\u001b[0m\u001b[0m\n\u001b[0;32m----> 9\u001b[0;31m     \u001b[0mclimb2_reviews\u001b[0m \u001b[0;34m=\u001b[0m \u001b[0mget_climb_reviews\u001b[0m\u001b[0;34m(\u001b[0m\u001b[0mclimb2\u001b[0m\u001b[0;34m,\u001b[0m \u001b[0mdf\u001b[0m\u001b[0;34m,\u001b[0m \u001b[0mcommon_reviewers\u001b[0m\u001b[0;34m)\u001b[0m\u001b[0;34m\u001b[0m\u001b[0m\n\u001b[0m\u001b[1;32m     10\u001b[0m     \u001b[0msim\u001b[0m\u001b[0;34m=\u001b[0m\u001b[0msimilarity_func\u001b[0m\u001b[0;34m(\u001b[0m\u001b[0mclimb1_reviews\u001b[0m\u001b[0;34m,\u001b[0m \u001b[0mclimb2_reviews\u001b[0m\u001b[0;34m,\u001b[0m \u001b[0mn_common\u001b[0m\u001b[0;34m)\u001b[0m\u001b[0;34m\u001b[0m\u001b[0m\n\u001b[1;32m     11\u001b[0m     \u001b[0;32mreturn\u001b[0m \u001b[0msim\u001b[0m\u001b[0;34m,\u001b[0m \u001b[0mn_common\u001b[0m\u001b[0;34m\u001b[0m\u001b[0m\n",
      "\u001b[0;32m<ipython-input-60-b8dfa83344ea>\u001b[0m in \u001b[0;36mget_climb_reviews\u001b[0;34m(climb_id, df, set_of_users)\u001b[0m\n\u001b[1;32m      6\u001b[0m     \u001b[0mmask\u001b[0m \u001b[0;34m=\u001b[0m \u001b[0;34m(\u001b[0m\u001b[0mdf\u001b[0m\u001b[0;34m.\u001b[0m\u001b[0muser_id\u001b[0m\u001b[0;34m.\u001b[0m\u001b[0misin\u001b[0m\u001b[0;34m(\u001b[0m\u001b[0mset_of_users\u001b[0m\u001b[0;34m)\u001b[0m\u001b[0;34m)\u001b[0m \u001b[0;34m&\u001b[0m \u001b[0;34m(\u001b[0m\u001b[0mdf\u001b[0m\u001b[0;34m.\u001b[0m\u001b[0mclimb_id\u001b[0m \u001b[0;34m==\u001b[0m \u001b[0mclimb_id\u001b[0m\u001b[0;34m)\u001b[0m\u001b[0;34m\u001b[0m\u001b[0m\n\u001b[1;32m      7\u001b[0m     \u001b[0mreviews\u001b[0m \u001b[0;34m=\u001b[0m \u001b[0mdf\u001b[0m\u001b[0;34m[\u001b[0m\u001b[0mmask\u001b[0m\u001b[0;34m]\u001b[0m\u001b[0;34m\u001b[0m\u001b[0m\n\u001b[0;32m----> 8\u001b[0;31m     \u001b[0mreviews\u001b[0m \u001b[0;34m=\u001b[0m \u001b[0mreviews\u001b[0m\u001b[0;34m[\u001b[0m\u001b[0mreviews\u001b[0m\u001b[0;34m.\u001b[0m\u001b[0muser_id\u001b[0m\u001b[0;34m.\u001b[0m\u001b[0mduplicated\u001b[0m\u001b[0;34m(\u001b[0m\u001b[0;34m)\u001b[0m \u001b[0;34m==\u001b[0m \u001b[0mFalse\u001b[0m\u001b[0;34m]\u001b[0m\u001b[0;34m\u001b[0m\u001b[0m\n\u001b[0m\u001b[1;32m      9\u001b[0m     \u001b[0;32mreturn\u001b[0m \u001b[0mreviews\u001b[0m\u001b[0;34m\u001b[0m\u001b[0m\n",
      "\u001b[0;32m//anaconda/lib/python2.7/site-packages/pandas/core/series.pyc\u001b[0m in \u001b[0;36mduplicated\u001b[0;34m(self, take_last)\u001b[0m\n\u001b[1;32m   1147\u001b[0m     \u001b[0;34m@\u001b[0m\u001b[0mAppender\u001b[0m\u001b[0;34m(\u001b[0m\u001b[0mbase\u001b[0m\u001b[0;34m.\u001b[0m\u001b[0m_shared_docs\u001b[0m\u001b[0;34m[\u001b[0m\u001b[0;34m'duplicated'\u001b[0m\u001b[0;34m]\u001b[0m \u001b[0;34m%\u001b[0m \u001b[0m_shared_doc_kwargs\u001b[0m\u001b[0;34m)\u001b[0m\u001b[0;34m\u001b[0m\u001b[0m\n\u001b[1;32m   1148\u001b[0m     \u001b[0;32mdef\u001b[0m \u001b[0mduplicated\u001b[0m\u001b[0;34m(\u001b[0m\u001b[0mself\u001b[0m\u001b[0;34m,\u001b[0m \u001b[0mtake_last\u001b[0m\u001b[0;34m=\u001b[0m\u001b[0mFalse\u001b[0m\u001b[0;34m)\u001b[0m\u001b[0;34m:\u001b[0m\u001b[0;34m\u001b[0m\u001b[0m\n\u001b[0;32m-> 1149\u001b[0;31m         \u001b[0;32mreturn\u001b[0m \u001b[0msuper\u001b[0m\u001b[0;34m(\u001b[0m\u001b[0mSeries\u001b[0m\u001b[0;34m,\u001b[0m \u001b[0mself\u001b[0m\u001b[0;34m)\u001b[0m\u001b[0;34m.\u001b[0m\u001b[0mduplicated\u001b[0m\u001b[0;34m(\u001b[0m\u001b[0mtake_last\u001b[0m\u001b[0;34m=\u001b[0m\u001b[0mtake_last\u001b[0m\u001b[0;34m)\u001b[0m\u001b[0;34m\u001b[0m\u001b[0m\n\u001b[0m\u001b[1;32m   1150\u001b[0m \u001b[0;34m\u001b[0m\u001b[0m\n\u001b[1;32m   1151\u001b[0m     \u001b[0;32mdef\u001b[0m \u001b[0midxmin\u001b[0m\u001b[0;34m(\u001b[0m\u001b[0mself\u001b[0m\u001b[0;34m,\u001b[0m \u001b[0maxis\u001b[0m\u001b[0;34m=\u001b[0m\u001b[0mNone\u001b[0m\u001b[0;34m,\u001b[0m \u001b[0mout\u001b[0m\u001b[0;34m=\u001b[0m\u001b[0mNone\u001b[0m\u001b[0;34m,\u001b[0m \u001b[0mskipna\u001b[0m\u001b[0;34m=\u001b[0m\u001b[0mTrue\u001b[0m\u001b[0;34m)\u001b[0m\u001b[0;34m:\u001b[0m\u001b[0;34m\u001b[0m\u001b[0m\n",
      "\u001b[0;32m//anaconda/lib/python2.7/site-packages/pandas/core/base.pyc\u001b[0m in \u001b[0;36mduplicated\u001b[0;34m(self, take_last)\u001b[0m\n\u001b[1;32m    581\u001b[0m         \u001b[0;32mtry\u001b[0m\u001b[0;34m:\u001b[0m\u001b[0;34m\u001b[0m\u001b[0m\n\u001b[1;32m    582\u001b[0m             return self._constructor(duplicated,\n\u001b[0;32m--> 583\u001b[0;31m                                      index=self.index).__finalize__(self)\n\u001b[0m\u001b[1;32m    584\u001b[0m         \u001b[0;32mexcept\u001b[0m \u001b[0mAttributeError\u001b[0m\u001b[0;34m:\u001b[0m\u001b[0;34m\u001b[0m\u001b[0m\n\u001b[1;32m    585\u001b[0m             \u001b[0;32mreturn\u001b[0m \u001b[0mnp\u001b[0m\u001b[0;34m.\u001b[0m\u001b[0marray\u001b[0m\u001b[0;34m(\u001b[0m\u001b[0mduplicated\u001b[0m\u001b[0;34m,\u001b[0m \u001b[0mdtype\u001b[0m\u001b[0;34m=\u001b[0m\u001b[0mbool\u001b[0m\u001b[0;34m)\u001b[0m\u001b[0;34m\u001b[0m\u001b[0m\n",
      "\u001b[0;32m//anaconda/lib/python2.7/site-packages/pandas/core/generic.pyc\u001b[0m in \u001b[0;36m__finalize__\u001b[0;34m(self, other, method, **kwargs)\u001b[0m\n\u001b[1;32m   2130\u001b[0m         \u001b[0;32mif\u001b[0m \u001b[0misinstance\u001b[0m\u001b[0;34m(\u001b[0m\u001b[0mother\u001b[0m\u001b[0;34m,\u001b[0m \u001b[0mNDFrame\u001b[0m\u001b[0;34m)\u001b[0m\u001b[0;34m:\u001b[0m\u001b[0;34m\u001b[0m\u001b[0m\n\u001b[1;32m   2131\u001b[0m             \u001b[0;32mfor\u001b[0m \u001b[0mname\u001b[0m \u001b[0;32min\u001b[0m \u001b[0mself\u001b[0m\u001b[0;34m.\u001b[0m\u001b[0m_metadata\u001b[0m\u001b[0;34m:\u001b[0m\u001b[0;34m\u001b[0m\u001b[0m\n\u001b[0;32m-> 2132\u001b[0;31m                 \u001b[0mobject\u001b[0m\u001b[0;34m.\u001b[0m\u001b[0m__setattr__\u001b[0m\u001b[0;34m(\u001b[0m\u001b[0mself\u001b[0m\u001b[0;34m,\u001b[0m \u001b[0mname\u001b[0m\u001b[0;34m,\u001b[0m \u001b[0mgetattr\u001b[0m\u001b[0;34m(\u001b[0m\u001b[0mother\u001b[0m\u001b[0;34m,\u001b[0m \u001b[0mname\u001b[0m\u001b[0;34m,\u001b[0m \u001b[0mNone\u001b[0m\u001b[0;34m)\u001b[0m\u001b[0;34m)\u001b[0m\u001b[0;34m\u001b[0m\u001b[0m\n\u001b[0m\u001b[1;32m   2133\u001b[0m         \u001b[0;32mreturn\u001b[0m \u001b[0mself\u001b[0m\u001b[0;34m\u001b[0m\u001b[0m\n\u001b[1;32m   2134\u001b[0m \u001b[0;34m\u001b[0m\u001b[0m\n",
      "\u001b[0;31mKeyboardInterrupt\u001b[0m: "
     ]
    }
   ],
   "source": [
    "%%time\n",
    "populate_by_calculating(db2, traindf, pearson_sim)"
   ]
  },
  {
   "cell_type": "code",
   "execution_count": 94,
   "metadata": {
    "collapsed": true
   },
   "outputs": [],
   "source": [
    "def shrunk_sim(sim, n_common, reg=3.):\n",
    "    \"takes a similarity and shrinks it down by using the regularizer\"\n",
    "    ssim=(n_common*sim)/(n_common+reg)\n",
    "    return ssim"
   ]
  },
  {
   "cell_type": "code",
   "execution_count": 95,
   "metadata": {
    "collapsed": true
   },
   "outputs": [],
   "source": [
    "from operator import itemgetter"
   ]
  },
  {
   "cell_type": "code",
   "execution_count": 96,
   "metadata": {
    "collapsed": true
   },
   "outputs": [],
   "source": [
    "def knearest(climb_id, set_of_climbs, dbase, k=7, reg=3.):\n",
    "    \"\"\"\n",
    "    Given a restaurant_id, dataframe, and database, get a sorted list of the\n",
    "    k most similar restaurants from the set of restaurants.\n",
    "    \"\"\"\n",
    "    similars=[]\n",
    "    for other_climb_id in set_of_climbs:\n",
    "        if other_climb_id!=climb_id:\n",
    "            sim, nc=dbase.get(climb_id, other_climb_id)\n",
    "            ssim=shrunk_sim(sim, nc, reg=reg)\n",
    "            simdist=(1. - ssim)/2.\n",
    "            similars.append((other_climb_id, simdist, nc ))\n",
    "    similars=sorted(similars, key=itemgetter(1))\n",
    "    return similars[0:k]"
   ]
  },
  {
   "cell_type": "code",
   "execution_count": 108,
   "metadata": {
    "collapsed": true
   },
   "outputs": [],
   "source": [
    "def get_users_climbs(df, user_id):\n",
    "    dfuser=df[df.user_id==user_id]\n",
    "    dfuserdedup=dfuser.drop_duplicates('climb_id')\n",
    "    return dict(zip(dfuserdedup.climb_id.values, dfuserdedup.star_rating.values))"
   ]
  },
  {
   "cell_type": "code",
   "execution_count": 116,
   "metadata": {
    "collapsed": true
   },
   "outputs": [],
   "source": [
    "def rating(set_of_climbs, dbase, climb_id, user_id, k=7, reg=3.):\n",
    "    nearest_list = knearest(climb_id, set_of_climbs, dbase, k=k, reg=reg)\n",
    "    top_sum = 0.\n",
    "    bot_sum = 0.\n",
    "    for triple in nearest_list:\n",
    "        if not np.isnan(triple[1]):\n",
    "            # If we just use the similarity distance as defined above, we'll be giving the most weight to the \n",
    "            # least correlated climbs, so we want to invert the distance scale.\n",
    "            invert_dist = 1 - triple[1]\n",
    "            top_sum = top_sum + invert_dist * (set_of_climbs[triple[0]] - (ybar + \n",
    "                                               user_biases[user_id] + climb_biases[triple[0]]))\n",
    "            bot_sum = bot_sum + invert_dist\n",
    "    #In the case there were no triples, make sure (top_sum / bot_sum) will return 0 and not something that could\n",
    "    #cause errors later on\n",
    "    if bot_sum == 0:\n",
    "        bot_sum, top_sum = 1, 0\n",
    "            \n",
    "    return (ybar + user_biases[user_id] + climb_biases[climb_id]) + (top_sum / bot_sum)"
   ]
  },
  {
   "cell_type": "code",
   "execution_count": 117,
   "metadata": {
    "collapsed": false
   },
   "outputs": [],
   "source": [
    "trainuser = list(traindf.user_id)[0]\n",
    "testclimb = list(testdf[testdf.user_id==trainuser].climb_id)[0]"
   ]
  },
  {
   "cell_type": "code",
   "execution_count": 118,
   "metadata": {
    "collapsed": false
   },
   "outputs": [
    {
     "data": {
      "text/plain": [
       "3.629871978356686"
      ]
     },
     "execution_count": 118,
     "metadata": {},
     "output_type": "execute_result"
    }
   ],
   "source": [
    "rating(get_users_climbs(traindf, trainuser), db, testclimb, trainuser, k=2, reg=3.)"
   ]
  },
  {
   "cell_type": "code",
   "execution_count": 125,
   "metadata": {
    "collapsed": true
   },
   "outputs": [],
   "source": [
    "def get_ratings_user_nbd(indf, traindf, db, k=2, reg=3.):\n",
    "    zips=zip(indf.climb_id, indf.user_id, indf.star_rating)\n",
    "    preds=[]\n",
    "    actuals=[]\n",
    "    for (r,u,actual) in zips:\n",
    "        pred=rating(get_users_climbs(traindf, u), db, r,u, k, reg)\n",
    "        preds.append(pred)\n",
    "        actuals.append(actual)\n",
    "    return np.array(preds), np.array(actuals)"
   ]
  },
  {
   "cell_type": "code",
   "execution_count": 132,
   "metadata": {
    "collapsed": false
   },
   "outputs": [
    {
     "name": "stdout",
     "output_type": "stream",
     "text": [
      "RMSE for knn(user) on training k=4, reg=4 0.561026221277\n"
     ]
    },
    {
     "data": {
      "text/plain": [
       "(<matplotlib.axes._subplots.AxesSubplot at 0x144a40f90>, 0.56102622127730062)"
      ]
     },
     "execution_count": 132,
     "metadata": {},
     "output_type": "execute_result"
    },
    {
     "data": {
      "image/png": "[encoded data removed]",
      "text/plain": [
       "<matplotlib.figure.Figure at 0x144e9f110>"
      ]
     },
     "metadata": {},
     "output_type": "display_data"
    }
   ],
   "source": [
    "_, ax = plt.subplots(1, 1)\n",
    "pt, at = get_ratings_user_nbd(testdf, traindf, db, k=4, reg=4.)\n",
    "compare_results(at, pt, model=\"knn(user) on training k=4, reg=4\", predicteds=True, yhigh=5, axis=ax)"
   ]
  },
  {
   "cell_type": "code",
   "execution_count": 134,
   "metadata": {
    "collapsed": false
   },
   "outputs": [
    {
     "name": "stdout",
     "output_type": "stream",
     "text": [
      "RMSE for k=4 reg=0.1 0.618368317832\n",
      "RMSE for k=4 reg=1.0 0.616357294853\n",
      "RMSE for k=4 reg=10.0 0.614463061421\n",
      "RMSE for k=4 reg=100.0 0.608616165393\n",
      "RMSE for k=4 reg=1000.0 0.609185877343\n",
      "RMSE for k=8 reg=0.1 0.586138678522\n",
      "RMSE for k=8 reg=1.0 0.586321021421\n",
      "RMSE for k=8 reg=10.0 0.585555518953\n",
      "RMSE for k=8 reg=100.0 0.586999435823\n",
      "RMSE for k=8 reg=1000.0 0.589031556821\n",
      "RMSE for k=16 reg=0.1 0.571992156893\n",
      "RMSE for k=16 reg=1.0 0.57140758085\n",
      "RMSE for k=16 reg=10.0 0.570825210173\n",
      "RMSE for k=16 reg=100.0 0.569651518599\n",
      "RMSE for k=16 reg=1000.0 0.569407144554\n",
      "RMSE for k=32 reg=0.1 0.562888633445\n",
      "RMSE for k=32 reg=1.0 0.563073393067\n",
      "RMSE for k=32 reg=10.0 0.563071331508\n",
      "RMSE for k=32 reg=100.0 0.56365136737\n",
      "RMSE for k=32 reg=1000.0 0.563220125122\n",
      "RMSE for k=64 reg=0.1 0.560666206682\n",
      "RMSE for k=64 reg=1.0 0.56064387789\n",
      "RMSE for k=64 reg=10.0 0.560645315839\n",
      "RMSE for k=64 reg=100.0 0.560942300893\n",
      "RMSE for k=64 reg=1000.0 0.561026221277\n",
      "RMSE for k=128 reg=0.1 0.56076310281\n",
      "RMSE for k=128 reg=1.0 0.560708956411\n",
      "RMSE for k=128 reg=10.0 0.560709581177\n",
      "RMSE for k=128 reg=100.0 0.561000601117\n",
      "RMSE for k=128 reg=1000.0 0.561125982799\n",
      "64 1\n",
      "CPU times: user 2min 35s, sys: 425 ms, total: 2min 35s\n",
      "Wall time: 2min 35s\n"
     ]
    }
   ],
   "source": [
    "%%time\n",
    "\n",
    "rmsedict = {}\n",
    "k_grid_1 = [4, 8, 16, 32, 64, 128]\n",
    "reg_grid_1 = [0.1, 1, 10, 100, 1000]\n",
    "for k in k_grid_1:\n",
    "    for reg in reg_grid_1:\n",
    "        pt, at = get_ratings_user_nbd(validatedf, traindf, db, k=k, reg=reg)\n",
    "        _, rmse = compare_results(at, pt, model=(\"k=%d reg=%.1f\" % (k, reg)), predicteds=True, axis=ax)\n",
    "        rmsedict[(k, reg)] = rmse\n",
    "min_k, min_reg = min(rmsedict, key=rmsedict.get)\n",
    "print min_k, min_reg"
   ]
  },
  {
   "cell_type": "code",
   "execution_count": 135,
   "metadata": {
    "collapsed": true
   },
   "outputs": [],
   "source": [
    "mintup=min(rmsedict, key=rmsedict.get)"
   ]
  },
  {
   "cell_type": "code",
   "execution_count": 138,
   "metadata": {
    "collapsed": false
   },
   "outputs": [
    {
     "name": "stdout",
     "output_type": "stream",
     "text": [
      "RMSE for knn(user) for k=64, reg=1 0.570315988013\n"
     ]
    },
    {
     "data": {
      "text/plain": [
       "(<matplotlib.axes._subplots.AxesSubplot at 0x142dea610>, 0.57031598801285954)"
      ]
     },
     "execution_count": 138,
     "metadata": {},
     "output_type": "execute_result"
    },
    {
     "data": {
      "image/png": "[encoded data removed]",
      "text/plain": [
       "<matplotlib.figure.Figure at 0x14730d8d0>"
      ]
     },
     "metadata": {},
     "output_type": "display_data"
    }
   ],
   "source": [
    "predictions[\"knn\"] = [rating(get_users_climbs(traindf, user), db, climb, user, k=mintup[0], reg=mintup[1])\n",
    "                      for (user, climb) in zip(list(testdf.user_id.values), list(testdf.climb_id.values))]\n",
    "\n",
    "predictions_valid[\"knn\"] = [rating(get_users_climbs(traindf, user), db, climb, user, k=mintup[0], reg=mintup[1])\n",
    "                            for (user, climb) in zip(list(validatedf.user_id.values), list(validatedf.climb_id.values))]\n",
    "\n",
    "pt, at = get_ratings_user_nbd(testdf, traindf, db, k=4, reg=4.)\n",
    "compare_results(testdf.star_rating, predictions['knn'], model=(\"knn(user) for k=%d, reg=%d\" % (mintup[0], mintup[1])), predicteds=True, yhigh=5)"
   ]
  },
  {
   "cell_type": "markdown",
   "metadata": {},
   "source": [
    "##Create an ensemble"
   ]
  },
  {
   "cell_type": "code",
   "execution_count": 140,
   "metadata": {
    "collapsed": true
   },
   "outputs": [],
   "source": [
    "dfensemble=pd.DataFrame.from_dict({'knn':predictions_valid['knn'],\n",
    "                                   'feature':predictions_valid['feature'], \n",
    "                                   'baseline':predictions_valid['baseline'], 'y':validatedf.star_rating.values})"
   ]
  },
  {
   "cell_type": "code",
   "execution_count": 141,
   "metadata": {
    "collapsed": true
   },
   "outputs": [],
   "source": [
    "from sklearn.linear_model import LinearRegression"
   ]
  },
  {
   "cell_type": "code",
   "execution_count": 142,
   "metadata": {
    "collapsed": true
   },
   "outputs": [],
   "source": [
    "valreg = LinearRegression().fit(dfensemble[['baseline','knn','feature']],dfensemble[['y']])"
   ]
  },
  {
   "cell_type": "code",
   "execution_count": 143,
   "metadata": {
    "collapsed": false
   },
   "outputs": [
    {
     "data": {
      "text/plain": [
       "array([[-0.05531176,  0.57243752,  0.47971324]])"
      ]
     },
     "execution_count": 143,
     "metadata": {},
     "output_type": "execute_result"
    }
   ],
   "source": [
    "valreg.coef_"
   ]
  },
  {
   "cell_type": "code",
   "execution_count": 144,
   "metadata": {
    "collapsed": true
   },
   "outputs": [],
   "source": [
    "dfensembletest=pd.DataFrame.from_dict({'knn':predictions['knn'],\n",
    "                                       'feature':predictions['feature'], \n",
    "                                       'baseline':predictions['baseline'], 'y':testdf.star_rating.values})\n",
    "epreds = valreg.predict(dfensembletest[['baseline','knn','feature']]).flatten().tolist()\n",
    "testactual = np.array(dfensembletest[['y']]).flatten()"
   ]
  },
  {
   "cell_type": "code",
   "execution_count": 146,
   "metadata": {
    "collapsed": false
   },
   "outputs": [
    {
     "name": "stdout",
     "output_type": "stream",
     "text": [
      "RMSE for ensemble 0.57001929309\n"
     ]
    },
    {
     "data": {
      "image/png": "[encoded data removed]",
      "text/plain": [
       "<matplotlib.figure.Figure at 0x1441cd890>"
      ]
     },
     "metadata": {},
     "output_type": "display_data"
    }
   ],
   "source": [
    "ax=compare_results(testactual, epreds, model=\"ensemble\", predicteds=True, yhigh=5);"
   ]
  },
  {
   "cell_type": "code",
   "execution_count": 147,
   "metadata": {
    "collapsed": false
   },
   "outputs": [
    {
     "data": {
      "text/html": [
       "<div>\n",
       "<table border=\"1\" class=\"dataframe\">\n",
       "  <thead>\n",
       "    <tr style=\"text-align: right;\">\n",
       "      <th></th>\n",
       "      <th>baseline</th>\n",
       "      <th>knn</th>\n",
       "      <th>feature</th>\n",
       "    </tr>\n",
       "  </thead>\n",
       "  <tbody>\n",
       "    <tr>\n",
       "      <th>0</th>\n",
       "      <td>3.764388</td>\n",
       "      <td>3.470369</td>\n",
       "      <td>3.483500</td>\n",
       "    </tr>\n",
       "    <tr>\n",
       "      <th>1</th>\n",
       "      <td>3.077325</td>\n",
       "      <td>3.214027</td>\n",
       "      <td>3.254548</td>\n",
       "    </tr>\n",
       "    <tr>\n",
       "      <th>2</th>\n",
       "      <td>3.225804</td>\n",
       "      <td>3.232453</td>\n",
       "      <td>3.289386</td>\n",
       "    </tr>\n",
       "    <tr>\n",
       "      <th>3</th>\n",
       "      <td>3.670054</td>\n",
       "      <td>3.475838</td>\n",
       "      <td>3.518226</td>\n",
       "    </tr>\n",
       "    <tr>\n",
       "      <th>4</th>\n",
       "      <td>3.041456</td>\n",
       "      <td>2.948414</td>\n",
       "      <td>2.959339</td>\n",
       "    </tr>\n",
       "    <tr>\n",
       "      <th>5</th>\n",
       "      <td>3.083856</td>\n",
       "      <td>2.959497</td>\n",
       "      <td>3.034770</td>\n",
       "    </tr>\n",
       "    <tr>\n",
       "      <th>6</th>\n",
       "      <td>3.387115</td>\n",
       "      <td>3.413744</td>\n",
       "      <td>3.448926</td>\n",
       "    </tr>\n",
       "    <tr>\n",
       "      <th>7</th>\n",
       "      <td>2.865787</td>\n",
       "      <td>3.002881</td>\n",
       "      <td>3.056380</td>\n",
       "    </tr>\n",
       "    <tr>\n",
       "      <th>8</th>\n",
       "      <td>3.729034</td>\n",
       "      <td>3.449385</td>\n",
       "      <td>3.476711</td>\n",
       "    </tr>\n",
       "    <tr>\n",
       "      <th>9</th>\n",
       "      <td>3.606406</td>\n",
       "      <td>3.728414</td>\n",
       "      <td>3.766361</td>\n",
       "    </tr>\n",
       "    <tr>\n",
       "      <th>10</th>\n",
       "      <td>3.165080</td>\n",
       "      <td>3.084797</td>\n",
       "      <td>3.128789</td>\n",
       "    </tr>\n",
       "    <tr>\n",
       "      <th>11</th>\n",
       "      <td>3.383830</td>\n",
       "      <td>3.397333</td>\n",
       "      <td>3.397898</td>\n",
       "    </tr>\n",
       "    <tr>\n",
       "      <th>12</th>\n",
       "      <td>3.744899</td>\n",
       "      <td>3.815418</td>\n",
       "      <td>3.823483</td>\n",
       "    </tr>\n",
       "    <tr>\n",
       "      <th>13</th>\n",
       "      <td>3.975977</td>\n",
       "      <td>3.875933</td>\n",
       "      <td>3.907743</td>\n",
       "    </tr>\n",
       "    <tr>\n",
       "      <th>14</th>\n",
       "      <td>3.363609</td>\n",
       "      <td>3.146184</td>\n",
       "      <td>3.110390</td>\n",
       "    </tr>\n",
       "    <tr>\n",
       "      <th>15</th>\n",
       "      <td>3.333183</td>\n",
       "      <td>3.489855</td>\n",
       "      <td>3.431214</td>\n",
       "    </tr>\n",
       "    <tr>\n",
       "      <th>16</th>\n",
       "      <td>3.359955</td>\n",
       "      <td>3.470297</td>\n",
       "      <td>3.476921</td>\n",
       "    </tr>\n",
       "    <tr>\n",
       "      <th>17</th>\n",
       "      <td>2.797222</td>\n",
       "      <td>3.005023</td>\n",
       "      <td>3.016264</td>\n",
       "    </tr>\n",
       "    <tr>\n",
       "      <th>18</th>\n",
       "      <td>3.640080</td>\n",
       "      <td>3.754835</td>\n",
       "      <td>3.787953</td>\n",
       "    </tr>\n",
       "    <tr>\n",
       "      <th>19</th>\n",
       "      <td>3.591968</td>\n",
       "      <td>3.508420</td>\n",
       "      <td>3.441862</td>\n",
       "    </tr>\n",
       "    <tr>\n",
       "      <th>20</th>\n",
       "      <td>3.443943</td>\n",
       "      <td>3.579299</td>\n",
       "      <td>3.559000</td>\n",
       "    </tr>\n",
       "    <tr>\n",
       "      <th>21</th>\n",
       "      <td>3.333154</td>\n",
       "      <td>3.415625</td>\n",
       "      <td>3.436636</td>\n",
       "    </tr>\n",
       "    <tr>\n",
       "      <th>22</th>\n",
       "      <td>3.720314</td>\n",
       "      <td>3.925595</td>\n",
       "      <td>3.909939</td>\n",
       "    </tr>\n",
       "    <tr>\n",
       "      <th>23</th>\n",
       "      <td>4.096970</td>\n",
       "      <td>3.885204</td>\n",
       "      <td>3.902933</td>\n",
       "    </tr>\n",
       "    <tr>\n",
       "      <th>24</th>\n",
       "      <td>4.421824</td>\n",
       "      <td>3.753181</td>\n",
       "      <td>3.762653</td>\n",
       "    </tr>\n",
       "    <tr>\n",
       "      <th>25</th>\n",
       "      <td>3.585089</td>\n",
       "      <td>3.434942</td>\n",
       "      <td>3.458271</td>\n",
       "    </tr>\n",
       "    <tr>\n",
       "      <th>26</th>\n",
       "      <td>3.850395</td>\n",
       "      <td>3.990731</td>\n",
       "      <td>3.992153</td>\n",
       "    </tr>\n",
       "    <tr>\n",
       "      <th>27</th>\n",
       "      <td>4.478967</td>\n",
       "      <td>4.013615</td>\n",
       "      <td>4.016438</td>\n",
       "    </tr>\n",
       "    <tr>\n",
       "      <th>28</th>\n",
       "      <td>3.993252</td>\n",
       "      <td>4.000117</td>\n",
       "      <td>4.008484</td>\n",
       "    </tr>\n",
       "    <tr>\n",
       "      <th>29</th>\n",
       "      <td>4.240226</td>\n",
       "      <td>3.899221</td>\n",
       "      <td>3.906360</td>\n",
       "    </tr>\n",
       "    <tr>\n",
       "      <th>...</th>\n",
       "      <td>...</td>\n",
       "      <td>...</td>\n",
       "      <td>...</td>\n",
       "    </tr>\n",
       "    <tr>\n",
       "      <th>3344</th>\n",
       "      <td>3.000977</td>\n",
       "      <td>3.010925</td>\n",
       "      <td>3.019745</td>\n",
       "    </tr>\n",
       "    <tr>\n",
       "      <th>3345</th>\n",
       "      <td>2.221573</td>\n",
       "      <td>2.402219</td>\n",
       "      <td>2.398938</td>\n",
       "    </tr>\n",
       "    <tr>\n",
       "      <th>3346</th>\n",
       "      <td>2.253024</td>\n",
       "      <td>2.239563</td>\n",
       "      <td>2.272882</td>\n",
       "    </tr>\n",
       "    <tr>\n",
       "      <th>3347</th>\n",
       "      <td>2.858794</td>\n",
       "      <td>2.483485</td>\n",
       "      <td>2.536219</td>\n",
       "    </tr>\n",
       "    <tr>\n",
       "      <th>3348</th>\n",
       "      <td>2.350247</td>\n",
       "      <td>1.982530</td>\n",
       "      <td>2.147339</td>\n",
       "    </tr>\n",
       "    <tr>\n",
       "      <th>3349</th>\n",
       "      <td>2.669691</td>\n",
       "      <td>2.562428</td>\n",
       "      <td>2.674939</td>\n",
       "    </tr>\n",
       "    <tr>\n",
       "      <th>3350</th>\n",
       "      <td>2.078024</td>\n",
       "      <td>2.179910</td>\n",
       "      <td>2.277626</td>\n",
       "    </tr>\n",
       "    <tr>\n",
       "      <th>3351</th>\n",
       "      <td>2.768869</td>\n",
       "      <td>2.841680</td>\n",
       "      <td>2.867653</td>\n",
       "    </tr>\n",
       "    <tr>\n",
       "      <th>3352</th>\n",
       "      <td>2.744303</td>\n",
       "      <td>2.411555</td>\n",
       "      <td>2.476027</td>\n",
       "    </tr>\n",
       "    <tr>\n",
       "      <th>3353</th>\n",
       "      <td>2.743409</td>\n",
       "      <td>2.485493</td>\n",
       "      <td>2.577968</td>\n",
       "    </tr>\n",
       "    <tr>\n",
       "      <th>3354</th>\n",
       "      <td>3.072469</td>\n",
       "      <td>2.898464</td>\n",
       "      <td>2.917302</td>\n",
       "    </tr>\n",
       "    <tr>\n",
       "      <th>3355</th>\n",
       "      <td>2.534274</td>\n",
       "      <td>2.504729</td>\n",
       "      <td>2.584594</td>\n",
       "    </tr>\n",
       "    <tr>\n",
       "      <th>3356</th>\n",
       "      <td>2.482570</td>\n",
       "      <td>2.160736</td>\n",
       "      <td>2.224672</td>\n",
       "    </tr>\n",
       "    <tr>\n",
       "      <th>3357</th>\n",
       "      <td>2.243409</td>\n",
       "      <td>2.157839</td>\n",
       "      <td>2.202489</td>\n",
       "    </tr>\n",
       "    <tr>\n",
       "      <th>3358</th>\n",
       "      <td>1.909274</td>\n",
       "      <td>2.083918</td>\n",
       "      <td>2.152627</td>\n",
       "    </tr>\n",
       "    <tr>\n",
       "      <th>3359</th>\n",
       "      <td>2.785919</td>\n",
       "      <td>2.634587</td>\n",
       "      <td>2.643908</td>\n",
       "    </tr>\n",
       "    <tr>\n",
       "      <th>3360</th>\n",
       "      <td>3.946650</td>\n",
       "      <td>3.741889</td>\n",
       "      <td>3.811951</td>\n",
       "    </tr>\n",
       "    <tr>\n",
       "      <th>3361</th>\n",
       "      <td>3.511730</td>\n",
       "      <td>3.297135</td>\n",
       "      <td>3.276591</td>\n",
       "    </tr>\n",
       "    <tr>\n",
       "      <th>3362</th>\n",
       "      <td>3.733433</td>\n",
       "      <td>3.677895</td>\n",
       "      <td>3.641777</td>\n",
       "    </tr>\n",
       "    <tr>\n",
       "      <th>3363</th>\n",
       "      <td>3.789508</td>\n",
       "      <td>3.805176</td>\n",
       "      <td>3.896438</td>\n",
       "    </tr>\n",
       "    <tr>\n",
       "      <th>3364</th>\n",
       "      <td>4.036083</td>\n",
       "      <td>3.896012</td>\n",
       "      <td>3.872124</td>\n",
       "    </tr>\n",
       "    <tr>\n",
       "      <th>3365</th>\n",
       "      <td>4.129130</td>\n",
       "      <td>3.735778</td>\n",
       "      <td>3.759188</td>\n",
       "    </tr>\n",
       "    <tr>\n",
       "      <th>3366</th>\n",
       "      <td>3.994327</td>\n",
       "      <td>4.013201</td>\n",
       "      <td>4.096828</td>\n",
       "    </tr>\n",
       "    <tr>\n",
       "      <th>3367</th>\n",
       "      <td>3.231815</td>\n",
       "      <td>3.358304</td>\n",
       "      <td>3.410278</td>\n",
       "    </tr>\n",
       "    <tr>\n",
       "      <th>3368</th>\n",
       "      <td>4.189508</td>\n",
       "      <td>3.747830</td>\n",
       "      <td>3.759258</td>\n",
       "    </tr>\n",
       "    <tr>\n",
       "      <th>3369</th>\n",
       "      <td>3.609383</td>\n",
       "      <td>3.656304</td>\n",
       "      <td>3.750266</td>\n",
       "    </tr>\n",
       "    <tr>\n",
       "      <th>3370</th>\n",
       "      <td>3.891202</td>\n",
       "      <td>3.783459</td>\n",
       "      <td>3.811713</td>\n",
       "    </tr>\n",
       "    <tr>\n",
       "      <th>3371</th>\n",
       "      <td>3.816905</td>\n",
       "      <td>3.609942</td>\n",
       "      <td>3.608420</td>\n",
       "    </tr>\n",
       "    <tr>\n",
       "      <th>3372</th>\n",
       "      <td>4.253793</td>\n",
       "      <td>3.999628</td>\n",
       "      <td>4.053089</td>\n",
       "    </tr>\n",
       "    <tr>\n",
       "      <th>3373</th>\n",
       "      <td>3.919137</td>\n",
       "      <td>3.852867</td>\n",
       "      <td>3.871126</td>\n",
       "    </tr>\n",
       "  </tbody>\n",
       "</table>\n",
       "<p>3374 rows × 3 columns</p>\n",
       "</div>"
      ],
      "text/plain": [
       "      baseline       knn   feature\n",
       "0     3.764388  3.470369  3.483500\n",
       "1     3.077325  3.214027  3.254548\n",
       "2     3.225804  3.232453  3.289386\n",
       "3     3.670054  3.475838  3.518226\n",
       "4     3.041456  2.948414  2.959339\n",
       "5     3.083856  2.959497  3.034770\n",
       "6     3.387115  3.413744  3.448926\n",
       "7     2.865787  3.002881  3.056380\n",
       "8     3.729034  3.449385  3.476711\n",
       "9     3.606406  3.728414  3.766361\n",
       "10    3.165080  3.084797  3.128789\n",
       "11    3.383830  3.397333  3.397898\n",
       "12    3.744899  3.815418  3.823483\n",
       "13    3.975977  3.875933  3.907743\n",
       "14    3.363609  3.146184  3.110390\n",
       "15    3.333183  3.489855  3.431214\n",
       "16    3.359955  3.470297  3.476921\n",
       "17    2.797222  3.005023  3.016264\n",
       "18    3.640080  3.754835  3.787953\n",
       "19    3.591968  3.508420  3.441862\n",
       "20    3.443943  3.579299  3.559000\n",
       "21    3.333154  3.415625  3.436636\n",
       "22    3.720314  3.925595  3.909939\n",
       "23    4.096970  3.885204  3.902933\n",
       "24    4.421824  3.753181  3.762653\n",
       "25    3.585089  3.434942  3.458271\n",
       "26    3.850395  3.990731  3.992153\n",
       "27    4.478967  4.013615  4.016438\n",
       "28    3.993252  4.000117  4.008484\n",
       "29    4.240226  3.899221  3.906360\n",
       "...        ...       ...       ...\n",
       "3344  3.000977  3.010925  3.019745\n",
       "3345  2.221573  2.402219  2.398938\n",
       "3346  2.253024  2.239563  2.272882\n",
       "3347  2.858794  2.483485  2.536219\n",
       "3348  2.350247  1.982530  2.147339\n",
       "3349  2.669691  2.562428  2.674939\n",
       "3350  2.078024  2.179910  2.277626\n",
       "3351  2.768869  2.841680  2.867653\n",
       "3352  2.744303  2.411555  2.476027\n",
       "3353  2.743409  2.485493  2.577968\n",
       "3354  3.072469  2.898464  2.917302\n",
       "3355  2.534274  2.504729  2.584594\n",
       "3356  2.482570  2.160736  2.224672\n",
       "3357  2.243409  2.157839  2.202489\n",
       "3358  1.909274  2.083918  2.152627\n",
       "3359  2.785919  2.634587  2.643908\n",
       "3360  3.946650  3.741889  3.811951\n",
       "3361  3.511730  3.297135  3.276591\n",
       "3362  3.733433  3.677895  3.641777\n",
       "3363  3.789508  3.805176  3.896438\n",
       "3364  4.036083  3.896012  3.872124\n",
       "3365  4.129130  3.735778  3.759188\n",
       "3366  3.994327  4.013201  4.096828\n",
       "3367  3.231815  3.358304  3.410278\n",
       "3368  4.189508  3.747830  3.759258\n",
       "3369  3.609383  3.656304  3.750266\n",
       "3370  3.891202  3.783459  3.811713\n",
       "3371  3.816905  3.609942  3.608420\n",
       "3372  4.253793  3.999628  4.053089\n",
       "3373  3.919137  3.852867  3.871126\n",
       "\n",
       "[3374 rows x 3 columns]"
      ]
     },
     "execution_count": 147,
     "metadata": {},
     "output_type": "execute_result"
    }
   ],
   "source": [
    "dfensembletest[['baseline','knn','feature']]"
   ]
  },
  {
   "cell_type": "code",
   "execution_count": null,
   "metadata": {
    "collapsed": true
   },
   "outputs": [],
   "source": []
  }
 ],
 "metadata": {
  "kernelspec": {
   "display_name": "Python 2",
   "language": "python",
   "name": "python2"
  },
  "language_info": {
   "codemirror_mode": {
    "name": "ipython",
    "version": 2
   },
   "file_extension": ".py",
   "mimetype": "text/x-python",
   "name": "python",
   "nbconvert_exporter": "python",
   "pygments_lexer": "ipython2",
   "version": "2.7.10"
  }
 },
 "nbformat": 4,
 "nbformat_minor": 0
}
