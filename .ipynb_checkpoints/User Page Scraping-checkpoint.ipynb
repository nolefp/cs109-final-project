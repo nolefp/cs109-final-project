{
 "cells": [
  {
   "cell_type": "code",
   "execution_count": null,
   "metadata": {
    "collapsed": true
   },
   "outputs": [],
   "source": [
    "Pseudo Code:\n",
    "    get unique user id\n",
    "    get unique user name\n",
    "    \n",
    "    if either in user_table:\n",
    "        abort\n",
    "    \n",
    "    ### Personal Data class\n",
    "    ## Personal (parse by commas except state will make it harder, below is not ideal)\n",
    "    # get city\n",
    "    if find \"Lives in\":\n",
    "        Pull following text until next two commas \n",
    "        if contains comma:\n",
    "            parse on comma\n",
    "            first part is city\n",
    "            second part is state\n",
    "        else:\n",
    "            text is city\n",
    "    \n",
    "    # get age\n",
    "    if find \"years old\":\n",
    "        store preceeding numbers as age \n",
    "    \n",
    "    # get sex    \n",
    "    if find male | female:\n",
    "        store as sex\n",
    "    \n",
    "    ## likes to climb\n",
    "    if find \"likes to climb:\":\n",
    "        parse following text \n",
    "        switch to 1 likes_type\n",
    "    \n",
    "    ### mpbox id=\"mpbox[user_id]\n",
    "    if member since:\n",
    "        get date, store as datetime\n",
    "    \n",
    "    \n",
    "    ### ticks - export page - issue: no unique numeric id-s for climbs :( \n",
    "    go to http://mountainproject.com/u/[user-id-numeric]?action=ticks&&export=1\n",
    "    \n",
    "    ### ticks - detailed page - issue: have to click through table\n",
    "    go to http://mountainproject.com/u/[user-id-numeric]?action=ticks&    \n",
    "    \n",
    "    find second table with class \"objectlist\": #  (first sibling of empty table with same class)\n",
    "        for row in table rows:\n",
    "            \n",
    "            # climb data\n",
    "            get first 'td' tag\n",
    "            extract href attribute of first 'a' tag inside\n",
    "            parse on '/'\n",
    "            last element of parse should be climb_id_numeric\n",
    "            second to last should be climb_id_name\n",
    "            \n",
    "            # rating data\n",
    "            get second 'td' tag\n",
    "            \n",
    "    \n",
    "        \n",
    "    \n",
    "    "
   ]
  }
 ],
 "metadata": {
  "kernelspec": {
   "display_name": "Python 2",
   "language": "python",
   "name": "python2"
  },
  "language_info": {
   "codemirror_mode": {
    "name": "ipython",
    "version": 2
   },
   "file_extension": ".py",
   "mimetype": "text/x-python",
   "name": "python",
   "nbconvert_exporter": "python",
   "pygments_lexer": "ipython2",
   "version": "2.7.10"
  }
 },
 "nbformat": 4,
 "nbformat_minor": 0
}
