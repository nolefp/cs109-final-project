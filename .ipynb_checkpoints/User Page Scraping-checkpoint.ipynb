{
 "cells": [
  {
   "cell_type": "code",
   "execution_count": null,
   "metadata": {
    "collapsed": true
   },
   "outputs": [],
   "source": [
    "Pseudo Code:\n",
    "    get unique user id\n",
    "    get unique user name\n",
    "    \n",
    "    if either in user_table:\n",
    "        abort\n",
    "    \n",
    "    ### Personal Data class\n",
    "    ## Personal (parse by commas except state will make it harder...)\n",
    "    # get city\n",
    "    if find \"Lives in\":\n",
    "        Pull following text until next two commas \n",
    "        if contains comma:\n",
    "            parse on comma\n",
    "            first part is city\n",
    "            second part is state\n",
    "        else:\n",
    "            text is city\n",
    "    \n",
    "    # get age\n",
    "    if find \"years old\":\n",
    "        store preceeding numbers as age \n",
    "    \n",
    "    # get sex    \n",
    "    if find male | female:\n",
    "        store as sex\n",
    "    \n",
    "    ## likes to climb\n",
    "    if find \"likes to climb:\":\n",
    "        parse following text \n",
    "        switch to 1 likes_type\n",
    "    \n",
    "    ### mpbox id=\"mpbox[user_id]\n",
    "    if member since:\n",
    "        get date, store as datetime\n",
    "    \n",
    "    \n",
    "    ### ticks - export page - issue: no unique numeric id-s for climbs :( \n",
    "    go to http://mountainproject.com/u/108972429?action=ticks&&export=1\n",
    "    \n",
    "        \n",
    "    \n",
    "    \n",
    "        \n",
    "    \n",
    "    "
   ]
  }
 ],
 "metadata": {
  "kernelspec": {
   "display_name": "Python 2",
   "language": "python",
   "name": "python2"
  },
  "language_info": {
   "codemirror_mode": {
    "name": "ipython",
    "version": 2
   },
   "file_extension": ".py",
   "mimetype": "text/x-python",
   "name": "python",
   "nbconvert_exporter": "python",
   "pygments_lexer": "ipython2",
   "version": "2.7.10"
  }
 },
 "nbformat": 4,
 "nbformat_minor": 0
}
