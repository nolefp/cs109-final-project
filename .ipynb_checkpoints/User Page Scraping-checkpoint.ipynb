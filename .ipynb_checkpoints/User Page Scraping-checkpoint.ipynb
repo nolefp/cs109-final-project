{
 "cells": [
  {
   "cell_type": "code",
   "execution_count": 1,
   "metadata": {
    "collapsed": true
   },
   "outputs": [],
   "source": [
    "%matplotlib inline\n",
    "import collections \n",
    "import numpy as np\n",
    "import scipy as sp\n",
    "import pandas as pd\n",
    "import time\n",
    "pd.set_option('display.width', 500)\n",
    "pd.set_option('display.max_columns', 100)\n",
    "pd.set_option('display.notebook_repr_html', True)\n",
    "import re\n",
    "import regex\n",
    "import locale\n",
    "import usaddress\n",
    "import geograpy\n",
    "import nltk\n",
    "from pyquery import PyQuery as pq\n",
    "from bs4 import BeautifulSoup\n",
    "import requests"
   ]
  },
  {
   "cell_type": "code",
   "execution_count": 2,
   "metadata": {
    "collapsed": true
   },
   "outputs": [],
   "source": [
    "# global data storage\n",
    "climbsjson = collections.defaultdict(dict) # double nested dict\n",
    "usersjson = collections.defaultdict(dict) # double nested dict\n",
    "ucjson = collections.defaultdict(dict) #double nested dict"
   ]
  },
  {
   "cell_type": "code",
   "execution_count": 3,
   "metadata": {
    "collapsed": true
   },
   "outputs": [],
   "source": [
    "# sub-functions and initializations for user/climb_scrape_func-s\n",
    "\n",
    "def parse_climb_link(href_link):\n",
    "    return href_link.split('/')[-1], href_link.split('/')[-2]\n",
    "\n",
    "def parse_user_link(href_link):\n",
    "    return href_link.split('/')[-1], href_link.split('/')[-3]\n",
    "\n",
    "aid_re = r'(A[0-5])|(C[0-5])[-,+]?'\n",
    "boulder_re = r'V\\d\\d?[-,+]?'\n",
    "ice_re = r'WI[1-6][+,-]?'\n",
    "mixed_re = r'M\\d\\d?[+,-]?'\n",
    "rock_re = r'5.\\d\\d?(([a-d]/[a-d])|([a-d]))?[+,-]?'\n",
    "\n",
    "diff_regexes = {\"aid_grade\": aid_re, \"boulder_grade\": boulder_re, \n",
    "               \"ice_grade\": ice_re, \"mixed_grade\": mixed_re, \n",
    "               \"rock_grade\": rock_re}\n",
    "\n",
    "user_type_regexes = {\"Trad\": rock_re, \"Sport\": rock_re, \n",
    "                     \"Boulders\": boulder_re, \"Aid\": aid_re, \n",
    "                     \"Ice\": ice_re, \"Mixed\": mixed_re}\n",
    "\n",
    "typesdict = {\"trad\": 0, \"alpine\": 0, \"ice\": 0, \"sport\": 0,\n",
    "        \"boulder\": 0, \"aid\": 0, \"mixed\": 0, \"TR,\": 0}"
   ]
  },
  {
   "cell_type": "code",
   "execution_count": 4,
   "metadata": {
    "collapsed": false
   },
   "outputs": [],
   "source": [
    "def user_scrape_func(userlink):\n",
    "    \n",
    "    # initialize local user dict to be appended to usersjson at end\n",
    "    userdict = {\"user_id\": 0, \"user_name\": \"undef\", \"location_place\": \"undef\", \n",
    "                \"location_state\": \"undef\", \"age\": 0, \"gender\": \"undef\", \n",
    "                \"member_date\": 0}\n",
    "    \n",
    "    # 1. get user_name and id-s\n",
    "    user_id, user_name = parse_user_link(userlink)\n",
    "    userdict[\"user_id\"], userdict[\"user_name\"] = user_id, user_name\n",
    "    \n",
    "    # get page and convert to pyquery obj\n",
    "    user_req=requests.get(userlink)\n",
    "    user_=pq(user_req.text)\n",
    "    \n",
    "    # extract personal data tag\n",
    "    user_main = user_('div.personalData')\n",
    "    user_pers = user_main(\"div:contains('Personal:')\")('em')\n",
    "    \n",
    "    # 2. if exists, get place of residence\n",
    "    if re.search('Lives in', user_pers.text()) != None:\n",
    "        userdict[\"location_place\"] = user_pers.text().split(',')[0].replace('Lives in ',\"\")\n",
    "        \n",
    "        # check for state separated by comma (will need to clean this)\n",
    "        maybe_state = user_pers.text().split(',')[1]\n",
    "        if (re.search(r'(years old)|(male)|(female)', maybe_state) == None):\n",
    "            userdict[\"location_state\"] = maybe_state\n",
    "    \n",
    "    # 3. get age\n",
    "    temp_age = re.search(r'(\\d\\d?) years old', user_pers.text())\n",
    "    if temp_age:\n",
    "        userdict[\"age\"] = int(temp_age.group(1))\n",
    "    \n",
    "    # 4. get gender\n",
    "    temp_gender = re.search(r'(male)|(female)', user_pers.text(), re.I)\n",
    "    if temp_gender:\n",
    "        userdict[\"gender\"] = temp_gender.group()\n",
    "    \n",
    "    # 5. get liked types\n",
    "    \n",
    "    "
   ]
  },
  {
   "cell_type": "code",
   "execution_count": 5,
   "metadata": {
    "collapsed": false
   },
   "outputs": [],
   "source": [
    "userlink = \"http://mountainproject.com/u/jared-lavacque//106325793\"\n",
    "\n",
    "userdict = {\"user_id\": 0, \"user_name\": \"undef\", \"location_place\": \"undef\", \n",
    "            \"location_state\": \"undef\", \"age\": 0, \"gender\": \"undef\", \n",
    "            \"member_date\": 0}\n",
    "\n",
    "user_id, user_name = parse_user_link(userlink)\n",
    "\n",
    "userdict[\"user_id\"], userdict[\"user_name\"] = user_id, user_name"
   ]
  },
  {
   "cell_type": "code",
   "execution_count": 6,
   "metadata": {
    "collapsed": false
   },
   "outputs": [],
   "source": [
    "user_req=requests.get(userlink)\n",
    "user_=pq(user_req.text)"
   ]
  },
  {
   "cell_type": "code",
   "execution_count": 7,
   "metadata": {
    "collapsed": true
   },
   "outputs": [],
   "source": [
    "user_main = user_('div.personalData')"
   ]
  },
  {
   "cell_type": "code",
   "execution_count": 8,
   "metadata": {
    "collapsed": true
   },
   "outputs": [],
   "source": [
    "user_pers = user_main(\"div:contains('Personal:')\")('em')"
   ]
  },
  {
   "cell_type": "code",
   "execution_count": 9,
   "metadata": {
    "collapsed": false
   },
   "outputs": [],
   "source": [
    "if re.search('Lives in', user_pers.text()) != None:\n",
    "        userdict[\"location_place\"] = user_pers.text().split(',')[0].replace('Lives in ',\"\")\n",
    "        maybe_state = user_pers.text().split(',')[1]\n",
    "        if (re.search('(years old)|(male)|(female)', maybe_state) == None):\n",
    "            userdict[\"location_state\"] = maybe_state"
   ]
  },
  {
   "cell_type": "code",
   "execution_count": 10,
   "metadata": {
    "collapsed": false
   },
   "outputs": [],
   "source": [
    "temp_age = re.search(r'(\\d\\d?) years old', user_pers.text())\n",
    "if temp_age:\n",
    "    userdict[\"age\"] = int(temp_age.group(1))"
   ]
  },
  {
   "cell_type": "code",
   "execution_count": 11,
   "metadata": {
    "collapsed": false
   },
   "outputs": [],
   "source": [
    "temp_gender = re.search(r'(male)|(female)', user_pers.text(), re.I)\n",
    "if temp_gender:\n",
    "    userdict[\"gender\"] = temp_gender.group()"
   ]
  },
  {
   "cell_type": "code",
   "execution_count": 49,
   "metadata": {
    "collapsed": true
   },
   "outputs": [
    {
     "ename": "AttributeError",
     "evalue": "'function' object has no attribute 'html'",
     "output_type": "error",
     "traceback": [
      "\u001b[1;31m---------------------------------------------------------------------------\u001b[0m",
      "\u001b[1;31mAttributeError\u001b[0m                            Traceback (most recent call last)",
      "\u001b[1;32m<ipython-input-49-ecc331c71f6b>\u001b[0m in \u001b[0;36m<module>\u001b[1;34m()\u001b[0m\n\u001b[0;32m     10\u001b[0m         \u001b[0mtdwithkey\u001b[0m \u001b[1;33m=\u001b[0m \u001b[0muser_diffs\u001b[0m\u001b[1;33m.\u001b[0m\u001b[0mfind\u001b[0m\u001b[1;33m(\u001b[0m\u001b[1;34m\"tr\"\u001b[0m\u001b[1;33m)\u001b[0m\u001b[1;33m.\u001b[0m\u001b[0mchildren\u001b[0m\u001b[1;33m(\u001b[0m\u001b[1;34m\"td[text=\"\u001b[0m \u001b[1;33m+\u001b[0m \u001b[0mkey\u001b[0m \u001b[1;33m+\u001b[0m\u001b[1;34m\"]\"\u001b[0m\u001b[1;33m)\u001b[0m\u001b[1;33m\u001b[0m\u001b[0m\n\u001b[0;32m     11\u001b[0m         \u001b[0mleadhtml\u001b[0m \u001b[1;33m=\u001b[0m \u001b[0mtdwithkey\u001b[0m\u001b[1;33m.\u001b[0m\u001b[0mnext\u001b[0m\u001b[1;33m(\u001b[0m\u001b[1;33m)\u001b[0m\u001b[1;33m.\u001b[0m\u001b[0mhtml\u001b[0m\u001b[1;33m(\u001b[0m\u001b[1;33m)\u001b[0m\u001b[1;33m\u001b[0m\u001b[0m\n\u001b[1;32m---> 12\u001b[1;33m         \u001b[0mfollowhtml\u001b[0m \u001b[1;33m=\u001b[0m \u001b[0mtdwithkey\u001b[0m\u001b[1;33m.\u001b[0m\u001b[0mnext\u001b[0m\u001b[1;33m(\u001b[0m\u001b[1;33m)\u001b[0m\u001b[1;33m.\u001b[0m\u001b[0mnext\u001b[0m\u001b[1;33m.\u001b[0m\u001b[0mhtml\u001b[0m\u001b[1;33m(\u001b[0m\u001b[1;33m)\u001b[0m\u001b[1;33m\u001b[0m\u001b[0m\n\u001b[0m\u001b[0;32m     13\u001b[0m         \u001b[0mtempleaddiff\u001b[0m \u001b[1;33m=\u001b[0m \u001b[0mre\u001b[0m\u001b[1;33m.\u001b[0m\u001b[0msearch\u001b[0m\u001b[1;33m(\u001b[0m\u001b[0mvalue\u001b[0m\u001b[1;33m,\u001b[0m \u001b[0mleadhtml\u001b[0m\u001b[1;33m)\u001b[0m\u001b[1;33m\u001b[0m\u001b[0m\n\u001b[0;32m     14\u001b[0m         \u001b[0mtempfollowdiff\u001b[0m \u001b[1;33m=\u001b[0m \u001b[0mre\u001b[0m\u001b[1;33m.\u001b[0m\u001b[0msearch\u001b[0m\u001b[1;33m(\u001b[0m\u001b[0mvalue\u001b[0m\u001b[1;33m,\u001b[0m \u001b[0mfollowhtml\u001b[0m\u001b[1;33m)\u001b[0m\u001b[1;33m\u001b[0m\u001b[0m\n",
      "\u001b[1;31mAttributeError\u001b[0m: 'function' object has no attribute 'html'"
     ]
    }
   ],
   "source": [
    "# user difficulty reportings AARRGGHHHHHHHHH\n",
    "user_type_regexes = {'Trad': rock_re, \"Sport\": rock_re, \n",
    "                     \"Boulders\": boulder_re, \"Aid\": aid_re, \n",
    "                     \"Ice\": ice_re, \"Mixed\": mixed_re}\n",
    "\n",
    "\n",
    "user_diffs = user_main('table')\n",
    "\n",
    "for key, value in zip(user_type_regexes.keys(), user_type_regexes.values()):\n",
    "    if key != \"Boulders\":\n",
    "        tdwithkey = user_diffs.find(\"tr\").children(\":contains(\" + key +\")\") \n",
    "        leadhtml = tdwithkey.next().html()\n",
    "        followhtml = tdwithkey.next().next.html()  \n",
    "        templeaddiff = re.search(value, leadhtml)\n",
    "        tempfollowdiff = re.search(value, followhtml)\n",
    "        if templeaddiff:\n",
    "            userdict[\"lead_diff_\" + key] = templeaddiff.group() \n",
    "        else:\n",
    "            userdict[\"lead_diff_\" + key] = '0'\n",
    "        if tempfollowdiff:\n",
    "            userdict[\"follow_diff_\" + key] = tempfollowdiff.group()\n",
    "        else:\n",
    "            userdict[\"follow_diff_\" + key] = '0'\n",
    "            \n",
    "    elif key == \"Boulders\":\n",
    "        boulderhtml = user_diffs.find(\"tr\").children(\":contains(\" + key +\")\").next().html()\n",
    "        tempboulderdiff = re.search(value, leadhtml)\n",
    "        if tempboulderdiff:\n",
    "            userdict[\"boulder_diff\"] = tempboulderdiff.group() "
   ]
  },
  {
   "cell_type": "code",
   "execution_count": 59,
   "metadata": {
    "collapsed": false,
    "scrolled": true
   },
   "outputs": [
    {
     "ename": "AttributeError",
     "evalue": "'NoneType' object has no attribute 'html'",
     "output_type": "error",
     "traceback": [
      "\u001b[1;31m---------------------------------------------------------------------------\u001b[0m",
      "\u001b[1;31mAttributeError\u001b[0m                            Traceback (most recent call last)",
      "\u001b[1;32m<ipython-input-59-c8a47565c11c>\u001b[0m in \u001b[0;36m<module>\u001b[1;34m()\u001b[0m\n\u001b[0;32m      1\u001b[0m \u001b[0mkey\u001b[0m \u001b[1;33m=\u001b[0m \u001b[1;34mr\"Trad\"\u001b[0m\u001b[1;33m\u001b[0m\u001b[0m\n\u001b[1;32m----> 2\u001b[1;33m \u001b[0muser_diffs\u001b[0m\u001b[1;33m.\u001b[0m\u001b[0mfind\u001b[0m\u001b[1;33m(\u001b[0m\u001b[1;34m\"tr\"\u001b[0m\u001b[1;33m)\u001b[0m\u001b[1;33m.\u001b[0m\u001b[0mattr\u001b[0m\u001b[1;33m(\u001b[0m\u001b[1;34m\"text=\"\u001b[0m\u001b[1;33m+\u001b[0m \u001b[0mkey\u001b[0m \u001b[1;33m+\u001b[0m\u001b[1;34m\"\"\u001b[0m\u001b[1;33m)\u001b[0m\u001b[1;33m.\u001b[0m\u001b[0mhtml\u001b[0m\u001b[1;33m(\u001b[0m\u001b[1;33m)\u001b[0m\u001b[1;33m\u001b[0m\u001b[0m\n\u001b[0m",
      "\u001b[1;31mAttributeError\u001b[0m: 'NoneType' object has no attribute 'html'"
     ]
    }
   ],
   "source": []
  },
  {
   "cell_type": "code",
   "execution_count": null,
   "metadata": {
    "collapsed": true
   },
   "outputs": [],
   "source": []
  }
 ],
 "metadata": {
  "kernelspec": {
   "display_name": "Python 2",
   "language": "python",
   "name": "python2"
  },
  "language_info": {
   "codemirror_mode": {
    "name": "ipython",
    "version": 2
   },
   "file_extension": ".py",
   "mimetype": "text/x-python",
   "name": "python",
   "nbconvert_exporter": "python",
   "pygments_lexer": "ipython2",
   "version": "2.7.10"
  }
 },
 "nbformat": 4,
 "nbformat_minor": 0
}
