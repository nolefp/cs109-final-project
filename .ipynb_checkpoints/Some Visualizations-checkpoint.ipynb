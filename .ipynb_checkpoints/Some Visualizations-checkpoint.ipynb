{
 "cells": [
  {
   "cell_type": "code",
   "execution_count": 1,
   "metadata": {
    "collapsed": true
   },
   "outputs": [],
   "source": [
    "%matplotlib inline\n",
    "import numpy as np\n",
    "import scipy as sp\n",
    "import matplotlib as mpl\n",
    "import matplotlib.cm as cm\n",
    "import matplotlib.pyplot as plt\n",
    "import re\n",
    "import pandas as pd\n",
    "import math \n",
    "\n",
    "pd.set_option('display.width', 500)\n",
    "pd.set_option('display.max_columns', 100)\n",
    "pd.set_option('display.notebook_repr_html', True)\n",
    "import seaborn as sns\n",
    "sns.set_style(\"whitegrid\")\n",
    "sns.set_context(\"poster\")"
   ]
  },
  {
   "cell_type": "markdown",
   "metadata": {},
   "source": [
    "# Visualizations"
   ]
  },
  {
   "cell_type": "markdown",
   "metadata": {},
   "source": [
    "## City-to-Climb-Coordinates Travel Maps"
   ]
  },
  {
   "cell_type": "markdown",
   "metadata": {},
   "source": [
    "All I am going to do below is read in our largest csv and then export a new csv with only the necessary columns. The rest of the viz will be done in Tabluea. "
   ]
  },
  {
   "cell_type": "code",
   "execution_count": 2,
   "metadata": {
    "collapsed": false
   },
   "outputs": [
    {
     "name": "stderr",
     "output_type": "stream",
     "text": [
      "C:\\Users\\nolefp\\Anaconda\\lib\\site-packages\\IPython\\core\\interactiveshell.py:3006: DtypeWarning: Columns (6,7,8,9,72,73,74,75,84,85,86,87,89,90,91,92) have mixed types. Specify dtype option on import or set low_memory=False.\n",
      "  if self.run_code(code, result):\n"
     ]
    }
   ],
   "source": [
    "alldf = pd.DataFrame.from_csv('../fin_proj_dfs/finalproject-joined-cleaned-df.csv')"
   ]
  },
  {
   "cell_type": "code",
   "execution_count": 4,
   "metadata": {
    "collapsed": false
   },
   "outputs": [],
   "source": [
    "travel_viz = ['climb_id','user_id','star_rating','tick_date','ticked','climbs_trad','gender','age','climbs_aid',\n",
    "              'climbs_ice','climbs_boulder','user_link','climbs_mixed','user_state_y','user_city',\n",
    "              'climbs_sport','member_date','user_name','climb_name','climb_link',\n",
    "              'avg_stars','state', 'longitude_x','latitude_x','latitude_y','longitude_y']"
   ]
  },
  {
   "cell_type": "code",
   "execution_count": 5,
   "metadata": {
    "collapsed": false
   },
   "outputs": [],
   "source": [
    "alldf[travel_viz].to_csv('../fin_proj_dfs/viz-travelmap.csv')"
   ]
  },
  {
   "cell_type": "code",
   "execution_count": 6,
   "metadata": {
    "collapsed": false
   },
   "outputs": [],
   "source": [
    "cols_to_drop = list(set(alldf).difference(set(travel_viz)))"
   ]
  },
  {
   "cell_type": "code",
   "execution_count": 7,
   "metadata": {
    "collapsed": false
   },
   "outputs": [],
   "source": [
    "alldf.drop(cols_to_drop, axis=1,inplace=1)"
   ]
  },
  {
   "cell_type": "code",
   "execution_count": null,
   "metadata": {
    "collapsed": false
   },
   "outputs": [],
   "source": []
  },
  {
   "cell_type": "code",
   "execution_count": 14,
   "metadata": {
    "collapsed": false
   },
   "outputs": [],
   "source": [
    "userdf = alldf[['climb_id','user_id','star_rating','tick_date','ticked','climbs_trad','gender','age','climbs_aid',\n",
    "              'climbs_ice','climbs_boulder','user_link','climbs_mixed','user_state_y','user_city',\n",
    "              'climbs_sport','member_date','user_name','climb_name','climb_link',\n",
    "              'avg_stars','state', 'longitude_x','latitude_x',]]"
   ]
  },
  {
   "cell_type": "code",
   "execution_count": 15,
   "metadata": {
    "collapsed": true
   },
   "outputs": [],
   "source": [
    "userdf.columns = ['climb_id','user_id','star_rating','tick_date','ticked','climbs_trad','gender','age','climbs_aid',\n",
    "              'climbs_ice','climbs_boulder','user_link','climbs_mixed','user_state_y','user_city',\n",
    "              'climbs_sport','member_date','user_name','climb_name','climb_link',\n",
    "              'avg_stars','state', 'longitude','latitude']"
   ]
  },
  {
   "cell_type": "code",
   "execution_count": 37,
   "metadata": {
    "collapsed": false
   },
   "outputs": [],
   "source": [
    "#userdf.drop('paths',axis=1,inplace=1)\n",
    "userdf.insert(1,\"pair_id\", userdf.climb_id.apply(lambda x: str(x)) + \"_\" + \n",
    "                            userdf.user_id.apply(lambda x: str(x)))"
   ]
  },
  {
   "cell_type": "code",
   "execution_count": 17,
   "metadata": {
    "collapsed": false
   },
   "outputs": [],
   "source": [
    "climbdf = alldf[['climb_id','user_id','star_rating','tick_date','ticked','climbs_trad','gender','age','climbs_aid',\n",
    "              'climbs_ice','climbs_boulder','user_link','climbs_mixed','user_state_y','user_city',\n",
    "              'climbs_sport','member_date','user_name','climb_name','climb_link',\n",
    "              'avg_stars','state', 'longitude_y','latitude_y',]]"
   ]
  },
  {
   "cell_type": "code",
   "execution_count": 18,
   "metadata": {
    "collapsed": true
   },
   "outputs": [],
   "source": [
    "climbdf.columns = ['climb_id','user_id','star_rating','tick_date','ticked','climbs_trad','gender','age','climbs_aid',\n",
    "              'climbs_ice','climbs_boulder','user_link','climbs_mixed','user_state_y','user_city',\n",
    "              'climbs_sport','member_date','user_name','climb_name','climb_link',\n",
    "              'avg_stars','state', 'longitude','latitude']"
   ]
  },
  {
   "cell_type": "code",
   "execution_count": 36,
   "metadata": {
    "collapsed": false
   },
   "outputs": [],
   "source": [
    "#userdf.drop('paths',axis=1,inplace=1)\n",
    "climbdf.insert(1,\"pair_id\", climbdf.climb_id.apply(lambda x: str(x)) + \"_\" + \n",
    "                            climbdf.user_id.apply(lambda x: str(x)))\n"
   ]
  },
  {
   "cell_type": "code",
   "execution_count": 42,
   "metadata": {
    "collapsed": false
   },
   "outputs": [
    {
     "data": {
      "text/plain": [
       "792508"
      ]
     },
     "execution_count": 42,
     "metadata": {},
     "output_type": "execute_result"
    }
   ],
   "source": [
    "len(climbdf)"
   ]
  },
  {
   "cell_type": "code",
   "execution_count": 38,
   "metadata": {
    "collapsed": false
   },
   "outputs": [],
   "source": [
    "geodf = userdf.append(climbdf, ignore_index=True)"
   ]
  },
  {
   "cell_type": "code",
   "execution_count": 41,
   "metadata": {
    "collapsed": false
   },
   "outputs": [
    {
     "data": {
      "text/plain": [
       "792508"
      ]
     },
     "execution_count": 41,
     "metadata": {},
     "output_type": "execute_result"
    }
   ],
   "source": [
    "len(geodf)/2"
   ]
  },
  {
   "cell_type": "code",
   "execution_count": 43,
   "metadata": {
    "collapsed": true
   },
   "outputs": [],
   "source": [
    "geodf.to_csv('../fin_proj_dfs/viz-travelmap.csv')"
   ]
  },
  {
   "cell_type": "code",
   "execution_count": null,
   "metadata": {
    "collapsed": true
   },
   "outputs": [],
   "source": []
  }
 ],
 "metadata": {
  "kernelspec": {
   "display_name": "Python 2",
   "language": "python",
   "name": "python2"
  },
  "language_info": {
   "codemirror_mode": {
    "name": "ipython",
    "version": 2
   },
   "file_extension": ".py",
   "mimetype": "text/x-python",
   "name": "python",
   "nbconvert_exporter": "python",
   "pygments_lexer": "ipython2",
   "version": "2.7.11"
  }
 },
 "nbformat": 4,
 "nbformat_minor": 0
}
