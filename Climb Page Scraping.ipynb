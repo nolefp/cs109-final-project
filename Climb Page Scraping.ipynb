{
 "cells": [
  {
   "cell_type": "markdown",
   "metadata": {},
   "source": [
    "Below, we begin implementing the pseudo code bit by bit, with the goal of determining best methods for specific steps. Later, we will combine the code and pay additional attention to its organization. "
   ]
  },
  {
   "cell_type": "code",
   "execution_count": 2,
   "metadata": {
    "collapsed": false
   },
   "outputs": [
    {
     "ename": "ImportError",
     "evalue": "No module named regex",
     "output_type": "error",
     "traceback": [
      "\u001b[0;31m---------------------------------------------------------------------------\u001b[0m",
      "\u001b[0;31mImportError\u001b[0m                               Traceback (most recent call last)",
      "\u001b[0;32m<ipython-input-2-ac9129c0583e>\u001b[0m in \u001b[0;36m<module>\u001b[0;34m()\u001b[0m\n\u001b[1;32m      9\u001b[0m \u001b[0mpd\u001b[0m\u001b[0;34m.\u001b[0m\u001b[0mset_option\u001b[0m\u001b[0;34m(\u001b[0m\u001b[0;34m'display.notebook_repr_html'\u001b[0m\u001b[0;34m,\u001b[0m \u001b[0mTrue\u001b[0m\u001b[0;34m)\u001b[0m\u001b[0;34m\u001b[0m\u001b[0m\n\u001b[1;32m     10\u001b[0m \u001b[0;32mimport\u001b[0m \u001b[0mre\u001b[0m\u001b[0;34m\u001b[0m\u001b[0m\n\u001b[0;32m---> 11\u001b[0;31m \u001b[0;32mimport\u001b[0m \u001b[0mregex\u001b[0m\u001b[0;34m\u001b[0m\u001b[0m\n\u001b[0m\u001b[1;32m     12\u001b[0m \u001b[0;32mimport\u001b[0m \u001b[0mlocale\u001b[0m\u001b[0;34m\u001b[0m\u001b[0m\n\u001b[1;32m     13\u001b[0m \u001b[0;32mfrom\u001b[0m \u001b[0mpyquery\u001b[0m \u001b[0;32mimport\u001b[0m \u001b[0mPyQuery\u001b[0m \u001b[0;32mas\u001b[0m \u001b[0mpq\u001b[0m\u001b[0;34m\u001b[0m\u001b[0m\n",
      "\u001b[0;31mImportError\u001b[0m: No module named regex"
     ]
    }
   ],
   "source": [
    "%matplotlib inline\n",
    "import collections \n",
    "import numpy as np\n",
    "import scipy as sp\n",
    "import pandas as pd\n",
    "import time\n",
    "pd.set_option('display.width', 500)\n",
    "pd.set_option('display.max_columns', 100)\n",
    "pd.set_option('display.notebook_repr_html', True)\n",
    "import re\n",
    "import regex\n",
    "import locale\n",
    "from pyquery import PyQuery as pq\n",
    "from bs4 import BeautifulSoup\n",
    "import requests"
   ]
  },
  {
   "cell_type": "code",
   "execution_count": 2,
   "metadata": {
    "collapsed": false
   },
   "outputs": [],
   "source": [
    "climbsjson = collections.defaultdict(dict) # double nested dict\n",
    "usersjson = collections.defaultdict(dict) # double nested dict\n",
    "ucjson = collections.defaultdict(dict) #double nested dict"
   ]
  },
  {
   "cell_type": "code",
   "execution_count": 52,
   "metadata": {
    "collapsed": false
   },
   "outputs": [],
   "source": [
    "# CLIMB VARIABLES - all initialized to undefined:\n",
    "climb_id = 0 \n",
    "climb_name = 'undef'\n",
    "climbdict = {\"climb_id\": 0, \"climb_name\": 'undef',\n",
    "             \"avg_stars\": 0, \"pitches\": 0, \"feet\": 0}"
   ]
  },
  {
   "cell_type": "code",
   "execution_count": 53,
   "metadata": {
    "collapsed": false
   },
   "outputs": [],
   "source": [
    "def parse_climb_link(href_link):\n",
    "    return href_link.split('/')[-1], href_link.split('/')[-2]\n",
    "\n",
    "def parse_user_link(href_link):\n",
    "    return href_link.split('/')[-1], href_link.split('/')[-3]"
   ]
  },
  {
   "cell_type": "code",
   "execution_count": 54,
   "metadata": {
    "collapsed": false
   },
   "outputs": [],
   "source": [
    "wg_link = \"http://mountainproject.com/v/whitney-gilman-ridge/105872668\"\n",
    "link_parsed = wg_link.split('/')\n",
    "\n",
    "# 1. get keys\n",
    "climb_id = link_parsed[-1]\n",
    "climbdict[\"climb_id\"] = climb_id\n",
    "climb_name = link_parsed[-2]\n",
    "climbdict[\"climb_name\"] = climb_name"
   ]
  },
  {
   "cell_type": "code",
   "execution_count": 55,
   "metadata": {
    "collapsed": false
   },
   "outputs": [],
   "source": [
    "climb_req=requests.get(wg_link)\n",
    "climb_=pq(climb_req.text)"
   ]
  },
  {
   "cell_type": "code",
   "execution_count": 56,
   "metadata": {
    "collapsed": false
   },
   "outputs": [],
   "source": [
    "# 2. separate climb div\n",
    "climb_div = climb_('div#rspCol800')"
   ]
  },
  {
   "cell_type": "code",
   "execution_count": 57,
   "metadata": {
    "collapsed": false
   },
   "outputs": [],
   "source": [
    "# 3. get climb summary div\n",
    "climb_summstats = climb_div('div.rspCol[style=\"max-width:500px;\"]')"
   ]
  },
  {
   "cell_type": "code",
   "execution_count": 58,
   "metadata": {
    "collapsed": false
   },
   "outputs": [],
   "source": [
    "# 4. get grade ratings\n",
    "climb_summstats_subtitle = climb_summstats('h3')"
   ]
  },
  {
   "cell_type": "code",
   "execution_count": 59,
   "metadata": {
    "collapsed": false
   },
   "outputs": [
    {
     "data": {
      "text/plain": [
       "{'aid_grade': 0,\n",
       " 'boulder_grade': 0,\n",
       " 'ice_grade': 0,\n",
       " 'mixed_grade': 0,\n",
       " 'rock_grade': u'5.7'}"
      ]
     },
     "execution_count": 59,
     "metadata": {},
     "output_type": "execute_result"
    }
   ],
   "source": [
    "# 4. get grade ratings continued \n",
    "guide_grades_dict = {}\n",
    "diff_regexes = {\"aid_grade\": r'(A[0-5])|(C[0-5])', \n",
    "               \"boulder_grade\": r'V\\d\\d?[-,+]?', \n",
    "               \"ice_grade\": r'WI[1-6][+,-]?',\n",
    "               \"mixed_grade\": r'M\\d\\d?[+,-]?', \n",
    "               \"rock_grade\": r'5.\\d\\d?(([a-d]/[a-d])|([a-d]))?[+,-]?'}\n",
    "\n",
    "for key, regex in diff_regexes.iteritems():\n",
    "    temp = re.search(regex, climb_summstats_subtitle.text())\n",
    "    if  temp != None:\n",
    "        guide_grades_dict[key] = temp.group()\n",
    "    else:\n",
    "        guide_grades_dict[key] = 0\n",
    "\n",
    "guide_grades_dict"
   ]
  },
  {
   "cell_type": "code",
   "execution_count": 60,
   "metadata": {
    "collapsed": false
   },
   "outputs": [],
   "source": [
    "# 5. get average star rating\n",
    "average_stars_script_html = climb_summstats('span#routeStars')('script').html()\n",
    "average_stars_regexobj = re.search(r'[1-5]\\.\\d\\d?\\d?\\d?', \n",
    "                                   average_stars_script_html)\n",
    "if average_stars_regexobj != None:     \n",
    "    avg_stars = float(average_stars_regexobj.group()) - 1\n",
    "    climbdict[\"avg_stars\"] = avg_stars\n",
    "else:\n",
    "    avg_stars = 0\n",
    "    "
   ]
  },
  {
   "cell_type": "code",
   "execution_count": 61,
   "metadata": {
    "collapsed": false
   },
   "outputs": [],
   "source": [
    "# 6. get rows of table\n",
    "climb_summstats_table = climb_summstats('table')('tr')"
   ]
  },
  {
   "cell_type": "code",
   "execution_count": 63,
   "metadata": {
    "collapsed": false
   },
   "outputs": [
    {
     "data": {
      "text/plain": [
       "{'TR,': 0,\n",
       " 'aid': 0,\n",
       " 'alpine': 1,\n",
       " 'boulder': 0,\n",
       " 'ice': 0,\n",
       " 'mixed': 0,\n",
       " 'sport': 0,\n",
       " 'trad': 1}"
      ]
     },
     "execution_count": 63,
     "metadata": {},
     "output_type": "execute_result"
    }
   ],
   "source": [
    "# 7. get climb types\n",
    "typesdict = {\"trad\": 0, \"alpine\": 0, \"ice\": 0, \"sport\": 0,\n",
    "        \"boulder\": 0, \"aid\": 0, \"mixed\": 0, \"TR,\": 0}  #',' after 'TR' is purposeful\n",
    "for key in typesdict:\n",
    "    if re.search(r'{}'.format(key), \n",
    "                climb_summstats_table.eq(0).text(), \n",
    "                flags = re.I) != None:\n",
    "        typesdict[key] = 1\n",
    "\n",
    "typesdict"
   ]
  },
  {
   "cell_type": "code",
   "execution_count": 14,
   "metadata": {
    "collapsed": false
   },
   "outputs": [],
   "source": [
    "# 8. get the number of pitches\n",
    "pitches_regobj = re.search(r'(\\d\\d?) pitches', \n",
    "                climb_summstats_table.eq(0).text(), \n",
    "                flags = re.I)\n",
    "if pitches_regobj:\n",
    "    climbdict[\"pitches\"] = int(pitches_regobj.group(1))"
   ]
  },
  {
   "cell_type": "code",
   "execution_count": 15,
   "metadata": {
    "collapsed": true
   },
   "outputs": [],
   "source": [
    "# 9. get number of feet\n",
    "feet_regobj = re.search(r\" (\\d\\d?\\d?\\d?\\d?)'\", \n",
    "                climb_summstats_table.eq(0).text(), \n",
    "                flags = re.I)\n",
    "if feet_regobj:\n",
    "    climbdict[\"feet\"] = int(feet_regobj.group(1))"
   ]
  },
  {
   "cell_type": "code",
   "execution_count": 16,
   "metadata": {
    "collapsed": true
   },
   "outputs": [],
   "source": [
    "# 10. get number of feet\n",
    "grade_regobj = re.search(r'Grade ([I,II,III,IV,V,VI])', \n",
    "                climb_summstats_table.eq(0).text(), \n",
    "                flags = re.I)\n",
    "if grade_regobj:\n",
    "    climbdict[\"grade\"] = grade_regobj.group(1)"
   ]
  },
  {
   "cell_type": "code",
   "execution_count": 17,
   "metadata": {
    "collapsed": false
   },
   "outputs": [
    {
     "data": {
      "text/plain": [
       "{'concensus_aid_grade': 0,\n",
       " 'concensus_boulder_grade': 0,\n",
       " 'concensus_ice_grade': 0,\n",
       " 'concensus_mixed_grade': 0,\n",
       " 'concensus_rock_grade': u'5.7'}"
      ]
     },
     "execution_count": 17,
     "metadata": {},
     "output_type": "execute_result"
    }
   ],
   "source": [
    "# 11. get concensus rating\n",
    "concensus_grades_dict = {}\n",
    "\n",
    "for key, regex in diff_regexes.iteritems():\n",
    "    temp = re.search(regex,climb_summstats_table.eq(1).text())\n",
    "    if  temp != None:\n",
    "        concensus_grades_dict[\"concensus_\" + key] = temp.group()\n",
    "    else:\n",
    "        concensus_grades_dict[\"concensus_\" + key] = 0\n",
    "\n",
    "concensus_grades_dict"
   ]
  },
  {
   "cell_type": "code",
   "execution_count": 18,
   "metadata": {
    "collapsed": false
   },
   "outputs": [],
   "source": [
    "# 12. get FA year\n",
    "fa_regobj = re.search(r\"[18,19,20]\\d\\d\\d\",climb_summstats_table.eq(2).text())\n",
    "if fa_regobj:\n",
    "    climbdict[\"fa_year\"] = int(fa_regobj.group())"
   ]
  },
  {
   "cell_type": "code",
   "execution_count": 19,
   "metadata": {
    "collapsed": false
   },
   "outputs": [],
   "source": [
    "# 13. get page views\n",
    "views_regobj = re.search(r\"\\d?\\d?\\d?,?\\d?\\d\\d\",climb_summstats_table.eq(3).text())\n",
    "if views_regobj:\n",
    "    climbdict[\"page_views\"] = int(views_regobj.group().replace(',',''))"
   ]
  },
  {
   "cell_type": "code",
   "execution_count": 20,
   "metadata": {
    "collapsed": true
   },
   "outputs": [],
   "source": [
    "# 14. get detailed users-climb page\n",
    "stats_link = (\"http://mountainproject.com/scripts/ShowObjectStats.php?id=%s\"\n",
    "              % climbdict['climb_id'])\n",
    "climb_stats_req=requests.get(stats_link)\n",
    "stats_=pq(climb_stats_req.text)\n"
   ]
  },
  {
   "cell_type": "code",
   "execution_count": 21,
   "metadata": {
    "collapsed": false
   },
   "outputs": [],
   "source": [
    "# 15. get star quality votes tables\n",
    "stats_stars_table = stats_(\"span:contains('Star Quality Votes')\").next().next().find('tr')"
   ]
  },
  {
   "cell_type": "code",
   "execution_count": 22,
   "metadata": {
    "collapsed": false
   },
   "outputs": [],
   "source": [
    "# 16. get star info from td pairs\n",
    "def star_quality_func(td1, td2):\n",
    "    user_id, user_name = parse_user_link(td1('a').attr('href'))\n",
    "    rating = int(re.search(r'starsHtml\\(([0-5]),', \n",
    "                       td2('script').text()).group(1)) - 1\n",
    "    ucjson[climb_id + \"_\" + user_id][\"user_id\"] = user_id\n",
    "    ucjson[climb_id + \"_\" + user_id][\"climb_id\"] = climb_id\n",
    "    ucjson[climb_id + \"_\" + user_id][\"star_rating\"] = rating"
   ]
  },
  {
   "cell_type": "code",
   "execution_count": 23,
   "metadata": {
    "collapsed": false
   },
   "outputs": [],
   "source": [
    "# 17. iterate through stars table and populate ucjson \n",
    "for i in range(0, len(stats_stars_table)):\n",
    "    tds = stats_stars_table.eq(i).find('td')\n",
    "    if len(tds) > 0:\n",
    "        star_quality_func(tds.eq(0),tds.eq(1))\n",
    "        if len(tds) == 4:\n",
    "            star_quality_func(tds.eq(2),tds.eq(3))\n"
   ]
  },
  {
   "cell_type": "code",
   "execution_count": 24,
   "metadata": {
    "collapsed": false
   },
   "outputs": [],
   "source": [
    "# 18. get suggested ratings rows\n",
    "stats_sugg_table = stats_(\"span:contains('Suggested Ratings')\").next().next().find('tr')  "
   ]
  },
  {
   "cell_type": "code",
   "execution_count": 25,
   "metadata": {
    "collapsed": false
   },
   "outputs": [],
   "source": [
    "# 19. get sugg_rate info from td pairs\n",
    "def sugg_rating_func(td1, td2):\n",
    "    user_id, user_name = parse_user_link(td1('a').attr('href'))\n",
    "    ucjson[climb_id + \"_\" + user_id][\"user_id\"] = user_id\n",
    "    ucjson[climb_id + \"_\" + user_id][\"climb_id\"] = climb_id\n",
    "    \n",
    "    for key, regex in diff_regexes.iteritems():\n",
    "        temp = re.search(regex, td2.text())\n",
    "        if  temp != None:\n",
    "            ucjson[climb_id + \"_\" + user_id][\"sugg_\" + key] = temp.group()\n",
    "        else:\n",
    "            ucjson[climb_id + \"_\" + user_id][\"sugg_\" + key] = 0\n",
    "    "
   ]
  },
  {
   "cell_type": "code",
   "execution_count": 28,
   "metadata": {
    "collapsed": false
   },
   "outputs": [],
   "source": [
    "# 20. iterate through suggested ratings table and populate ucjson \n",
    "for i in range(0, len(stats_sugg_table)):\n",
    "    tds = stats_sugg_table.eq(i).find('td')\n",
    "    if len(tds) > 1:\n",
    "        sugg_rating_func(tds.eq(0),tds.eq(1))\n",
    "        if len(tds) == 4:\n",
    "            sugg_rating_func(tds.eq(2),tds.eq(3))"
   ]
  },
  {
   "cell_type": "code",
   "execution_count": 31,
   "metadata": {
    "collapsed": false
   },
   "outputs": [],
   "source": [
    "# 21. \n",
    "stats_ticks_table = stats_(\"span:contains('Ticks')\").next().next().find('tr')  \n"
   ]
  },
  {
   "cell_type": "code",
   "execution_count": 46,
   "metadata": {
    "collapsed": false
   },
   "outputs": [],
   "source": [
    "# 22. iterate through suggested ratings table and populate ucjson \n",
    "dates_wrong = 0\n",
    "for i in range(0, len(stats_ticks_table)):\n",
    "    tds = stats_ticks_table.eq(i).find('td')\n",
    "    if len(tds) == 3:\n",
    "        user_id, user_name = parse_user_link(tds.eq(0)('a').attr('href'))\n",
    "        ucjson[climb_id + \"_\" + user_id][\"user_id\"] = user_id\n",
    "        ucjson[climb_id + \"_\" + user_id][\"climb_id\"] = climb_id\n",
    "        try: \n",
    "            date = time.strptime(tds.eq(1).text(), \"%b %d, %Y\")\n",
    "            ucjson[climb_id + \"_\" + user_id][\"tick_date\"] = date\n",
    "        except ValueError:\n",
    "            dates_wrong += 1\n",
    "                "
   ]
  },
  {
   "cell_type": "code",
   "execution_count": 1,
   "metadata": {
    "collapsed": false
   },
   "outputs": [
    {
     "data": {
      "text/plain": [
       "[1]"
      ]
     },
     "execution_count": 1,
     "metadata": {},
     "output_type": "execute_result"
    }
   ],
   "source": [
    "range(1,2)"
   ]
  },
  {
   "cell_type": "code",
   "execution_count": null,
   "metadata": {
    "collapsed": true
   },
   "outputs": [],
   "source": [
    " # 8. ticks\n",
    "    ticksmain = \"http://www.mountainproject.com/u/{}?action=ticks&\".format(user_id)\n",
    "    ticks_main_req=requests.get(ticksmain)\n",
    "    ticks_main_page = pq(ticks_main_req.text)\n",
    "    dates_wrong = 0\n",
    "    \n",
    "    # if multiple pages\n",
    "    num_pages = ticks_main_page(\"table#stats\").next().next().find('tr').eq(0).text()\n",
    "    if num_pages:\n",
    "        pages = int(re.search(r'Page \\d\\d? of (\\d\\d?)', num_pages).group(1))\n",
    "    else:\n",
    "        pages = 1\n",
    "    \n",
    "    # parse all pages\n",
    "    for page in range(1, pages + 1):\n",
    "        time.sleep(1)\n",
    "        tickslink = \"http://www.mountainproject.com/u/{}?action=ticks&&page={}\".format(user_id, page)\n",
    "        ticks_req=requests.get(tickslink)\n",
    "        ticks_page = pq(ticks_req.text)\n",
    "        tick_rows = ticks_page(\"table[width*='100%'][border='0'][class='objectList']\").eq(1).find('tr')\n",
    "\n",
    "        # parse all rows\n",
    "        for i in range(2, len(tick_rows)):\n",
    "            tds = tick_rows.eq(i).find('td')\n",
    "            \n",
    "            # get climb id and user id\n",
    "            climb_link = tds.eq(0).find('a').attr('href')\n",
    "            climb_id, _ = parse_climb_link(climb_link)\n",
    "            ucjson[climb_id + \"_\" + user_id][\"user_id\"] = user_id\n",
    "            ucjson[climb_id + \"_\" + user_id][\"climb_id\"] = climb_id\n",
    "            ucjson[climb_id + \"_\" + user_id][\"ticked\"] = 1\n",
    "            \n",
    "            # get date\n",
    "            dates = None\n",
    "            days_ago = re.search(r'(\\d\\d?) days ago', tds.eq(4)('p').text())\n",
    "            if days_ago:\n",
    "                days_num = int(days_ago.group(1))\n",
    "                dates = date.today() - timedelta(days=days_num)\n",
    "                ucjson[climb_id + \"_\" + user_id][\"ticked_date\"] = dates\n",
    "            else:\n",
    "                # exception if for some dates with year -0001\n",
    "                try:\n",
    "                    dates = time.strptime(tds.eq(4)('p').text(), \"%b %d, %Y\")\n",
    "                    ucjson[climb_id + \"_\" + user_id][\"ticked_date\"] = dates\n",
    "                except ValueError:\n",
    "                    dates_wrong += 1"
   ]
  }
 ],
 "metadata": {
  "kernelspec": {
   "display_name": "Python 2",
   "language": "python",
   "name": "python2"
  },
  "language_info": {
   "codemirror_mode": {
    "name": "ipython",
    "version": 2
   },
   "file_extension": ".py",
   "mimetype": "text/x-python",
   "name": "python",
   "nbconvert_exporter": "python",
   "pygments_lexer": "ipython2",
   "version": "2.7.10"
  }
 },
 "nbformat": 4,
 "nbformat_minor": 0
}
