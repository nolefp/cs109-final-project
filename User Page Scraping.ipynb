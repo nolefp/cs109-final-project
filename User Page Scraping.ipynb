{
 "cells": [
  {
   "cell_type": "code",
   "execution_count": null,
   "metadata": {
    "collapsed": true
   },
   "outputs": [],
   "source": [
    "Pseudo Code:\n",
    "    get unique user id\n",
    "    get unique user name\n",
    "    \n",
    "    if either in user_table:\n",
    "        abort\n",
    "    \n",
    "    Personal Div:\n",
    "    #get city\n",
    "    if find \"Lives in\":\n",
    "        Pull following text until next two commas \n",
    "        if contains comma:\n",
    "            parse on comma\n",
    "            first part is city\n",
    "            second part is state\n",
    "        else:\n",
    "            text is city\n",
    "    \n",
    "    #get age\n",
    "    if find \"years old\":\n",
    "        store preceeding numbers as age \n",
    "        \n",
    "    \n",
    "        \n",
    "    \n",
    "    "
   ]
  }
 ],
 "metadata": {
  "kernelspec": {
   "display_name": "Python 2",
   "language": "python",
   "name": "python2"
  },
  "language_info": {
   "codemirror_mode": {
    "name": "ipython",
    "version": 2
   },
   "file_extension": ".py",
   "mimetype": "text/x-python",
   "name": "python",
   "nbconvert_exporter": "python",
   "pygments_lexer": "ipython2",
   "version": "2.7.10"
  }
 },
 "nbformat": 4,
 "nbformat_minor": 0
}
